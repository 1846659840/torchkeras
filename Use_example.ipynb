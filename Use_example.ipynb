{
  "nbformat": 4,
  "nbformat_minor": 0,
  "metadata": {
    "colab": {
      "name": "Use example.ipynb",
      "private_outputs": true,
      "provenance": [],
      "collapsed_sections": []
    },
    "kernelspec": {
      "name": "python3",
      "display_name": "Python 3"
    }
  },
  "cells": [
    {
      "cell_type": "code",
      "metadata": {
        "id": "mHoWMNLLQ2jO"
      },
      "source": [
        "import torch\r\n",
        "import numpy as np \r\n",
        "import pandas as pd \r\n",
        "from torch import nn\r\n",
        "import torch.nn.functional as F\r\n",
        "from matplotlib import pyplot as plt\r\n",
        "from torch.utils.data import Dataset, DataLoader, TensorDataset\r\n",
        "\r\n",
        "import torchkeras #Attention this line "
      ],
      "execution_count": null,
      "outputs": []
    },
    {
      "cell_type": "markdown",
      "metadata": {
        "id": "38NwpJrmTI7W"
      },
      "source": [
        "### Prepare Data"
      ]
    },
    {
      "cell_type": "code",
      "metadata": {
        "id": "IgNZgAozRuEw"
      },
      "source": [
        "%matplotlib inline\r\n",
        "%config InlineBackend.figure_format = 'svg'\r\n",
        "\r\n",
        "#number of samples\r\n",
        "n_positive,n_negative = 2000,2000\r\n",
        "\r\n",
        "#positive samples\r\n",
        "r_p = 5.0 + torch.normal(0.0,1.0,size = [n_positive,1]) \r\n",
        "theta_p = 2*np.pi*torch.rand([n_positive,1])\r\n",
        "Xp = torch.cat([r_p*torch.cos(theta_p),r_p*torch.sin(theta_p)],axis = 1)\r\n",
        "Yp = torch.ones_like(r_p)\r\n",
        "\r\n",
        "#negative samples\r\n",
        "r_n = 8.0 + torch.normal(0.0,1.0,size = [n_negative,1]) \r\n",
        "theta_n = 2*np.pi*torch.rand([n_negative,1])\r\n",
        "Xn = torch.cat([r_n*torch.cos(theta_n),r_n*torch.sin(theta_n)],axis = 1)\r\n",
        "Yn = torch.zeros_like(r_n)\r\n",
        "\r\n",
        "#concat positive and negative samples\r\n",
        "X = torch.cat([Xp,Xn],axis = 0)\r\n",
        "Y = torch.cat([Yp,Yn],axis = 0)\r\n",
        "\r\n",
        "\r\n",
        "#visual samples\r\n",
        "plt.figure(figsize = (6,6))\r\n",
        "plt.scatter(Xp[:,0],Xp[:,1],c = \"r\")\r\n",
        "plt.scatter(Xn[:,0],Xn[:,1],c = \"g\")\r\n",
        "plt.legend([\"positive\",\"negative\"]);"
      ],
      "execution_count": null,
      "outputs": []
    },
    {
      "cell_type": "code",
      "metadata": {
        "id": "4T-w9kCKRu9C"
      },
      "source": [
        "# split samples into train and valid data.\r\n",
        "ds = TensorDataset(X,Y)\r\n",
        "ds_train,ds_valid = torch.utils.data.random_split(ds,[int(len(ds)*0.7),len(ds)-int(len(ds)*0.7)])\r\n",
        "dl_train = DataLoader(ds_train,batch_size = 100,shuffle=True,num_workers=2)\r\n",
        "dl_valid = DataLoader(ds_valid,batch_size = 100,num_workers=2)"
      ],
      "execution_count": null,
      "outputs": []
    },
    {
      "cell_type": "markdown",
      "metadata": {
        "id": "LMTUStoYTQxJ"
      },
      "source": [
        "### Create model"
      ]
    },
    {
      "cell_type": "code",
      "metadata": {
        "id": "nD50SxjARxLe"
      },
      "source": [
        "class Net(nn.Module):  \r\n",
        "    def __init__(self):\r\n",
        "        super().__init__()\r\n",
        "        self.fc1 = nn.Linear(2,4)\r\n",
        "        self.fc2 = nn.Linear(4,8) \r\n",
        "        self.fc3 = nn.Linear(8,1)\r\n",
        "        \r\n",
        "    def forward(self,x):\r\n",
        "        x = F.relu(self.fc1(x))\r\n",
        "        x = F.relu(self.fc2(x))\r\n",
        "        y = nn.Sigmoid()(self.fc3(x))\r\n",
        "        return y\r\n",
        "        \r\n",
        "net = Net()\r\n",
        "\r\n",
        "### Attention here\r\n",
        "model = torchkeras.Model(net)\r\n",
        "model.summary(input_shape =(2,))"
      ],
      "execution_count": null,
      "outputs": []
    },
    {
      "cell_type": "markdown",
      "metadata": {
        "id": "yihJaJVxTVBZ"
      },
      "source": [
        "### Train model"
      ]
    },
    {
      "cell_type": "code",
      "metadata": {
        "id": "dMZDm3OzRy8a"
      },
      "source": [
        "# define metric\r\n",
        "def accuracy(y_pred,y_true):\r\n",
        "    y_pred = torch.where(y_pred>0.5,torch.ones_like(y_pred,dtype = torch.float32),\r\n",
        "                      torch.zeros_like(y_pred,dtype = torch.float32))\r\n",
        "    acc = torch.mean(1-torch.abs(y_true-y_pred))\r\n",
        "    return acc\r\n",
        "\r\n",
        "# if gpu is available, use gpu\r\n",
        "device = torch.device(\"cuda:0\" if torch.cuda.is_available() else \"cpu\")\r\n",
        "\r\n",
        "model.compile(loss_func = nn.BCELoss(),optimizer= torch.optim.Adam(model.parameters(),lr = 0.01),\r\n",
        "             metrics_dict={\"accuracy\":accuracy},device = device)\r\n",
        "\r\n",
        "dfhistory=model.fit(epochs=10, dl_train=dl_train, dl_val=dl_valid, patience=5, monitor=\"val_loss\", save_path=\"save_model.pkl\")"
      ],
      "execution_count": null,
      "outputs": []
    },
    {
      "cell_type": "code",
      "metadata": {
        "id": "C3hVrsX3SIBI"
      },
      "source": [
        "# visual the results\r\n",
        "fig, (ax1,ax2) = plt.subplots(nrows=1,ncols=2,figsize = (12,5))\r\n",
        "ax1.scatter(Xp[:,0],Xp[:,1], c=\"r\")\r\n",
        "ax1.scatter(Xn[:,0],Xn[:,1],c = \"g\")\r\n",
        "ax1.legend([\"positive\",\"negative\"]);\r\n",
        "ax1.set_title(\"y_true\")\r\n",
        "\r\n",
        "Xp_pred = X[torch.squeeze(model.forward(X)>=0.5)]\r\n",
        "Xn_pred = X[torch.squeeze(model.forward(X)<0.5)]\r\n",
        "\r\n",
        "ax2.scatter(Xp_pred[:,0],Xp_pred[:,1],c = \"r\")\r\n",
        "ax2.scatter(Xn_pred[:,0],Xn_pred[:,1],c = \"g\")\r\n",
        "ax2.legend([\"positive\",\"negative\"]);\r\n",
        "ax2.set_title(\"y_pred\")"
      ],
      "execution_count": null,
      "outputs": []
    },
    {
      "cell_type": "markdown",
      "metadata": {
        "id": "m7grSrTcTZWW"
      },
      "source": [
        "### Evaluate model"
      ]
    },
    {
      "cell_type": "code",
      "metadata": {
        "id": "hlpj4_nCSIhu"
      },
      "source": [
        "%matplotlib inline\r\n",
        "%config InlineBackend.figure_format = 'svg'\r\n",
        "\r\n",
        "import matplotlib.pyplot as plt\r\n",
        "\r\n",
        "def plot_metric(dfhistory, metric):\r\n",
        "    train_metrics = dfhistory[metric]\r\n",
        "    val_metrics = dfhistory['val_'+metric]\r\n",
        "    epochs = range(1, len(train_metrics) + 1)\r\n",
        "    plt.plot(epochs, train_metrics, 'bo--')\r\n",
        "    plt.plot(epochs, val_metrics, 'ro-')\r\n",
        "    plt.title('Training and validation '+ metric)\r\n",
        "    plt.xlabel(\"Epochs\")\r\n",
        "    plt.ylabel(metric)\r\n",
        "    plt.legend([\"train_\"+metric, 'val_'+metric])\r\n",
        "    plt.show()"
      ],
      "execution_count": null,
      "outputs": []
    },
    {
      "cell_type": "code",
      "metadata": {
        "id": "sHL6Pa_rSO-A"
      },
      "source": [
        "plot_metric(dfhistory,\"loss\")"
      ],
      "execution_count": null,
      "outputs": []
    },
    {
      "cell_type": "code",
      "metadata": {
        "id": "eqCvGwOcSREY"
      },
      "source": [
        "plot_metric(dfhistory,\"accuracy\")"
      ],
      "execution_count": null,
      "outputs": []
    },
    {
      "cell_type": "code",
      "metadata": {
        "id": "zGmfkvKISSuk"
      },
      "source": [
        "model.evaluate(dl_valid)"
      ],
      "execution_count": null,
      "outputs": []
    },
    {
      "cell_type": "markdown",
      "metadata": {
        "id": "yHjxgLlgTewf"
      },
      "source": [
        "### Use model"
      ]
    },
    {
      "cell_type": "code",
      "metadata": {
        "id": "qVSxAnG1SVEa"
      },
      "source": [
        "model.predict(dl_valid)[0:10]"
      ],
      "execution_count": null,
      "outputs": []
    },
    {
      "cell_type": "code",
      "metadata": {
        "id": "4gElI8LDSWvU"
      },
      "source": [
        "for features,labels in dl_valid:\r\n",
        "    with torch.no_grad():\r\n",
        "        predictions = model.forward(features)\r\n",
        "        print(predictions[0:10])\r\n",
        "    break"
      ],
      "execution_count": null,
      "outputs": []
    },
    {
      "cell_type": "markdown",
      "metadata": {
        "id": "cwHxiT2tTjUv"
      },
      "source": [
        "### Save model"
      ]
    },
    {
      "cell_type": "code",
      "metadata": {
        "id": "ZLQw4C9tSZk_"
      },
      "source": [
        "model_clone = torchkeras.Model(Net())\r\n",
        "model_clone.load_state_dict(torch.load(\"save_model.pkl\"))\r\n",
        "\r\n",
        "model_clone.compile(loss_func = nn.BCELoss(),optimizer= torch.optim.Adam(model.parameters(),lr = 0.01),\r\n",
        "             metrics_dict={\"accuracy\":accuracy})\r\n",
        "\r\n",
        "model_clone.evaluate(dl_valid)"
      ],
      "execution_count": null,
      "outputs": []
    }
  ]
}