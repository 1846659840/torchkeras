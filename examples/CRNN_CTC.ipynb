{
 "cells": [
  {
   "cell_type": "markdown",
   "metadata": {
    "slideshow": {
     "slide_type": "-"
    }
   },
   "source": [
    "# CRNN-CTC 验证码识别"
   ]
  },
  {
   "cell_type": "markdown",
   "metadata": {
    "slideshow": {
     "slide_type": "-"
    }
   },
   "source": [
    "本范例我们使用经典的 CRNN+ CTC Loss 的OCR模型来识别验证码。\n",
    "\n",
    "我们通过导入一个叫 [captcha](https://github.com/lepture/captcha/) 的库来生成验证码。\n",
    "\n",
    "我们生成验证码的字符由数字和大写字母组成。\n",
    "\n",
    "项目参考： https://github.com/ypwhs/captcha_break \n",
    "\n"
   ]
  },
  {
   "cell_type": "code",
   "execution_count": null,
   "metadata": {
    "slideshow": {
     "slide_type": "-"
    }
   },
   "outputs": [],
   "source": [
    "#!pip install captcha torchkeras "
   ]
  },
  {
   "cell_type": "code",
   "execution_count": 1,
   "metadata": {
    "ExecuteTime": {
     "end_time": "2019-06-18T11:19:45.698786Z",
     "start_time": "2019-06-18T11:19:45.381128Z"
    }
   },
   "outputs": [],
   "source": [
    "import torch \n",
    "import torch.nn as nn\n",
    "import torch.nn.functional as F\n",
    "from torch.utils.data import Dataset, DataLoader\n",
    "from torchvision.transforms.functional import to_tensor, to_pil_image\n",
    "\n",
    "from tqdm import tqdm\n",
    "import random\n",
    "import numpy as np\n",
    "\n",
    "import torchkeras \n",
    "from pathlib import Path\n",
    "from collections import OrderedDict \n",
    "\n",
    "\n",
    "characters = '-' + '0123456789ABCDEFGHIJKLMNOPQRSTUVWXYZ'  # 注：’-‘ 为[blank] 特殊字符\n",
    "width, height  = 192, 64\n",
    "n_classes = len(characters)\n",
    "\n",
    "txt_length = 4 #识别的验证码长度\n",
    "seq_length = 12 #CRNN输出序列长度，一般要求 seq_length>=2*txt_length+1 \n"
   ]
  },
  {
   "cell_type": "code",
   "execution_count": null,
   "metadata": {},
   "outputs": [],
   "source": []
  },
  {
   "cell_type": "markdown",
   "metadata": {},
   "source": [
    "## 一，准备数据"
   ]
  },
  {
   "cell_type": "code",
   "execution_count": 35,
   "metadata": {},
   "outputs": [
    {
     "data": {
      "image/png": "[encoded data removed]",
      "text/plain": [
       "<PIL.Image.Image image mode=RGB size=320x64>"
      ]
     },
     "execution_count": 35,
     "metadata": {},
     "output_type": "execute_result"
    }
   ],
   "source": [
    "from captcha.image import ImageCaptcha\n",
    "generator = ImageCaptcha(width=320, height=64, \n",
    "        fonts=[str(Path(torchkeras.__file__).parent/'assets'/'SimHei.ttf') ],\n",
    "        font_sizes=[40,45])\n",
    "generator.generate_image('中国人民很行')\n",
    "\n"
   ]
  },
  {
   "cell_type": "code",
   "execution_count": 6,
   "metadata": {
    "ExecuteTime": {
     "end_time": "2019-06-18T11:19:45.704071Z",
     "start_time": "2019-06-18T11:19:45.700019Z"
    }
   },
   "outputs": [],
   "source": [
    "class CaptchaDataset(Dataset):\n",
    "    def __init__(self, characters, length, \n",
    "                 width, height, input_length, label_length):\n",
    "        super(CaptchaDataset, self).__init__()\n",
    "        self.characters = characters\n",
    "        self.length = length\n",
    "        self.width = width\n",
    "        self.height = height\n",
    "        self.input_length = input_length\n",
    "        self.label_length = label_length\n",
    "        self.n_class = len(characters)\n",
    "        self.generator = ImageCaptcha(width=width, height=height)\n",
    "\n",
    "    def __len__(self):\n",
    "        return self.length\n",
    "    \n",
    "    def __getitem__(self, index):\n",
    "        random_str = ''.join([random.choice(self.characters[1:]) for j in range(self.label_length)])\n",
    "        image = to_tensor(self.generator.generate_image(random_str))\n",
    "        target = torch.tensor([self.characters.find(x) for x in random_str], dtype=torch.long)\n",
    "        input_length = torch.full(size=(1, ), fill_value=self.input_length, dtype=torch.long)\n",
    "        target_length = torch.full(size=(1, ), fill_value=self.label_length, dtype=torch.long)\n",
    "        return image, target, input_length, target_length\n",
    "    \n",
    "    "
   ]
  },
  {
   "cell_type": "code",
   "execution_count": 7,
   "metadata": {
    "ExecuteTime": {
     "end_time": "2019-06-18T11:19:45.737300Z",
     "start_time": "2019-06-18T11:19:45.735033Z"
    }
   },
   "outputs": [
    {
     "name": "stdout",
     "output_type": "stream",
     "text": [
      "FA6Z tensor([12]) tensor([4])\n"
     ]
    },
    {
     "data": {
      "image/png": "[encoded data removed]",
      "text/plain": [
       "<PIL.Image.Image image mode=RGB size=192x64>"
      ]
     },
     "execution_count": 7,
     "metadata": {},
     "output_type": "execute_result"
    }
   ],
   "source": [
    "batch_size = 128\n",
    "ds_train= CaptchaDataset(characters, 100 * batch_size, \n",
    "                         width, height, seq_length, txt_length)\n",
    "\n",
    "ds_val = CaptchaDataset(characters, 20 * batch_size, \n",
    "                        width, height, seq_length, txt_length)\n",
    "\n",
    "dl_train = DataLoader(ds_train, batch_size=batch_size, num_workers=4)\n",
    "dl_val = DataLoader(ds_val, batch_size=batch_size, num_workers=4)\n",
    "\n",
    "\n",
    "ds_test = CaptchaDataset(characters, 1, width, height, seq_length, txt_length)\n",
    "\n",
    "image, target, input_length, label_length = ds_test[0]\n",
    "print(''.join([characters[x] for x in target]), input_length, label_length)\n",
    "to_pil_image(image)\n"
   ]
  },
  {
   "cell_type": "code",
   "execution_count": null,
   "metadata": {},
   "outputs": [],
   "source": []
  },
  {
   "cell_type": "markdown",
   "metadata": {},
   "source": [
    "##  二，定义模型"
   ]
  },
  {
   "cell_type": "code",
   "execution_count": 8,
   "metadata": {
    "ExecuteTime": {
     "end_time": "2019-06-18T11:19:45.744324Z",
     "start_time": "2019-06-18T11:19:45.738366Z"
    }
   },
   "outputs": [],
   "source": [
    "class CRNN(nn.Module):\n",
    "    def __init__(self, n_classes, input_shape=(3, 64, 128)):\n",
    "        super().__init__()\n",
    "        self.input_shape = input_shape\n",
    "        channels = [32, 64, 128, 256, 256]\n",
    "        layers = [2, 2, 2, 2, 2]\n",
    "        kernels = [3, 3, 3, 3, 3]\n",
    "        pools = [2, 2, 2, 2, (2, 1)]\n",
    "        modules = OrderedDict()\n",
    "        \n",
    "        def cba(name, in_channels, out_channels, kernel_size):\n",
    "            modules[f'conv{name}'] = nn.Conv2d(in_channels, out_channels, kernel_size,\n",
    "                                               padding=(1, 1) if kernel_size == 3 else 0)\n",
    "            modules[f'bn{name}'] = nn.BatchNorm2d(out_channels)\n",
    "            modules[f'relu{name}'] = nn.ReLU(inplace=True)\n",
    "        \n",
    "        last_channel = 3\n",
    "        for block, (n_channel, n_layer, n_kernel, k_pool) in enumerate(zip(channels, layers, kernels, pools)):\n",
    "            for layer in range(1, n_layer + 1):\n",
    "                cba(f'{block+1}{layer}', last_channel, n_channel, n_kernel)\n",
    "                last_channel = n_channel\n",
    "            modules[f'pool{block + 1}'] = nn.MaxPool2d(k_pool)\n",
    "        modules[f'dropout'] = nn.Dropout(0.25, inplace=True)\n",
    "        \n",
    "        self.cnn = nn.Sequential(modules)\n",
    "        self.lstm = nn.LSTM(input_size=self.infer_features(), hidden_size=128, num_layers=2, bidirectional=True)\n",
    "        self.fc = nn.Linear(in_features=256, out_features=n_classes)\n",
    "    \n",
    "    def infer_features(self):\n",
    "        x = torch.zeros((1,)+self.input_shape)\n",
    "        x = self.cnn(x)\n",
    "        x = x.reshape(x.shape[0], -1, x.shape[-1])\n",
    "        return x.shape[1]\n",
    "    \n",
    "\n",
    "    def forward(self, x):\n",
    "        x = self.cnn(x)\n",
    "        x = x.reshape(x.shape[0], -1, x.shape[-1])\n",
    "        x = x.permute(2, 0, 1)\n",
    "        x, _ = self.lstm(x)\n",
    "        x = self.fc(x)\n",
    "        return x\n",
    "    "
   ]
  },
  {
   "cell_type": "code",
   "execution_count": 9,
   "metadata": {},
   "outputs": [
    {
     "name": "stdout",
     "output_type": "stream",
     "text": [
      "torch.Size([12, 32, 37])\n"
     ]
    }
   ],
   "source": [
    "net = CRNN(n_classes, input_shape=(3, height, width))\n",
    "inputs = torch.zeros((32, 3, height, width))\n",
    "outputs = net(inputs)\n",
    "print(outputs.shape) # LSTM默认输出的形状是 Length在前\n",
    "net.cuda();\n"
   ]
  },
  {
   "cell_type": "code",
   "execution_count": null,
   "metadata": {},
   "outputs": [],
   "source": []
  },
  {
   "cell_type": "markdown",
   "metadata": {},
   "source": [
    "## 三， 训练模型"
   ]
  },
  {
   "cell_type": "code",
   "execution_count": 10,
   "metadata": {
    "ExecuteTime": {
     "end_time": "2019-06-18T11:19:48.052899Z",
     "start_time": "2019-06-18T11:19:48.041088Z"
    }
   },
   "outputs": [],
   "source": [
    "# 解码函数和计算准确率函数\n",
    "\n",
    "def decode_target(sequence):\n",
    "    return ''.join([characters[x] for x in sequence]).replace(' ', '')\n",
    "\n",
    "def decode(sequence):\n",
    "    a = ''.join([characters[x] for x in sequence])\n",
    "    s = ''.join([x for j, x in enumerate(a[:-1]) if x != characters[0] and x != a[j+1]])\n",
    "    if len(s) == 0:\n",
    "        return ''\n",
    "    if a[-1] != characters[0] and s[-1] != a[-1]:\n",
    "        s += a[-1]\n",
    "    return s\n",
    "\n",
    "\n",
    "def eval_acc(targets, preds):\n",
    "    preds_argmax = preds.detach().permute(1, 0, 2).argmax(dim=-1)\n",
    "    targets = targets.cpu().numpy()\n",
    "    preds_argmax = preds_argmax.cpu().numpy()\n",
    "    a = np.array([decode_target(gt) == decode(pred) for gt,\n",
    "                  pred in zip(targets, preds_argmax)])\n",
    "    return a.mean()\n",
    "\n"
   ]
  },
  {
   "cell_type": "code",
   "execution_count": 11,
   "metadata": {},
   "outputs": [],
   "source": [
    "import torch.nn.functional as F \n",
    "from torchkeras import KerasModel\n",
    "\n",
    "#我们覆盖KerasModel的StepRunner以实现自定义训练逻辑。\n",
    "#注意这里把acc指标的结果写在了step_loss中以便和loss一样在Epoch上求平均，这是一个非常灵活而且有用的写法。\n",
    "\n",
    "class StepRunner:\n",
    "    def __init__(self, net, loss_fn, accelerator, stage = \"train\", metrics_dict = None, \n",
    "                 optimizer = None, lr_scheduler = None\n",
    "                 ):\n",
    "        self.net,self.loss_fn,self.metrics_dict,self.stage = net,loss_fn,metrics_dict,stage\n",
    "        self.optimizer,self.lr_scheduler = optimizer,lr_scheduler\n",
    "        self.accelerator = accelerator\n",
    "        if self.stage=='train':\n",
    "            self.net.train() \n",
    "        else:\n",
    "            self.net.eval()\n",
    "    \n",
    "    def __call__(self, batch):\n",
    "        \n",
    "        images, targets, input_lengths, target_lengths = batch\n",
    "        \n",
    "        #loss\n",
    "        preds = self.net(images)\n",
    "        preds_log_softmax = F.log_softmax(preds, dim=-1)\n",
    "        loss = F.ctc_loss(preds_log_softmax, targets, input_lengths, target_lengths)\n",
    "        acc = eval_acc(targets,preds)\n",
    "            \n",
    "\n",
    "        #backward()\n",
    "        if self.optimizer is not None and self.stage==\"train\":\n",
    "            self.accelerator.backward(loss)\n",
    "            self.optimizer.step()\n",
    "            if self.lr_scheduler is not None:\n",
    "                self.lr_scheduler.step()\n",
    "            self.optimizer.zero_grad()\n",
    "            \n",
    "            \n",
    "        all_loss = self.accelerator.gather(loss).sum()\n",
    "        \n",
    "        #losses\n",
    "        step_losses = {self.stage+\"_loss\":\n",
    "                       all_loss.item(),\n",
    "                       self.stage+'_acc':acc}\n",
    "        \n",
    "        #metrics\n",
    "        step_metrics = {}\n",
    "        if self.stage==\"train\":\n",
    "            if self.optimizer is not None:\n",
    "                step_metrics['lr'] = self.optimizer.state_dict()['param_groups'][0]['lr']\n",
    "            else:\n",
    "                step_metrics['lr'] = 0.0\n",
    "        return step_losses,step_metrics\n",
    "    \n",
    "    \n",
    "KerasModel.StepRunner = StepRunner \n",
    "\n"
   ]
  },
  {
   "cell_type": "code",
   "execution_count": 19,
   "metadata": {
    "ExecuteTime": {
     "end_time": "2019-06-18T12:18:50.675432Z",
     "start_time": "2019-06-18T11:19:48.053976Z"
    }
   },
   "outputs": [],
   "source": [
    "\n",
    "\n",
    "model = KerasModel(net,\n",
    "                   loss_fn=None,\n",
    "                   optimizer = torch.optim.AdamW(net.parameters(),lr = 2e-6)\n",
    "                   )\n",
    "\n",
    "model.load_ckpt('ctc_crnn.pt')\n"
   ]
  },
  {
   "cell_type": "code",
   "execution_count": 33,
   "metadata": {
    "ExecuteTime": {
     "end_time": "2019-06-18T12:18:50.675432Z",
     "start_time": "2019-06-18T11:19:48.053976Z"
    },
    "code_folding": []
   },
   "outputs": [
    {
     "name": "stdout",
     "output_type": "stream",
     "text": [
      "\u001b[0;31m<<<<<< ⚡️ cuda is used >>>>>>\u001b[0m\n"
     ]
    },
    {
     "data": {
      "image/png": "[encoded data removed]",
      "text/plain": [
       "<Figure size 600x400 with 1 Axes>"
      ]
     },
     "metadata": {},
     "output_type": "display_data"
    },
    {
     "data": {
      "text/html": [
       "\n",
       "<style>\n",
       "    /* background: */\n",
       "    progress::-webkit-progress-bar {background-color: #CDCDCD; width: 100%;}\n",
       "    progress {background-color: #CDCDCD;}\n",
       "\n",
       "    /* value: */\n",
       "    progress::-webkit-progress-value {background-color: #00BFFF  !important;}\n",
       "    progress::-moz-progress-bar {background-color: #00BFFF  !important;}\n",
       "    progress {color: #00BFFF ;}\n",
       "\n",
       "    /* optional */\n",
       "    .progress-bar-interrupted, .progress-bar-interrupted::-webkit-progress-bar {\n",
       "        background: #000000;\n",
       "    }\n",
       "</style>\n"
      ],
      "text/plain": [
       "<IPython.core.display.HTML object>"
      ]
     },
     "metadata": {},
     "output_type": "display_data"
    },
    {
     "data": {
      "text/html": [
       "\n",
       "    <div>\n",
       "      <progress value='20' class='progress-bar-interrupted' max='30' style='width:300px; height:20px; vertical-align: middle;'></progress>\n",
       "      66.67% [20/30 04:33<02:16][earlystopping]\n",
       "    </div>\n",
       "    "
      ],
      "text/plain": [
       "<IPython.core.display.HTML object>"
      ]
     },
     "metadata": {},
     "output_type": "display_data"
    },
    {
     "name": "stdout",
     "output_type": "stream",
     "text": [
      "\n",
      "================================================================================2023-06-02 22:31:40\n",
      "Epoch 0 / 30\n",
      "\n",
      "100%|██████████████████| 100/100 [00:10<00:00,  9.51it/s, lr=0, train_acc=0.959, train_loss=0.00866]\n",
      "100%|███████████████████████████████| 20/20 [00:02<00:00,  8.41it/s, val_acc=0.956, val_loss=0.0106]\n",
      "\u001b[0;31m<<<<<< reach best val_acc : 0.95625 >>>>>>\u001b[0m\n",
      "\n",
      "================================================================================2023-06-02 22:31:54\n",
      "Epoch 1 / 30\n",
      "\n",
      "100%|████████████████| 100/100 [00:10<00:00,  9.35it/s, lr=2e-6, train_acc=0.957, train_loss=0.0104]\n",
      "100%|███████████████████████████████| 20/20 [00:02<00:00,  8.23it/s, val_acc=0.968, val_loss=0.0091]\n",
      "\u001b[0;31m<<<<<< reach best val_acc : 0.967578125 >>>>>>\u001b[0m\n",
      "\n",
      "================================================================================2023-06-02 22:32:08\n",
      "Epoch 2 / 30\n",
      "\n",
      "100%|███████████████| 100/100 [00:10<00:00,  9.12it/s, lr=2e-6, train_acc=0.955, train_loss=0.00994]\n",
      "100%|███████████████████████████████| 20/20 [00:02<00:00,  8.09it/s, val_acc=0.958, val_loss=0.0102]\n",
      "\n",
      "================================================================================2023-06-02 22:32:22\n",
      "Epoch 3 / 30\n",
      "\n",
      "100%|████████████████| 100/100 [00:11<00:00,  8.87it/s, lr=2e-6, train_acc=0.958, train_loss=0.0101]\n",
      "100%|██████████████████████████████| 20/20 [00:02<00:00,  7.28it/s, val_acc=0.961, val_loss=0.00812]\n",
      "\n",
      "================================================================================2023-06-02 22:32:36\n",
      "Epoch 4 / 30\n",
      "\n",
      "100%|████████████████| 100/100 [00:10<00:00,  9.33it/s, lr=2e-6, train_acc=0.958, train_loss=0.0103]\n",
      "100%|██████████████████████████████| 20/20 [00:02<00:00,  8.19it/s, val_acc=0.963, val_loss=0.00684]\n",
      "\n",
      "================================================================================2023-06-02 22:32:49\n",
      "Epoch 5 / 30\n",
      "\n",
      "100%|███████████████| 100/100 [00:10<00:00,  9.32it/s, lr=2e-6, train_acc=0.959, train_loss=0.00985]\n",
      "100%|██████████████████████████████| 20/20 [00:02<00:00,  8.51it/s, val_acc=0.966, val_loss=0.00762]\n",
      "\u001b[0;31m<<<<<< val_acc without improvement in 10 epoch,early stopping >>>>>>\u001b[0m\n"
     ]
    },
    {
     "data": {
      "text/html": [
       "<div>\n",
       "<style scoped>\n",
       "    .dataframe tbody tr th:only-of-type {\n",
       "        vertical-align: middle;\n",
       "    }\n",
       "\n",
       "    .dataframe tbody tr th {\n",
       "        vertical-align: top;\n",
       "    }\n",
       "\n",
       "    .dataframe thead th {\n",
       "        text-align: right;\n",
       "    }\n",
       "</style>\n",
       "<table border=\"1\" class=\"dataframe\">\n",
       "  <thead>\n",
       "    <tr style=\"text-align: right;\">\n",
       "      <th></th>\n",
       "      <th>epoch</th>\n",
       "      <th>train_loss</th>\n",
       "      <th>train_acc</th>\n",
       "      <th>lr</th>\n",
       "      <th>val_loss</th>\n",
       "      <th>val_acc</th>\n",
       "    </tr>\n",
       "  </thead>\n",
       "  <tbody>\n",
       "    <tr>\n",
       "      <th>0</th>\n",
       "      <td>0</td>\n",
       "      <td>0.008659</td>\n",
       "      <td>0.959375</td>\n",
       "      <td>0.000000</td>\n",
       "      <td>0.010554</td>\n",
       "      <td>0.956250</td>\n",
       "    </tr>\n",
       "    <tr>\n",
       "      <th>1</th>\n",
       "      <td>1</td>\n",
       "      <td>0.010375</td>\n",
       "      <td>0.957031</td>\n",
       "      <td>0.000002</td>\n",
       "      <td>0.009104</td>\n",
       "      <td>0.967578</td>\n",
       "    </tr>\n",
       "    <tr>\n",
       "      <th>2</th>\n",
       "      <td>2</td>\n",
       "      <td>0.009938</td>\n",
       "      <td>0.955234</td>\n",
       "      <td>0.000002</td>\n",
       "      <td>0.010214</td>\n",
       "      <td>0.957812</td>\n",
       "    </tr>\n",
       "    <tr>\n",
       "      <th>3</th>\n",
       "      <td>3</td>\n",
       "      <td>0.010119</td>\n",
       "      <td>0.957578</td>\n",
       "      <td>0.000002</td>\n",
       "      <td>0.008124</td>\n",
       "      <td>0.960938</td>\n",
       "    </tr>\n",
       "    <tr>\n",
       "      <th>4</th>\n",
       "      <td>4</td>\n",
       "      <td>0.010345</td>\n",
       "      <td>0.957578</td>\n",
       "      <td>0.000002</td>\n",
       "      <td>0.006836</td>\n",
       "      <td>0.962891</td>\n",
       "    </tr>\n",
       "    <tr>\n",
       "      <th>5</th>\n",
       "      <td>5</td>\n",
       "      <td>0.009854</td>\n",
       "      <td>0.959219</td>\n",
       "      <td>0.000002</td>\n",
       "      <td>0.007617</td>\n",
       "      <td>0.965625</td>\n",
       "    </tr>\n",
       "    <tr>\n",
       "      <th>6</th>\n",
       "      <td>6</td>\n",
       "      <td>0.010075</td>\n",
       "      <td>0.958750</td>\n",
       "      <td>0.000002</td>\n",
       "      <td>0.010425</td>\n",
       "      <td>0.951172</td>\n",
       "    </tr>\n",
       "    <tr>\n",
       "      <th>7</th>\n",
       "      <td>7</td>\n",
       "      <td>0.010189</td>\n",
       "      <td>0.958281</td>\n",
       "      <td>0.000002</td>\n",
       "      <td>0.010673</td>\n",
       "      <td>0.954688</td>\n",
       "    </tr>\n",
       "    <tr>\n",
       "      <th>8</th>\n",
       "      <td>8</td>\n",
       "      <td>0.009672</td>\n",
       "      <td>0.957969</td>\n",
       "      <td>0.000002</td>\n",
       "      <td>0.008521</td>\n",
       "      <td>0.962109</td>\n",
       "    </tr>\n",
       "    <tr>\n",
       "      <th>9</th>\n",
       "      <td>9</td>\n",
       "      <td>0.010017</td>\n",
       "      <td>0.961016</td>\n",
       "      <td>0.000002</td>\n",
       "      <td>0.010152</td>\n",
       "      <td>0.957812</td>\n",
       "    </tr>\n",
       "    <tr>\n",
       "      <th>10</th>\n",
       "      <td>10</td>\n",
       "      <td>0.009575</td>\n",
       "      <td>0.959375</td>\n",
       "      <td>0.000002</td>\n",
       "      <td>0.007342</td>\n",
       "      <td>0.968359</td>\n",
       "    </tr>\n",
       "    <tr>\n",
       "      <th>11</th>\n",
       "      <td>11</td>\n",
       "      <td>0.009236</td>\n",
       "      <td>0.956094</td>\n",
       "      <td>0.000002</td>\n",
       "      <td>0.010885</td>\n",
       "      <td>0.960547</td>\n",
       "    </tr>\n",
       "    <tr>\n",
       "      <th>12</th>\n",
       "      <td>12</td>\n",
       "      <td>0.008944</td>\n",
       "      <td>0.962109</td>\n",
       "      <td>0.000002</td>\n",
       "      <td>0.010604</td>\n",
       "      <td>0.957031</td>\n",
       "    </tr>\n",
       "    <tr>\n",
       "      <th>13</th>\n",
       "      <td>13</td>\n",
       "      <td>0.010579</td>\n",
       "      <td>0.956953</td>\n",
       "      <td>0.000002</td>\n",
       "      <td>0.008698</td>\n",
       "      <td>0.965234</td>\n",
       "    </tr>\n",
       "    <tr>\n",
       "      <th>14</th>\n",
       "      <td>14</td>\n",
       "      <td>0.010503</td>\n",
       "      <td>0.955078</td>\n",
       "      <td>0.000002</td>\n",
       "      <td>0.008728</td>\n",
       "      <td>0.961719</td>\n",
       "    </tr>\n",
       "    <tr>\n",
       "      <th>15</th>\n",
       "      <td>15</td>\n",
       "      <td>0.009218</td>\n",
       "      <td>0.961094</td>\n",
       "      <td>0.000002</td>\n",
       "      <td>0.009786</td>\n",
       "      <td>0.956641</td>\n",
       "    </tr>\n",
       "    <tr>\n",
       "      <th>16</th>\n",
       "      <td>16</td>\n",
       "      <td>0.009576</td>\n",
       "      <td>0.959297</td>\n",
       "      <td>0.000002</td>\n",
       "      <td>0.011156</td>\n",
       "      <td>0.954688</td>\n",
       "    </tr>\n",
       "    <tr>\n",
       "      <th>17</th>\n",
       "      <td>17</td>\n",
       "      <td>0.008933</td>\n",
       "      <td>0.957500</td>\n",
       "      <td>0.000002</td>\n",
       "      <td>0.007454</td>\n",
       "      <td>0.963672</td>\n",
       "    </tr>\n",
       "    <tr>\n",
       "      <th>18</th>\n",
       "      <td>18</td>\n",
       "      <td>0.009990</td>\n",
       "      <td>0.957656</td>\n",
       "      <td>0.000002</td>\n",
       "      <td>0.009762</td>\n",
       "      <td>0.966406</td>\n",
       "    </tr>\n",
       "    <tr>\n",
       "      <th>19</th>\n",
       "      <td>19</td>\n",
       "      <td>0.011394</td>\n",
       "      <td>0.955469</td>\n",
       "      <td>0.000002</td>\n",
       "      <td>0.009925</td>\n",
       "      <td>0.958984</td>\n",
       "    </tr>\n",
       "    <tr>\n",
       "      <th>20</th>\n",
       "      <td>20</td>\n",
       "      <td>0.009683</td>\n",
       "      <td>0.959141</td>\n",
       "      <td>0.000002</td>\n",
       "      <td>0.007040</td>\n",
       "      <td>0.965625</td>\n",
       "    </tr>\n",
       "  </tbody>\n",
       "</table>\n",
       "</div>"
      ],
      "text/plain": [
       "    epoch  train_loss  train_acc        lr  val_loss   val_acc\n",
       "0       0    0.008659   0.959375  0.000000  0.010554  0.956250\n",
       "1       1    0.010375   0.957031  0.000002  0.009104  0.967578\n",
       "2       2    0.009938   0.955234  0.000002  0.010214  0.957812\n",
       "3       3    0.010119   0.957578  0.000002  0.008124  0.960938\n",
       "4       4    0.010345   0.957578  0.000002  0.006836  0.962891\n",
       "5       5    0.009854   0.959219  0.000002  0.007617  0.965625\n",
       "6       6    0.010075   0.958750  0.000002  0.010425  0.951172\n",
       "7       7    0.010189   0.958281  0.000002  0.010673  0.954688\n",
       "8       8    0.009672   0.957969  0.000002  0.008521  0.962109\n",
       "9       9    0.010017   0.961016  0.000002  0.010152  0.957812\n",
       "10     10    0.009575   0.959375  0.000002  0.007342  0.968359\n",
       "11     11    0.009236   0.956094  0.000002  0.010885  0.960547\n",
       "12     12    0.008944   0.962109  0.000002  0.010604  0.957031\n",
       "13     13    0.010579   0.956953  0.000002  0.008698  0.965234\n",
       "14     14    0.010503   0.955078  0.000002  0.008728  0.961719\n",
       "15     15    0.009218   0.961094  0.000002  0.009786  0.956641\n",
       "16     16    0.009576   0.959297  0.000002  0.011156  0.954688\n",
       "17     17    0.008933   0.957500  0.000002  0.007454  0.963672\n",
       "18     18    0.009990   0.957656  0.000002  0.009762  0.966406\n",
       "19     19    0.011394   0.955469  0.000002  0.009925  0.958984\n",
       "20     20    0.009683   0.959141  0.000002  0.007040  0.965625"
      ]
     },
     "execution_count": 33,
     "metadata": {},
     "output_type": "execute_result"
    }
   ],
   "source": [
    "model.fit(\n",
    "    train_data = dl_train,\n",
    "    val_data= dl_val,\n",
    "    ckpt_path='ctc_crnn.pt',\n",
    "    epochs=30,\n",
    "    patience=10,\n",
    "    monitor=\"val_acc\", \n",
    "    mode=\"max\",\n",
    "    plot = True,\n",
    "    wandb = False,\n",
    "    callbacks=[visdis],\n",
    "    quiet = lambda epoch: epoch>5\n",
    ")"
   ]
  },
  {
   "cell_type": "code",
   "execution_count": null,
   "metadata": {},
   "outputs": [],
   "source": []
  },
  {
   "cell_type": "markdown",
   "metadata": {},
   "source": [
    "## 四，评估模型"
   ]
  },
  {
   "cell_type": "code",
   "execution_count": 38,
   "metadata": {
    "ExecuteTime": {
     "end_time": "2019-06-18T12:48:58.168479Z",
     "start_time": "2019-06-18T12:48:57.536996Z"
    },
    "code_folding": [
     3
    ]
   },
   "outputs": [
    {
     "data": {
      "application/vnd.jupyter.widget-view+json": {
       "model_id": "a03593549a6e4c1db78b2580facb393f",
       "version_major": 2,
       "version_minor": 0
      },
      "text/plain": [
       "Output()"
      ]
     },
     "metadata": {},
     "output_type": "display_data"
    }
   ],
   "source": [
    "def display_fn(model):\n",
    "    model.eval()\n",
    "    right = True\n",
    "    while right:\n",
    "        image, target, input_length, label_length = ds_test[0]\n",
    "        output = model(image.unsqueeze(0).cuda())\n",
    "        output_argmax = output.detach().permute(1, 0, 2).argmax(dim=-1)\n",
    "        right = (decode_target(target) == decode(output_argmax[0]))\n",
    "        print('gt:', decode_target(target),' ','pred:', decode(output_argmax[0]))\n",
    "    display(to_pil_image(image))\n",
    "    \n",
    "    \n",
    "from torchkeras.kerascallbacks import VisDisplay\n",
    "visdis = VisDisplay(display_fn,model)\n"
   ]
  },
  {
   "cell_type": "code",
   "execution_count": null,
   "metadata": {},
   "outputs": [],
   "source": []
  },
  {
   "cell_type": "markdown",
   "metadata": {},
   "source": [
    "## 五，使用模型\n"
   ]
  },
  {
   "cell_type": "code",
   "execution_count": 22,
   "metadata": {},
   "outputs": [],
   "source": [
    "def predict(model,image):\n",
    "    model.cuda()\n",
    "    tensor = to_tensor(image)\n",
    "    output = model(tensor.unsqueeze(0).cuda())\n",
    "    output_argmax = output.detach().permute(1, 0, 2).argmax(dim=-1)\n",
    "    preds = decode(output_argmax[0])\n",
    "    return preds"
   ]
  },
  {
   "cell_type": "code",
   "execution_count": 21,
   "metadata": {},
   "outputs": [],
   "source": [
    "model.load_ckpt('ctc_crnn.pt')"
   ]
  },
  {
   "cell_type": "code",
   "execution_count": 39,
   "metadata": {},
   "outputs": [
    {
     "data": {
      "image/png": "[encoded data removed]",
      "text/plain": [
       "<PIL.Image.Image image mode=RGB size=192x64>"
      ]
     },
     "metadata": {},
     "output_type": "display_data"
    },
    {
     "data": {
      "text/plain": [
       "'ABBD'"
      ]
     },
     "execution_count": 39,
     "metadata": {},
     "output_type": "execute_result"
    }
   ],
   "source": [
    "generator = ImageCaptcha(width=width, height=height)\n",
    "image = generator.generate_image('ABBD')\n",
    "display(image)\n",
    "predict(model,image)"
   ]
  },
  {
   "cell_type": "markdown",
   "metadata": {},
   "source": [
    "## 六，保存模型"
   ]
  },
  {
   "cell_type": "code",
   "execution_count": 32,
   "metadata": {},
   "outputs": [],
   "source": [
    "torch.save(model.net.state_dict(),'best.pt')"
   ]
  }
 ],
 "metadata": {
  "celltoolbar": "Slideshow",
  "kernelspec": {
   "display_name": "Python 3 (ipykernel)",
   "language": "python",
   "name": "python3"
  },
  "language_info": {
   "codemirror_mode": {
    "name": "ipython",
    "version": 3
   },
   "file_extension": ".py",
   "mimetype": "text/x-python",
   "name": "python",
   "nbconvert_exporter": "python",
   "pygments_lexer": "ipython3",
   "version": "3.8.10"
  },
  "widgets": {
   "application/vnd.jupyter.widget-state+json": {
    "state": {
     "3e594ae65a88453682c6b98253d9a46f": {
      "model_module": "@jupyter-widgets/output",
      "model_module_version": "1.0.0",
      "model_name": "OutputModel",
      "state": {
       "layout": "IPY_MODEL_6a8e4a2263184121b6ce6dd5619e7112"
      }
     },
     "4e3c790e04ed41dc9653642087a09bde": {
      "model_module": "@jupyter-widgets/output",
      "model_module_version": "1.0.0",
      "model_name": "OutputModel",
      "state": {
       "layout": "IPY_MODEL_5698b97586c1475e857f3f74dbe1a9f0",
       "outputs": [
        {
         "data": {
          "text/html": "<pre style=\"white-space:pre;overflow-x:auto;line-height:normal;font-family:Menlo,'DejaVu Sans Mono',consolas,'Courier New',monospace\"><span style=\"color: #800000; text-decoration-color: #800000\">╭─────────────────────────────── </span><span style=\"color: #800000; text-decoration-color: #800000; font-weight: bold\">Traceback </span><span style=\"color: #bf7f7f; text-decoration-color: #bf7f7f; font-weight: bold\">(most recent call last)</span><span style=\"color: #800000; text-decoration-color: #800000\"> ────────────────────────────────╮</span>\n<span style=\"color: #800000; text-decoration-color: #800000\">│</span> <span style=\"color: #bfbf7f; text-decoration-color: #bfbf7f\">/usr/local/lib/python3.8/dist-packages/torchkeras/</span><span style=\"color: #808000; text-decoration-color: #808000; font-weight: bold\">kerascallbacks.py</span>:<span style=\"color: #0000ff; text-decoration-color: #0000ff\">243</span> in <span style=\"color: #00ff00; text-decoration-color: #00ff00\">__init__</span>              <span style=\"color: #800000; text-decoration-color: #800000\">│</span>\n<span style=\"color: #800000; text-decoration-color: #800000\">│</span>                                                                                                  <span style=\"color: #800000; text-decoration-color: #800000\">│</span>\n<span style=\"color: #800000; text-decoration-color: #800000\">│</span>   <span style=\"color: #7f7f7f; text-decoration-color: #7f7f7f\">240 </span><span style=\"color: #7f7f7f; text-decoration-color: #7f7f7f\">│   │   </span>display(<span style=\"color: #00ffff; text-decoration-color: #00ffff\">self</span>.out)                                                                  <span style=\"color: #800000; text-decoration-color: #800000\">│</span>\n<span style=\"color: #800000; text-decoration-color: #800000\">│</span>   <span style=\"color: #7f7f7f; text-decoration-color: #7f7f7f\">241 </span><span style=\"color: #7f7f7f; text-decoration-color: #7f7f7f\">│   │   </span><span style=\"color: #0000ff; text-decoration-color: #0000ff\">if</span> model <span style=\"color: #ff00ff; text-decoration-color: #ff00ff\">is</span> <span style=\"color: #ff00ff; text-decoration-color: #ff00ff\">not</span> <span style=\"color: #0000ff; text-decoration-color: #0000ff\">None</span>:                                                              <span style=\"color: #800000; text-decoration-color: #800000\">│</span>\n<span style=\"color: #800000; text-decoration-color: #800000\">│</span>   <span style=\"color: #7f7f7f; text-decoration-color: #7f7f7f\">242 </span><span style=\"color: #7f7f7f; text-decoration-color: #7f7f7f\">│   │   │   </span><span style=\"color: #0000ff; text-decoration-color: #0000ff\">with</span> <span style=\"color: #00ffff; text-decoration-color: #00ffff\">self</span>.out:                                                                 <span style=\"color: #800000; text-decoration-color: #800000\">│</span>\n<span style=\"color: #800000; text-decoration-color: #800000\">│</span> <span style=\"color: #800000; text-decoration-color: #800000\">❱ </span>243 <span style=\"color: #7f7f7f; text-decoration-color: #7f7f7f\">│   │   │   │   </span><span style=\"color: #00ffff; text-decoration-color: #00ffff\">self</span>.display_fn(model)                                                     <span style=\"color: #800000; text-decoration-color: #800000\">│</span>\n<span style=\"color: #800000; text-decoration-color: #800000\">│</span>   <span style=\"color: #7f7f7f; text-decoration-color: #7f7f7f\">244 </span><span style=\"color: #7f7f7f; text-decoration-color: #7f7f7f\">│   </span>                                                                                       <span style=\"color: #800000; text-decoration-color: #800000\">│</span>\n<span style=\"color: #800000; text-decoration-color: #800000\">│</span>   <span style=\"color: #7f7f7f; text-decoration-color: #7f7f7f\">245 </span><span style=\"color: #7f7f7f; text-decoration-color: #7f7f7f\">│   </span><span style=\"color: #0000ff; text-decoration-color: #0000ff\">def</span> <span style=\"color: #00ff00; text-decoration-color: #00ff00\">on_fit_start</span>(<span style=\"color: #00ffff; text-decoration-color: #00ffff\">self</span>,model: <span style=\"color: #808000; text-decoration-color: #808000\">'KerasModel'</span>):                                            <span style=\"color: #800000; text-decoration-color: #800000\">│</span>\n<span style=\"color: #800000; text-decoration-color: #800000\">│</span>   <span style=\"color: #7f7f7f; text-decoration-color: #7f7f7f\">246 </span><span style=\"color: #7f7f7f; text-decoration-color: #7f7f7f\">│   │   </span><span style=\"color: #0000ff; text-decoration-color: #0000ff\">pass</span>                                                                               <span style=\"color: #800000; text-decoration-color: #800000\">│</span>\n<span style=\"color: #800000; text-decoration-color: #800000\">│</span>                                                                                                  <span style=\"color: #800000; text-decoration-color: #800000\">│</span>\n<span style=\"color: #800000; text-decoration-color: #800000\">│</span> in <span style=\"color: #00ff00; text-decoration-color: #00ff00\">display_fn</span>:<span style=\"color: #0000ff; text-decoration-color: #0000ff\">6</span>                                                                                  <span style=\"color: #800000; text-decoration-color: #800000\">│</span>\n<span style=\"color: #800000; text-decoration-color: #800000\">│</span>                                                                                                  <span style=\"color: #800000; text-decoration-color: #800000\">│</span>\n<span style=\"color: #800000; text-decoration-color: #800000\">│</span>   <span style=\"color: #7f7f7f; text-decoration-color: #7f7f7f\"> 3 </span><span style=\"color: #7f7f7f; text-decoration-color: #7f7f7f\">│   </span>right = <span style=\"color: #0000ff; text-decoration-color: #0000ff\">True</span>                                                                            <span style=\"color: #800000; text-decoration-color: #800000\">│</span>\n<span style=\"color: #800000; text-decoration-color: #800000\">│</span>   <span style=\"color: #7f7f7f; text-decoration-color: #7f7f7f\"> 4 </span><span style=\"color: #7f7f7f; text-decoration-color: #7f7f7f\">│   </span><span style=\"color: #0000ff; text-decoration-color: #0000ff\">while</span> right:                                                                            <span style=\"color: #800000; text-decoration-color: #800000\">│</span>\n<span style=\"color: #800000; text-decoration-color: #800000\">│</span>   <span style=\"color: #7f7f7f; text-decoration-color: #7f7f7f\"> 5 </span><span style=\"color: #7f7f7f; text-decoration-color: #7f7f7f\">│   │   </span>image, target, input_length, label_length = ds_test[<span style=\"color: #0000ff; text-decoration-color: #0000ff\">0</span>]                              <span style=\"color: #800000; text-decoration-color: #800000\">│</span>\n<span style=\"color: #800000; text-decoration-color: #800000\">│</span> <span style=\"color: #800000; text-decoration-color: #800000\">❱ </span> 6 <span style=\"color: #7f7f7f; text-decoration-color: #7f7f7f\">│   │   </span>output = model(image.unsqueeze(<span style=\"color: #0000ff; text-decoration-color: #0000ff\">0</span>).cuda())                                           <span style=\"color: #800000; text-decoration-color: #800000\">│</span>\n<span style=\"color: #800000; text-decoration-color: #800000\">│</span>   <span style=\"color: #7f7f7f; text-decoration-color: #7f7f7f\"> 7 </span><span style=\"color: #7f7f7f; text-decoration-color: #7f7f7f\">│   │   </span>output_argmax = output.detach().permute(<span style=\"color: #0000ff; text-decoration-color: #0000ff\">1</span>, <span style=\"color: #0000ff; text-decoration-color: #0000ff\">0</span>, <span style=\"color: #0000ff; text-decoration-color: #0000ff\">2</span>).argmax(dim=-<span style=\"color: #0000ff; text-decoration-color: #0000ff\">1</span>)                     <span style=\"color: #800000; text-decoration-color: #800000\">│</span>\n<span style=\"color: #800000; text-decoration-color: #800000\">│</span>   <span style=\"color: #7f7f7f; text-decoration-color: #7f7f7f\"> 8 </span><span style=\"color: #7f7f7f; text-decoration-color: #7f7f7f\">│   │   </span>                                                                                    <span style=\"color: #800000; text-decoration-color: #800000\">│</span>\n<span style=\"color: #800000; text-decoration-color: #800000\">│</span>   <span style=\"color: #7f7f7f; text-decoration-color: #7f7f7f\"> 9 </span><span style=\"color: #7f7f7f; text-decoration-color: #7f7f7f\">│   │   </span>right = (decode_target(target) == decode(output_argmax[<span style=\"color: #0000ff; text-decoration-color: #0000ff\">0</span>]))                         <span style=\"color: #800000; text-decoration-color: #800000\">│</span>\n<span style=\"color: #800000; text-decoration-color: #800000\">│</span>                                                                                                  <span style=\"color: #800000; text-decoration-color: #800000\">│</span>\n<span style=\"color: #800000; text-decoration-color: #800000\">│</span> <span style=\"color: #bfbf7f; text-decoration-color: #bfbf7f\">/usr/local/lib/python3.8/dist-packages/torch/nn/modules/</span><span style=\"color: #808000; text-decoration-color: #808000; font-weight: bold\">module.py</span>:<span style=\"color: #0000ff; text-decoration-color: #0000ff\">1501</span> in <span style=\"color: #00ff00; text-decoration-color: #00ff00\">_call_impl</span>             <span style=\"color: #800000; text-decoration-color: #800000\">│</span>\n<span style=\"color: #800000; text-decoration-color: #800000\">│</span>                                                                                                  <span style=\"color: #800000; text-decoration-color: #800000\">│</span>\n<span style=\"color: #800000; text-decoration-color: #800000\">│</span>   <span style=\"color: #7f7f7f; text-decoration-color: #7f7f7f\">1498 </span><span style=\"color: #7f7f7f; text-decoration-color: #7f7f7f\">│   │   </span><span style=\"color: #0000ff; text-decoration-color: #0000ff\">if</span> <span style=\"color: #ff00ff; text-decoration-color: #ff00ff\">not</span> (<span style=\"color: #00ffff; text-decoration-color: #00ffff\">self</span>._backward_hooks <span style=\"color: #ff00ff; text-decoration-color: #ff00ff\">or</span> <span style=\"color: #00ffff; text-decoration-color: #00ffff\">self</span>._backward_pre_hooks <span style=\"color: #ff00ff; text-decoration-color: #ff00ff\">or</span> <span style=\"color: #00ffff; text-decoration-color: #00ffff\">self</span>._forward_hooks   <span style=\"color: #800000; text-decoration-color: #800000\">│</span>\n<span style=\"color: #800000; text-decoration-color: #800000\">│</span>   <span style=\"color: #7f7f7f; text-decoration-color: #7f7f7f\">1499 </span><span style=\"color: #7f7f7f; text-decoration-color: #7f7f7f\">│   │   │   │   </span><span style=\"color: #ff00ff; text-decoration-color: #ff00ff\">or</span> _global_backward_pre_hooks <span style=\"color: #ff00ff; text-decoration-color: #ff00ff\">or</span> _global_backward_hooks                   <span style=\"color: #800000; text-decoration-color: #800000\">│</span>\n<span style=\"color: #800000; text-decoration-color: #800000\">│</span>   <span style=\"color: #7f7f7f; text-decoration-color: #7f7f7f\">1500 </span><span style=\"color: #7f7f7f; text-decoration-color: #7f7f7f\">│   │   │   │   </span><span style=\"color: #ff00ff; text-decoration-color: #ff00ff\">or</span> _global_forward_hooks <span style=\"color: #ff00ff; text-decoration-color: #ff00ff\">or</span> _global_forward_pre_hooks):                   <span style=\"color: #800000; text-decoration-color: #800000\">│</span>\n<span style=\"color: #800000; text-decoration-color: #800000\">│</span> <span style=\"color: #800000; text-decoration-color: #800000\">❱ </span>1501 <span style=\"color: #7f7f7f; text-decoration-color: #7f7f7f\">│   │   │   </span><span style=\"color: #0000ff; text-decoration-color: #0000ff\">return</span> forward_call(*args, **kwargs)                                          <span style=\"color: #800000; text-decoration-color: #800000\">│</span>\n<span style=\"color: #800000; text-decoration-color: #800000\">│</span>   <span style=\"color: #7f7f7f; text-decoration-color: #7f7f7f\">1502 </span><span style=\"color: #7f7f7f; text-decoration-color: #7f7f7f\">│   │   </span><span style=\"color: #7f7f7f; text-decoration-color: #7f7f7f\"># Do not call functions when jit is used</span>                                          <span style=\"color: #800000; text-decoration-color: #800000\">│</span>\n<span style=\"color: #800000; text-decoration-color: #800000\">│</span>   <span style=\"color: #7f7f7f; text-decoration-color: #7f7f7f\">1503 </span><span style=\"color: #7f7f7f; text-decoration-color: #7f7f7f\">│   │   </span>full_backward_hooks, non_full_backward_hooks = [], []                             <span style=\"color: #800000; text-decoration-color: #800000\">│</span>\n<span style=\"color: #800000; text-decoration-color: #800000\">│</span>   <span style=\"color: #7f7f7f; text-decoration-color: #7f7f7f\">1504 </span><span style=\"color: #7f7f7f; text-decoration-color: #7f7f7f\">│   │   </span>backward_pre_hooks = []                                                           <span style=\"color: #800000; text-decoration-color: #800000\">│</span>\n<span style=\"color: #800000; text-decoration-color: #800000\">│</span>                                                                                                  <span style=\"color: #800000; text-decoration-color: #800000\">│</span>\n<span style=\"color: #800000; text-decoration-color: #800000\">│</span> <span style=\"color: #bfbf7f; text-decoration-color: #bfbf7f\">/usr/local/lib/python3.8/dist-packages/torchkeras/</span><span style=\"color: #808000; text-decoration-color: #808000; font-weight: bold\">kerasmodel.py</span>:<span style=\"color: #0000ff; text-decoration-color: #0000ff\">114</span> in <span style=\"color: #00ff00; text-decoration-color: #00ff00\">forward</span>                   <span style=\"color: #800000; text-decoration-color: #800000\">│</span>\n<span style=\"color: #800000; text-decoration-color: #800000\">│</span>                                                                                                  <span style=\"color: #800000; text-decoration-color: #800000\">│</span>\n<span style=\"color: #800000; text-decoration-color: #800000\">│</span>   <span style=\"color: #7f7f7f; text-decoration-color: #7f7f7f\">111 </span><span style=\"color: #7f7f7f; text-decoration-color: #7f7f7f\">│   │   </span><span style=\"color: #00ffff; text-decoration-color: #00ffff\">self</span>.from_scratch = <span style=\"color: #0000ff; text-decoration-color: #0000ff\">False</span>                                                          <span style=\"color: #800000; text-decoration-color: #800000\">│</span>\n<span style=\"color: #800000; text-decoration-color: #800000\">│</span>   <span style=\"color: #7f7f7f; text-decoration-color: #7f7f7f\">112 </span><span style=\"color: #7f7f7f; text-decoration-color: #7f7f7f\">│   </span>                                                                                       <span style=\"color: #800000; text-decoration-color: #800000\">│</span>\n<span style=\"color: #800000; text-decoration-color: #800000\">│</span>   <span style=\"color: #7f7f7f; text-decoration-color: #7f7f7f\">113 </span><span style=\"color: #7f7f7f; text-decoration-color: #7f7f7f\">│   </span><span style=\"color: #0000ff; text-decoration-color: #0000ff\">def</span> <span style=\"color: #00ff00; text-decoration-color: #00ff00\">forward</span>(<span style=\"color: #00ffff; text-decoration-color: #00ffff\">self</span>, x):                                                                  <span style=\"color: #800000; text-decoration-color: #800000\">│</span>\n<span style=\"color: #800000; text-decoration-color: #800000\">│</span> <span style=\"color: #800000; text-decoration-color: #800000\">❱ </span>114 <span style=\"color: #7f7f7f; text-decoration-color: #7f7f7f\">│   │   </span><span style=\"color: #0000ff; text-decoration-color: #0000ff\">return</span> <span style=\"color: #00ffff; text-decoration-color: #00ffff\">self</span>.net.forward(x)                                                         <span style=\"color: #800000; text-decoration-color: #800000\">│</span>\n<span style=\"color: #800000; text-decoration-color: #800000\">│</span>   <span style=\"color: #7f7f7f; text-decoration-color: #7f7f7f\">115 </span><span style=\"color: #7f7f7f; text-decoration-color: #7f7f7f\">│   </span>                                                                                       <span style=\"color: #800000; text-decoration-color: #800000\">│</span>\n<span style=\"color: #800000; text-decoration-color: #800000\">│</span>   <span style=\"color: #7f7f7f; text-decoration-color: #7f7f7f\">116 </span><span style=\"color: #7f7f7f; text-decoration-color: #7f7f7f\">│   </span><span style=\"color: #0000ff; text-decoration-color: #0000ff\">def</span> <span style=\"color: #00ff00; text-decoration-color: #00ff00\">fit</span>(<span style=\"color: #00ffff; text-decoration-color: #00ffff\">self</span>, train_data, val_data=<span style=\"color: #0000ff; text-decoration-color: #0000ff\">None</span>, epochs=<span style=\"color: #0000ff; text-decoration-color: #0000ff\">10</span>, ckpt_path=<span style=\"color: #808000; text-decoration-color: #808000\">'checkpoint.pt'</span>,         <span style=\"color: #800000; text-decoration-color: #800000\">│</span>\n<span style=\"color: #800000; text-decoration-color: #800000\">│</span>   <span style=\"color: #7f7f7f; text-decoration-color: #7f7f7f\">117 </span><span style=\"color: #7f7f7f; text-decoration-color: #7f7f7f\">│   │   │   </span>patience=<span style=\"color: #0000ff; text-decoration-color: #0000ff\">5</span>, monitor=<span style=\"color: #808000; text-decoration-color: #808000\">\"val_loss\"</span>, mode=<span style=\"color: #808000; text-decoration-color: #808000\">\"min\"</span>, callbacks=<span style=\"color: #0000ff; text-decoration-color: #0000ff\">None</span>, plot=<span style=\"color: #0000ff; text-decoration-color: #0000ff\">True</span>, wandb   <span style=\"color: #800000; text-decoration-color: #800000\">│</span>\n<span style=\"color: #800000; text-decoration-color: #800000\">│</span>                                                                                                  <span style=\"color: #800000; text-decoration-color: #800000\">│</span>\n<span style=\"color: #800000; text-decoration-color: #800000\">│</span> in <span style=\"color: #00ff00; text-decoration-color: #00ff00\">forward</span>:<span style=\"color: #0000ff; text-decoration-color: #0000ff\">37</span>                                                                                    <span style=\"color: #800000; text-decoration-color: #800000\">│</span>\n<span style=\"color: #800000; text-decoration-color: #800000\">│</span>                                                                                                  <span style=\"color: #800000; text-decoration-color: #800000\">│</span>\n<span style=\"color: #800000; text-decoration-color: #800000\">│</span>   <span style=\"color: #7f7f7f; text-decoration-color: #7f7f7f\">34 </span><span style=\"color: #7f7f7f; text-decoration-color: #7f7f7f\">│   </span>                                                                                        <span style=\"color: #800000; text-decoration-color: #800000\">│</span>\n<span style=\"color: #800000; text-decoration-color: #800000\">│</span>   <span style=\"color: #7f7f7f; text-decoration-color: #7f7f7f\">35 </span><span style=\"color: #7f7f7f; text-decoration-color: #7f7f7f\">│   </span>                                                                                        <span style=\"color: #800000; text-decoration-color: #800000\">│</span>\n<span style=\"color: #800000; text-decoration-color: #800000\">│</span>   <span style=\"color: #7f7f7f; text-decoration-color: #7f7f7f\">36 </span><span style=\"color: #7f7f7f; text-decoration-color: #7f7f7f\">│   </span><span style=\"color: #0000ff; text-decoration-color: #0000ff\">def</span> <span style=\"color: #00ff00; text-decoration-color: #00ff00\">forward</span>(<span style=\"color: #00ffff; text-decoration-color: #00ffff\">self</span>, x):                                                                   <span style=\"color: #800000; text-decoration-color: #800000\">│</span>\n<span style=\"color: #800000; text-decoration-color: #800000\">│</span> <span style=\"color: #800000; text-decoration-color: #800000\">❱ </span>37 <span style=\"color: #7f7f7f; text-decoration-color: #7f7f7f\">│   │   </span>x = <span style=\"color: #00ffff; text-decoration-color: #00ffff\">self</span>.cnn(x)                                                                     <span style=\"color: #800000; text-decoration-color: #800000\">│</span>\n<span style=\"color: #800000; text-decoration-color: #800000\">│</span>   <span style=\"color: #7f7f7f; text-decoration-color: #7f7f7f\">38 </span><span style=\"color: #7f7f7f; text-decoration-color: #7f7f7f\">│   │   </span>x = x.reshape(x.shape[<span style=\"color: #0000ff; text-decoration-color: #0000ff\">0</span>], -<span style=\"color: #0000ff; text-decoration-color: #0000ff\">1</span>, x.shape[-<span style=\"color: #0000ff; text-decoration-color: #0000ff\">1</span>])                                          <span style=\"color: #800000; text-decoration-color: #800000\">│</span>\n<span style=\"color: #800000; text-decoration-color: #800000\">│</span>   <span style=\"color: #7f7f7f; text-decoration-color: #7f7f7f\">39 </span><span style=\"color: #7f7f7f; text-decoration-color: #7f7f7f\">│   │   </span>x = x.permute(<span style=\"color: #0000ff; text-decoration-color: #0000ff\">2</span>, <span style=\"color: #0000ff; text-decoration-color: #0000ff\">0</span>, <span style=\"color: #0000ff; text-decoration-color: #0000ff\">1</span>)                                                              <span style=\"color: #800000; text-decoration-color: #800000\">│</span>\n<span style=\"color: #800000; text-decoration-color: #800000\">│</span>   <span style=\"color: #7f7f7f; text-decoration-color: #7f7f7f\">40 </span><span style=\"color: #7f7f7f; text-decoration-color: #7f7f7f\">│   │   </span>x, _ = <span style=\"color: #00ffff; text-decoration-color: #00ffff\">self</span>.lstm(x)                                                                 <span style=\"color: #800000; text-decoration-color: #800000\">│</span>\n<span style=\"color: #800000; text-decoration-color: #800000\">│</span>                                                                                                  <span style=\"color: #800000; text-decoration-color: #800000\">│</span>\n<span style=\"color: #800000; text-decoration-color: #800000\">│</span> <span style=\"color: #bfbf7f; text-decoration-color: #bfbf7f\">/usr/local/lib/python3.8/dist-packages/torch/nn/modules/</span><span style=\"color: #808000; text-decoration-color: #808000; font-weight: bold\">module.py</span>:<span style=\"color: #0000ff; text-decoration-color: #0000ff\">1501</span> in <span style=\"color: #00ff00; text-decoration-color: #00ff00\">_call_impl</span>             <span style=\"color: #800000; text-decoration-color: #800000\">│</span>\n<span style=\"color: #800000; text-decoration-color: #800000\">│</span>                                                                                                  <span style=\"color: #800000; text-decoration-color: #800000\">│</span>\n<span style=\"color: #800000; text-decoration-color: #800000\">│</span>   <span style=\"color: #7f7f7f; text-decoration-color: #7f7f7f\">1498 </span><span style=\"color: #7f7f7f; text-decoration-color: #7f7f7f\">│   │   </span><span style=\"color: #0000ff; text-decoration-color: #0000ff\">if</span> <span style=\"color: #ff00ff; text-decoration-color: #ff00ff\">not</span> (<span style=\"color: #00ffff; text-decoration-color: #00ffff\">self</span>._backward_hooks <span style=\"color: #ff00ff; text-decoration-color: #ff00ff\">or</span> <span style=\"color: #00ffff; text-decoration-color: #00ffff\">self</span>._backward_pre_hooks <span style=\"color: #ff00ff; text-decoration-color: #ff00ff\">or</span> <span style=\"color: #00ffff; text-decoration-color: #00ffff\">self</span>._forward_hooks   <span style=\"color: #800000; text-decoration-color: #800000\">│</span>\n<span style=\"color: #800000; text-decoration-color: #800000\">│</span>   <span style=\"color: #7f7f7f; text-decoration-color: #7f7f7f\">1499 </span><span style=\"color: #7f7f7f; text-decoration-color: #7f7f7f\">│   │   │   │   </span><span style=\"color: #ff00ff; text-decoration-color: #ff00ff\">or</span> _global_backward_pre_hooks <span style=\"color: #ff00ff; text-decoration-color: #ff00ff\">or</span> _global_backward_hooks                   <span style=\"color: #800000; text-decoration-color: #800000\">│</span>\n<span style=\"color: #800000; text-decoration-color: #800000\">│</span>   <span style=\"color: #7f7f7f; text-decoration-color: #7f7f7f\">1500 </span><span style=\"color: #7f7f7f; text-decoration-color: #7f7f7f\">│   │   │   │   </span><span style=\"color: #ff00ff; text-decoration-color: #ff00ff\">or</span> _global_forward_hooks <span style=\"color: #ff00ff; text-decoration-color: #ff00ff\">or</span> _global_forward_pre_hooks):                   <span style=\"color: #800000; text-decoration-color: #800000\">│</span>\n<span style=\"color: #800000; text-decoration-color: #800000\">│</span> <span style=\"color: #800000; text-decoration-color: #800000\">❱ </span>1501 <span style=\"color: #7f7f7f; text-decoration-color: #7f7f7f\">│   │   │   </span><span style=\"color: #0000ff; text-decoration-color: #0000ff\">return</span> forward_call(*args, **kwargs)                                          <span style=\"color: #800000; text-decoration-color: #800000\">│</span>\n<span style=\"color: #800000; text-decoration-color: #800000\">│</span>   <span style=\"color: #7f7f7f; text-decoration-color: #7f7f7f\">1502 </span><span style=\"color: #7f7f7f; text-decoration-color: #7f7f7f\">│   │   </span><span style=\"color: #7f7f7f; text-decoration-color: #7f7f7f\"># Do not call functions when jit is used</span>                                          <span style=\"color: #800000; text-decoration-color: #800000\">│</span>\n<span style=\"color: #800000; text-decoration-color: #800000\">│</span>   <span style=\"color: #7f7f7f; text-decoration-color: #7f7f7f\">1503 </span><span style=\"color: #7f7f7f; text-decoration-color: #7f7f7f\">│   │   </span>full_backward_hooks, non_full_backward_hooks = [], []                             <span style=\"color: #800000; text-decoration-color: #800000\">│</span>\n<span style=\"color: #800000; text-decoration-color: #800000\">│</span>   <span style=\"color: #7f7f7f; text-decoration-color: #7f7f7f\">1504 </span><span style=\"color: #7f7f7f; text-decoration-color: #7f7f7f\">│   │   </span>backward_pre_hooks = []                                                           <span style=\"color: #800000; text-decoration-color: #800000\">│</span>\n<span style=\"color: #800000; text-decoration-color: #800000\">│</span>                                                                                                  <span style=\"color: #800000; text-decoration-color: #800000\">│</span>\n<span style=\"color: #800000; text-decoration-color: #800000\">│</span> <span style=\"color: #bfbf7f; text-decoration-color: #bfbf7f\">/usr/local/lib/python3.8/dist-packages/torch/nn/modules/</span><span style=\"color: #808000; text-decoration-color: #808000; font-weight: bold\">container.py</span>:<span style=\"color: #0000ff; text-decoration-color: #0000ff\">217</span> in <span style=\"color: #00ff00; text-decoration-color: #00ff00\">forward</span>              <span style=\"color: #800000; text-decoration-color: #800000\">│</span>\n<span style=\"color: #800000; text-decoration-color: #800000\">│</span>                                                                                                  <span style=\"color: #800000; text-decoration-color: #800000\">│</span>\n<span style=\"color: #800000; text-decoration-color: #800000\">│</span>   <span style=\"color: #7f7f7f; text-decoration-color: #7f7f7f\">214 </span><span style=\"color: #7f7f7f; text-decoration-color: #7f7f7f\">│   </span><span style=\"color: #7f7f7f; text-decoration-color: #7f7f7f\"># with Any as TorchScript expects a more precise type</span>                                  <span style=\"color: #800000; text-decoration-color: #800000\">│</span>\n<span style=\"color: #800000; text-decoration-color: #800000\">│</span>   <span style=\"color: #7f7f7f; text-decoration-color: #7f7f7f\">215 </span><span style=\"color: #7f7f7f; text-decoration-color: #7f7f7f\">│   </span><span style=\"color: #0000ff; text-decoration-color: #0000ff\">def</span> <span style=\"color: #00ff00; text-decoration-color: #00ff00\">forward</span>(<span style=\"color: #00ffff; text-decoration-color: #00ffff\">self</span>, <span style=\"color: #00ffff; text-decoration-color: #00ffff\">input</span>):                                                              <span style=\"color: #800000; text-decoration-color: #800000\">│</span>\n<span style=\"color: #800000; text-decoration-color: #800000\">│</span>   <span style=\"color: #7f7f7f; text-decoration-color: #7f7f7f\">216 </span><span style=\"color: #7f7f7f; text-decoration-color: #7f7f7f\">│   │   </span><span style=\"color: #0000ff; text-decoration-color: #0000ff\">for</span> module <span style=\"color: #ff00ff; text-decoration-color: #ff00ff\">in</span> <span style=\"color: #00ffff; text-decoration-color: #00ffff\">self</span>:                                                                <span style=\"color: #800000; text-decoration-color: #800000\">│</span>\n<span style=\"color: #800000; text-decoration-color: #800000\">│</span> <span style=\"color: #800000; text-decoration-color: #800000\">❱ </span>217 <span style=\"color: #7f7f7f; text-decoration-color: #7f7f7f\">│   │   │   </span><span style=\"color: #00ffff; text-decoration-color: #00ffff\">input</span> = module(<span style=\"color: #00ffff; text-decoration-color: #00ffff\">input</span>)                                                          <span style=\"color: #800000; text-decoration-color: #800000\">│</span>\n<span style=\"color: #800000; text-decoration-color: #800000\">│</span>   <span style=\"color: #7f7f7f; text-decoration-color: #7f7f7f\">218 </span><span style=\"color: #7f7f7f; text-decoration-color: #7f7f7f\">│   │   </span><span style=\"color: #0000ff; text-decoration-color: #0000ff\">return</span> <span style=\"color: #00ffff; text-decoration-color: #00ffff\">input</span>                                                                       <span style=\"color: #800000; text-decoration-color: #800000\">│</span>\n<span style=\"color: #800000; text-decoration-color: #800000\">│</span>   <span style=\"color: #7f7f7f; text-decoration-color: #7f7f7f\">219 </span><span style=\"color: #7f7f7f; text-decoration-color: #7f7f7f\">│   </span>                                                                                       <span style=\"color: #800000; text-decoration-color: #800000\">│</span>\n<span style=\"color: #800000; text-decoration-color: #800000\">│</span>   <span style=\"color: #7f7f7f; text-decoration-color: #7f7f7f\">220 </span><span style=\"color: #7f7f7f; text-decoration-color: #7f7f7f\">│   </span><span style=\"color: #0000ff; text-decoration-color: #0000ff\">def</span> <span style=\"color: #00ff00; text-decoration-color: #00ff00\">append</span>(<span style=\"color: #00ffff; text-decoration-color: #00ffff\">self</span>, module: Module) -&gt; <span style=\"color: #808000; text-decoration-color: #808000\">'Sequential'</span>:                                      <span style=\"color: #800000; text-decoration-color: #800000\">│</span>\n<span style=\"color: #800000; text-decoration-color: #800000\">│</span>                                                                                                  <span style=\"color: #800000; text-decoration-color: #800000\">│</span>\n<span style=\"color: #800000; text-decoration-color: #800000\">│</span> <span style=\"color: #bfbf7f; text-decoration-color: #bfbf7f\">/usr/local/lib/python3.8/dist-packages/torch/nn/modules/</span><span style=\"color: #808000; text-decoration-color: #808000; font-weight: bold\">module.py</span>:<span style=\"color: #0000ff; text-decoration-color: #0000ff\">1501</span> in <span style=\"color: #00ff00; text-decoration-color: #00ff00\">_call_impl</span>             <span style=\"color: #800000; text-decoration-color: #800000\">│</span>\n<span style=\"color: #800000; text-decoration-color: #800000\">│</span>                                                                                                  <span style=\"color: #800000; text-decoration-color: #800000\">│</span>\n<span style=\"color: #800000; text-decoration-color: #800000\">│</span>   <span style=\"color: #7f7f7f; text-decoration-color: #7f7f7f\">1498 </span><span style=\"color: #7f7f7f; text-decoration-color: #7f7f7f\">│   │   </span><span style=\"color: #0000ff; text-decoration-color: #0000ff\">if</span> <span style=\"color: #ff00ff; text-decoration-color: #ff00ff\">not</span> (<span style=\"color: #00ffff; text-decoration-color: #00ffff\">self</span>._backward_hooks <span style=\"color: #ff00ff; text-decoration-color: #ff00ff\">or</span> <span style=\"color: #00ffff; text-decoration-color: #00ffff\">self</span>._backward_pre_hooks <span style=\"color: #ff00ff; text-decoration-color: #ff00ff\">or</span> <span style=\"color: #00ffff; text-decoration-color: #00ffff\">self</span>._forward_hooks   <span style=\"color: #800000; text-decoration-color: #800000\">│</span>\n<span style=\"color: #800000; text-decoration-color: #800000\">│</span>   <span style=\"color: #7f7f7f; text-decoration-color: #7f7f7f\">1499 </span><span style=\"color: #7f7f7f; text-decoration-color: #7f7f7f\">│   │   │   │   </span><span style=\"color: #ff00ff; text-decoration-color: #ff00ff\">or</span> _global_backward_pre_hooks <span style=\"color: #ff00ff; text-decoration-color: #ff00ff\">or</span> _global_backward_hooks                   <span style=\"color: #800000; text-decoration-color: #800000\">│</span>\n<span style=\"color: #800000; text-decoration-color: #800000\">│</span>   <span style=\"color: #7f7f7f; text-decoration-color: #7f7f7f\">1500 </span><span style=\"color: #7f7f7f; text-decoration-color: #7f7f7f\">│   │   │   │   </span><span style=\"color: #ff00ff; text-decoration-color: #ff00ff\">or</span> _global_forward_hooks <span style=\"color: #ff00ff; text-decoration-color: #ff00ff\">or</span> _global_forward_pre_hooks):                   <span style=\"color: #800000; text-decoration-color: #800000\">│</span>\n<span style=\"color: #800000; text-decoration-color: #800000\">│</span> <span style=\"color: #800000; text-decoration-color: #800000\">❱ </span>1501 <span style=\"color: #7f7f7f; text-decoration-color: #7f7f7f\">│   │   │   </span><span style=\"color: #0000ff; text-decoration-color: #0000ff\">return</span> forward_call(*args, **kwargs)                                          <span style=\"color: #800000; text-decoration-color: #800000\">│</span>\n<span style=\"color: #800000; text-decoration-color: #800000\">│</span>   <span style=\"color: #7f7f7f; text-decoration-color: #7f7f7f\">1502 </span><span style=\"color: #7f7f7f; text-decoration-color: #7f7f7f\">│   │   </span><span style=\"color: #7f7f7f; text-decoration-color: #7f7f7f\"># Do not call functions when jit is used</span>                                          <span style=\"color: #800000; text-decoration-color: #800000\">│</span>\n<span style=\"color: #800000; text-decoration-color: #800000\">│</span>   <span style=\"color: #7f7f7f; text-decoration-color: #7f7f7f\">1503 </span><span style=\"color: #7f7f7f; text-decoration-color: #7f7f7f\">│   │   </span>full_backward_hooks, non_full_backward_hooks = [], []                             <span style=\"color: #800000; text-decoration-color: #800000\">│</span>\n<span style=\"color: #800000; text-decoration-color: #800000\">│</span>   <span style=\"color: #7f7f7f; text-decoration-color: #7f7f7f\">1504 </span><span style=\"color: #7f7f7f; text-decoration-color: #7f7f7f\">│   │   </span>backward_pre_hooks = []                                                           <span style=\"color: #800000; text-decoration-color: #800000\">│</span>\n<span style=\"color: #800000; text-decoration-color: #800000\">│</span>                                                                                                  <span style=\"color: #800000; text-decoration-color: #800000\">│</span>\n<span style=\"color: #800000; text-decoration-color: #800000\">│</span> <span style=\"color: #bfbf7f; text-decoration-color: #bfbf7f\">/usr/local/lib/python3.8/dist-packages/torch/nn/modules/</span><span style=\"color: #808000; text-decoration-color: #808000; font-weight: bold\">conv.py</span>:<span style=\"color: #0000ff; text-decoration-color: #0000ff\">463</span> in <span style=\"color: #00ff00; text-decoration-color: #00ff00\">forward</span>                   <span style=\"color: #800000; text-decoration-color: #800000\">│</span>\n<span style=\"color: #800000; text-decoration-color: #800000\">│</span>                                                                                                  <span style=\"color: #800000; text-decoration-color: #800000\">│</span>\n<span style=\"color: #800000; text-decoration-color: #800000\">│</span>   <span style=\"color: #7f7f7f; text-decoration-color: #7f7f7f\"> 460 </span><span style=\"color: #7f7f7f; text-decoration-color: #7f7f7f\">│   │   │   │   │   │   </span><span style=\"color: #00ffff; text-decoration-color: #00ffff\">self</span>.padding, <span style=\"color: #00ffff; text-decoration-color: #00ffff\">self</span>.dilation, <span style=\"color: #00ffff; text-decoration-color: #00ffff\">self</span>.groups)                         <span style=\"color: #800000; text-decoration-color: #800000\">│</span>\n<span style=\"color: #800000; text-decoration-color: #800000\">│</span>   <span style=\"color: #7f7f7f; text-decoration-color: #7f7f7f\"> 461 </span><span style=\"color: #7f7f7f; text-decoration-color: #7f7f7f\">│   </span>                                                                                      <span style=\"color: #800000; text-decoration-color: #800000\">│</span>\n<span style=\"color: #800000; text-decoration-color: #800000\">│</span>   <span style=\"color: #7f7f7f; text-decoration-color: #7f7f7f\"> 462 </span><span style=\"color: #7f7f7f; text-decoration-color: #7f7f7f\">│   </span><span style=\"color: #0000ff; text-decoration-color: #0000ff\">def</span> <span style=\"color: #00ff00; text-decoration-color: #00ff00\">forward</span>(<span style=\"color: #00ffff; text-decoration-color: #00ffff\">self</span>, <span style=\"color: #00ffff; text-decoration-color: #00ffff\">input</span>: Tensor) -&gt; Tensor:                                           <span style=\"color: #800000; text-decoration-color: #800000\">│</span>\n<span style=\"color: #800000; text-decoration-color: #800000\">│</span> <span style=\"color: #800000; text-decoration-color: #800000\">❱ </span> 463 <span style=\"color: #7f7f7f; text-decoration-color: #7f7f7f\">│   │   </span><span style=\"color: #0000ff; text-decoration-color: #0000ff\">return</span> <span style=\"color: #00ffff; text-decoration-color: #00ffff\">self</span>._conv_forward(<span style=\"color: #00ffff; text-decoration-color: #00ffff\">input</span>, <span style=\"color: #00ffff; text-decoration-color: #00ffff\">self</span>.weight, <span style=\"color: #00ffff; text-decoration-color: #00ffff\">self</span>.bias)                          <span style=\"color: #800000; text-decoration-color: #800000\">│</span>\n<span style=\"color: #800000; text-decoration-color: #800000\">│</span>   <span style=\"color: #7f7f7f; text-decoration-color: #7f7f7f\"> 464 </span>                                                                                          <span style=\"color: #800000; text-decoration-color: #800000\">│</span>\n<span style=\"color: #800000; text-decoration-color: #800000\">│</span>   <span style=\"color: #7f7f7f; text-decoration-color: #7f7f7f\"> 465 </span><span style=\"color: #0000ff; text-decoration-color: #0000ff\">class</span> <span style=\"color: #00ff00; text-decoration-color: #00ff00; text-decoration: underline\">Conv3d</span>(_ConvNd):                                                                    <span style=\"color: #800000; text-decoration-color: #800000\">│</span>\n<span style=\"color: #800000; text-decoration-color: #800000\">│</span>   <span style=\"color: #7f7f7f; text-decoration-color: #7f7f7f\"> 466 </span><span style=\"color: #7f7f7f; text-decoration-color: #7f7f7f\">│   </span><span style=\"color: #ff0000; text-decoration-color: #ff0000\">__doc__</span> = <span style=\"color: #808000; text-decoration-color: #808000\">r\"\"\"Applies a 3D convolution over an input signal composed of several inpu</span>  <span style=\"color: #800000; text-decoration-color: #800000\">│</span>\n<span style=\"color: #800000; text-decoration-color: #800000\">│</span>                                                                                                  <span style=\"color: #800000; text-decoration-color: #800000\">│</span>\n<span style=\"color: #800000; text-decoration-color: #800000\">│</span> <span style=\"color: #bfbf7f; text-decoration-color: #bfbf7f\">/usr/local/lib/python3.8/dist-packages/torch/nn/modules/</span><span style=\"color: #808000; text-decoration-color: #808000; font-weight: bold\">conv.py</span>:<span style=\"color: #0000ff; text-decoration-color: #0000ff\">459</span> in <span style=\"color: #00ff00; text-decoration-color: #00ff00\">_conv_forward</span>             <span style=\"color: #800000; text-decoration-color: #800000\">│</span>\n<span style=\"color: #800000; text-decoration-color: #800000\">│</span>                                                                                                  <span style=\"color: #800000; text-decoration-color: #800000\">│</span>\n<span style=\"color: #800000; text-decoration-color: #800000\">│</span>   <span style=\"color: #7f7f7f; text-decoration-color: #7f7f7f\"> 456 </span><span style=\"color: #7f7f7f; text-decoration-color: #7f7f7f\">│   │   │   </span><span style=\"color: #0000ff; text-decoration-color: #0000ff\">return</span> F.conv2d(F.pad(<span style=\"color: #00ffff; text-decoration-color: #00ffff\">input</span>, <span style=\"color: #00ffff; text-decoration-color: #00ffff\">self</span>._reversed_padding_repeated_twice, mode=<span style=\"color: #00ffff; text-decoration-color: #00ffff\">sel</span>  <span style=\"color: #800000; text-decoration-color: #800000\">│</span>\n<span style=\"color: #800000; text-decoration-color: #800000\">│</span>   <span style=\"color: #7f7f7f; text-decoration-color: #7f7f7f\"> 457 </span><span style=\"color: #7f7f7f; text-decoration-color: #7f7f7f\">│   │   │   │   │   │   │   </span>weight, bias, <span style=\"color: #00ffff; text-decoration-color: #00ffff\">self</span>.stride,                                    <span style=\"color: #800000; text-decoration-color: #800000\">│</span>\n<span style=\"color: #800000; text-decoration-color: #800000\">│</span>   <span style=\"color: #7f7f7f; text-decoration-color: #7f7f7f\"> 458 </span><span style=\"color: #7f7f7f; text-decoration-color: #7f7f7f\">│   │   │   │   │   │   │   </span>_pair(<span style=\"color: #0000ff; text-decoration-color: #0000ff\">0</span>), <span style=\"color: #00ffff; text-decoration-color: #00ffff\">self</span>.dilation, <span style=\"color: #00ffff; text-decoration-color: #00ffff\">self</span>.groups)                         <span style=\"color: #800000; text-decoration-color: #800000\">│</span>\n<span style=\"color: #800000; text-decoration-color: #800000\">│</span> <span style=\"color: #800000; text-decoration-color: #800000\">❱ </span> 459 <span style=\"color: #7f7f7f; text-decoration-color: #7f7f7f\">│   │   </span><span style=\"color: #0000ff; text-decoration-color: #0000ff\">return</span> F.conv2d(<span style=\"color: #00ffff; text-decoration-color: #00ffff\">input</span>, weight, bias, <span style=\"color: #00ffff; text-decoration-color: #00ffff\">self</span>.stride,                                 <span style=\"color: #800000; text-decoration-color: #800000\">│</span>\n<span style=\"color: #800000; text-decoration-color: #800000\">│</span>   <span style=\"color: #7f7f7f; text-decoration-color: #7f7f7f\"> 460 </span><span style=\"color: #7f7f7f; text-decoration-color: #7f7f7f\">│   │   │   │   │   │   </span><span style=\"color: #00ffff; text-decoration-color: #00ffff\">self</span>.padding, <span style=\"color: #00ffff; text-decoration-color: #00ffff\">self</span>.dilation, <span style=\"color: #00ffff; text-decoration-color: #00ffff\">self</span>.groups)                         <span style=\"color: #800000; text-decoration-color: #800000\">│</span>\n<span style=\"color: #800000; text-decoration-color: #800000\">│</span>   <span style=\"color: #7f7f7f; text-decoration-color: #7f7f7f\"> 461 </span><span style=\"color: #7f7f7f; text-decoration-color: #7f7f7f\">│   </span>                                                                                      <span style=\"color: #800000; text-decoration-color: #800000\">│</span>\n<span style=\"color: #800000; text-decoration-color: #800000\">│</span>   <span style=\"color: #7f7f7f; text-decoration-color: #7f7f7f\"> 462 </span><span style=\"color: #7f7f7f; text-decoration-color: #7f7f7f\">│   </span><span style=\"color: #0000ff; text-decoration-color: #0000ff\">def</span> <span style=\"color: #00ff00; text-decoration-color: #00ff00\">forward</span>(<span style=\"color: #00ffff; text-decoration-color: #00ffff\">self</span>, <span style=\"color: #00ffff; text-decoration-color: #00ffff\">input</span>: Tensor) -&gt; Tensor:                                           <span style=\"color: #800000; text-decoration-color: #800000\">│</span>\n<span style=\"color: #800000; text-decoration-color: #800000\">╰──────────────────────────────────────────────────────────────────────────────────────────────────╯</span>\n<span style=\"color: #ff0000; text-decoration-color: #ff0000; font-weight: bold\">RuntimeError: </span>Input type <span style=\"font-weight: bold\">(</span>torch.cuda.FloatTensor<span style=\"font-weight: bold\">)</span> and weight type <span style=\"font-weight: bold\">(</span>torch.FloatTensor<span style=\"font-weight: bold\">)</span> should be the same\n</pre>\n",
          "text/plain": "\u001b[31m╭─\u001b[0m\u001b[31m──────────────────────────────\u001b[0m\u001b[31m \u001b[0m\u001b[1;31mTraceback \u001b[0m\u001b[1;2;31m(most recent call last)\u001b[0m\u001b[31m \u001b[0m\u001b[31m───────────────────────────────\u001b[0m\u001b[31m─╮\u001b[0m\n\u001b[31m│\u001b[0m \u001b[2;33m/usr/local/lib/python3.8/dist-packages/torchkeras/\u001b[0m\u001b[1;33mkerascallbacks.py\u001b[0m:\u001b[94m243\u001b[0m in \u001b[92m__init__\u001b[0m              \u001b[31m│\u001b[0m\n\u001b[31m│\u001b[0m                                                                                                  \u001b[31m│\u001b[0m\n\u001b[31m│\u001b[0m   \u001b[2m240 \u001b[0m\u001b[2m│   │   \u001b[0mdisplay(\u001b[96mself\u001b[0m.out)                                                                  \u001b[31m│\u001b[0m\n\u001b[31m│\u001b[0m   \u001b[2m241 \u001b[0m\u001b[2m│   │   \u001b[0m\u001b[94mif\u001b[0m model \u001b[95mis\u001b[0m \u001b[95mnot\u001b[0m \u001b[94mNone\u001b[0m:                                                              \u001b[31m│\u001b[0m\n\u001b[31m│\u001b[0m   \u001b[2m242 \u001b[0m\u001b[2m│   │   │   \u001b[0m\u001b[94mwith\u001b[0m \u001b[96mself\u001b[0m.out:                                                                 \u001b[31m│\u001b[0m\n\u001b[31m│\u001b[0m \u001b[31m❱ \u001b[0m243 \u001b[2m│   │   │   │   \u001b[0m\u001b[96mself\u001b[0m.display_fn(model)                                                     \u001b[31m│\u001b[0m\n\u001b[31m│\u001b[0m   \u001b[2m244 \u001b[0m\u001b[2m│   \u001b[0m                                                                                       \u001b[31m│\u001b[0m\n\u001b[31m│\u001b[0m   \u001b[2m245 \u001b[0m\u001b[2m│   \u001b[0m\u001b[94mdef\u001b[0m \u001b[92mon_fit_start\u001b[0m(\u001b[96mself\u001b[0m,model: \u001b[33m'\u001b[0m\u001b[33mKerasModel\u001b[0m\u001b[33m'\u001b[0m):                                            \u001b[31m│\u001b[0m\n\u001b[31m│\u001b[0m   \u001b[2m246 \u001b[0m\u001b[2m│   │   \u001b[0m\u001b[94mpass\u001b[0m                                                                               \u001b[31m│\u001b[0m\n\u001b[31m│\u001b[0m                                                                                                  \u001b[31m│\u001b[0m\n\u001b[31m│\u001b[0m in \u001b[92mdisplay_fn\u001b[0m:\u001b[94m6\u001b[0m                                                                                  \u001b[31m│\u001b[0m\n\u001b[31m│\u001b[0m                                                                                                  \u001b[31m│\u001b[0m\n\u001b[31m│\u001b[0m   \u001b[2m 3 \u001b[0m\u001b[2m│   \u001b[0mright = \u001b[94mTrue\u001b[0m                                                                            \u001b[31m│\u001b[0m\n\u001b[31m│\u001b[0m   \u001b[2m 4 \u001b[0m\u001b[2m│   \u001b[0m\u001b[94mwhile\u001b[0m right:                                                                            \u001b[31m│\u001b[0m\n\u001b[31m│\u001b[0m   \u001b[2m 5 \u001b[0m\u001b[2m│   │   \u001b[0mimage, target, input_length, label_length = ds_test[\u001b[94m0\u001b[0m]                              \u001b[31m│\u001b[0m\n\u001b[31m│\u001b[0m \u001b[31m❱ \u001b[0m 6 \u001b[2m│   │   \u001b[0moutput = model(image.unsqueeze(\u001b[94m0\u001b[0m).cuda())                                           \u001b[31m│\u001b[0m\n\u001b[31m│\u001b[0m   \u001b[2m 7 \u001b[0m\u001b[2m│   │   \u001b[0moutput_argmax = output.detach().permute(\u001b[94m1\u001b[0m, \u001b[94m0\u001b[0m, \u001b[94m2\u001b[0m).argmax(dim=-\u001b[94m1\u001b[0m)                     \u001b[31m│\u001b[0m\n\u001b[31m│\u001b[0m   \u001b[2m 8 \u001b[0m\u001b[2m│   │   \u001b[0m                                                                                    \u001b[31m│\u001b[0m\n\u001b[31m│\u001b[0m   \u001b[2m 9 \u001b[0m\u001b[2m│   │   \u001b[0mright = (decode_target(target) == decode(output_argmax[\u001b[94m0\u001b[0m]))                         \u001b[31m│\u001b[0m\n\u001b[31m│\u001b[0m                                                                                                  \u001b[31m│\u001b[0m\n\u001b[31m│\u001b[0m \u001b[2;33m/usr/local/lib/python3.8/dist-packages/torch/nn/modules/\u001b[0m\u001b[1;33mmodule.py\u001b[0m:\u001b[94m1501\u001b[0m in \u001b[92m_call_impl\u001b[0m             \u001b[31m│\u001b[0m\n\u001b[31m│\u001b[0m                                                                                                  \u001b[31m│\u001b[0m\n\u001b[31m│\u001b[0m   \u001b[2m1498 \u001b[0m\u001b[2m│   │   \u001b[0m\u001b[94mif\u001b[0m \u001b[95mnot\u001b[0m (\u001b[96mself\u001b[0m._backward_hooks \u001b[95mor\u001b[0m \u001b[96mself\u001b[0m._backward_pre_hooks \u001b[95mor\u001b[0m \u001b[96mself\u001b[0m._forward_hooks   \u001b[31m│\u001b[0m\n\u001b[31m│\u001b[0m   \u001b[2m1499 \u001b[0m\u001b[2m│   │   │   │   \u001b[0m\u001b[95mor\u001b[0m _global_backward_pre_hooks \u001b[95mor\u001b[0m _global_backward_hooks                   \u001b[31m│\u001b[0m\n\u001b[31m│\u001b[0m   \u001b[2m1500 \u001b[0m\u001b[2m│   │   │   │   \u001b[0m\u001b[95mor\u001b[0m _global_forward_hooks \u001b[95mor\u001b[0m _global_forward_pre_hooks):                   \u001b[31m│\u001b[0m\n\u001b[31m│\u001b[0m \u001b[31m❱ \u001b[0m1501 \u001b[2m│   │   │   \u001b[0m\u001b[94mreturn\u001b[0m forward_call(*args, **kwargs)                                          \u001b[31m│\u001b[0m\n\u001b[31m│\u001b[0m   \u001b[2m1502 \u001b[0m\u001b[2m│   │   \u001b[0m\u001b[2m# Do not call functions when jit is used\u001b[0m                                          \u001b[31m│\u001b[0m\n\u001b[31m│\u001b[0m   \u001b[2m1503 \u001b[0m\u001b[2m│   │   \u001b[0mfull_backward_hooks, non_full_backward_hooks = [], []                             \u001b[31m│\u001b[0m\n\u001b[31m│\u001b[0m   \u001b[2m1504 \u001b[0m\u001b[2m│   │   \u001b[0mbackward_pre_hooks = []                                                           \u001b[31m│\u001b[0m\n\u001b[31m│\u001b[0m                                                                                                  \u001b[31m│\u001b[0m\n\u001b[31m│\u001b[0m \u001b[2;33m/usr/local/lib/python3.8/dist-packages/torchkeras/\u001b[0m\u001b[1;33mkerasmodel.py\u001b[0m:\u001b[94m114\u001b[0m in \u001b[92mforward\u001b[0m                   \u001b[31m│\u001b[0m\n\u001b[31m│\u001b[0m                                                                                                  \u001b[31m│\u001b[0m\n\u001b[31m│\u001b[0m   \u001b[2m111 \u001b[0m\u001b[2m│   │   \u001b[0m\u001b[96mself\u001b[0m.from_scratch = \u001b[94mFalse\u001b[0m                                                          \u001b[31m│\u001b[0m\n\u001b[31m│\u001b[0m   \u001b[2m112 \u001b[0m\u001b[2m│   \u001b[0m                                                                                       \u001b[31m│\u001b[0m\n\u001b[31m│\u001b[0m   \u001b[2m113 \u001b[0m\u001b[2m│   \u001b[0m\u001b[94mdef\u001b[0m \u001b[92mforward\u001b[0m(\u001b[96mself\u001b[0m, x):                                                                  \u001b[31m│\u001b[0m\n\u001b[31m│\u001b[0m \u001b[31m❱ \u001b[0m114 \u001b[2m│   │   \u001b[0m\u001b[94mreturn\u001b[0m \u001b[96mself\u001b[0m.net.forward(x)                                                         \u001b[31m│\u001b[0m\n\u001b[31m│\u001b[0m   \u001b[2m115 \u001b[0m\u001b[2m│   \u001b[0m                                                                                       \u001b[31m│\u001b[0m\n\u001b[31m│\u001b[0m   \u001b[2m116 \u001b[0m\u001b[2m│   \u001b[0m\u001b[94mdef\u001b[0m \u001b[92mfit\u001b[0m(\u001b[96mself\u001b[0m, train_data, val_data=\u001b[94mNone\u001b[0m, epochs=\u001b[94m10\u001b[0m, ckpt_path=\u001b[33m'\u001b[0m\u001b[33mcheckpoint.pt\u001b[0m\u001b[33m'\u001b[0m,         \u001b[31m│\u001b[0m\n\u001b[31m│\u001b[0m   \u001b[2m117 \u001b[0m\u001b[2m│   │   │   \u001b[0mpatience=\u001b[94m5\u001b[0m, monitor=\u001b[33m\"\u001b[0m\u001b[33mval_loss\u001b[0m\u001b[33m\"\u001b[0m, mode=\u001b[33m\"\u001b[0m\u001b[33mmin\u001b[0m\u001b[33m\"\u001b[0m, callbacks=\u001b[94mNone\u001b[0m, plot=\u001b[94mTrue\u001b[0m, wandb   \u001b[31m│\u001b[0m\n\u001b[31m│\u001b[0m                                                                                                  \u001b[31m│\u001b[0m\n\u001b[31m│\u001b[0m in \u001b[92mforward\u001b[0m:\u001b[94m37\u001b[0m                                                                                    \u001b[31m│\u001b[0m\n\u001b[31m│\u001b[0m                                                                                                  \u001b[31m│\u001b[0m\n\u001b[31m│\u001b[0m   \u001b[2m34 \u001b[0m\u001b[2m│   \u001b[0m                                                                                        \u001b[31m│\u001b[0m\n\u001b[31m│\u001b[0m   \u001b[2m35 \u001b[0m\u001b[2m│   \u001b[0m                                                                                        \u001b[31m│\u001b[0m\n\u001b[31m│\u001b[0m   \u001b[2m36 \u001b[0m\u001b[2m│   \u001b[0m\u001b[94mdef\u001b[0m \u001b[92mforward\u001b[0m(\u001b[96mself\u001b[0m, x):                                                                   \u001b[31m│\u001b[0m\n\u001b[31m│\u001b[0m \u001b[31m❱ \u001b[0m37 \u001b[2m│   │   \u001b[0mx = \u001b[96mself\u001b[0m.cnn(x)                                                                     \u001b[31m│\u001b[0m\n\u001b[31m│\u001b[0m   \u001b[2m38 \u001b[0m\u001b[2m│   │   \u001b[0mx = x.reshape(x.shape[\u001b[94m0\u001b[0m], -\u001b[94m1\u001b[0m, x.shape[-\u001b[94m1\u001b[0m])                                          \u001b[31m│\u001b[0m\n\u001b[31m│\u001b[0m   \u001b[2m39 \u001b[0m\u001b[2m│   │   \u001b[0mx = x.permute(\u001b[94m2\u001b[0m, \u001b[94m0\u001b[0m, \u001b[94m1\u001b[0m)                                                              \u001b[31m│\u001b[0m\n\u001b[31m│\u001b[0m   \u001b[2m40 \u001b[0m\u001b[2m│   │   \u001b[0mx, _ = \u001b[96mself\u001b[0m.lstm(x)                                                                 \u001b[31m│\u001b[0m\n\u001b[31m│\u001b[0m                                                                                                  \u001b[31m│\u001b[0m\n\u001b[31m│\u001b[0m \u001b[2;33m/usr/local/lib/python3.8/dist-packages/torch/nn/modules/\u001b[0m\u001b[1;33mmodule.py\u001b[0m:\u001b[94m1501\u001b[0m in \u001b[92m_call_impl\u001b[0m             \u001b[31m│\u001b[0m\n\u001b[31m│\u001b[0m                                                                                                  \u001b[31m│\u001b[0m\n\u001b[31m│\u001b[0m   \u001b[2m1498 \u001b[0m\u001b[2m│   │   \u001b[0m\u001b[94mif\u001b[0m \u001b[95mnot\u001b[0m (\u001b[96mself\u001b[0m._backward_hooks \u001b[95mor\u001b[0m \u001b[96mself\u001b[0m._backward_pre_hooks \u001b[95mor\u001b[0m \u001b[96mself\u001b[0m._forward_hooks   \u001b[31m│\u001b[0m\n\u001b[31m│\u001b[0m   \u001b[2m1499 \u001b[0m\u001b[2m│   │   │   │   \u001b[0m\u001b[95mor\u001b[0m _global_backward_pre_hooks \u001b[95mor\u001b[0m _global_backward_hooks                   \u001b[31m│\u001b[0m\n\u001b[31m│\u001b[0m   \u001b[2m1500 \u001b[0m\u001b[2m│   │   │   │   \u001b[0m\u001b[95mor\u001b[0m _global_forward_hooks \u001b[95mor\u001b[0m _global_forward_pre_hooks):                   \u001b[31m│\u001b[0m\n\u001b[31m│\u001b[0m \u001b[31m❱ \u001b[0m1501 \u001b[2m│   │   │   \u001b[0m\u001b[94mreturn\u001b[0m forward_call(*args, **kwargs)                                          \u001b[31m│\u001b[0m\n\u001b[31m│\u001b[0m   \u001b[2m1502 \u001b[0m\u001b[2m│   │   \u001b[0m\u001b[2m# Do not call functions when jit is used\u001b[0m                                          \u001b[31m│\u001b[0m\n\u001b[31m│\u001b[0m   \u001b[2m1503 \u001b[0m\u001b[2m│   │   \u001b[0mfull_backward_hooks, non_full_backward_hooks = [], []                             \u001b[31m│\u001b[0m\n\u001b[31m│\u001b[0m   \u001b[2m1504 \u001b[0m\u001b[2m│   │   \u001b[0mbackward_pre_hooks = []                                                           \u001b[31m│\u001b[0m\n\u001b[31m│\u001b[0m                                                                                                  \u001b[31m│\u001b[0m\n\u001b[31m│\u001b[0m \u001b[2;33m/usr/local/lib/python3.8/dist-packages/torch/nn/modules/\u001b[0m\u001b[1;33mcontainer.py\u001b[0m:\u001b[94m217\u001b[0m in \u001b[92mforward\u001b[0m              \u001b[31m│\u001b[0m\n\u001b[31m│\u001b[0m                                                                                                  \u001b[31m│\u001b[0m\n\u001b[31m│\u001b[0m   \u001b[2m214 \u001b[0m\u001b[2m│   \u001b[0m\u001b[2m# with Any as TorchScript expects a more precise type\u001b[0m                                  \u001b[31m│\u001b[0m\n\u001b[31m│\u001b[0m   \u001b[2m215 \u001b[0m\u001b[2m│   \u001b[0m\u001b[94mdef\u001b[0m \u001b[92mforward\u001b[0m(\u001b[96mself\u001b[0m, \u001b[96minput\u001b[0m):                                                              \u001b[31m│\u001b[0m\n\u001b[31m│\u001b[0m   \u001b[2m216 \u001b[0m\u001b[2m│   │   \u001b[0m\u001b[94mfor\u001b[0m module \u001b[95min\u001b[0m \u001b[96mself\u001b[0m:                                                                \u001b[31m│\u001b[0m\n\u001b[31m│\u001b[0m \u001b[31m❱ \u001b[0m217 \u001b[2m│   │   │   \u001b[0m\u001b[96minput\u001b[0m = module(\u001b[96minput\u001b[0m)                                                          \u001b[31m│\u001b[0m\n\u001b[31m│\u001b[0m   \u001b[2m218 \u001b[0m\u001b[2m│   │   \u001b[0m\u001b[94mreturn\u001b[0m \u001b[96minput\u001b[0m                                                                       \u001b[31m│\u001b[0m\n\u001b[31m│\u001b[0m   \u001b[2m219 \u001b[0m\u001b[2m│   \u001b[0m                                                                                       \u001b[31m│\u001b[0m\n\u001b[31m│\u001b[0m   \u001b[2m220 \u001b[0m\u001b[2m│   \u001b[0m\u001b[94mdef\u001b[0m \u001b[92mappend\u001b[0m(\u001b[96mself\u001b[0m, module: Module) -> \u001b[33m'\u001b[0m\u001b[33mSequential\u001b[0m\u001b[33m'\u001b[0m:                                      \u001b[31m│\u001b[0m\n\u001b[31m│\u001b[0m                                                                                                  \u001b[31m│\u001b[0m\n\u001b[31m│\u001b[0m \u001b[2;33m/usr/local/lib/python3.8/dist-packages/torch/nn/modules/\u001b[0m\u001b[1;33mmodule.py\u001b[0m:\u001b[94m1501\u001b[0m in \u001b[92m_call_impl\u001b[0m             \u001b[31m│\u001b[0m\n\u001b[31m│\u001b[0m                                                                                                  \u001b[31m│\u001b[0m\n\u001b[31m│\u001b[0m   \u001b[2m1498 \u001b[0m\u001b[2m│   │   \u001b[0m\u001b[94mif\u001b[0m \u001b[95mnot\u001b[0m (\u001b[96mself\u001b[0m._backward_hooks \u001b[95mor\u001b[0m \u001b[96mself\u001b[0m._backward_pre_hooks \u001b[95mor\u001b[0m \u001b[96mself\u001b[0m._forward_hooks   \u001b[31m│\u001b[0m\n\u001b[31m│\u001b[0m   \u001b[2m1499 \u001b[0m\u001b[2m│   │   │   │   \u001b[0m\u001b[95mor\u001b[0m _global_backward_pre_hooks \u001b[95mor\u001b[0m _global_backward_hooks                   \u001b[31m│\u001b[0m\n\u001b[31m│\u001b[0m   \u001b[2m1500 \u001b[0m\u001b[2m│   │   │   │   \u001b[0m\u001b[95mor\u001b[0m _global_forward_hooks \u001b[95mor\u001b[0m _global_forward_pre_hooks):                   \u001b[31m│\u001b[0m\n\u001b[31m│\u001b[0m \u001b[31m❱ \u001b[0m1501 \u001b[2m│   │   │   \u001b[0m\u001b[94mreturn\u001b[0m forward_call(*args, **kwargs)                                          \u001b[31m│\u001b[0m\n\u001b[31m│\u001b[0m   \u001b[2m1502 \u001b[0m\u001b[2m│   │   \u001b[0m\u001b[2m# Do not call functions when jit is used\u001b[0m                                          \u001b[31m│\u001b[0m\n\u001b[31m│\u001b[0m   \u001b[2m1503 \u001b[0m\u001b[2m│   │   \u001b[0mfull_backward_hooks, non_full_backward_hooks = [], []                             \u001b[31m│\u001b[0m\n\u001b[31m│\u001b[0m   \u001b[2m1504 \u001b[0m\u001b[2m│   │   \u001b[0mbackward_pre_hooks = []                                                           \u001b[31m│\u001b[0m\n\u001b[31m│\u001b[0m                                                                                                  \u001b[31m│\u001b[0m\n\u001b[31m│\u001b[0m \u001b[2;33m/usr/local/lib/python3.8/dist-packages/torch/nn/modules/\u001b[0m\u001b[1;33mconv.py\u001b[0m:\u001b[94m463\u001b[0m in \u001b[92mforward\u001b[0m                   \u001b[31m│\u001b[0m\n\u001b[31m│\u001b[0m                                                                                                  \u001b[31m│\u001b[0m\n\u001b[31m│\u001b[0m   \u001b[2m 460 \u001b[0m\u001b[2m│   │   │   │   │   │   \u001b[0m\u001b[96mself\u001b[0m.padding, \u001b[96mself\u001b[0m.dilation, \u001b[96mself\u001b[0m.groups)                         \u001b[31m│\u001b[0m\n\u001b[31m│\u001b[0m   \u001b[2m 461 \u001b[0m\u001b[2m│   \u001b[0m                                                                                      \u001b[31m│\u001b[0m\n\u001b[31m│\u001b[0m   \u001b[2m 462 \u001b[0m\u001b[2m│   \u001b[0m\u001b[94mdef\u001b[0m \u001b[92mforward\u001b[0m(\u001b[96mself\u001b[0m, \u001b[96minput\u001b[0m: Tensor) -> Tensor:                                           \u001b[31m│\u001b[0m\n\u001b[31m│\u001b[0m \u001b[31m❱ \u001b[0m 463 \u001b[2m│   │   \u001b[0m\u001b[94mreturn\u001b[0m \u001b[96mself\u001b[0m._conv_forward(\u001b[96minput\u001b[0m, \u001b[96mself\u001b[0m.weight, \u001b[96mself\u001b[0m.bias)                          \u001b[31m│\u001b[0m\n\u001b[31m│\u001b[0m   \u001b[2m 464 \u001b[0m                                                                                          \u001b[31m│\u001b[0m\n\u001b[31m│\u001b[0m   \u001b[2m 465 \u001b[0m\u001b[94mclass\u001b[0m \u001b[4;92mConv3d\u001b[0m(_ConvNd):                                                                    \u001b[31m│\u001b[0m\n\u001b[31m│\u001b[0m   \u001b[2m 466 \u001b[0m\u001b[2m│   \u001b[0m\u001b[91m__doc__\u001b[0m = \u001b[33mr\u001b[0m\u001b[33m\"\"\"\u001b[0m\u001b[33mApplies a 3D convolution over an input signal composed of several inpu\u001b[0m  \u001b[31m│\u001b[0m\n\u001b[31m│\u001b[0m                                                                                                  \u001b[31m│\u001b[0m\n\u001b[31m│\u001b[0m \u001b[2;33m/usr/local/lib/python3.8/dist-packages/torch/nn/modules/\u001b[0m\u001b[1;33mconv.py\u001b[0m:\u001b[94m459\u001b[0m in \u001b[92m_conv_forward\u001b[0m             \u001b[31m│\u001b[0m\n\u001b[31m│\u001b[0m                                                                                                  \u001b[31m│\u001b[0m\n\u001b[31m│\u001b[0m   \u001b[2m 456 \u001b[0m\u001b[2m│   │   │   \u001b[0m\u001b[94mreturn\u001b[0m F.conv2d(F.pad(\u001b[96minput\u001b[0m, \u001b[96mself\u001b[0m._reversed_padding_repeated_twice, mode=\u001b[96msel\u001b[0m  \u001b[31m│\u001b[0m\n\u001b[31m│\u001b[0m   \u001b[2m 457 \u001b[0m\u001b[2m│   │   │   │   │   │   │   \u001b[0mweight, bias, \u001b[96mself\u001b[0m.stride,                                    \u001b[31m│\u001b[0m\n\u001b[31m│\u001b[0m   \u001b[2m 458 \u001b[0m\u001b[2m│   │   │   │   │   │   │   \u001b[0m_pair(\u001b[94m0\u001b[0m), \u001b[96mself\u001b[0m.dilation, \u001b[96mself\u001b[0m.groups)                         \u001b[31m│\u001b[0m\n\u001b[31m│\u001b[0m \u001b[31m❱ \u001b[0m 459 \u001b[2m│   │   \u001b[0m\u001b[94mreturn\u001b[0m F.conv2d(\u001b[96minput\u001b[0m, weight, bias, \u001b[96mself\u001b[0m.stride,                                 \u001b[31m│\u001b[0m\n\u001b[31m│\u001b[0m   \u001b[2m 460 \u001b[0m\u001b[2m│   │   │   │   │   │   \u001b[0m\u001b[96mself\u001b[0m.padding, \u001b[96mself\u001b[0m.dilation, \u001b[96mself\u001b[0m.groups)                         \u001b[31m│\u001b[0m\n\u001b[31m│\u001b[0m   \u001b[2m 461 \u001b[0m\u001b[2m│   \u001b[0m                                                                                      \u001b[31m│\u001b[0m\n\u001b[31m│\u001b[0m   \u001b[2m 462 \u001b[0m\u001b[2m│   \u001b[0m\u001b[94mdef\u001b[0m \u001b[92mforward\u001b[0m(\u001b[96mself\u001b[0m, \u001b[96minput\u001b[0m: Tensor) -> Tensor:                                           \u001b[31m│\u001b[0m\n\u001b[31m╰──────────────────────────────────────────────────────────────────────────────────────────────────╯\u001b[0m\n\u001b[1;91mRuntimeError: \u001b[0mInput type \u001b[1m(\u001b[0mtorch.cuda.FloatTensor\u001b[1m)\u001b[0m and weight type \u001b[1m(\u001b[0mtorch.FloatTensor\u001b[1m)\u001b[0m should be the same\n"
         },
         "metadata": {},
         "output_type": "display_data"
        }
       ]
      }
     },
     "510be2636c4c44a38286697b18de6e4f": {
      "model_module": "@jupyter-widgets/output",
      "model_module_version": "1.0.0",
      "model_name": "OutputModel",
      "state": {
       "layout": "IPY_MODEL_efacf291a20045beb309c934165cf437",
       "outputs": [
        {
         "name": "stdout",
         "output_type": "stream",
         "text": "gt: 8CGQ   pred: 8CGQ\ngt: K550   pred: K550\ngt: ZS3S   pred: ZS3S\ngt: LYE7   pred: LYE7\ngt: E1VQ   pred: E1VQ\ngt: YZH6   pred: YZH6\ngt: NZSH   pred: NZSH\ngt: B88R   pred: B88R\ngt: P4EM   pred: P4EM\ngt: GLJB   pred: GLJB\ngt: SBHF   pred: SBHF\ngt: AR2K   pred: AR2K\ngt: 2G2X   pred: 2G2X\ngt: 2LH6   pred: 2LH6\ngt: 3UMV   pred: 3UMV\ngt: VZOL   pred: VZ0L\n"
        },
        {
         "data": {
          "image/png": "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",
          "text/plain": "<PIL.Image.Image image mode=RGB size=192x64>"
         },
         "metadata": {},
         "output_type": "display_data"
        }
       ]
      }
     },
     "5698b97586c1475e857f3f74dbe1a9f0": {
      "model_module": "@jupyter-widgets/base",
      "model_module_version": "2.0.0",
      "model_name": "LayoutModel",
      "state": {}
     },
     "6a8e4a2263184121b6ce6dd5619e7112": {
      "model_module": "@jupyter-widgets/base",
      "model_module_version": "2.0.0",
      "model_name": "LayoutModel",
      "state": {}
     },
     "77120b4441ef4d7a97a8177aa8032cff": {
      "model_module": "@jupyter-widgets/output",
      "model_module_version": "1.0.0",
      "model_name": "OutputModel",
      "state": {
       "layout": "IPY_MODEL_840a34942db44bb38f69edd6dc6524c2"
      }
     },
     "840a34942db44bb38f69edd6dc6524c2": {
      "model_module": "@jupyter-widgets/base",
      "model_module_version": "2.0.0",
      "model_name": "LayoutModel",
      "state": {}
     },
     "efacf291a20045beb309c934165cf437": {
      "model_module": "@jupyter-widgets/base",
      "model_module_version": "2.0.0",
      "model_name": "LayoutModel",
      "state": {}
     }
    },
    "version_major": 2,
    "version_minor": 0
   }
  }
 },
 "nbformat": 4,
 "nbformat_minor": 4
}
