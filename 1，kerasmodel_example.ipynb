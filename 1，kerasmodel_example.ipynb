{
 "cells": [
  {
   "cell_type": "markdown",
   "id": "8068f820",
   "metadata": {},
   "source": [
    "# KerasModel Example"
   ]
  },
  {
   "cell_type": "markdown",
   "id": "b84d3f83",
   "metadata": {},
   "source": [
    "You can install torchkeras using pip:\n",
    "`pip install torchkeras`\n",
    "\n",
    "Here is the mnist example using torchkeras.KerasModel. \n"
   ]
  },
  {
   "cell_type": "code",
   "execution_count": 2,
   "id": "3e915b9b",
   "metadata": {},
   "outputs": [],
   "source": [
    "import sys \n",
    "sys.path.append(\"..\")\n"
   ]
  },
  {
   "cell_type": "code",
   "execution_count": 3,
   "id": "a1920bc7",
   "metadata": {},
   "outputs": [],
   "source": [
    "import numpy as np \n",
    "import pandas as pd \n",
    "from matplotlib import pyplot as plt\n",
    "import torch\n",
    "from torch import nn\n",
    "import torch.nn.functional as F\n",
    "from torch.utils.data import Dataset,DataLoader\n",
    "import torchkeras #Attention this line \n"
   ]
  },
  {
   "cell_type": "code",
   "execution_count": 4,
   "id": "61a0c0f8-9f51-441c-ac9a-1c17fe318851",
   "metadata": {},
   "outputs": [],
   "source": [
    "from torchkeras import data "
   ]
  },
  {
   "cell_type": "code",
   "execution_count": 9,
   "id": "2cf334a7-0ef0-4ce0-88f7-d85535f4e9aa",
   "metadata": {},
   "outputs": [
    {
     "data": {
      "text/plain": [
       "0.8180654351959173"
      ]
     },
     "execution_count": 9,
     "metadata": {},
     "output_type": "execute_result"
    }
   ],
   "source": [
    "np.random.rand()"
   ]
  },
  {
   "cell_type": "code",
   "execution_count": 10,
   "id": "0edaaedf-0bcf-45ac-ab78-221b1196b17a",
   "metadata": {},
   "outputs": [],
   "source": [
    "from torchkeras import seed_everything "
   ]
  },
  {
   "cell_type": "code",
   "execution_count": 28,
   "id": "6a76e8e2-c77d-41d0-bda5-f76e6739d11b",
   "metadata": {},
   "outputs": [],
   "source": [
    "import numpy as np\n",
    "import os\n",
    "import random\n",
    "import torch \n",
    "\n",
    "# this function guarantees reproductivity\n",
    "# other packages also support seed options, you can add to this function\n",
    "def seed_everything(TORCH_SEED):\n",
    "\trandom.seed(TORCH_SEED)\n",
    "\tos.environ['PYTHONHASHSEED'] = str(TORCH_SEED)\n",
    "\tnp.random.seed(TORCH_SEED)\n",
    "\ttorch.manual_seed(TORCH_SEED)\n",
    "\ttorch.cuda.manual_seed_all(TORCH_SEED)\n",
    "\ttorch.backends.cudnn.deterministic = True\n",
    "\ttorch.backends.cudnn.benchmark = False\n",
    "    "
   ]
  },
  {
   "cell_type": "code",
   "execution_count": null,
   "id": "b6dcf0be-2d93-4233-822e-5d84e6e0c0b4",
   "metadata": {},
   "outputs": [],
   "source": []
  },
  {
   "cell_type": "code",
   "execution_count": 35,
   "id": "264bf01d-b060-4536-9370-4a1894693654",
   "metadata": {},
   "outputs": [],
   "source": [
    "seed_everything(42)"
   ]
  },
  {
   "cell_type": "code",
   "execution_count": 37,
   "id": "2ecec442-c416-4fa2-a6c8-a3408ec8e89a",
   "metadata": {},
   "outputs": [
    {
     "data": {
      "text/plain": [
       "0.9507143064099162"
      ]
     },
     "execution_count": 37,
     "metadata": {},
     "output_type": "execute_result"
    }
   ],
   "source": [
    "np.random.rand()"
   ]
  },
  {
   "cell_type": "code",
   "execution_count": null,
   "id": "236c6233-a1a3-4ca7-ae93-a8a74f79c7da",
   "metadata": {},
   "outputs": [],
   "source": []
  },
  {
   "cell_type": "code",
   "execution_count": null,
   "id": "c9cce249-3614-4ee9-9707-300e905a2475",
   "metadata": {},
   "outputs": [],
   "source": []
  },
  {
   "cell_type": "markdown",
   "id": "e73ca619",
   "metadata": {},
   "source": [
    "### 1, prepare data "
   ]
  },
  {
   "cell_type": "code",
   "execution_count": null,
   "id": "25ab4939",
   "metadata": {},
   "outputs": [],
   "source": [
    "import torchvision \n",
    "from torchvision import transforms\n",
    "\n",
    "transform = transforms.Compose([transforms.ToTensor()])\n",
    "ds_train = torchvision.datasets.MNIST(root=\"mnist/\",train=True,download=True,transform=transform)\n",
    "ds_val = torchvision.datasets.MNIST(root=\"mnist/\",train=False,download=True,transform=transform)\n",
    "dl_train =  torch.utils.data.DataLoader(ds_train, batch_size=128, shuffle=True, num_workers=2)\n",
    "dl_val =  torch.utils.data.DataLoader(ds_val, batch_size=128, shuffle=False, num_workers=2)\n"
   ]
  },
  {
   "cell_type": "code",
   "execution_count": null,
   "id": "85a45abd",
   "metadata": {},
   "outputs": [],
   "source": [
    "for features,labels in dl_train:\n",
    "    break\n",
    "print(features.shape)\n",
    "print(labels.shape)\n"
   ]
  },
  {
   "cell_type": "code",
   "execution_count": null,
   "id": "c484c0b4",
   "metadata": {},
   "outputs": [],
   "source": [
    "%matplotlib inline\n",
    "%config InlineBackend.figure_format = 'svg'\n",
    "\n",
    "#查看部分样本\n",
    "from matplotlib import pyplot as plt \n",
    "\n",
    "plt.figure(figsize=(8,8)) \n",
    "for i in range(9):\n",
    "    img,label = ds_train[i]\n",
    "    img = img.permute(1,2,0)\n",
    "    ax=plt.subplot(3,3,i+1)\n",
    "    ax.imshow(img.numpy())\n",
    "    ax.set_title(\"label = %d\"%label)\n",
    "    ax.set_xticks([])\n",
    "    ax.set_yticks([]) \n",
    "plt.show()\n"
   ]
  },
  {
   "cell_type": "markdown",
   "id": "485da125",
   "metadata": {},
   "source": [
    "### 2, create the  model"
   ]
  },
  {
   "cell_type": "code",
   "execution_count": null,
   "id": "6174ae8a",
   "metadata": {},
   "outputs": [],
   "source": [
    "def create_net():\n",
    "    net = nn.Sequential()\n",
    "    net.add_module(\"conv1\",nn.Conv2d(in_channels=1,out_channels=32,kernel_size = 3))\n",
    "    net.add_module(\"pool1\",nn.MaxPool2d(kernel_size = 2,stride = 2))\n",
    "    net.add_module(\"conv2\",nn.Conv2d(in_channels=32,out_channels=64,kernel_size = 5))\n",
    "    net.add_module(\"pool2\",nn.MaxPool2d(kernel_size = 2,stride = 2))\n",
    "    net.add_module(\"dropout\",nn.Dropout2d(p = 0.1))\n",
    "    net.add_module(\"adaptive_pool\",nn.AdaptiveMaxPool2d((1,1)))\n",
    "    net.add_module(\"flatten\",nn.Flatten())\n",
    "    net.add_module(\"linear1\",nn.Linear(64,32))\n",
    "    net.add_module(\"relu\",nn.ReLU())\n",
    "    net.add_module(\"linear2\",nn.Linear(32,10))\n",
    "    return net\n",
    "\n",
    "net = create_net()\n",
    "\n",
    "class Accuracy(nn.Module):\n",
    "    def __init__(self):\n",
    "        super().__init__()\n",
    "\n",
    "        self.correct = nn.Parameter(torch.tensor(0.0),requires_grad=False)\n",
    "        self.total = nn.Parameter(torch.tensor(0.0),requires_grad=False)\n",
    "\n",
    "    def forward(self, preds: torch.Tensor, targets: torch.Tensor):\n",
    "        preds = preds.argmax(dim=-1)\n",
    "        m = (preds == targets).sum()\n",
    "        n = targets.shape[0] \n",
    "        self.correct += m \n",
    "        self.total += n\n",
    "        \n",
    "        return m/n\n",
    "\n",
    "    def compute(self):\n",
    "        return self.correct.float() / self.total \n",
    "    \n",
    "    def reset(self):\n",
    "        self.correct -= self.correct\n",
    "        self.total -= self.total\n",
    "        "
   ]
  },
  {
   "cell_type": "code",
   "execution_count": null,
   "id": "ad17716f",
   "metadata": {},
   "outputs": [],
   "source": [
    "model = torchkeras.KerasModel(net,\n",
    "      loss_fn = nn.CrossEntropyLoss(),\n",
    "      optimizer= torch.optim.Adam(net.parameters(),lr=0.001),\n",
    "      metrics_dict = {\"acc\":Accuracy()}\n",
    "    )\n",
    "\n",
    "from torchkeras import summary\n",
    "summary(model,input_data=features);\n"
   ]
  },
  {
   "cell_type": "code",
   "execution_count": null,
   "id": "d28aa0d5-f423-4ac5-b680-b159a4101642",
   "metadata": {},
   "outputs": [],
   "source": []
  },
  {
   "cell_type": "code",
   "execution_count": null,
   "id": "cee5f5d8-bca7-40bf-8612-0c4ed6128214",
   "metadata": {},
   "outputs": [],
   "source": []
  },
  {
   "cell_type": "markdown",
   "id": "e98c79f5",
   "metadata": {},
   "source": [
    "### 3, train the model"
   ]
  },
  {
   "cell_type": "code",
   "execution_count": null,
   "id": "54bcc553",
   "metadata": {},
   "outputs": [],
   "source": [
    "# if gpu/mps is available, will auto use it, otherwise cpu will be used.\n",
    "dfhistory=model.fit(train_data=dl_train, \n",
    "                    val_data=dl_val, \n",
    "                    epochs=20, \n",
    "                    patience=3, \n",
    "                    monitor=\"val_acc\",\n",
    "                    mode=\"max\",\n",
    "                    ckpt_path='checkpoint.pt',\n",
    "                    plot=True,\n",
    "                    quiet=False\n",
    "                   )\n"
   ]
  },
  {
   "cell_type": "code",
   "execution_count": null,
   "id": "9ea16ca9-8ac7-47b7-bd93-f2aa3f32fff1",
   "metadata": {},
   "outputs": [],
   "source": []
  },
  {
   "cell_type": "code",
   "execution_count": null,
   "id": "bbed73ad-efb9-4c4e-be1e-b06476ed3445",
   "metadata": {},
   "outputs": [],
   "source": []
  },
  {
   "cell_type": "code",
   "execution_count": null,
   "id": "b2cf1c0e-a43c-48bf-b933-f7628cf0e448",
   "metadata": {},
   "outputs": [],
   "source": []
  },
  {
   "cell_type": "markdown",
   "id": "36bcdad3",
   "metadata": {},
   "source": [
    "### 4, evaluate the model"
   ]
  },
  {
   "cell_type": "code",
   "execution_count": null,
   "id": "b27998a4-393d-44e7-81e0-eed3f49c4707",
   "metadata": {},
   "outputs": [],
   "source": [
    "import matplotlib.pyplot as plt\n",
    "\n",
    "def plot_metric(dfhistory, metric):\n",
    "    train_metrics = dfhistory[\"train_\"+metric]\n",
    "    val_metrics = dfhistory['val_'+metric]\n",
    "    epochs = range(1, len(train_metrics) + 1)\n",
    "    plt.plot(epochs, train_metrics, 'bo--')\n",
    "    plt.plot(epochs, val_metrics, 'ro-')\n",
    "    plt.title('Training and validation '+ metric)\n",
    "    plt.xlabel(\"Epochs\")\n",
    "    plt.ylabel(metric)\n",
    "    plt.legend([\"train_\"+metric, 'val_'+metric])\n",
    "    plt.show()\n",
    "    "
   ]
  },
  {
   "cell_type": "code",
   "execution_count": null,
   "id": "a179179f-65ff-434e-b317-17ca56355e7e",
   "metadata": {},
   "outputs": [],
   "source": [
    "plot_metric(dfhistory,'loss')"
   ]
  },
  {
   "cell_type": "code",
   "execution_count": null,
   "id": "960119f4",
   "metadata": {},
   "outputs": [],
   "source": [
    "plot_metric(dfhistory,\"acc\")"
   ]
  },
  {
   "cell_type": "code",
   "execution_count": null,
   "id": "62f8cf7b",
   "metadata": {},
   "outputs": [],
   "source": [
    "model.evaluate(dl_val)"
   ]
  },
  {
   "cell_type": "code",
   "execution_count": null,
   "id": "0405a48f-000b-40aa-8869-409d571f512e",
   "metadata": {},
   "outputs": [],
   "source": []
  },
  {
   "cell_type": "markdown",
   "id": "96911b58",
   "metadata": {},
   "source": [
    "### 5, use the model"
   ]
  },
  {
   "cell_type": "code",
   "execution_count": null,
   "id": "91b21a4e-be1c-4fba-ae99-7fe4962c67b6",
   "metadata": {},
   "outputs": [],
   "source": [
    "net = model.net\n",
    "net.eval();\n",
    "\n",
    "device = torch.device('cpu')\n",
    "img,label = ds_train[1]\n",
    "tensor = img.to(device)\n",
    "\n",
    "y_pred = torch.argmax(net(tensor[None,...])) \n",
    "y_prob = torch.softmax(net(tensor[None,...]),dim=-1).max() \n",
    "\n",
    "img = img.permute(1,2,0)\n",
    "plt.imshow(img)\n",
    "print('y_pred = ', y_pred.item())\n",
    "print('y_prob = ', y_prob.item())\n"
   ]
  },
  {
   "cell_type": "markdown",
   "id": "81da8622",
   "metadata": {},
   "source": [
    "### 6, save the model"
   ]
  },
  {
   "cell_type": "code",
   "execution_count": null,
   "id": "45089d19",
   "metadata": {},
   "outputs": [],
   "source": [
    "#  used the saved model parameters \n",
    "net_clone = create_net() \n",
    "\n",
    "model_clone = torchkeras.KerasModel(net_clone,loss_fn = nn.CrossEntropyLoss(),\n",
    "             optimizer= torch.optim.Adam(net_clone.parameters(),lr = 0.001),\n",
    "             metrics_dict={\"acc\":Accuracy()})\n",
    "\n",
    "model_clone.net.load_state_dict(torch.load(\"checkpoint.pt\"))\n",
    "\n"
   ]
  }
 ],
 "metadata": {
  "jupytext": {
   "cell_metadata_filter": "-all",
   "main_language": "python",
   "notebook_metadata_filter": "-all"
  },
  "kernelspec": {
   "display_name": "Python 3 (ipykernel)",
   "language": "python",
   "name": "python3"
  },
  "language_info": {
   "codemirror_mode": {
    "name": "ipython",
    "version": 3
   },
   "file_extension": ".py",
   "mimetype": "text/x-python",
   "name": "python",
   "nbconvert_exporter": "python",
   "pygments_lexer": "ipython3",
   "version": "3.9.0"
  }
 },
 "nbformat": 4,
 "nbformat_minor": 5
}
