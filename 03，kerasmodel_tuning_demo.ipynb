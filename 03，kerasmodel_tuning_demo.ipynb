{
 "cells": [
  {
   "cell_type": "markdown",
   "id": "8068f820",
   "metadata": {},
   "source": [
    "# torchkeras.KerasModel tune hyperparameters Demo"
   ]
  },
  {
   "cell_type": "markdown",
   "id": "b84d3f83",
   "metadata": {},
   "source": [
    "You can install torchkeras using pip:\n",
    "`pip install torchkeras`\n",
    "\n",
    "Here is a mnist cnn example using torchkeras.KerasModel to auto tune the hyperparameters with help of wandb.sweep.\n",
    "\n",
    "\n",
    "`pip install wandb`\n",
    "\n",
    "\n",
    "Before you start run this demo, you should first create an account at wandb website  https://wandb.ai/ ,\n",
    "\n",
    "and get your API keys from the settings page。\n",
    "\n",
    "You can explore the wandb dashboard created in this demo from the url below:\n",
    "\n",
    "https://wandb.ai/lyhue1991/mnist_torchkeras\n"
   ]
  },
  {
   "cell_type": "code",
   "execution_count": 3,
   "id": "1cd4c020-883c-4d2f-8ac1-4a90135f0ab8",
   "metadata": {},
   "outputs": [
    {
     "name": "stdout",
     "output_type": "stream",
     "text": [
      "\u001b[33mWARNING: Retrying (Retry(total=4, connect=None, read=None, redirect=None, status=None)) after connection broken by 'NewConnectionError('<pip._vendor.urllib3.connection.HTTPSConnection object at 0x104c54490>: Failed to establish a new connection: [Errno 8] nodename nor servname provided, or not known')': /simple/wandb/\u001b[0m\u001b[33m\n",
      "\u001b[0m^C\n"
     ]
    }
   ],
   "source": [
    "!pip install wandb "
   ]
  },
  {
   "cell_type": "code",
   "execution_count": 1,
   "id": "6dec53e0",
   "metadata": {},
   "outputs": [],
   "source": [
    "import sys\n",
    "sys.path.insert(0,'..')"
   ]
  },
  {
   "cell_type": "code",
   "execution_count": 2,
   "id": "d52b297a",
   "metadata": {},
   "outputs": [
    {
     "ename": "ModuleNotFoundError",
     "evalue": "No module named 'wandb'",
     "output_type": "error",
     "traceback": [
      "\u001b[0;31m---------------------------------------------------------------------------\u001b[0m",
      "\u001b[0;31mModuleNotFoundError\u001b[0m                       Traceback (most recent call last)",
      "Cell \u001b[0;32mIn [2], line 1\u001b[0m\n\u001b[0;32m----> 1\u001b[0m \u001b[38;5;28;01mimport\u001b[39;00m \u001b[38;5;21;01mwandb\u001b[39;00m \n\u001b[1;32m      2\u001b[0m wandb\u001b[38;5;241m.\u001b[39mlogin() \n",
      "\u001b[0;31mModuleNotFoundError\u001b[0m: No module named 'wandb'"
     ]
    }
   ],
   "source": [
    "import wandb \n",
    "wandb.login() "
   ]
  },
  {
   "cell_type": "code",
   "execution_count": 3,
   "id": "a1920bc7",
   "metadata": {},
   "outputs": [
    {
     "name": "stdout",
     "output_type": "stream",
     "text": [
      "3.7.1\n"
     ]
    }
   ],
   "source": [
    "import numpy as np \n",
    "import pandas as pd \n",
    "from matplotlib import pyplot as plt\n",
    "import torch\n",
    "from torch import nn\n",
    "import torch.nn.functional as F\n",
    "from torch.utils.data import Dataset,DataLoader\n",
    "\n",
    "import torchkeras #Attention this line \n",
    "print(torchkeras.__version__)"
   ]
  },
  {
   "cell_type": "markdown",
   "id": "f8a739fd",
   "metadata": {},
   "source": [
    "## 0, set hyperparameters "
   ]
  },
  {
   "cell_type": "code",
   "execution_count": 4,
   "id": "358f728f",
   "metadata": {},
   "outputs": [],
   "source": [
    "from argparse import Namespace\n",
    "\n",
    "\n",
    "config = Namespace(\n",
    "    project_name = \"mnist_torchkeras\",\n",
    "    \n",
    "    batch_size = 512,\n",
    "    \n",
    "    hidden_layer_width = 64,\n",
    "    dropout_p = 0.1,\n",
    "    \n",
    "    lr = 1e-4,\n",
    "    optim_type = 'Adam',\n",
    "    \n",
    "    epochs = 10,\n",
    "    ckpt_path = 'checkpoint.pt'\n",
    ")\n"
   ]
  },
  {
   "cell_type": "markdown",
   "id": "e73ca619",
   "metadata": {},
   "source": [
    "## 1, prepare data "
   ]
  },
  {
   "cell_type": "code",
   "execution_count": 5,
   "id": "25ab4939",
   "metadata": {},
   "outputs": [],
   "source": [
    "import torchvision \n",
    "from torchvision import transforms\n",
    "\n",
    "transform = transforms.Compose([transforms.ToTensor()])\n",
    "ds_train = torchvision.datasets.MNIST(root=\"mnist/\",train=True,download=True,transform=transform)\n",
    "ds_val = torchvision.datasets.MNIST(root=\"mnist/\",train=False,download=True,transform=transform)\n",
    "    \n",
    "def create_dataloaders(config):\n",
    "    ds_train_sub = torch.utils.data.Subset(ds_train, indices=range(0, len(ds_train), 10))\n",
    "    dl_train =  torch.utils.data.DataLoader(ds_train_sub, batch_size=config.batch_size, shuffle=True, num_workers=2)\n",
    "    dl_val =  torch.utils.data.DataLoader(ds_val, batch_size=config.batch_size, shuffle=False, num_workers=2)\n",
    "    return dl_train,dl_val \n",
    "\n",
    "dl_train,dl_val = create_dataloaders(config)\n",
    "\n"
   ]
  },
  {
   "cell_type": "code",
   "execution_count": 6,
   "id": "85a45abd",
   "metadata": {},
   "outputs": [
    {
     "name": "stdout",
     "output_type": "stream",
     "text": [
      "torch.Size([512, 1, 28, 28])\n",
      "torch.Size([512])\n"
     ]
    }
   ],
   "source": [
    "for features,labels in dl_train:\n",
    "    break\n",
    "print(features.shape)\n",
    "print(labels.shape)\n"
   ]
  },
  {
   "cell_type": "code",
   "execution_count": 7,
   "id": "c484c0b4",
   "metadata": {},
   "outputs": [
    {
     "data": {
      "image/svg+xml": [
       "<?xml version=\"1.0\" encoding=\"utf-8\" standalone=\"no\"?>\n",
       "<!DOCTYPE svg PUBLIC \"-//W3C//DTD SVG 1.1//EN\"\n",
       "  \"http://www.w3.org/Graphics/SVG/1.1/DTD/svg11.dtd\">\n",
       "<svg xmlns:xlink=\"http://www.w3.org/1999/xlink\" width=\"463.452941pt\" height=\"476.538125pt\" viewBox=\"0 0 463.452941 476.538125\" xmlns=\"http://www.w3.org/2000/svg\" version=\"1.1\">\n",
       " <metadata>\n",
       "  <rdf:RDF xmlns:dc=\"http://purl.org/dc/elements/1.1/\" xmlns:cc=\"http://creativecommons.org/ns#\" xmlns:rdf=\"http://www.w3.org/1999/02/22-rdf-syntax-ns#\">\n",
       "   <cc:Work>\n",
       "    <dc:type rdf:resource=\"http://purl.org/dc/dcmitype/StillImage\"/>\n",
       "    <dc:date>2023-02-07T14:30:38.844204</dc:date>\n",
       "    <dc:format>image/svg+xml</dc:format>\n",
       "    <dc:creator>\n",
       "     <cc:Agent>\n",
       "      <dc:title>Matplotlib v3.6.2, https://matplotlib.org/</dc:title>\n",
       "     </cc:Agent>\n",
       "    </dc:creator>\n",
       "   </cc:Work>\n",
       "  </rdf:RDF>\n",
       " </metadata>\n",
       " <defs>\n",
       "  <style type=\"text/css\">*{stroke-linejoin: round; stroke-linecap: butt}</style>\n",
       " </defs>\n",
       " <g id=\"figure_1\">\n",
       "  <g id=\"patch_1\">\n",
       "   <path d=\"M 0 476.538125 \n",
       "L 463.452941 476.538125 \n",
       "L 463.452941 0 \n",
       "L 0 0 \n",
       "z\n",
       "\" style=\"fill: #ffffff\"/>\n",
       "  </g>\n",
       "  <g id=\"axes_1\">\n",
       "   <g id=\"patch_2\">\n",
       "    <path d=\"M 10.7 152.765184 \n",
       "L 141.147059 152.765184 \n",
       "L 141.147059 22.318125 \n",
       "L 10.7 22.318125 \n",
       "z\n",
       "\" style=\"fill: #ffffff\"/>\n",
       "   </g>\n",
       "   <g clip-path=\"url(#p1327efae87)\">\n",
       "    <image xlink:href=\"data:image/png;base64,\n",
       "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\" id=\"imagebb50451d24\" transform=\"scale(1 -1) translate(0 -131.04)\" x=\"10.7\" y=\"-21.725184\" width=\"131.04\" height=\"131.04\"/>\n",
       "   </g>\n",
       "   <g id=\"matplotlib.axis_1\"/>\n",
       "   <g id=\"matplotlib.axis_2\"/>\n",
       "   <g id=\"patch_3\">\n",
       "    <path d=\"M 10.7 152.765184 \n",
       "L 10.7 22.318125 \n",
       "\" style=\"fill: none; stroke: #000000; stroke-width: 0.8; stroke-linejoin: miter; stroke-linecap: square\"/>\n",
       "   </g>\n",
       "   <g id=\"patch_4\">\n",
       "    <path d=\"M 141.147059 152.765184 \n",
       "L 141.147059 22.318125 \n",
       "\" style=\"fill: none; stroke: #000000; stroke-width: 0.8; stroke-linejoin: miter; stroke-linecap: square\"/>\n",
       "   </g>\n",
       "   <g id=\"patch_5\">\n",
       "    <path d=\"M 10.7 152.765184 \n",
       "L 141.147059 152.765184 \n",
       "\" style=\"fill: none; stroke: #000000; stroke-width: 0.8; stroke-linejoin: miter; stroke-linecap: square\"/>\n",
       "   </g>\n",
       "   <g id=\"patch_6\">\n",
       "    <path d=\"M 10.7 22.318125 \n",
       "L 141.147059 22.318125 \n",
       "\" style=\"fill: none; stroke: #000000; stroke-width: 0.8; stroke-linejoin: miter; stroke-linecap: square\"/>\n",
       "   </g>\n",
       "   <g id=\"text_1\">\n",
       "    <!-- label = 5 -->\n",
       "    <g transform=\"translate(48.752904 16.318125) scale(0.12 -0.12)\">\n",
       "     <defs>\n",
       "      <path id=\"DejaVuSans-6c\" d=\"M 603 4863 \n",
       "L 1178 4863 \n",
       "L 1178 0 \n",
       "L 603 0 \n",
       "L 603 4863 \n",
       "z\n",
       "\" transform=\"scale(0.015625)\"/>\n",
       "      <path id=\"DejaVuSans-61\" d=\"M 2194 1759 \n",
       "Q 1497 1759 1228 1600 \n",
       "Q 959 1441 959 1056 \n",
       "Q 959 750 1161 570 \n",
       "Q 1363 391 1709 391 \n",
       "Q 2188 391 2477 730 \n",
       "Q 2766 1069 2766 1631 \n",
       "L 2766 1759 \n",
       "L 2194 1759 \n",
       "z\n",
       "M 3341 1997 \n",
       "L 3341 0 \n",
       "L 2766 0 \n",
       "L 2766 531 \n",
       "Q 2569 213 2275 61 \n",
       "Q 1981 -91 1556 -91 \n",
       "Q 1019 -91 701 211 \n",
       "Q 384 513 384 1019 \n",
       "Q 384 1609 779 1909 \n",
       "Q 1175 2209 1959 2209 \n",
       "L 2766 2209 \n",
       "L 2766 2266 \n",
       "Q 2766 2663 2505 2880 \n",
       "Q 2244 3097 1772 3097 \n",
       "Q 1472 3097 1187 3025 \n",
       "Q 903 2953 641 2809 \n",
       "L 641 3341 \n",
       "Q 956 3463 1253 3523 \n",
       "Q 1550 3584 1831 3584 \n",
       "Q 2591 3584 2966 3190 \n",
       "Q 3341 2797 3341 1997 \n",
       "z\n",
       "\" transform=\"scale(0.015625)\"/>\n",
       "      <path id=\"DejaVuSans-62\" d=\"M 3116 1747 \n",
       "Q 3116 2381 2855 2742 \n",
       "Q 2594 3103 2138 3103 \n",
       "Q 1681 3103 1420 2742 \n",
       "Q 1159 2381 1159 1747 \n",
       "Q 1159 1113 1420 752 \n",
       "Q 1681 391 2138 391 \n",
       "Q 2594 391 2855 752 \n",
       "Q 3116 1113 3116 1747 \n",
       "z\n",
       "M 1159 2969 \n",
       "Q 1341 3281 1617 3432 \n",
       "Q 1894 3584 2278 3584 \n",
       "Q 2916 3584 3314 3078 \n",
       "Q 3713 2572 3713 1747 \n",
       "Q 3713 922 3314 415 \n",
       "Q 2916 -91 2278 -91 \n",
       "Q 1894 -91 1617 61 \n",
       "Q 1341 213 1159 525 \n",
       "L 1159 0 \n",
       "L 581 0 \n",
       "L 581 4863 \n",
       "L 1159 4863 \n",
       "L 1159 2969 \n",
       "z\n",
       "\" transform=\"scale(0.015625)\"/>\n",
       "      <path id=\"DejaVuSans-65\" d=\"M 3597 1894 \n",
       "L 3597 1613 \n",
       "L 953 1613 \n",
       "Q 991 1019 1311 708 \n",
       "Q 1631 397 2203 397 \n",
       "Q 2534 397 2845 478 \n",
       "Q 3156 559 3463 722 \n",
       "L 3463 178 \n",
       "Q 3153 47 2828 -22 \n",
       "Q 2503 -91 2169 -91 \n",
       "Q 1331 -91 842 396 \n",
       "Q 353 884 353 1716 \n",
       "Q 353 2575 817 3079 \n",
       "Q 1281 3584 2069 3584 \n",
       "Q 2775 3584 3186 3129 \n",
       "Q 3597 2675 3597 1894 \n",
       "z\n",
       "M 3022 2063 \n",
       "Q 3016 2534 2758 2815 \n",
       "Q 2500 3097 2075 3097 \n",
       "Q 1594 3097 1305 2825 \n",
       "Q 1016 2553 972 2059 \n",
       "L 3022 2063 \n",
       "z\n",
       "\" transform=\"scale(0.015625)\"/>\n",
       "      <path id=\"DejaVuSans-20\" transform=\"scale(0.015625)\"/>\n",
       "      <path id=\"DejaVuSans-3d\" d=\"M 678 2906 \n",
       "L 4684 2906 \n",
       "L 4684 2381 \n",
       "L 678 2381 \n",
       "L 678 2906 \n",
       "z\n",
       "M 678 1631 \n",
       "L 4684 1631 \n",
       "L 4684 1100 \n",
       "L 678 1100 \n",
       "L 678 1631 \n",
       "z\n",
       "\" transform=\"scale(0.015625)\"/>\n",
       "      <path id=\"DejaVuSans-35\" d=\"M 691 4666 \n",
       "L 3169 4666 \n",
       "L 3169 4134 \n",
       "L 1269 4134 \n",
       "L 1269 2991 \n",
       "Q 1406 3038 1543 3061 \n",
       "Q 1681 3084 1819 3084 \n",
       "Q 2600 3084 3056 2656 \n",
       "Q 3513 2228 3513 1497 \n",
       "Q 3513 744 3044 326 \n",
       "Q 2575 -91 1722 -91 \n",
       "Q 1428 -91 1123 -41 \n",
       "Q 819 9 494 109 \n",
       "L 494 744 \n",
       "Q 775 591 1075 516 \n",
       "Q 1375 441 1709 441 \n",
       "Q 2250 441 2565 725 \n",
       "Q 2881 1009 2881 1497 \n",
       "Q 2881 1984 2565 2268 \n",
       "Q 2250 2553 1709 2553 \n",
       "Q 1456 2553 1204 2497 \n",
       "Q 953 2441 691 2322 \n",
       "L 691 4666 \n",
       "z\n",
       "\" transform=\"scale(0.015625)\"/>\n",
       "     </defs>\n",
       "     <use xlink:href=\"#DejaVuSans-6c\"/>\n",
       "     <use xlink:href=\"#DejaVuSans-61\" x=\"27.783203\"/>\n",
       "     <use xlink:href=\"#DejaVuSans-62\" x=\"89.0625\"/>\n",
       "     <use xlink:href=\"#DejaVuSans-65\" x=\"152.539062\"/>\n",
       "     <use xlink:href=\"#DejaVuSans-6c\" x=\"214.0625\"/>\n",
       "     <use xlink:href=\"#DejaVuSans-20\" x=\"241.845703\"/>\n",
       "     <use xlink:href=\"#DejaVuSans-3d\" x=\"273.632812\"/>\n",
       "     <use xlink:href=\"#DejaVuSans-20\" x=\"357.421875\"/>\n",
       "     <use xlink:href=\"#DejaVuSans-35\" x=\"389.208984\"/>\n",
       "    </g>\n",
       "   </g>\n",
       "  </g>\n",
       "  <g id=\"axes_2\">\n",
       "   <g id=\"patch_7\">\n",
       "    <path d=\"M 168.252941 152.765184 \n",
       "L 298.7 152.765184 \n",
       "L 298.7 22.318125 \n",
       "L 168.252941 22.318125 \n",
       "z\n",
       "\" style=\"fill: #ffffff\"/>\n",
       "   </g>\n",
       "   <g clip-path=\"url(#p20bff7ca9b)\">\n",
       "    <image xlink:href=\"data:image/png;base64,\n",
       "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\" id=\"imagebcd2a38548\" transform=\"scale(1 -1) translate(0 -131.04)\" x=\"168.252941\" y=\"-21.725184\" width=\"131.04\" height=\"131.04\"/>\n",
       "   </g>\n",
       "   <g id=\"matplotlib.axis_3\"/>\n",
       "   <g id=\"matplotlib.axis_4\"/>\n",
       "   <g id=\"patch_8\">\n",
       "    <path d=\"M 168.252941 152.765184 \n",
       "L 168.252941 22.318125 \n",
       "\" style=\"fill: none; stroke: #000000; stroke-width: 0.8; stroke-linejoin: miter; stroke-linecap: square\"/>\n",
       "   </g>\n",
       "   <g id=\"patch_9\">\n",
       "    <path d=\"M 298.7 152.765184 \n",
       "L 298.7 22.318125 \n",
       "\" style=\"fill: none; stroke: #000000; stroke-width: 0.8; stroke-linejoin: miter; stroke-linecap: square\"/>\n",
       "   </g>\n",
       "   <g id=\"patch_10\">\n",
       "    <path d=\"M 168.252941 152.765184 \n",
       "L 298.7 152.765184 \n",
       "\" style=\"fill: none; stroke: #000000; stroke-width: 0.8; stroke-linejoin: miter; stroke-linecap: square\"/>\n",
       "   </g>\n",
       "   <g id=\"patch_11\">\n",
       "    <path d=\"M 168.252941 22.318125 \n",
       "L 298.7 22.318125 \n",
       "\" style=\"fill: none; stroke: #000000; stroke-width: 0.8; stroke-linejoin: miter; stroke-linecap: square\"/>\n",
       "   </g>\n",
       "   <g id=\"text_2\">\n",
       "    <!-- label = 0 -->\n",
       "    <g transform=\"translate(206.305846 16.318125) scale(0.12 -0.12)\">\n",
       "     <defs>\n",
       "      <path id=\"DejaVuSans-30\" d=\"M 2034 4250 \n",
       "Q 1547 4250 1301 3770 \n",
       "Q 1056 3291 1056 2328 \n",
       "Q 1056 1369 1301 889 \n",
       "Q 1547 409 2034 409 \n",
       "Q 2525 409 2770 889 \n",
       "Q 3016 1369 3016 2328 \n",
       "Q 3016 3291 2770 3770 \n",
       "Q 2525 4250 2034 4250 \n",
       "z\n",
       "M 2034 4750 \n",
       "Q 2819 4750 3233 4129 \n",
       "Q 3647 3509 3647 2328 \n",
       "Q 3647 1150 3233 529 \n",
       "Q 2819 -91 2034 -91 \n",
       "Q 1250 -91 836 529 \n",
       "Q 422 1150 422 2328 \n",
       "Q 422 3509 836 4129 \n",
       "Q 1250 4750 2034 4750 \n",
       "z\n",
       "\" transform=\"scale(0.015625)\"/>\n",
       "     </defs>\n",
       "     <use xlink:href=\"#DejaVuSans-6c\"/>\n",
       "     <use xlink:href=\"#DejaVuSans-61\" x=\"27.783203\"/>\n",
       "     <use xlink:href=\"#DejaVuSans-62\" x=\"89.0625\"/>\n",
       "     <use xlink:href=\"#DejaVuSans-65\" x=\"152.539062\"/>\n",
       "     <use xlink:href=\"#DejaVuSans-6c\" x=\"214.0625\"/>\n",
       "     <use xlink:href=\"#DejaVuSans-20\" x=\"241.845703\"/>\n",
       "     <use xlink:href=\"#DejaVuSans-3d\" x=\"273.632812\"/>\n",
       "     <use xlink:href=\"#DejaVuSans-20\" x=\"357.421875\"/>\n",
       "     <use xlink:href=\"#DejaVuSans-30\" x=\"389.208984\"/>\n",
       "    </g>\n",
       "   </g>\n",
       "  </g>\n",
       "  <g id=\"axes_3\">\n",
       "   <g id=\"patch_12\">\n",
       "    <path d=\"M 325.805882 152.765184 \n",
       "L 456.252941 152.765184 \n",
       "L 456.252941 22.318125 \n",
       "L 325.805882 22.318125 \n",
       "z\n",
       "\" style=\"fill: #ffffff\"/>\n",
       "   </g>\n",
       "   <g clip-path=\"url(#p88e9f9c17f)\">\n",
       "    <image xlink:href=\"data:image/png;base64,\n",
       "iVBORw0KGgoAAAANSUhEUgAAALYAAAC2CAYAAAB08HcEAAAFJUlEQVR4nO3dXWjVZRzA8eec2eYWxXRT0pSygSzoxaARWVHC6Voi88KLIJWiukkKupIuirr1Yjd2GXWVwUpBiQzniqhVM2T0gpUvFW4rKUEXbmenq7p6ftJ2zvmf+d33c/n8eTy/ydfn4uHsb6lS2lZLEky51QNIzWDYQjJsIRm2kAxbSIYtJMMWkmELybCFZNhCMmwhGbaQDFtIhi0kwxaSYQvJsIVk2EIybCEta/UAWpjzezaHz75+aTC73j+8M9xz244T9Y60qHhiC8mwhWTYQjJsIRm2kLwVuUZ1VKbCZ20lzyv/BoRk2EIybCEZtpAMW0iGLSSv+4CqtblWj9BynthCMmwhGbaQDFtIhi0kb0WWkK7RrlaPUBhPbCEZtpAMW0iGLSTDFpJhC8nrPqDwdx6X0HejPLGFZNhCMmwhGbaQDFtI3ooARb8atuKHmYInaR1PbCEZtpAMW0iGLSTDFpJhC8mwhWTYQjJsIRm2kAxbSIYtJL8EtYSc2VoKn208XOAgBfDEFpJhC8mwhWTYQjJsIRm2kAq77vv5jfuz6+sHfi1qhNDU4XXZ9Z7x+HcE24+MNmuc/+Xy8VXxw0355de2vBdueSutr2+gRcYTW0iGLSTDFpJhC8mwhdTQW5FTb98TPvtuy2B2/duZ+Obhg4ub6h3pPy/3jIfPyrfnvxw0XbsS7vmtWs2uD049Eu45+M3d2fXusfZwz5oPJ7Lr6/Z9Fe4ZfaaWXd96fXwD5a2IdA0wbCEZtpAMW0iGLSTDFlJDr/s6lsdXd+WUv1J76vU94Z7eNz+re6Z/DT+0O3xWa8vPdq7SEe65sjb/s5bb89eAKaX0UWVfdv26R8Mt6fyL+Rn2/vRYuGdV23T+c0rxz1MauDO7Xhs9GQ+3iHliC8mwhWTYQjJsIRm2kFr+JqjOC8X8z/XlkbF577n1WGNneC49mF1v6+0J90w8vjG7vnL7L+GeleX8ebUstcWfc98N2fXVrf0NuAXzxBaSYQvJsIVk2EIybCEZtpBaft03eW/8b2vDgQIHaaHq73+Ez3r3B18E2x//eQ8P7cqujw28E+559vmh7PrQu3eEe6oTk/EQLeaJLSTDFpJhC8mwhWTYQmrorcjsqfwXaVJKKeVfj52W9//ZyBGUUlr/wqXs+qcfx+fYrhvzX6oa6t4cf5C3IlKxDFtIhi0kwxaSYQvJsIXU0Ou+Ww7l30CUUkqTOy438qN0FbOnz2bXD1wYCPc8sObz7Pr0hhXhnvbv5zdXkTyxhWTYQjJsIRm2kAxbSA29FSl/ciJ8NvL3zY38KC3A6UvxG6ci5yrx26P6jtQzTXN5YgvJsIVk2EIybCEZtpAMW0iFvQlqptbyl04tebO7u+KHx/LLnX0XmzJLs3liC8mwhWTYQjJsIRm2kAq7qnjl0BPZ9a6+v4oaYcmr/ngmfNY/vDO7/vRdI+GeowP5t0TVRk/Ob7Am8MQWkmELybCFZNhCMmwhGbaQCrvuW3t8Lrs+Pd5d1Aiaq4aPSmc7s+tHb+qP/7xard6JmsYTW0iGLSTDFpJhC8mwhVTYrUjn+1/k14saQFe1+sv8rdXe7QfDPa+mJ5s1Tt08sYVk2EIybCEZtpAMW0iGLaRSpbRt8X6TRVogT2whGbaQDFtIhi0kwxaSYQvJsIVk2EIybCEZtpAMW0iGLSTDFpJhC8mwhWTYQjJsIRm2kAxbSIYtJMMWkmELybCFZNhCMmwhGbaQDFtIhi0kwxaSYQvJsIX0D+IxqjxHZ+heAAAAAElFTkSuQmCC\" id=\"image0cd8c45e79\" transform=\"scale(1 -1) translate(0 -131.04)\" x=\"325.805882\" y=\"-21.725184\" width=\"131.04\" height=\"131.04\"/>\n",
       "   </g>\n",
       "   <g id=\"matplotlib.axis_5\"/>\n",
       "   <g id=\"matplotlib.axis_6\"/>\n",
       "   <g id=\"patch_13\">\n",
       "    <path d=\"M 325.805882 152.765184 \n",
       "L 325.805882 22.318125 \n",
       "\" style=\"fill: none; stroke: #000000; stroke-width: 0.8; stroke-linejoin: miter; stroke-linecap: square\"/>\n",
       "   </g>\n",
       "   <g id=\"patch_14\">\n",
       "    <path d=\"M 456.252941 152.765184 \n",
       "L 456.252941 22.318125 \n",
       "\" style=\"fill: none; stroke: #000000; stroke-width: 0.8; stroke-linejoin: miter; stroke-linecap: square\"/>\n",
       "   </g>\n",
       "   <g id=\"patch_15\">\n",
       "    <path d=\"M 325.805882 152.765184 \n",
       "L 456.252941 152.765184 \n",
       "\" style=\"fill: none; stroke: #000000; stroke-width: 0.8; stroke-linejoin: miter; stroke-linecap: square\"/>\n",
       "   </g>\n",
       "   <g id=\"patch_16\">\n",
       "    <path d=\"M 325.805882 22.318125 \n",
       "L 456.252941 22.318125 \n",
       "\" style=\"fill: none; stroke: #000000; stroke-width: 0.8; stroke-linejoin: miter; stroke-linecap: square\"/>\n",
       "   </g>\n",
       "   <g id=\"text_3\">\n",
       "    <!-- label = 4 -->\n",
       "    <g transform=\"translate(363.858787 16.318125) scale(0.12 -0.12)\">\n",
       "     <defs>\n",
       "      <path id=\"DejaVuSans-34\" d=\"M 2419 4116 \n",
       "L 825 1625 \n",
       "L 2419 1625 \n",
       "L 2419 4116 \n",
       "z\n",
       "M 2253 4666 \n",
       "L 3047 4666 \n",
       "L 3047 1625 \n",
       "L 3713 1625 \n",
       "L 3713 1100 \n",
       "L 3047 1100 \n",
       "L 3047 0 \n",
       "L 2419 0 \n",
       "L 2419 1100 \n",
       "L 313 1100 \n",
       "L 313 1709 \n",
       "L 2253 4666 \n",
       "z\n",
       "\" transform=\"scale(0.015625)\"/>\n",
       "     </defs>\n",
       "     <use xlink:href=\"#DejaVuSans-6c\"/>\n",
       "     <use xlink:href=\"#DejaVuSans-61\" x=\"27.783203\"/>\n",
       "     <use xlink:href=\"#DejaVuSans-62\" x=\"89.0625\"/>\n",
       "     <use xlink:href=\"#DejaVuSans-65\" x=\"152.539062\"/>\n",
       "     <use xlink:href=\"#DejaVuSans-6c\" x=\"214.0625\"/>\n",
       "     <use xlink:href=\"#DejaVuSans-20\" x=\"241.845703\"/>\n",
       "     <use xlink:href=\"#DejaVuSans-3d\" x=\"273.632812\"/>\n",
       "     <use xlink:href=\"#DejaVuSans-20\" x=\"357.421875\"/>\n",
       "     <use xlink:href=\"#DejaVuSans-34\" x=\"389.208984\"/>\n",
       "    </g>\n",
       "   </g>\n",
       "  </g>\n",
       "  <g id=\"axes_4\">\n",
       "   <g id=\"patch_17\">\n",
       "    <path d=\"M 10.7 309.301654 \n",
       "L 141.147059 309.301654 \n",
       "L 141.147059 178.854596 \n",
       "L 10.7 178.854596 \n",
       "z\n",
       "\" style=\"fill: #ffffff\"/>\n",
       "   </g>\n",
       "   <g clip-path=\"url(#p5d2c3fd6f5)\">\n",
       "    <image xlink:href=\"data:image/png;base64,\n",
       "iVBORw0KGgoAAAANSUhEUgAAALYAAAC2CAYAAAB08HcEAAAEwElEQVR4nO3dzYvVVRzH8d84Tmi6KUSmmtEiUEGRAqOUQiOlaFEho1Q7a9WjPUKBi1YtInqiwCQIQpMywdoFQUQRWVFgPpBY2KhUiBrhhMw4M/0D51y4cp1xPvN6Lb+HM7+7eHMWh/u707W2a2C8gTAzJvsDwMUgbCIJm0jCJpKwiSRsIgmbSMImkrCJJGwiCZtIwiaSsIkkbCIJm0jCJpKwiSRsIgmbSDMn+wN02szrFhbnvTtPVfds7f+qOP/47Pzqng8W97f3wZhQTmwiCZtIwiaSsIkkbCLF3Yr8e0Nvcb6rb1eLXd0X58MwaZzYRBI2kYRNJGETSdhEEjaRhE0kYRNJ2EQSNpGETSRhEynuS1CzTg8X59+cm1Pdc/vsc8X5nZcPVvds2ba+OF/y9MHqnrGhoeoaneXEJpKwiSRsIgmbSMImkrCJ1LW2a2B8sj/ERDj2ybLq2sFV24vzkfHRtp9z77oHqmujBw+3/fe4ME5sIgmbSMImkrCJJGwixX0JqqZ/YH91beRE+fbjQm5F/lwzr7o2363IhHFiE0nYRBI2kYRNJGETSdhEmjbXfa38PDxWnC/raf9vrdz0U3Xt6M4rivPRM2fafxAtObGJJGwiCZtIwiaSsIk0bV4Na2Vs9Y3F+cPb9lT33DPn77afs27//cX53Lt+b/tv0ZoTm0jCJpKwiSRsIgmbSMImkuu+Fn7bUb4GbJqm2bf63Y49Z/19D1XXxn+sv6tJnRObSMImkrCJJGwiCZtIXg1rYdHL/1XXetZ0d+w5gy/U1/oHOvaYacWJTSRhE0nYRBI2kYRNJGETyXVfC6MHfq2urdryeHG+46VXq3v6uss/LbWy72h1z1/XLijOzx8drO7BiU0oYRNJ2EQSNpGETSSvhnXY8RdXVdd+eOyN4rynq/6Fqg1H7i7OhwfKv+ndNE0zevJkdW26cGITSdhEEjaRhE0kYRNJ2ERy3ddh3UsXV9du+rD8q05b5u2r7hkZHy3Ol3/0ZHXP9c9+V12bLpzYRBI2kYRNJGETSdhEcisygWb2XVOc79n7WXVP7Vbk0Ej9OZufe6I4n7N7b31TGCc2kYRNJGETSdhEEjaRhE0kvwQ1gc4fP1GcL/16U3XPgdveL86XX1Z/zoJnDhfnp3bX96RxYhNJ2EQSNpGETSRhE8mtyCXgqu2zqmtfriiv3TprqLrnvYWfF+crNz9V3dP75rfVtanIiU0kYRNJ2EQSNpGETSRhE8k7j5e4sxtuLs7feeWt6p5FPV3F+dZ/llT3fLFxRXE+/kf5i1tN0zRjQ/Urx8nmxCaSsIkkbCIJm0jCJpJbkSnqyGu3VNd+2Vi/Mamp/Uu+Ox59pLpn9qfft/2cieLEJpKwiSRsIgmbSMImkrCJ5J3HKWrusfqZdHpsuDi/ckaLn48K48QmkrCJJGwiCZtIwiaSW5Epqvf1+i83rbn6+eL80INvV/fUvgTVlN8yu+Q5sYkkbCIJm0jCJpKwiSRsInnnkUhObCIJm0jCJpKwiSRsIgmbSMImkrCJJGwiCZtIwiaSsIkkbCIJm0jCJpKwiSRsIgmbSMImkrCJJGwiCZtIwiaSsIkkbCIJm0jCJpKwiSRsIgmbSMIm0v8oMaZNofO8yAAAAABJRU5ErkJggg==\" id=\"imagec7d31a4f31\" transform=\"scale(1 -1) translate(0 -131.04)\" x=\"10.7\" y=\"-178.261654\" width=\"131.04\" height=\"131.04\"/>\n",
       "   </g>\n",
       "   <g id=\"matplotlib.axis_7\"/>\n",
       "   <g id=\"matplotlib.axis_8\"/>\n",
       "   <g id=\"patch_18\">\n",
       "    <path d=\"M 10.7 309.301654 \n",
       "L 10.7 178.854596 \n",
       "\" style=\"fill: none; stroke: #000000; stroke-width: 0.8; stroke-linejoin: miter; stroke-linecap: square\"/>\n",
       "   </g>\n",
       "   <g id=\"patch_19\">\n",
       "    <path d=\"M 141.147059 309.301654 \n",
       "L 141.147059 178.854596 \n",
       "\" style=\"fill: none; stroke: #000000; stroke-width: 0.8; stroke-linejoin: miter; stroke-linecap: square\"/>\n",
       "   </g>\n",
       "   <g id=\"patch_20\">\n",
       "    <path d=\"M 10.7 309.301654 \n",
       "L 141.147059 309.301654 \n",
       "\" style=\"fill: none; stroke: #000000; stroke-width: 0.8; stroke-linejoin: miter; stroke-linecap: square\"/>\n",
       "   </g>\n",
       "   <g id=\"patch_21\">\n",
       "    <path d=\"M 10.7 178.854596 \n",
       "L 141.147059 178.854596 \n",
       "\" style=\"fill: none; stroke: #000000; stroke-width: 0.8; stroke-linejoin: miter; stroke-linecap: square\"/>\n",
       "   </g>\n",
       "   <g id=\"text_4\">\n",
       "    <!-- label = 1 -->\n",
       "    <g transform=\"translate(48.752904 172.854596) scale(0.12 -0.12)\">\n",
       "     <defs>\n",
       "      <path id=\"DejaVuSans-31\" d=\"M 794 531 \n",
       "L 1825 531 \n",
       "L 1825 4091 \n",
       "L 703 3866 \n",
       "L 703 4441 \n",
       "L 1819 4666 \n",
       "L 2450 4666 \n",
       "L 2450 531 \n",
       "L 3481 531 \n",
       "L 3481 0 \n",
       "L 794 0 \n",
       "L 794 531 \n",
       "z\n",
       "\" transform=\"scale(0.015625)\"/>\n",
       "     </defs>\n",
       "     <use xlink:href=\"#DejaVuSans-6c\"/>\n",
       "     <use xlink:href=\"#DejaVuSans-61\" x=\"27.783203\"/>\n",
       "     <use xlink:href=\"#DejaVuSans-62\" x=\"89.0625\"/>\n",
       "     <use xlink:href=\"#DejaVuSans-65\" x=\"152.539062\"/>\n",
       "     <use xlink:href=\"#DejaVuSans-6c\" x=\"214.0625\"/>\n",
       "     <use xlink:href=\"#DejaVuSans-20\" x=\"241.845703\"/>\n",
       "     <use xlink:href=\"#DejaVuSans-3d\" x=\"273.632812\"/>\n",
       "     <use xlink:href=\"#DejaVuSans-20\" x=\"357.421875\"/>\n",
       "     <use xlink:href=\"#DejaVuSans-31\" x=\"389.208984\"/>\n",
       "    </g>\n",
       "   </g>\n",
       "  </g>\n",
       "  <g id=\"axes_5\">\n",
       "   <g id=\"patch_22\">\n",
       "    <path d=\"M 168.252941 309.301654 \n",
       "L 298.7 309.301654 \n",
       "L 298.7 178.854596 \n",
       "L 168.252941 178.854596 \n",
       "z\n",
       "\" style=\"fill: #ffffff\"/>\n",
       "   </g>\n",
       "   <g clip-path=\"url(#p7ec4a8afc5)\">\n",
       "    <image xlink:href=\"data:image/png;base64,\n",
       "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\" id=\"imageb3e73497d3\" transform=\"scale(1 -1) translate(0 -131.04)\" x=\"168.252941\" y=\"-178.261654\" width=\"131.04\" height=\"131.04\"/>\n",
       "   </g>\n",
       "   <g id=\"matplotlib.axis_9\"/>\n",
       "   <g id=\"matplotlib.axis_10\"/>\n",
       "   <g id=\"patch_23\">\n",
       "    <path d=\"M 168.252941 309.301654 \n",
       "L 168.252941 178.854596 \n",
       "\" style=\"fill: none; stroke: #000000; stroke-width: 0.8; stroke-linejoin: miter; stroke-linecap: square\"/>\n",
       "   </g>\n",
       "   <g id=\"patch_24\">\n",
       "    <path d=\"M 298.7 309.301654 \n",
       "L 298.7 178.854596 \n",
       "\" style=\"fill: none; stroke: #000000; stroke-width: 0.8; stroke-linejoin: miter; stroke-linecap: square\"/>\n",
       "   </g>\n",
       "   <g id=\"patch_25\">\n",
       "    <path d=\"M 168.252941 309.301654 \n",
       "L 298.7 309.301654 \n",
       "\" style=\"fill: none; stroke: #000000; stroke-width: 0.8; stroke-linejoin: miter; stroke-linecap: square\"/>\n",
       "   </g>\n",
       "   <g id=\"patch_26\">\n",
       "    <path d=\"M 168.252941 178.854596 \n",
       "L 298.7 178.854596 \n",
       "\" style=\"fill: none; stroke: #000000; stroke-width: 0.8; stroke-linejoin: miter; stroke-linecap: square\"/>\n",
       "   </g>\n",
       "   <g id=\"text_5\">\n",
       "    <!-- label = 9 -->\n",
       "    <g transform=\"translate(206.305846 172.854596) scale(0.12 -0.12)\">\n",
       "     <defs>\n",
       "      <path id=\"DejaVuSans-39\" d=\"M 703 97 \n",
       "L 703 672 \n",
       "Q 941 559 1184 500 \n",
       "Q 1428 441 1663 441 \n",
       "Q 2288 441 2617 861 \n",
       "Q 2947 1281 2994 2138 \n",
       "Q 2813 1869 2534 1725 \n",
       "Q 2256 1581 1919 1581 \n",
       "Q 1219 1581 811 2004 \n",
       "Q 403 2428 403 3163 \n",
       "Q 403 3881 828 4315 \n",
       "Q 1253 4750 1959 4750 \n",
       "Q 2769 4750 3195 4129 \n",
       "Q 3622 3509 3622 2328 \n",
       "Q 3622 1225 3098 567 \n",
       "Q 2575 -91 1691 -91 \n",
       "Q 1453 -91 1209 -44 \n",
       "Q 966 3 703 97 \n",
       "z\n",
       "M 1959 2075 \n",
       "Q 2384 2075 2632 2365 \n",
       "Q 2881 2656 2881 3163 \n",
       "Q 2881 3666 2632 3958 \n",
       "Q 2384 4250 1959 4250 \n",
       "Q 1534 4250 1286 3958 \n",
       "Q 1038 3666 1038 3163 \n",
       "Q 1038 2656 1286 2365 \n",
       "Q 1534 2075 1959 2075 \n",
       "z\n",
       "\" transform=\"scale(0.015625)\"/>\n",
       "     </defs>\n",
       "     <use xlink:href=\"#DejaVuSans-6c\"/>\n",
       "     <use xlink:href=\"#DejaVuSans-61\" x=\"27.783203\"/>\n",
       "     <use xlink:href=\"#DejaVuSans-62\" x=\"89.0625\"/>\n",
       "     <use xlink:href=\"#DejaVuSans-65\" x=\"152.539062\"/>\n",
       "     <use xlink:href=\"#DejaVuSans-6c\" x=\"214.0625\"/>\n",
       "     <use xlink:href=\"#DejaVuSans-20\" x=\"241.845703\"/>\n",
       "     <use xlink:href=\"#DejaVuSans-3d\" x=\"273.632812\"/>\n",
       "     <use xlink:href=\"#DejaVuSans-20\" x=\"357.421875\"/>\n",
       "     <use xlink:href=\"#DejaVuSans-39\" x=\"389.208984\"/>\n",
       "    </g>\n",
       "   </g>\n",
       "  </g>\n",
       "  <g id=\"axes_6\">\n",
       "   <g id=\"patch_27\">\n",
       "    <path d=\"M 325.805882 309.301654 \n",
       "L 456.252941 309.301654 \n",
       "L 456.252941 178.854596 \n",
       "L 325.805882 178.854596 \n",
       "z\n",
       "\" style=\"fill: #ffffff\"/>\n",
       "   </g>\n",
       "   <g clip-path=\"url(#p1a59b49508)\">\n",
       "    <image xlink:href=\"data:image/png;base64,\n",
       "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\" id=\"image52f32e87a1\" transform=\"scale(1 -1) translate(0 -131.04)\" x=\"325.805882\" y=\"-178.261654\" width=\"131.04\" height=\"131.04\"/>\n",
       "   </g>\n",
       "   <g id=\"matplotlib.axis_11\"/>\n",
       "   <g id=\"matplotlib.axis_12\"/>\n",
       "   <g id=\"patch_28\">\n",
       "    <path d=\"M 325.805882 309.301654 \n",
       "L 325.805882 178.854596 \n",
       "\" style=\"fill: none; stroke: #000000; stroke-width: 0.8; stroke-linejoin: miter; stroke-linecap: square\"/>\n",
       "   </g>\n",
       "   <g id=\"patch_29\">\n",
       "    <path d=\"M 456.252941 309.301654 \n",
       "L 456.252941 178.854596 \n",
       "\" style=\"fill: none; stroke: #000000; stroke-width: 0.8; stroke-linejoin: miter; stroke-linecap: square\"/>\n",
       "   </g>\n",
       "   <g id=\"patch_30\">\n",
       "    <path d=\"M 325.805882 309.301654 \n",
       "L 456.252941 309.301654 \n",
       "\" style=\"fill: none; stroke: #000000; stroke-width: 0.8; stroke-linejoin: miter; stroke-linecap: square\"/>\n",
       "   </g>\n",
       "   <g id=\"patch_31\">\n",
       "    <path d=\"M 325.805882 178.854596 \n",
       "L 456.252941 178.854596 \n",
       "\" style=\"fill: none; stroke: #000000; stroke-width: 0.8; stroke-linejoin: miter; stroke-linecap: square\"/>\n",
       "   </g>\n",
       "   <g id=\"text_6\">\n",
       "    <!-- label = 2 -->\n",
       "    <g transform=\"translate(363.858787 172.854596) scale(0.12 -0.12)\">\n",
       "     <defs>\n",
       "      <path id=\"DejaVuSans-32\" d=\"M 1228 531 \n",
       "L 3431 531 \n",
       "L 3431 0 \n",
       "L 469 0 \n",
       "L 469 531 \n",
       "Q 828 903 1448 1529 \n",
       "Q 2069 2156 2228 2338 \n",
       "Q 2531 2678 2651 2914 \n",
       "Q 2772 3150 2772 3378 \n",
       "Q 2772 3750 2511 3984 \n",
       "Q 2250 4219 1831 4219 \n",
       "Q 1534 4219 1204 4116 \n",
       "Q 875 4013 500 3803 \n",
       "L 500 4441 \n",
       "Q 881 4594 1212 4672 \n",
       "Q 1544 4750 1819 4750 \n",
       "Q 2544 4750 2975 4387 \n",
       "Q 3406 4025 3406 3419 \n",
       "Q 3406 3131 3298 2873 \n",
       "Q 3191 2616 2906 2266 \n",
       "Q 2828 2175 2409 1742 \n",
       "Q 1991 1309 1228 531 \n",
       "z\n",
       "\" transform=\"scale(0.015625)\"/>\n",
       "     </defs>\n",
       "     <use xlink:href=\"#DejaVuSans-6c\"/>\n",
       "     <use xlink:href=\"#DejaVuSans-61\" x=\"27.783203\"/>\n",
       "     <use xlink:href=\"#DejaVuSans-62\" x=\"89.0625\"/>\n",
       "     <use xlink:href=\"#DejaVuSans-65\" x=\"152.539062\"/>\n",
       "     <use xlink:href=\"#DejaVuSans-6c\" x=\"214.0625\"/>\n",
       "     <use xlink:href=\"#DejaVuSans-20\" x=\"241.845703\"/>\n",
       "     <use xlink:href=\"#DejaVuSans-3d\" x=\"273.632812\"/>\n",
       "     <use xlink:href=\"#DejaVuSans-20\" x=\"357.421875\"/>\n",
       "     <use xlink:href=\"#DejaVuSans-32\" x=\"389.208984\"/>\n",
       "    </g>\n",
       "   </g>\n",
       "  </g>\n",
       "  <g id=\"axes_7\">\n",
       "   <g id=\"patch_32\">\n",
       "    <path d=\"M 10.7 465.838125 \n",
       "L 141.147059 465.838125 \n",
       "L 141.147059 335.391066 \n",
       "L 10.7 335.391066 \n",
       "z\n",
       "\" style=\"fill: #ffffff\"/>\n",
       "   </g>\n",
       "   <g clip-path=\"url(#p4240850217)\">\n",
       "    <image xlink:href=\"data:image/png;base64,\n",
       "iVBORw0KGgoAAAANSUhEUgAAALYAAAC2CAYAAAB08HcEAAADqElEQVR4nO3cMYtcVRiA4d2swUbZaBEEJRLQKRTBwkIEG1kQBLUwIIJFOouA/8DOUgQtRQsbQQtLsUshBAtTbEBjRLGwUZEVFBENu+sfuGdgxptdffd5ynOYO6d4+YrDzN3c2bxwuAExp477AHArCJskYZMkbJKETZKwSRI2ScImSdgkCZskYZMkbJKETZKwSRI2ScImSdgkCZskYZMkbJKETZKwSRI2ScImSdgk3XbcBzhJth5aTK7vfPTF8DOX7roxuX5qyUx67pmXJ9cPdq8vOV2LiU2SsEkSNknCJknYJAmbJNd9R+jXR++eXB9d6bE+E5skYZMkbJKETZKwSXIrcoRuv/jjcR/hxDCxSRI2ScImSdgkCZskYZPkuu8IXTx3ZXJ92f8XR05vbv3b46SZ2CQJmyRhkyRskoRNkluRmf3w2hPDvZfufGty/WCN7zn/6SvDvcXu+M1SJ4WJTZKwSRI2ScImSdgkCZsk130z+2vx53EfgQ0TmyhhkyRskoRNkrBJcisys6+fene4t86PnUYW7/w949N6TGyShE2SsEkSNknCJknYJLnum9myNzTdPFz9eU/uvji5vv35tdUfdoKY2CQJmyRhkyRskoRNkluRmd083B/uHazxM6jfrpydXN/e+HblZ50kJjZJwiZJ2CQJmyRhkyRskoRNkrBJEjZJwiZJ2CQJmyRhkyRskoRNkrBJEjZJwiZJ2CT5z+PM5n4TFOsxsUkSNknCJknYJAmbJLciM5v7TVCsx8QmSdgkCZskYZMkbJKETZLrvjV998bjg52rR3oOppnYJAmbJGGTJGyShE2SW5Elth44P9x7/dkPZ/uehz94dbi3+PiXyfXxT63Y2DCxiRI2ScImSdgkCZskYZPkum+Z3/8Ybn2y98jk+gt3XF75a85eHb8iav+rb1Z+HiY2UcImSdgkCZskYZPkVmSJ/Z9+Hu59dv2x6Y1zq9+KMD8TmyRhkyRskoRNkrBJEjZJrvuW2DqzPdy7/77p/yLy32BikyRskoRNkrBJEjZJbkWWufee4dbbi/cHO6dvzVlYiYlNkrBJEjZJwiZJ2CQJmyTXfUvsf3ljuPf85UuT698//d7wM2/uPTi5fuba3vgMwx2WMbFJEjZJwiZJ2CQJm6TNnc0L45czw/+UiU2SsEkSNknCJknYJAmbJGGTJGyShE2SsEkSNknCJknYJAmbJGGTJGyShE2SsEkSNknCJknYJAmbJGGTJGyShE3SP2WWVeoPDj7TAAAAAElFTkSuQmCC\" id=\"imaged32b89eead\" transform=\"scale(1 -1) translate(0 -131.04)\" x=\"10.7\" y=\"-334.798125\" width=\"131.04\" height=\"131.04\"/>\n",
       "   </g>\n",
       "   <g id=\"matplotlib.axis_13\"/>\n",
       "   <g id=\"matplotlib.axis_14\"/>\n",
       "   <g id=\"patch_33\">\n",
       "    <path d=\"M 10.7 465.838125 \n",
       "L 10.7 335.391066 \n",
       "\" style=\"fill: none; stroke: #000000; stroke-width: 0.8; stroke-linejoin: miter; stroke-linecap: square\"/>\n",
       "   </g>\n",
       "   <g id=\"patch_34\">\n",
       "    <path d=\"M 141.147059 465.838125 \n",
       "L 141.147059 335.391066 \n",
       "\" style=\"fill: none; stroke: #000000; stroke-width: 0.8; stroke-linejoin: miter; stroke-linecap: square\"/>\n",
       "   </g>\n",
       "   <g id=\"patch_35\">\n",
       "    <path d=\"M 10.7 465.838125 \n",
       "L 141.147059 465.838125 \n",
       "\" style=\"fill: none; stroke: #000000; stroke-width: 0.8; stroke-linejoin: miter; stroke-linecap: square\"/>\n",
       "   </g>\n",
       "   <g id=\"patch_36\">\n",
       "    <path d=\"M 10.7 335.391066 \n",
       "L 141.147059 335.391066 \n",
       "\" style=\"fill: none; stroke: #000000; stroke-width: 0.8; stroke-linejoin: miter; stroke-linecap: square\"/>\n",
       "   </g>\n",
       "   <g id=\"text_7\">\n",
       "    <!-- label = 1 -->\n",
       "    <g transform=\"translate(48.752904 329.391066) scale(0.12 -0.12)\">\n",
       "     <use xlink:href=\"#DejaVuSans-6c\"/>\n",
       "     <use xlink:href=\"#DejaVuSans-61\" x=\"27.783203\"/>\n",
       "     <use xlink:href=\"#DejaVuSans-62\" x=\"89.0625\"/>\n",
       "     <use xlink:href=\"#DejaVuSans-65\" x=\"152.539062\"/>\n",
       "     <use xlink:href=\"#DejaVuSans-6c\" x=\"214.0625\"/>\n",
       "     <use xlink:href=\"#DejaVuSans-20\" x=\"241.845703\"/>\n",
       "     <use xlink:href=\"#DejaVuSans-3d\" x=\"273.632812\"/>\n",
       "     <use xlink:href=\"#DejaVuSans-20\" x=\"357.421875\"/>\n",
       "     <use xlink:href=\"#DejaVuSans-31\" x=\"389.208984\"/>\n",
       "    </g>\n",
       "   </g>\n",
       "  </g>\n",
       "  <g id=\"axes_8\">\n",
       "   <g id=\"patch_37\">\n",
       "    <path d=\"M 168.252941 465.838125 \n",
       "L 298.7 465.838125 \n",
       "L 298.7 335.391066 \n",
       "L 168.252941 335.391066 \n",
       "z\n",
       "\" style=\"fill: #ffffff\"/>\n",
       "   </g>\n",
       "   <g clip-path=\"url(#pa2445e4d17)\">\n",
       "    <image xlink:href=\"data:image/png;base64,\n",
       "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\" id=\"image8a66b31fb3\" transform=\"scale(1 -1) translate(0 -131.04)\" x=\"168.252941\" y=\"-334.798125\" width=\"131.04\" height=\"131.04\"/>\n",
       "   </g>\n",
       "   <g id=\"matplotlib.axis_15\"/>\n",
       "   <g id=\"matplotlib.axis_16\"/>\n",
       "   <g id=\"patch_38\">\n",
       "    <path d=\"M 168.252941 465.838125 \n",
       "L 168.252941 335.391066 \n",
       "\" style=\"fill: none; stroke: #000000; stroke-width: 0.8; stroke-linejoin: miter; stroke-linecap: square\"/>\n",
       "   </g>\n",
       "   <g id=\"patch_39\">\n",
       "    <path d=\"M 298.7 465.838125 \n",
       "L 298.7 335.391066 \n",
       "\" style=\"fill: none; stroke: #000000; stroke-width: 0.8; stroke-linejoin: miter; stroke-linecap: square\"/>\n",
       "   </g>\n",
       "   <g id=\"patch_40\">\n",
       "    <path d=\"M 168.252941 465.838125 \n",
       "L 298.7 465.838125 \n",
       "\" style=\"fill: none; stroke: #000000; stroke-width: 0.8; stroke-linejoin: miter; stroke-linecap: square\"/>\n",
       "   </g>\n",
       "   <g id=\"patch_41\">\n",
       "    <path d=\"M 168.252941 335.391066 \n",
       "L 298.7 335.391066 \n",
       "\" style=\"fill: none; stroke: #000000; stroke-width: 0.8; stroke-linejoin: miter; stroke-linecap: square\"/>\n",
       "   </g>\n",
       "   <g id=\"text_8\">\n",
       "    <!-- label = 3 -->\n",
       "    <g transform=\"translate(206.305846 329.391066) scale(0.12 -0.12)\">\n",
       "     <defs>\n",
       "      <path id=\"DejaVuSans-33\" d=\"M 2597 2516 \n",
       "Q 3050 2419 3304 2112 \n",
       "Q 3559 1806 3559 1356 \n",
       "Q 3559 666 3084 287 \n",
       "Q 2609 -91 1734 -91 \n",
       "Q 1441 -91 1130 -33 \n",
       "Q 819 25 488 141 \n",
       "L 488 750 \n",
       "Q 750 597 1062 519 \n",
       "Q 1375 441 1716 441 \n",
       "Q 2309 441 2620 675 \n",
       "Q 2931 909 2931 1356 \n",
       "Q 2931 1769 2642 2001 \n",
       "Q 2353 2234 1838 2234 \n",
       "L 1294 2234 \n",
       "L 1294 2753 \n",
       "L 1863 2753 \n",
       "Q 2328 2753 2575 2939 \n",
       "Q 2822 3125 2822 3475 \n",
       "Q 2822 3834 2567 4026 \n",
       "Q 2313 4219 1838 4219 \n",
       "Q 1578 4219 1281 4162 \n",
       "Q 984 4106 628 3988 \n",
       "L 628 4550 \n",
       "Q 988 4650 1302 4700 \n",
       "Q 1616 4750 1894 4750 \n",
       "Q 2613 4750 3031 4423 \n",
       "Q 3450 4097 3450 3541 \n",
       "Q 3450 3153 3228 2886 \n",
       "Q 3006 2619 2597 2516 \n",
       "z\n",
       "\" transform=\"scale(0.015625)\"/>\n",
       "     </defs>\n",
       "     <use xlink:href=\"#DejaVuSans-6c\"/>\n",
       "     <use xlink:href=\"#DejaVuSans-61\" x=\"27.783203\"/>\n",
       "     <use xlink:href=\"#DejaVuSans-62\" x=\"89.0625\"/>\n",
       "     <use xlink:href=\"#DejaVuSans-65\" x=\"152.539062\"/>\n",
       "     <use xlink:href=\"#DejaVuSans-6c\" x=\"214.0625\"/>\n",
       "     <use xlink:href=\"#DejaVuSans-20\" x=\"241.845703\"/>\n",
       "     <use xlink:href=\"#DejaVuSans-3d\" x=\"273.632812\"/>\n",
       "     <use xlink:href=\"#DejaVuSans-20\" x=\"357.421875\"/>\n",
       "     <use xlink:href=\"#DejaVuSans-33\" x=\"389.208984\"/>\n",
       "    </g>\n",
       "   </g>\n",
       "  </g>\n",
       "  <g id=\"axes_9\">\n",
       "   <g id=\"patch_42\">\n",
       "    <path d=\"M 325.805882 465.838125 \n",
       "L 456.252941 465.838125 \n",
       "L 456.252941 335.391066 \n",
       "L 325.805882 335.391066 \n",
       "z\n",
       "\" style=\"fill: #ffffff\"/>\n",
       "   </g>\n",
       "   <g clip-path=\"url(#pc5cc49275b)\">\n",
       "    <image xlink:href=\"data:image/png;base64,\n",
       "iVBORw0KGgoAAAANSUhEUgAAALYAAAC2CAYAAAB08HcEAAADoElEQVR4nO3dsWvcZRjA8bumCa0KDoUKQlGoFgQpuFVwEQr+AQZcHFQQCq5u/gkOujjo4iw4ujhJcVNUXDIEpaijNQ5trbRJzlHQ36+Q6+Xu+ObzGd/jpS/hyzM8XNLp1en2bAIxp1b9ADgOwiZJ2CQJmyRhkyRskoRNkrBJEjZJwiZJ2CQJmyRhkyRskoRNkrBJEjZJwiZJ2CSdXvUDTpK9Ly4Nnm8/9cPoneuvvTB4frCzu5A3VZnYJAmbJGGTJGyShE2SrcgSvf/c54Pnz2/dGr3z1aNXjus5aSY2ScImSdgkCZskYZMkbJKs+5bozetvDZ7/9Mono3duXn5s8Pzctwt5UpaJTZKwSRI2ScImSdgk2YqsgZ/3745+du7Tb5b4kg4TmyRhkyRskoRNkrBJEjZJ1n1rYGMyG/3s1Nkzg+eHd+4c13MSTGyShE2SsEkSNknCJslWZInevfLl4PnTpx8ZvbP78fDf1H7m9fG/qY2JTZSwSRI2ScImSdgkCZsk674F+/ONF0c/u/b4R4PnfxyO/87jsx/cGzwf/9oUk4mJTZSwSRI2ScImSdgk2Yos2OEcP9GD2QN+Nezu/eE7R/9nThQTmyRhkyRskoRNkrBJEjZJ1n0LdvvC9Mh3bs3G7xzs7D7Mc04sE5skYZMkbJKETZKwSbIVWbALL/226icwMbGJEjZJwiZJ2CQJmyRhk2TdtwZe/f7t0c+enOws8SUdJjZJwiZJ2CQJmyRhk2QrsgZu743/d3jMx8QmSdgkCZskYZMkbJKETZKwSRI2ScImSdgkCZskYZPkS1Bz2nji/OD5hxc/e8CtM8fzGP7HxCZJ2CQJmyRhkyRskoRNknXfnKabm4PnlzaPvtI7e2PrYZ/Df5jYJAmbJGGTJGyShE2SrcgaOP/d/VU/IcfEJknYJAmbJGGTJGyShE2Sdd8SbUyH58jmX/tLfkmfiU2SsEkSNknCJknYJNmKLNHB7HDVTzgxTGyShE2SsEkSNknCJknYJFn3LdHXfw//uLd+3Ru94+tR8zGxSRI2ScImSdgkCZskW5E5Hfx+c/D85Xeujd65/N6Pg+f7N35ZyJv4l4lNkrBJEjZJwiZJ2CQJm6Tp1en2bNWPgEUzsUkSNknCJknYJAmbJGGTJGyShE2SsEkSNknCJknYJAmbJGGTJGyShE2SsEkSNknCJknYJAmbJGGTJGyShE2SsEkSNknCJknYJAmbJGGTJGyS/gFus1H2ieajhgAAAABJRU5ErkJggg==\" id=\"image471748f3b5\" transform=\"scale(1 -1) translate(0 -131.04)\" x=\"325.805882\" y=\"-334.798125\" width=\"131.04\" height=\"131.04\"/>\n",
       "   </g>\n",
       "   <g id=\"matplotlib.axis_17\"/>\n",
       "   <g id=\"matplotlib.axis_18\"/>\n",
       "   <g id=\"patch_43\">\n",
       "    <path d=\"M 325.805882 465.838125 \n",
       "L 325.805882 335.391066 \n",
       "\" style=\"fill: none; stroke: #000000; stroke-width: 0.8; stroke-linejoin: miter; stroke-linecap: square\"/>\n",
       "   </g>\n",
       "   <g id=\"patch_44\">\n",
       "    <path d=\"M 456.252941 465.838125 \n",
       "L 456.252941 335.391066 \n",
       "\" style=\"fill: none; stroke: #000000; stroke-width: 0.8; stroke-linejoin: miter; stroke-linecap: square\"/>\n",
       "   </g>\n",
       "   <g id=\"patch_45\">\n",
       "    <path d=\"M 325.805882 465.838125 \n",
       "L 456.252941 465.838125 \n",
       "\" style=\"fill: none; stroke: #000000; stroke-width: 0.8; stroke-linejoin: miter; stroke-linecap: square\"/>\n",
       "   </g>\n",
       "   <g id=\"patch_46\">\n",
       "    <path d=\"M 325.805882 335.391066 \n",
       "L 456.252941 335.391066 \n",
       "\" style=\"fill: none; stroke: #000000; stroke-width: 0.8; stroke-linejoin: miter; stroke-linecap: square\"/>\n",
       "   </g>\n",
       "   <g id=\"text_9\">\n",
       "    <!-- label = 1 -->\n",
       "    <g transform=\"translate(363.858787 329.391066) scale(0.12 -0.12)\">\n",
       "     <use xlink:href=\"#DejaVuSans-6c\"/>\n",
       "     <use xlink:href=\"#DejaVuSans-61\" x=\"27.783203\"/>\n",
       "     <use xlink:href=\"#DejaVuSans-62\" x=\"89.0625\"/>\n",
       "     <use xlink:href=\"#DejaVuSans-65\" x=\"152.539062\"/>\n",
       "     <use xlink:href=\"#DejaVuSans-6c\" x=\"214.0625\"/>\n",
       "     <use xlink:href=\"#DejaVuSans-20\" x=\"241.845703\"/>\n",
       "     <use xlink:href=\"#DejaVuSans-3d\" x=\"273.632812\"/>\n",
       "     <use xlink:href=\"#DejaVuSans-20\" x=\"357.421875\"/>\n",
       "     <use xlink:href=\"#DejaVuSans-31\" x=\"389.208984\"/>\n",
       "    </g>\n",
       "   </g>\n",
       "  </g>\n",
       " </g>\n",
       " <defs>\n",
       "  <clipPath id=\"p1327efae87\">\n",
       "   <rect x=\"10.7\" y=\"22.318125\" width=\"130.447059\" height=\"130.447059\"/>\n",
       "  </clipPath>\n",
       "  <clipPath id=\"p20bff7ca9b\">\n",
       "   <rect x=\"168.252941\" y=\"22.318125\" width=\"130.447059\" height=\"130.447059\"/>\n",
       "  </clipPath>\n",
       "  <clipPath id=\"p88e9f9c17f\">\n",
       "   <rect x=\"325.805882\" y=\"22.318125\" width=\"130.447059\" height=\"130.447059\"/>\n",
       "  </clipPath>\n",
       "  <clipPath id=\"p5d2c3fd6f5\">\n",
       "   <rect x=\"10.7\" y=\"178.854596\" width=\"130.447059\" height=\"130.447059\"/>\n",
       "  </clipPath>\n",
       "  <clipPath id=\"p7ec4a8afc5\">\n",
       "   <rect x=\"168.252941\" y=\"178.854596\" width=\"130.447059\" height=\"130.447059\"/>\n",
       "  </clipPath>\n",
       "  <clipPath id=\"p1a59b49508\">\n",
       "   <rect x=\"325.805882\" y=\"178.854596\" width=\"130.447059\" height=\"130.447059\"/>\n",
       "  </clipPath>\n",
       "  <clipPath id=\"p4240850217\">\n",
       "   <rect x=\"10.7\" y=\"335.391066\" width=\"130.447059\" height=\"130.447059\"/>\n",
       "  </clipPath>\n",
       "  <clipPath id=\"pa2445e4d17\">\n",
       "   <rect x=\"168.252941\" y=\"335.391066\" width=\"130.447059\" height=\"130.447059\"/>\n",
       "  </clipPath>\n",
       "  <clipPath id=\"pc5cc49275b\">\n",
       "   <rect x=\"325.805882\" y=\"335.391066\" width=\"130.447059\" height=\"130.447059\"/>\n",
       "  </clipPath>\n",
       " </defs>\n",
       "</svg>\n"
      ],
      "text/plain": [
       "<Figure size 800x800 with 9 Axes>"
      ]
     },
     "metadata": {},
     "output_type": "display_data"
    }
   ],
   "source": [
    "%matplotlib inline\n",
    "%config InlineBackend.figure_format = 'svg'\n",
    "\n",
    "#visual some samples\n",
    "from matplotlib import pyplot as plt \n",
    "\n",
    "plt.figure(figsize=(8,8)) \n",
    "for i in range(9):\n",
    "    img,label = ds_train[i]\n",
    "    img = img.permute(1,2,0)\n",
    "    ax=plt.subplot(3,3,i+1)\n",
    "    ax.imshow(img.numpy())\n",
    "    ax.set_title(\"label = %d\"%label)\n",
    "    ax.set_xticks([])\n",
    "    ax.set_yticks([]) \n",
    "plt.show()\n",
    "\n"
   ]
  },
  {
   "cell_type": "markdown",
   "id": "485da125",
   "metadata": {},
   "source": [
    "## 2, create the  model"
   ]
  },
  {
   "cell_type": "code",
   "execution_count": 8,
   "id": "6174ae8a",
   "metadata": {},
   "outputs": [],
   "source": [
    "def create_net(config):\n",
    "    net = nn.Sequential()\n",
    "    net.add_module(\"conv1\",nn.Conv2d(in_channels=1,out_channels=config.hidden_layer_width,kernel_size = 3))\n",
    "    net.add_module(\"pool1\",nn.MaxPool2d(kernel_size = 2,stride = 2)) \n",
    "    net.add_module(\"conv2\",nn.Conv2d(in_channels=config.hidden_layer_width,\n",
    "                                     out_channels=config.hidden_layer_width,kernel_size = 5))\n",
    "    net.add_module(\"pool2\",nn.MaxPool2d(kernel_size = 2,stride = 2))\n",
    "    net.add_module(\"dropout\",nn.Dropout2d(p = config.dropout_p))\n",
    "    net.add_module(\"adaptive_pool\",nn.AdaptiveMaxPool2d((1,1)))\n",
    "    net.add_module(\"flatten\",nn.Flatten())\n",
    "    net.add_module(\"linear1\",nn.Linear(config.hidden_layer_width,config.hidden_layer_width))\n",
    "    net.add_module(\"relu\",nn.ReLU())\n",
    "    net.add_module(\"linear2\",nn.Linear(config.hidden_layer_width,10))\n",
    "    return net \n",
    "\n",
    "net = create_net(config)\n",
    "\n",
    "class Accuracy(nn.Module):\n",
    "    def __init__(self):\n",
    "        super().__init__()\n",
    "\n",
    "        self.correct = nn.Parameter(torch.tensor(0.0),requires_grad=False)\n",
    "        self.total = nn.Parameter(torch.tensor(0.0),requires_grad=False)\n",
    "\n",
    "    def forward(self, preds: torch.Tensor, targets: torch.Tensor):\n",
    "        preds = preds.argmax(dim=-1)\n",
    "        m = (preds == targets).sum()\n",
    "        n = targets.shape[0] \n",
    "        self.correct += m \n",
    "        self.total += n\n",
    "        \n",
    "        return m/n\n",
    "\n",
    "    def compute(self):\n",
    "        return self.correct.float() / self.total \n",
    "    \n",
    "    def reset(self):\n",
    "        self.correct -= self.correct\n",
    "        self.total -= self.total\n",
    "        "
   ]
  },
  {
   "cell_type": "code",
   "execution_count": 9,
   "id": "ad17716f",
   "metadata": {},
   "outputs": [
    {
     "name": "stdout",
     "output_type": "stream",
     "text": [
      "--------------------------------------------------------------------------\n",
      "Layer (type)                            Output Shape              Param #\n",
      "==========================================================================\n",
      "Conv2d-1                            [-1, 64, 26, 26]                  640\n",
      "MaxPool2d-2                         [-1, 64, 13, 13]                    0\n",
      "Conv2d-3                              [-1, 64, 9, 9]              102,464\n",
      "MaxPool2d-4                           [-1, 64, 4, 4]                    0\n",
      "Dropout2d-5                           [-1, 64, 4, 4]                    0\n",
      "AdaptiveMaxPool2d-6                   [-1, 64, 1, 1]                    0\n",
      "Flatten-7                                   [-1, 64]                    0\n",
      "Linear-8                                    [-1, 64]                4,160\n",
      "ReLU-9                                      [-1, 64]                    0\n",
      "Linear-10                                   [-1, 10]                  650\n",
      "==========================================================================\n",
      "Total params: 107,914\n",
      "Trainable params: 107,914\n",
      "Non-trainable params: 0\n",
      "--------------------------------------------------------------------------\n",
      "Input size (MB): 0.000069\n",
      "Forward/backward pass size (MB): 0.469803\n",
      "Params size (MB): 0.411659\n",
      "Estimated Total Size (MB): 0.881531\n",
      "--------------------------------------------------------------------------\n"
     ]
    }
   ],
   "source": [
    "def create_model(config):\n",
    "    net = create_net(config)\n",
    "    optim_type = torch.optim.__dict__[config.optim_type]\n",
    "    model = torchkeras.KerasModel(net,\n",
    "          loss_fn = nn.CrossEntropyLoss(),\n",
    "          optimizer = optim_type(params=net.parameters(), lr=config.lr),\n",
    "          metrics_dict = {\"acc\":Accuracy()}\n",
    "        )\n",
    "    return model\n",
    "\n",
    "from torchkeras import summary\n",
    "model = create_model(config)\n",
    "summary(model,input_data=features);\n",
    "\n"
   ]
  },
  {
   "cell_type": "markdown",
   "id": "e98c79f5",
   "metadata": {},
   "source": [
    "## 3, train the model"
   ]
  },
  {
   "cell_type": "markdown",
   "id": "060ac38d-bab8-4cae-a0d5-17934206d055",
   "metadata": {},
   "source": [
    "we start train the model once using the default hyperparameters to ensure everything is right.\n"
   ]
  },
  {
   "cell_type": "code",
   "execution_count": 11,
   "id": "54bcc553",
   "metadata": {},
   "outputs": [
    {
     "name": "stdout",
     "output_type": "stream",
     "text": [
      "\u001b[0;31m<<<<<< 🐌 cpu is used >>>>>>\u001b[0m\n"
     ]
    },
    {
     "data": {
      "text/html": [
       "Tracking run with wandb version 0.13.9"
      ],
      "text/plain": [
       "<IPython.core.display.HTML object>"
      ]
     },
     "metadata": {},
     "output_type": "display_data"
    },
    {
     "data": {
      "text/html": [
       "Run data is saved locally in <code>/Users/liangyun2/CodeFiles/torchkeras/wandb/run-20230207_143245-5gsjfrw0</code>"
      ],
      "text/plain": [
       "<IPython.core.display.HTML object>"
      ]
     },
     "metadata": {},
     "output_type": "display_data"
    },
    {
     "data": {
      "text/html": [
       "Syncing run <strong><a href=\"https://wandb.ai/lyhue1991/mnist_torchkeras/runs/5gsjfrw0\" target=\"_blank\">2023-02-07 14:32:45</a></strong> to <a href=\"https://wandb.ai/lyhue1991/mnist_torchkeras\" target=\"_blank\">Weights & Biases</a> (<a href=\"https://wandb.me/run\" target=\"_blank\">docs</a>)<br/>"
      ],
      "text/plain": [
       "<IPython.core.display.HTML object>"
      ]
     },
     "metadata": {},
     "output_type": "display_data"
    },
    {
     "data": {
      "text/html": [
       " View project at <a href=\"https://wandb.ai/lyhue1991/mnist_torchkeras\" target=\"_blank\">https://wandb.ai/lyhue1991/mnist_torchkeras</a>"
      ],
      "text/plain": [
       "<IPython.core.display.HTML object>"
      ]
     },
     "metadata": {},
     "output_type": "display_data"
    },
    {
     "data": {
      "text/html": [
       " View run at <a href=\"https://wandb.ai/lyhue1991/mnist_torchkeras/runs/5gsjfrw0\" target=\"_blank\">https://wandb.ai/lyhue1991/mnist_torchkeras/runs/5gsjfrw0</a>"
      ],
      "text/plain": [
       "<IPython.core.display.HTML object>"
      ]
     },
     "metadata": {},
     "output_type": "display_data"
    },
    {
     "name": "stdout",
     "output_type": "stream",
     "text": [
      "\n",
      "================================================================================2023-02-07 14:32:53\n",
      "Epoch 1 / 15\n",
      "\n",
      "100%|██████████████████| 12/12 [00:04<00:00,  2.65it/s, lr=0.0001, train_acc=0.573, train_loss=1.76]\n",
      "100%|█████████████████████████████████| 20/20 [00:02<00:00,  9.09it/s, val_acc=0.706, val_loss=1.67]\n",
      "\u001b[0;31m<<<<<< reach best val_acc : 0.7063000202178955 >>>>>>\u001b[0m\n",
      "\n",
      "================================================================================2023-02-07 14:33:00\n",
      "Epoch 2 / 15\n",
      "\n",
      "100%|██████████████████| 12/12 [00:04<00:00,  2.74it/s, lr=0.0001, train_acc=0.643, train_loss=1.68]\n",
      "100%|█████████████████████████████████| 20/20 [00:02<00:00,  9.17it/s, val_acc=0.765, val_loss=1.57]\n",
      "\u001b[0;31m<<<<<< reach best val_acc : 0.7651000022888184 >>>>>>\u001b[0m\n",
      "\n",
      "================================================================================2023-02-07 14:33:06\n",
      "Epoch 3 / 15\n",
      "\n",
      "100%|██████████████████| 12/12 [00:04<00:00,  2.55it/s, lr=0.0001, train_acc=0.645, train_loss=1.59]\n",
      "100%|█████████████████████████████████| 20/20 [00:02<00:00,  8.56it/s, val_acc=0.786, val_loss=1.48]\n",
      "\u001b[0;31m<<<<<< reach best val_acc : 0.7857000231742859 >>>>>>\u001b[0m\n",
      "\n",
      "================================================================================2023-02-07 14:33:14\n",
      "Epoch 4 / 15\n",
      "\n",
      "100%|██████████████████| 12/12 [00:04<00:00,  2.54it/s, lr=0.0001, train_acc=0.686, train_loss=1.51]\n",
      "100%|█████████████████████████████████| 20/20 [00:02<00:00,  8.29it/s, val_acc=0.818, val_loss=1.39]\n",
      "\u001b[0;31m<<<<<< reach best val_acc : 0.8184999823570251 >>>>>>\u001b[0m\n",
      "\n",
      "================================================================================2023-02-07 14:33:21\n",
      "Epoch 5 / 15\n",
      "\n",
      "100%|███████████████████| 12/12 [00:04<00:00,  2.66it/s, lr=0.0001, train_acc=0.71, train_loss=1.41]\n",
      "100%|██████████████████████████████████| 20/20 [00:02<00:00,  8.71it/s, val_acc=0.826, val_loss=1.3]\n",
      "\u001b[0;31m<<<<<< reach best val_acc : 0.8263999819755554 >>>>>>\u001b[0m\n",
      "\n",
      "================================================================================2023-02-07 14:33:28\n",
      "Epoch 6 / 15\n",
      "\n",
      "100%|██████████████████| 12/12 [00:04<00:00,  2.71it/s, lr=0.0001, train_acc=0.733, train_loss=1.33]\n",
      "100%|█████████████████████████████████| 20/20 [00:02<00:00,  8.40it/s, val_acc=0.845, val_loss=1.21]\n",
      "\u001b[0;31m<<<<<< reach best val_acc : 0.8450999855995178 >>>>>>\u001b[0m\n",
      "\n",
      "================================================================================2023-02-07 14:33:34\n",
      "Epoch 7 / 15\n",
      "\n",
      "100%|██████████████████| 12/12 [00:04<00:00,  2.66it/s, lr=0.0001, train_acc=0.748, train_loss=1.25]\n",
      "100%|█████████████████████████████████| 20/20 [00:02<00:00,  9.12it/s, val_acc=0.849, val_loss=1.12]\n",
      "\u001b[0;31m<<<<<< reach best val_acc : 0.8490999937057495 >>>>>>\u001b[0m\n",
      "\n",
      "================================================================================2023-02-07 14:33:41\n",
      "Epoch 8 / 15\n",
      "\n",
      "100%|██████████████████| 12/12 [00:04<00:00,  2.51it/s, lr=0.0001, train_acc=0.762, train_loss=1.17]\n",
      "100%|█████████████████████████████████| 20/20 [00:02<00:00,  8.67it/s, val_acc=0.857, val_loss=1.04]\n",
      "\u001b[0;31m<<<<<< reach best val_acc : 0.8574000000953674 >>>>>>\u001b[0m\n",
      "\n",
      "================================================================================2023-02-07 14:33:48\n",
      "Epoch 9 / 15\n",
      "\n",
      "100%|███████████████████| 12/12 [00:04<00:00,  2.83it/s, lr=0.0001, train_acc=0.769, train_loss=1.1]\n",
      "100%|████████████████████████████████| 20/20 [00:02<00:00,  8.65it/s, val_acc=0.866, val_loss=0.964]\n",
      "\u001b[0;31m<<<<<< reach best val_acc : 0.8664000034332275 >>>>>>\u001b[0m\n",
      "\n",
      "================================================================================2023-02-07 14:33:55\n",
      "Epoch 10 / 15\n",
      "\n",
      "100%|██████████████████| 12/12 [00:04<00:00,  2.71it/s, lr=0.0001, train_acc=0.785, train_loss=1.02]\n",
      "100%|████████████████████████████████| 20/20 [00:02<00:00,  8.69it/s, val_acc=0.871, val_loss=0.893]\n",
      "\u001b[0;31m<<<<<< reach best val_acc : 0.8712999820709229 >>>>>>\u001b[0m\n",
      "\n",
      "================================================================================2023-02-07 14:34:01\n",
      "Epoch 11 / 15\n",
      "\n",
      "100%|██████████████████| 12/12 [00:04<00:00,  2.75it/s, lr=0.0001, train_acc=0.79, train_loss=0.969]\n",
      "100%|████████████████████████████████| 20/20 [00:02<00:00,  9.08it/s, val_acc=0.874, val_loss=0.829]\n",
      "\u001b[0;31m<<<<<< reach best val_acc : 0.8743000030517578 >>>>>>\u001b[0m\n",
      "\n",
      "================================================================================2023-02-07 14:34:08\n",
      "Epoch 12 / 15\n",
      "\n",
      "100%|█████████████████| 12/12 [00:04<00:00,  2.64it/s, lr=0.0001, train_acc=0.807, train_loss=0.905]\n",
      "100%|████████████████████████████████| 20/20 [00:02<00:00,  9.05it/s, val_acc=0.879, val_loss=0.774]\n",
      "\u001b[0;31m<<<<<< reach best val_acc : 0.8787000179290771 >>>>>>\u001b[0m\n",
      "\n",
      "================================================================================2023-02-07 14:34:15\n",
      "Epoch 13 / 15\n",
      "\n",
      "100%|█████████████████| 12/12 [00:04<00:00,  2.73it/s, lr=0.0001, train_acc=0.816, train_loss=0.851]\n",
      "100%|█████████████████████████████████| 20/20 [00:02<00:00,  8.29it/s, val_acc=0.884, val_loss=0.72]\n",
      "\u001b[0;31m<<<<<< reach best val_acc : 0.883899986743927 >>>>>>\u001b[0m\n",
      "\n",
      "================================================================================2023-02-07 14:34:22\n",
      "Epoch 14 / 15\n",
      "\n",
      "100%|█████████████████| 12/12 [00:04<00:00,  2.45it/s, lr=0.0001, train_acc=0.822, train_loss=0.801]\n",
      "100%|████████████████████████████████| 20/20 [00:02<00:00,  8.01it/s, val_acc=0.886, val_loss=0.674]\n",
      "\u001b[0;31m<<<<<< reach best val_acc : 0.8859999775886536 >>>>>>\u001b[0m\n",
      "\n",
      "================================================================================2023-02-07 14:34:29\n",
      "Epoch 15 / 15\n",
      "\n",
      "100%|█████████████████| 12/12 [00:04<00:00,  2.68it/s, lr=0.0001, train_acc=0.831, train_loss=0.755]\n",
      "100%|████████████████████████████████| 20/20 [00:02<00:00,  8.56it/s, val_acc=0.891, val_loss=0.632]\n",
      "\u001b[0;31m<<<<<< reach best val_acc : 0.8909000158309937 >>>>>>\u001b[0m\n",
      "    epoch  train_loss  train_acc      lr  val_loss  val_acc\n",
      "0       1    1.757595   0.573000  0.0001  1.667398   0.7063\n",
      "1       2    1.677442   0.643000  0.0001  1.574891   0.7651\n",
      "2       3    1.590015   0.645000  0.0001  1.484543   0.7857\n",
      "3       4    1.508809   0.686000  0.0001  1.388418   0.8185\n",
      "4       5    1.414975   0.710000  0.0001  1.299086   0.8264\n",
      "5       6    1.327756   0.733333  0.0001  1.208950   0.8451\n",
      "6       7    1.253490   0.748000  0.0001  1.120964   0.8491\n",
      "7       8    1.171132   0.761667  0.0001  1.040663   0.8574\n",
      "8       9    1.101371   0.768833  0.0001  0.964349   0.8664\n",
      "9      10    1.024419   0.784833  0.0001  0.892811   0.8713\n",
      "10     11    0.968760   0.790333  0.0001  0.829149   0.8743\n",
      "11     12    0.905306   0.806500  0.0001  0.774353   0.8787\n",
      "12     13    0.851196   0.816167  0.0001  0.719902   0.8839\n",
      "13     14    0.801464   0.821667  0.0001  0.673553   0.8860\n",
      "14     15    0.755362   0.830667  0.0001  0.632009   0.8909\n"
     ]
    },
    {
     "data": {
      "text/html": [
       "Waiting for W&B process to finish... <strong style=\"color:green\">(success).</strong>"
      ],
      "text/plain": [
       "<IPython.core.display.HTML object>"
      ]
     },
     "metadata": {},
     "output_type": "display_data"
    },
    {
     "data": {
      "text/html": [
       "<style>\n",
       "    table.wandb td:nth-child(1) { padding: 0 10px; text-align: left ; width: auto;} td:nth-child(2) {text-align: left ; width: 100%}\n",
       "    .wandb-row { display: flex; flex-direction: row; flex-wrap: wrap; justify-content: flex-start; width: 100% }\n",
       "    .wandb-col { display: flex; flex-direction: column; flex-basis: 100%; flex: 1; padding: 10px; }\n",
       "    </style>\n",
       "<div class=\"wandb-row\"><div class=\"wandb-col\"><h3>Run history:</h3><br/><table class=\"wandb\"><tr><td>best_val_acc</td><td>▁▃▄▅▆▆▆▇▇▇▇████</td></tr><tr><td>epoch</td><td>▁▁▂▃▃▃▄▅▅▅▆▇▇▇█</td></tr><tr><td>lr</td><td>▁▁▁▁▁▁▁▁▁▁▁▁▁▁▁</td></tr><tr><td>train_acc</td><td>▁▃▃▄▅▅▆▆▆▇▇▇███</td></tr><tr><td>train_loss</td><td>█▇▇▆▆▅▄▄▃▃▂▂▂▁▁</td></tr><tr><td>val_acc</td><td>▁▃▄▅▆▆▆▇▇▇▇████</td></tr><tr><td>val_loss</td><td>█▇▇▆▆▅▄▄▃▃▂▂▂▁▁</td></tr></table><br/></div><div class=\"wandb-col\"><h3>Run summary:</h3><br/><table class=\"wandb\"><tr><td>best_score</td><td>0.8909</td></tr><tr><td>best_val_acc</td><td>0.8909</td></tr><tr><td>epoch</td><td>15.0</td></tr><tr><td>lr</td><td>0.0001</td></tr><tr><td>train_acc</td><td>0.83067</td></tr><tr><td>train_loss</td><td>0.75536</td></tr><tr><td>val_acc</td><td>0.8909</td></tr><tr><td>val_loss</td><td>0.63201</td></tr></table><br/></div></div>"
      ],
      "text/plain": [
       "<IPython.core.display.HTML object>"
      ]
     },
     "metadata": {},
     "output_type": "display_data"
    },
    {
     "data": {
      "text/html": [
       " View run <strong style=\"color:#cdcd00\">2023-02-07 14:32:45</strong> at: <a href=\"https://wandb.ai/lyhue1991/mnist_torchkeras/runs/5gsjfrw0\" target=\"_blank\">https://wandb.ai/lyhue1991/mnist_torchkeras/runs/5gsjfrw0</a><br/>Synced 7 W&B file(s), 2 media file(s), 1 artifact file(s) and 3 other file(s)"
      ],
      "text/plain": [
       "<IPython.core.display.HTML object>"
      ]
     },
     "metadata": {},
     "output_type": "display_data"
    },
    {
     "data": {
      "text/html": [
       "Find logs at: <code>./wandb/run-20230207_143245-5gsjfrw0/logs</code>"
      ],
      "text/plain": [
       "<IPython.core.display.HTML object>"
      ]
     },
     "metadata": {},
     "output_type": "display_data"
    }
   ],
   "source": [
    "from torchkeras.kerascallbacks import WandbCallback,MiniLogCallback\n",
    "\n",
    "wandb_cb = WandbCallback(project=config.project_name,\n",
    "                         config=config,\n",
    "                         name=None,\n",
    "                         save_code=True,\n",
    "                         save_ckpt=True)\n",
    "\n",
    "dfhistory=model.fit(train_data=dl_train, \n",
    "                    val_data=dl_val, \n",
    "                    epochs=config.epochs, \n",
    "                    patience=3, \n",
    "                    monitor=\"val_acc\",\n",
    "                    mode=\"max\",\n",
    "                    ckpt_path='checkpoint.pt',\n",
    "                    callbacks = [wandb_cb]\n",
    "                   )\n"
   ]
  },
  {
   "cell_type": "code",
   "execution_count": null,
   "id": "679e03b8-4d70-4691-b760-94e7d9ae5fcc",
   "metadata": {},
   "outputs": [],
   "source": []
  },
  {
   "cell_type": "markdown",
   "id": "627a59f4-e8c8-4ce2-92ad-a8feda19aa8a",
   "metadata": {},
   "source": [
    "## 4, tune hyperparameters \n"
   ]
  },
  {
   "cell_type": "code",
   "execution_count": 12,
   "id": "f9955f78-37e8-48cc-89c4-c0b87b0089dc",
   "metadata": {},
   "outputs": [],
   "source": [
    "from argparse import Namespace\n",
    "\n",
    "config = Namespace(\n",
    "    project_name = 'mnist_torchkeras',\n",
    "    \n",
    "    batch_size = 512,\n",
    "    \n",
    "    hidden_layer_width = 64,\n",
    "    dropout_p = 0.1,\n",
    "    \n",
    "    lr = 1e-4,\n",
    "    optim_type = 'Adam',\n",
    "    \n",
    "    epochs = 10,\n",
    "    ckpt_path = 'checkpoint.pt'\n",
    ")\n"
   ]
  },
  {
   "cell_type": "code",
   "execution_count": 13,
   "id": "6429a417-96ae-4561-bf21-d4fde55fb1b3",
   "metadata": {},
   "outputs": [
    {
     "name": "stdout",
     "output_type": "stream",
     "text": [
      "{'early_terminate': {'eta': 2, 'min_iter': 3, 's': 3, 'type': 'hyperband'},\n",
      " 'method': 'random',\n",
      " 'metric': {'goal': 'maximize', 'name': 'val_acc'},\n",
      " 'parameters': {'batch_size': {'distribution': 'q_log_uniform_values',\n",
      "                               'max': 256,\n",
      "                               'min': 32,\n",
      "                               'q': 8},\n",
      "                'ckpt_path': {'value': 'checkpoint.pt'},\n",
      "                'dropout_p': {'distribution': 'uniform', 'max': 0.6, 'min': 0},\n",
      "                'epochs': {'value': 10},\n",
      "                'hidden_layer_width': {'values': [16,\n",
      "                                                  32,\n",
      "                                                  48,\n",
      "                                                  64,\n",
      "                                                  80,\n",
      "                                                  96,\n",
      "                                                  112,\n",
      "                                                  128]},\n",
      "                'lr': {'distribution': 'log_uniform_values',\n",
      "                       'max': 0.1,\n",
      "                       'min': 1e-06},\n",
      "                'optim_type': {'values': ['Adam', 'SGD', 'AdamW']},\n",
      "                'project_name': {'value': 'mnist_torchkeras'}}}\n"
     ]
    }
   ],
   "source": [
    "#1，search method\n",
    "sweep_config = {'method': 'random'} # one of ['grid','random','bayes']\n",
    "\n",
    "#2，search target\n",
    "sweep_config['metric'] =  {'name': 'val_acc', 'goal': 'maximize'}\n",
    "\n",
    "#3，hyperparameters space\n",
    "sweep_config['parameters'] = {}\n",
    "\n",
    "#fixed hyperparameters\n",
    "sweep_config['parameters'].update({\n",
    "    'project_name':{'value':config.project_name},\n",
    "    'epochs': {'value': 10},\n",
    "    'ckpt_path': {'value':'checkpoint.pt'}})\n",
    "\n",
    "#discrete hyperparameters\n",
    "sweep_config['parameters'].update({\n",
    "    'optim_type': {\n",
    "        'values': ['Adam', 'SGD','AdamW']\n",
    "        },\n",
    "    'hidden_layer_width': {\n",
    "        'values': [16,32,48,64,80,96,112,128]\n",
    "        }\n",
    "    })\n",
    "\n",
    "#continuous hyperparameters\n",
    "sweep_config['parameters'].update({\n",
    "    \n",
    "    'lr': {\n",
    "        'distribution': 'log_uniform_values',\n",
    "        'min': 1e-6,\n",
    "        'max': 0.1\n",
    "      },\n",
    "    \n",
    "    'batch_size': {\n",
    "        'distribution': 'q_log_uniform_values',\n",
    "        'q': 8,\n",
    "        'min': 32,\n",
    "        'max': 256,\n",
    "      },\n",
    "    \n",
    "    'dropout_p': {\n",
    "        'distribution': 'uniform',\n",
    "        'min': 0,\n",
    "        'max': 0.6,\n",
    "      }\n",
    "})\n",
    "\n",
    "\n",
    "\n",
    "#4, prune strategy\n",
    "\n",
    "#decide prune or not at epoch 3,6,12\n",
    "sweep_config['early_terminate'] = {'type':'hyperband','min_iter':3, 'eta': 2, 's':3} \n",
    "\n",
    "from pprint import pprint \n",
    "pprint(sweep_config)\n",
    "\n",
    "\n"
   ]
  },
  {
   "cell_type": "code",
   "execution_count": 14,
   "id": "c3cb80a5-7427-42fd-b964-33e423e8ada4",
   "metadata": {},
   "outputs": [
    {
     "name": "stdout",
     "output_type": "stream",
     "text": [
      "Create sweep with ID: ne3wz8k3\n",
      "Sweep URL: https://wandb.ai/lyhue1991/mnist_torchkeras/sweeps/ne3wz8k3\n"
     ]
    }
   ],
   "source": [
    "sweep_id = wandb.sweep(sweep_config, project='mnist_torchkeras')\n"
   ]
  },
  {
   "cell_type": "code",
   "execution_count": 16,
   "id": "262140c7-8030-470c-841e-ac9616b2a13e",
   "metadata": {},
   "outputs": [],
   "source": [
    "from torchkeras.kerascallbacks import WandbCallback,MiniLogCallback\n",
    "\n",
    "def train(config=None):\n",
    "    \n",
    "    wandb_cb = WandbCallback(project='mnist_torchkeras',\n",
    "                            config=config,\n",
    "                            save_code=True)\n",
    "    \n",
    "    with wandb.init(project = wandb_cb.project,\n",
    "                    config = wandb_cb.config,\n",
    "                    name = wandb_cb.name):\n",
    "        \n",
    "        config = wandb.config\n",
    "        \n",
    "        #1，prepare datasets\n",
    "        dl_train, dl_val =  create_dataloaders(config)\n",
    "        \n",
    "        #2，prepare model\n",
    "        model = create_model(config)\n",
    "        \n",
    "        #2，fit the model\n",
    "        mini_log_cb = MiniLogCallback()\n",
    "        import contextlib\n",
    "        with open('training.log','w') as f, contextlib.redirect_stdout(f):\n",
    "            dfhistory = model.fit(\n",
    "                train_data = dl_train,\n",
    "                val_data=dl_val,\n",
    "                epochs=config.epochs,\n",
    "                ckpt_path=config.ckpt_path,\n",
    "                patience=3,\n",
    "                monitor='val_acc',\n",
    "                mode='max',\n",
    "                mixed_precision='no',\n",
    "                callbacks= [wandb_cb,mini_log_cb])\n",
    "            \n",
    "        return model\n",
    "    "
   ]
  },
  {
   "cell_type": "code",
   "execution_count": 17,
   "id": "e620f434-7176-4226-b9cd-dc24ea9a29c3",
   "metadata": {},
   "outputs": [
    {
     "name": "stderr",
     "output_type": "stream",
     "text": [
      "\u001b[34m\u001b[1mwandb\u001b[0m: Agent Starting Run: kci98cyx with config:\n",
      "\u001b[34m\u001b[1mwandb\u001b[0m: \tbatch_size: 48\n",
      "\u001b[34m\u001b[1mwandb\u001b[0m: \tckpt_path: checkpoint.pt\n",
      "\u001b[34m\u001b[1mwandb\u001b[0m: \tdropout_p: 0.008867025716607512\n",
      "\u001b[34m\u001b[1mwandb\u001b[0m: \tepochs: 10\n",
      "\u001b[34m\u001b[1mwandb\u001b[0m: \thidden_layer_width: 32\n",
      "\u001b[34m\u001b[1mwandb\u001b[0m: \tlr: 0.0007143031691417582\n",
      "\u001b[34m\u001b[1mwandb\u001b[0m: \toptim_type: Adam\n",
      "\u001b[34m\u001b[1mwandb\u001b[0m: \tproject_name: mnist_torchkeras\n",
      "Failed to detect the name of this notebook, you can set it manually with the WANDB_NOTEBOOK_NAME environment variable to enable code saving.\n",
      "\u001b[34m\u001b[1mwandb\u001b[0m: \u001b[33mWARNING\u001b[0m Ignored wandb.init() arg project when running a sweep.\n"
     ]
    },
    {
     "data": {
      "application/vnd.jupyter.widget-view+json": {
       "model_id": "99ebcc6477e444c59289c39a2bd63f9e",
       "version_major": 2,
       "version_minor": 0
      },
      "text/plain": [
       "VBox(children=(Label(value='Waiting for wandb.init()...\\r'), FloatProgress(value=0.016752066666667058, max=1.0…"
      ]
     },
     "metadata": {},
     "output_type": "display_data"
    },
    {
     "data": {
      "text/html": [
       "Tracking run with wandb version 0.13.9"
      ],
      "text/plain": [
       "<IPython.core.display.HTML object>"
      ]
     },
     "metadata": {},
     "output_type": "display_data"
    },
    {
     "data": {
      "text/html": [
       "Run data is saved locally in <code>/Users/liangyun2/CodeFiles/torchkeras/wandb/run-20230207_143659-kci98cyx</code>"
      ],
      "text/plain": [
       "<IPython.core.display.HTML object>"
      ]
     },
     "metadata": {},
     "output_type": "display_data"
    },
    {
     "data": {
      "text/html": [
       "Syncing run <strong><a href=\"https://wandb.ai/lyhue1991/mnist_torchkeras/runs/kci98cyx\" target=\"_blank\">2023-02-07 14:36:57</a></strong> to <a href=\"https://wandb.ai/lyhue1991/mnist_torchkeras\" target=\"_blank\">Weights & Biases</a> (<a href=\"https://wandb.me/run\" target=\"_blank\">docs</a>)<br/>Sweep page: <a href=\"https://wandb.ai/lyhue1991/mnist_torchkeras/sweeps/ne3wz8k3\" target=\"_blank\">https://wandb.ai/lyhue1991/mnist_torchkeras/sweeps/ne3wz8k3</a>"
      ],
      "text/plain": [
       "<IPython.core.display.HTML object>"
      ]
     },
     "metadata": {},
     "output_type": "display_data"
    },
    {
     "data": {
      "text/html": [
       " View project at <a href=\"https://wandb.ai/lyhue1991/mnist_torchkeras\" target=\"_blank\">https://wandb.ai/lyhue1991/mnist_torchkeras</a>"
      ],
      "text/plain": [
       "<IPython.core.display.HTML object>"
      ]
     },
     "metadata": {},
     "output_type": "display_data"
    },
    {
     "data": {
      "text/html": [
       " View sweep at <a href=\"https://wandb.ai/lyhue1991/mnist_torchkeras/sweeps/ne3wz8k3\" target=\"_blank\">https://wandb.ai/lyhue1991/mnist_torchkeras/sweeps/ne3wz8k3</a>"
      ],
      "text/plain": [
       "<IPython.core.display.HTML object>"
      ]
     },
     "metadata": {},
     "output_type": "display_data"
    },
    {
     "data": {
      "text/html": [
       " View run at <a href=\"https://wandb.ai/lyhue1991/mnist_torchkeras/runs/kci98cyx\" target=\"_blank\">https://wandb.ai/lyhue1991/mnist_torchkeras/runs/kci98cyx</a>"
      ],
      "text/plain": [
       "<IPython.core.display.HTML object>"
      ]
     },
     "metadata": {},
     "output_type": "display_data"
    },
    {
     "name": "stderr",
     "output_type": "stream",
     "text": [
      "epoch【10】@2023-02-07 14:37:56 --> best_val_acc = 0.9476000070571899\r"
     ]
    },
    {
     "data": {
      "text/html": [
       "Waiting for W&B process to finish... <strong style=\"color:green\">(success).</strong>"
      ],
      "text/plain": [
       "<IPython.core.display.HTML object>"
      ]
     },
     "metadata": {},
     "output_type": "display_data"
    },
    {
     "data": {
      "text/html": [
       "<style>\n",
       "    table.wandb td:nth-child(1) { padding: 0 10px; text-align: left ; width: auto;} td:nth-child(2) {text-align: left ; width: 100%}\n",
       "    .wandb-row { display: flex; flex-direction: row; flex-wrap: wrap; justify-content: flex-start; width: 100% }\n",
       "    .wandb-col { display: flex; flex-direction: column; flex-basis: 100%; flex: 1; padding: 10px; }\n",
       "    </style>\n",
       "<div class=\"wandb-row\"><div class=\"wandb-col\"><h3>Run history:</h3><br/><table class=\"wandb\"><tr><td>best_val_acc</td><td>▁▆▆▇▇█████</td></tr><tr><td>epoch</td><td>▁▂▃▃▄▅▆▆▇█</td></tr><tr><td>lr</td><td>▁▁▁▁▁▁▁▁▁▁</td></tr><tr><td>train_acc</td><td>▁▆▇▇██████</td></tr><tr><td>train_loss</td><td>█▄▂▂▁▁▁▁▁▁</td></tr><tr><td>val_acc</td><td>▁▆▆▇▇█████</td></tr><tr><td>val_loss</td><td>█▃▂▂▂▁▁▁▁▁</td></tr></table><br/></div><div class=\"wandb-col\"><h3>Run summary:</h3><br/><table class=\"wandb\"><tr><td>best_score</td><td>0.9476</td></tr><tr><td>best_val_acc</td><td>0.9476</td></tr><tr><td>epoch</td><td>10.0</td></tr><tr><td>lr</td><td>0.00071</td></tr><tr><td>train_acc</td><td>0.95233</td></tr><tr><td>train_loss</td><td>0.17249</td></tr><tr><td>val_acc</td><td>0.9476</td></tr><tr><td>val_loss</td><td>0.17224</td></tr></table><br/></div></div>"
      ],
      "text/plain": [
       "<IPython.core.display.HTML object>"
      ]
     },
     "metadata": {},
     "output_type": "display_data"
    },
    {
     "data": {
      "text/html": [
       " View run <strong style=\"color:#cdcd00\">2023-02-07 14:36:57</strong> at: <a href=\"https://wandb.ai/lyhue1991/mnist_torchkeras/runs/kci98cyx\" target=\"_blank\">https://wandb.ai/lyhue1991/mnist_torchkeras/runs/kci98cyx</a><br/>Synced 6 W&B file(s), 2 media file(s), 1 artifact file(s) and 2 other file(s)"
      ],
      "text/plain": [
       "<IPython.core.display.HTML object>"
      ]
     },
     "metadata": {},
     "output_type": "display_data"
    },
    {
     "data": {
      "text/html": [
       "Find logs at: <code>./wandb/run-20230207_143659-kci98cyx/logs</code>"
      ],
      "text/plain": [
       "<IPython.core.display.HTML object>"
      ]
     },
     "metadata": {},
     "output_type": "display_data"
    },
    {
     "name": "stderr",
     "output_type": "stream",
     "text": [
      "\u001b[34m\u001b[1mwandb\u001b[0m: Sweep Agent: Waiting for job.\n",
      "\u001b[34m\u001b[1mwandb\u001b[0m: Job received.\n",
      "\u001b[34m\u001b[1mwandb\u001b[0m: Agent Starting Run: 5nsggpfq with config:\n",
      "\u001b[34m\u001b[1mwandb\u001b[0m: \tbatch_size: 168\n",
      "\u001b[34m\u001b[1mwandb\u001b[0m: \tckpt_path: checkpoint.pt\n",
      "\u001b[34m\u001b[1mwandb\u001b[0m: \tdropout_p: 0.3647552723480366\n",
      "\u001b[34m\u001b[1mwandb\u001b[0m: \tepochs: 10\n",
      "\u001b[34m\u001b[1mwandb\u001b[0m: \thidden_layer_width: 128\n",
      "\u001b[34m\u001b[1mwandb\u001b[0m: \tlr: 0.0013760447138439903\n",
      "\u001b[34m\u001b[1mwandb\u001b[0m: \toptim_type: Adam\n",
      "\u001b[34m\u001b[1mwandb\u001b[0m: \tproject_name: mnist_torchkeras\n",
      "Failed to detect the name of this notebook, you can set it manually with the WANDB_NOTEBOOK_NAME environment variable to enable code saving.\n",
      "\u001b[34m\u001b[1mwandb\u001b[0m: \u001b[33mWARNING\u001b[0m Ignored wandb.init() arg project when running a sweep.\n"
     ]
    },
    {
     "data": {
      "application/vnd.jupyter.widget-view+json": {
       "model_id": "16c9b8f29f7042f0a26fb57b0d9b9205",
       "version_major": 2,
       "version_minor": 0
      },
      "text/plain": [
       "VBox(children=(Label(value='Waiting for wandb.init()...\\r'), FloatProgress(value=0.01675218819999979, max=1.0)…"
      ]
     },
     "metadata": {},
     "output_type": "display_data"
    },
    {
     "data": {
      "text/html": [
       "Tracking run with wandb version 0.13.9"
      ],
      "text/plain": [
       "<IPython.core.display.HTML object>"
      ]
     },
     "metadata": {},
     "output_type": "display_data"
    },
    {
     "data": {
      "text/html": [
       "Run data is saved locally in <code>/Users/liangyun2/CodeFiles/torchkeras/wandb/run-20230207_143832-5nsggpfq</code>"
      ],
      "text/plain": [
       "<IPython.core.display.HTML object>"
      ]
     },
     "metadata": {},
     "output_type": "display_data"
    },
    {
     "data": {
      "text/html": [
       "Syncing run <strong><a href=\"https://wandb.ai/lyhue1991/mnist_torchkeras/runs/5nsggpfq\" target=\"_blank\">2023-02-07 14:38:30</a></strong> to <a href=\"https://wandb.ai/lyhue1991/mnist_torchkeras\" target=\"_blank\">Weights & Biases</a> (<a href=\"https://wandb.me/run\" target=\"_blank\">docs</a>)<br/>Sweep page: <a href=\"https://wandb.ai/lyhue1991/mnist_torchkeras/sweeps/ne3wz8k3\" target=\"_blank\">https://wandb.ai/lyhue1991/mnist_torchkeras/sweeps/ne3wz8k3</a>"
      ],
      "text/plain": [
       "<IPython.core.display.HTML object>"
      ]
     },
     "metadata": {},
     "output_type": "display_data"
    },
    {
     "data": {
      "text/html": [
       " View project at <a href=\"https://wandb.ai/lyhue1991/mnist_torchkeras\" target=\"_blank\">https://wandb.ai/lyhue1991/mnist_torchkeras</a>"
      ],
      "text/plain": [
       "<IPython.core.display.HTML object>"
      ]
     },
     "metadata": {},
     "output_type": "display_data"
    },
    {
     "data": {
      "text/html": [
       " View sweep at <a href=\"https://wandb.ai/lyhue1991/mnist_torchkeras/sweeps/ne3wz8k3\" target=\"_blank\">https://wandb.ai/lyhue1991/mnist_torchkeras/sweeps/ne3wz8k3</a>"
      ],
      "text/plain": [
       "<IPython.core.display.HTML object>"
      ]
     },
     "metadata": {},
     "output_type": "display_data"
    },
    {
     "data": {
      "text/html": [
       " View run at <a href=\"https://wandb.ai/lyhue1991/mnist_torchkeras/runs/5nsggpfq\" target=\"_blank\">https://wandb.ai/lyhue1991/mnist_torchkeras/runs/5nsggpfq</a>"
      ],
      "text/plain": [
       "<IPython.core.display.HTML object>"
      ]
     },
     "metadata": {},
     "output_type": "display_data"
    },
    {
     "name": "stderr",
     "output_type": "stream",
     "text": [
      "epoch【10】@2023-02-07 14:40:38 --> best_val_acc = 0.9707000255584717\r"
     ]
    },
    {
     "data": {
      "text/html": [
       "Waiting for W&B process to finish... <strong style=\"color:green\">(success).</strong>"
      ],
      "text/plain": [
       "<IPython.core.display.HTML object>"
      ]
     },
     "metadata": {},
     "output_type": "display_data"
    },
    {
     "data": {
      "text/html": [
       "<style>\n",
       "    table.wandb td:nth-child(1) { padding: 0 10px; text-align: left ; width: auto;} td:nth-child(2) {text-align: left ; width: 100%}\n",
       "    .wandb-row { display: flex; flex-direction: row; flex-wrap: wrap; justify-content: flex-start; width: 100% }\n",
       "    .wandb-col { display: flex; flex-direction: column; flex-basis: 100%; flex: 1; padding: 10px; }\n",
       "    </style>\n",
       "<div class=\"wandb-row\"><div class=\"wandb-col\"><h3>Run history:</h3><br/><table class=\"wandb\"><tr><td>best_val_acc</td><td>▁▄▇▇▇▇▇███</td></tr><tr><td>epoch</td><td>▁▂▃▃▄▅▆▆▇█</td></tr><tr><td>lr</td><td>▁▁▁▁▁▁▁▁▁▁</td></tr><tr><td>train_acc</td><td>▁▇▇███████</td></tr><tr><td>train_loss</td><td>█▃▂▂▁▁▁▁▁▁</td></tr><tr><td>val_acc</td><td>▁▄▇▇▇▇▇███</td></tr><tr><td>val_loss</td><td>█▄▂▂▁▁▂▁▁▁</td></tr></table><br/></div><div class=\"wandb-col\"><h3>Run summary:</h3><br/><table class=\"wandb\"><tr><td>best_score</td><td>0.9707</td></tr><tr><td>best_val_acc</td><td>0.9707</td></tr><tr><td>epoch</td><td>10.0</td></tr><tr><td>lr</td><td>0.00138</td></tr><tr><td>train_acc</td><td>0.97233</td></tr><tr><td>train_loss</td><td>0.08129</td></tr><tr><td>val_acc</td><td>0.9681</td></tr><tr><td>val_loss</td><td>0.09655</td></tr></table><br/></div></div>"
      ],
      "text/plain": [
       "<IPython.core.display.HTML object>"
      ]
     },
     "metadata": {},
     "output_type": "display_data"
    },
    {
     "data": {
      "text/html": [
       " View run <strong style=\"color:#cdcd00\">2023-02-07 14:38:30</strong> at: <a href=\"https://wandb.ai/lyhue1991/mnist_torchkeras/runs/5nsggpfq\" target=\"_blank\">https://wandb.ai/lyhue1991/mnist_torchkeras/runs/5nsggpfq</a><br/>Synced 6 W&B file(s), 2 media file(s), 1 artifact file(s) and 2 other file(s)"
      ],
      "text/plain": [
       "<IPython.core.display.HTML object>"
      ]
     },
     "metadata": {},
     "output_type": "display_data"
    },
    {
     "data": {
      "text/html": [
       "Find logs at: <code>./wandb/run-20230207_143832-5nsggpfq/logs</code>"
      ],
      "text/plain": [
       "<IPython.core.display.HTML object>"
      ]
     },
     "metadata": {},
     "output_type": "display_data"
    },
    {
     "name": "stderr",
     "output_type": "stream",
     "text": [
      "\u001b[34m\u001b[1mwandb\u001b[0m: Agent Starting Run: rtz82tiq with config:\n",
      "\u001b[34m\u001b[1mwandb\u001b[0m: \tbatch_size: 224\n",
      "\u001b[34m\u001b[1mwandb\u001b[0m: \tckpt_path: checkpoint.pt\n",
      "\u001b[34m\u001b[1mwandb\u001b[0m: \tdropout_p: 0.029987727612876425\n",
      "\u001b[34m\u001b[1mwandb\u001b[0m: \tepochs: 10\n",
      "\u001b[34m\u001b[1mwandb\u001b[0m: \thidden_layer_width: 48\n",
      "\u001b[34m\u001b[1mwandb\u001b[0m: \tlr: 8.557824417088818e-05\n",
      "\u001b[34m\u001b[1mwandb\u001b[0m: \toptim_type: Adam\n",
      "\u001b[34m\u001b[1mwandb\u001b[0m: \tproject_name: mnist_torchkeras\n",
      "Failed to detect the name of this notebook, you can set it manually with the WANDB_NOTEBOOK_NAME environment variable to enable code saving.\n",
      "\u001b[34m\u001b[1mwandb\u001b[0m: \u001b[33mWARNING\u001b[0m Ignored wandb.init() arg project when running a sweep.\n"
     ]
    },
    {
     "data": {
      "application/vnd.jupyter.widget-view+json": {
       "model_id": "7b8e58598503444a8241c4e4fec073df",
       "version_major": 2,
       "version_minor": 0
      },
      "text/plain": [
       "VBox(children=(Label(value='Waiting for wandb.init()...\\r'), FloatProgress(value=0.016719676400000102, max=1.0…"
      ]
     },
     "metadata": {},
     "output_type": "display_data"
    },
    {
     "data": {
      "text/html": [
       "Tracking run with wandb version 0.13.9"
      ],
      "text/plain": [
       "<IPython.core.display.HTML object>"
      ]
     },
     "metadata": {},
     "output_type": "display_data"
    },
    {
     "data": {
      "text/html": [
       "Run data is saved locally in <code>/Users/liangyun2/CodeFiles/torchkeras/wandb/run-20230207_144058-rtz82tiq</code>"
      ],
      "text/plain": [
       "<IPython.core.display.HTML object>"
      ]
     },
     "metadata": {},
     "output_type": "display_data"
    },
    {
     "data": {
      "text/html": [
       "Syncing run <strong><a href=\"https://wandb.ai/lyhue1991/mnist_torchkeras/runs/rtz82tiq\" target=\"_blank\">2023-02-07 14:40:56</a></strong> to <a href=\"https://wandb.ai/lyhue1991/mnist_torchkeras\" target=\"_blank\">Weights & Biases</a> (<a href=\"https://wandb.me/run\" target=\"_blank\">docs</a>)<br/>Sweep page: <a href=\"https://wandb.ai/lyhue1991/mnist_torchkeras/sweeps/ne3wz8k3\" target=\"_blank\">https://wandb.ai/lyhue1991/mnist_torchkeras/sweeps/ne3wz8k3</a>"
      ],
      "text/plain": [
       "<IPython.core.display.HTML object>"
      ]
     },
     "metadata": {},
     "output_type": "display_data"
    },
    {
     "data": {
      "text/html": [
       " View project at <a href=\"https://wandb.ai/lyhue1991/mnist_torchkeras\" target=\"_blank\">https://wandb.ai/lyhue1991/mnist_torchkeras</a>"
      ],
      "text/plain": [
       "<IPython.core.display.HTML object>"
      ]
     },
     "metadata": {},
     "output_type": "display_data"
    },
    {
     "data": {
      "text/html": [
       " View sweep at <a href=\"https://wandb.ai/lyhue1991/mnist_torchkeras/sweeps/ne3wz8k3\" target=\"_blank\">https://wandb.ai/lyhue1991/mnist_torchkeras/sweeps/ne3wz8k3</a>"
      ],
      "text/plain": [
       "<IPython.core.display.HTML object>"
      ]
     },
     "metadata": {},
     "output_type": "display_data"
    },
    {
     "data": {
      "text/html": [
       " View run at <a href=\"https://wandb.ai/lyhue1991/mnist_torchkeras/runs/rtz82tiq\" target=\"_blank\">https://wandb.ai/lyhue1991/mnist_torchkeras/runs/rtz82tiq</a>"
      ],
      "text/plain": [
       "<IPython.core.display.HTML object>"
      ]
     },
     "metadata": {},
     "output_type": "display_data"
    },
    {
     "name": "stderr",
     "output_type": "stream",
     "text": [
      "epoch【10】@2023-02-07 14:42:00 --> best_val_acc = 0.7857000231742859\r"
     ]
    },
    {
     "data": {
      "text/html": [
       "Waiting for W&B process to finish... <strong style=\"color:green\">(success).</strong>"
      ],
      "text/plain": [
       "<IPython.core.display.HTML object>"
      ]
     },
     "metadata": {},
     "output_type": "display_data"
    },
    {
     "data": {
      "text/html": [
       "<style>\n",
       "    table.wandb td:nth-child(1) { padding: 0 10px; text-align: left ; width: auto;} td:nth-child(2) {text-align: left ; width: 100%}\n",
       "    .wandb-row { display: flex; flex-direction: row; flex-wrap: wrap; justify-content: flex-start; width: 100% }\n",
       "    .wandb-col { display: flex; flex-direction: column; flex-basis: 100%; flex: 1; padding: 10px; }\n",
       "    </style>\n",
       "<div class=\"wandb-row\"><div class=\"wandb-col\"><h3>Run history:</h3><br/><table class=\"wandb\"><tr><td>best_val_acc</td><td>▁▂▃▅▆▆▇▇██</td></tr><tr><td>epoch</td><td>▁▂▃▃▄▅▆▆▇█</td></tr><tr><td>lr</td><td>▁▁▁▁▁▁▁▁▁▁</td></tr><tr><td>train_acc</td><td>▁▂▃▄▅▆▇▇██</td></tr><tr><td>train_loss</td><td>██▇▇▆▅▄▃▂▁</td></tr><tr><td>val_acc</td><td>▁▂▃▅▆▆▇▇██</td></tr><tr><td>val_loss</td><td>██▇▆▆▅▄▃▂▁</td></tr></table><br/></div><div class=\"wandb-col\"><h3>Run summary:</h3><br/><table class=\"wandb\"><tr><td>best_score</td><td>0.7857</td></tr><tr><td>best_val_acc</td><td>0.7857</td></tr><tr><td>epoch</td><td>10.0</td></tr><tr><td>lr</td><td>9e-05</td></tr><tr><td>train_acc</td><td>0.70433</td></tr><tr><td>train_loss</td><td>1.51818</td></tr><tr><td>val_acc</td><td>0.7857</td></tr><tr><td>val_loss</td><td>1.43522</td></tr></table><br/></div></div>"
      ],
      "text/plain": [
       "<IPython.core.display.HTML object>"
      ]
     },
     "metadata": {},
     "output_type": "display_data"
    },
    {
     "data": {
      "text/html": [
       " View run <strong style=\"color:#cdcd00\">2023-02-07 14:40:56</strong> at: <a href=\"https://wandb.ai/lyhue1991/mnist_torchkeras/runs/rtz82tiq\" target=\"_blank\">https://wandb.ai/lyhue1991/mnist_torchkeras/runs/rtz82tiq</a><br/>Synced 6 W&B file(s), 2 media file(s), 1 artifact file(s) and 2 other file(s)"
      ],
      "text/plain": [
       "<IPython.core.display.HTML object>"
      ]
     },
     "metadata": {},
     "output_type": "display_data"
    },
    {
     "data": {
      "text/html": [
       "Find logs at: <code>./wandb/run-20230207_144058-rtz82tiq/logs</code>"
      ],
      "text/plain": [
       "<IPython.core.display.HTML object>"
      ]
     },
     "metadata": {},
     "output_type": "display_data"
    },
    {
     "name": "stderr",
     "output_type": "stream",
     "text": [
      "\u001b[34m\u001b[1mwandb\u001b[0m: Sweep Agent: Waiting for job.\n",
      "\u001b[34m\u001b[1mwandb\u001b[0m: Job received.\n",
      "\u001b[34m\u001b[1mwandb\u001b[0m: Agent Starting Run: t2en6p3w with config:\n",
      "\u001b[34m\u001b[1mwandb\u001b[0m: \tbatch_size: 88\n",
      "\u001b[34m\u001b[1mwandb\u001b[0m: \tckpt_path: checkpoint.pt\n",
      "\u001b[34m\u001b[1mwandb\u001b[0m: \tdropout_p: 0.43865740655519714\n",
      "\u001b[34m\u001b[1mwandb\u001b[0m: \tepochs: 10\n",
      "\u001b[34m\u001b[1mwandb\u001b[0m: \thidden_layer_width: 80\n",
      "\u001b[34m\u001b[1mwandb\u001b[0m: \tlr: 0.0021908568878640225\n",
      "\u001b[34m\u001b[1mwandb\u001b[0m: \toptim_type: SGD\n",
      "\u001b[34m\u001b[1mwandb\u001b[0m: \tproject_name: mnist_torchkeras\n",
      "Failed to detect the name of this notebook, you can set it manually with the WANDB_NOTEBOOK_NAME environment variable to enable code saving.\n",
      "\u001b[34m\u001b[1mwandb\u001b[0m: \u001b[33mWARNING\u001b[0m Ignored wandb.init() arg project when running a sweep.\n"
     ]
    },
    {
     "data": {
      "application/vnd.jupyter.widget-view+json": {
       "model_id": "9680219576664cc9969bf776731f386c",
       "version_major": 2,
       "version_minor": 0
      },
      "text/plain": [
       "VBox(children=(Label(value='Waiting for wandb.init()...\\r'), FloatProgress(value=0.01675115903333335, max=1.0)…"
      ]
     },
     "metadata": {},
     "output_type": "display_data"
    },
    {
     "data": {
      "text/html": [
       "Tracking run with wandb version 0.13.9"
      ],
      "text/plain": [
       "<IPython.core.display.HTML object>"
      ]
     },
     "metadata": {},
     "output_type": "display_data"
    },
    {
     "data": {
      "text/html": [
       "Run data is saved locally in <code>/Users/liangyun2/CodeFiles/torchkeras/wandb/run-20230207_144233-t2en6p3w</code>"
      ],
      "text/plain": [
       "<IPython.core.display.HTML object>"
      ]
     },
     "metadata": {},
     "output_type": "display_data"
    },
    {
     "data": {
      "text/html": [
       "Syncing run <strong><a href=\"https://wandb.ai/lyhue1991/mnist_torchkeras/runs/t2en6p3w\" target=\"_blank\">2023-02-07 14:42:30</a></strong> to <a href=\"https://wandb.ai/lyhue1991/mnist_torchkeras\" target=\"_blank\">Weights & Biases</a> (<a href=\"https://wandb.me/run\" target=\"_blank\">docs</a>)<br/>Sweep page: <a href=\"https://wandb.ai/lyhue1991/mnist_torchkeras/sweeps/ne3wz8k3\" target=\"_blank\">https://wandb.ai/lyhue1991/mnist_torchkeras/sweeps/ne3wz8k3</a>"
      ],
      "text/plain": [
       "<IPython.core.display.HTML object>"
      ]
     },
     "metadata": {},
     "output_type": "display_data"
    },
    {
     "data": {
      "text/html": [
       " View project at <a href=\"https://wandb.ai/lyhue1991/mnist_torchkeras\" target=\"_blank\">https://wandb.ai/lyhue1991/mnist_torchkeras</a>"
      ],
      "text/plain": [
       "<IPython.core.display.HTML object>"
      ]
     },
     "metadata": {},
     "output_type": "display_data"
    },
    {
     "data": {
      "text/html": [
       " View sweep at <a href=\"https://wandb.ai/lyhue1991/mnist_torchkeras/sweeps/ne3wz8k3\" target=\"_blank\">https://wandb.ai/lyhue1991/mnist_torchkeras/sweeps/ne3wz8k3</a>"
      ],
      "text/plain": [
       "<IPython.core.display.HTML object>"
      ]
     },
     "metadata": {},
     "output_type": "display_data"
    },
    {
     "data": {
      "text/html": [
       " View run at <a href=\"https://wandb.ai/lyhue1991/mnist_torchkeras/runs/t2en6p3w\" target=\"_blank\">https://wandb.ai/lyhue1991/mnist_torchkeras/runs/t2en6p3w</a>"
      ],
      "text/plain": [
       "<IPython.core.display.HTML object>"
      ]
     },
     "metadata": {},
     "output_type": "display_data"
    },
    {
     "name": "stderr",
     "output_type": "stream",
     "text": [
      "epoch【10】@2023-02-07 14:44:06 --> best_val_acc = 0.24799999594688416\r"
     ]
    },
    {
     "data": {
      "text/html": [
       "Waiting for W&B process to finish... <strong style=\"color:green\">(success).</strong>"
      ],
      "text/plain": [
       "<IPython.core.display.HTML object>"
      ]
     },
     "metadata": {},
     "output_type": "display_data"
    },
    {
     "data": {
      "text/html": [
       "<style>\n",
       "    table.wandb td:nth-child(1) { padding: 0 10px; text-align: left ; width: auto;} td:nth-child(2) {text-align: left ; width: 100%}\n",
       "    .wandb-row { display: flex; flex-direction: row; flex-wrap: wrap; justify-content: flex-start; width: 100% }\n",
       "    .wandb-col { display: flex; flex-direction: column; flex-basis: 100%; flex: 1; padding: 10px; }\n",
       "    </style>\n",
       "<div class=\"wandb-row\"><div class=\"wandb-col\"><h3>Run history:</h3><br/><table class=\"wandb\"><tr><td>best_val_acc</td><td>▁▁▂▂▂▂▃▅▆█</td></tr><tr><td>epoch</td><td>▁▂▃▃▄▅▆▆▇█</td></tr><tr><td>lr</td><td>▁▁▁▁▁▁▁▁▁▁</td></tr><tr><td>train_acc</td><td>▁▁▂▃▄▄▅▆▇█</td></tr><tr><td>train_loss</td><td>█▇▆▅▅▄▃▃▂▁</td></tr><tr><td>val_acc</td><td>▁▁▂▂▂▂▃▅▆█</td></tr><tr><td>val_loss</td><td>█▇▆▆▅▄▄▃▂▁</td></tr></table><br/></div><div class=\"wandb-col\"><h3>Run summary:</h3><br/><table class=\"wandb\"><tr><td>best_score</td><td>0.248</td></tr><tr><td>best_val_acc</td><td>0.248</td></tr><tr><td>epoch</td><td>10.0</td></tr><tr><td>lr</td><td>0.00219</td></tr><tr><td>train_acc</td><td>0.18617</td></tr><tr><td>train_loss</td><td>2.27504</td></tr><tr><td>val_acc</td><td>0.248</td></tr><tr><td>val_loss</td><td>2.27004</td></tr></table><br/></div></div>"
      ],
      "text/plain": [
       "<IPython.core.display.HTML object>"
      ]
     },
     "metadata": {},
     "output_type": "display_data"
    },
    {
     "data": {
      "text/html": [
       " View run <strong style=\"color:#cdcd00\">2023-02-07 14:42:30</strong> at: <a href=\"https://wandb.ai/lyhue1991/mnist_torchkeras/runs/t2en6p3w\" target=\"_blank\">https://wandb.ai/lyhue1991/mnist_torchkeras/runs/t2en6p3w</a><br/>Synced 6 W&B file(s), 2 media file(s), 1 artifact file(s) and 2 other file(s)"
      ],
      "text/plain": [
       "<IPython.core.display.HTML object>"
      ]
     },
     "metadata": {},
     "output_type": "display_data"
    },
    {
     "data": {
      "text/html": [
       "Find logs at: <code>./wandb/run-20230207_144233-t2en6p3w/logs</code>"
      ],
      "text/plain": [
       "<IPython.core.display.HTML object>"
      ]
     },
     "metadata": {},
     "output_type": "display_data"
    },
    {
     "name": "stderr",
     "output_type": "stream",
     "text": [
      "\u001b[34m\u001b[1mwandb\u001b[0m: Agent Starting Run: f4a284vy with config:\n",
      "\u001b[34m\u001b[1mwandb\u001b[0m: \tbatch_size: 176\n",
      "\u001b[34m\u001b[1mwandb\u001b[0m: \tckpt_path: checkpoint.pt\n",
      "\u001b[34m\u001b[1mwandb\u001b[0m: \tdropout_p: 0.0477474801587983\n",
      "\u001b[34m\u001b[1mwandb\u001b[0m: \tepochs: 10\n",
      "\u001b[34m\u001b[1mwandb\u001b[0m: \thidden_layer_width: 96\n",
      "\u001b[34m\u001b[1mwandb\u001b[0m: \tlr: 0.0010393795785333295\n",
      "\u001b[34m\u001b[1mwandb\u001b[0m: \toptim_type: AdamW\n",
      "\u001b[34m\u001b[1mwandb\u001b[0m: \tproject_name: mnist_torchkeras\n",
      "Failed to detect the name of this notebook, you can set it manually with the WANDB_NOTEBOOK_NAME environment variable to enable code saving.\n",
      "\u001b[34m\u001b[1mwandb\u001b[0m: \u001b[33mWARNING\u001b[0m Ignored wandb.init() arg project when running a sweep.\n"
     ]
    },
    {
     "data": {
      "text/html": [
       "Tracking run with wandb version 0.13.9"
      ],
      "text/plain": [
       "<IPython.core.display.HTML object>"
      ]
     },
     "metadata": {},
     "output_type": "display_data"
    },
    {
     "data": {
      "text/html": [
       "Run data is saved locally in <code>/Users/liangyun2/CodeFiles/torchkeras/wandb/run-20230207_144426-f4a284vy</code>"
      ],
      "text/plain": [
       "<IPython.core.display.HTML object>"
      ]
     },
     "metadata": {},
     "output_type": "display_data"
    },
    {
     "data": {
      "text/html": [
       "Syncing run <strong><a href=\"https://wandb.ai/lyhue1991/mnist_torchkeras/runs/f4a284vy\" target=\"_blank\">2023-02-07 14:44:24</a></strong> to <a href=\"https://wandb.ai/lyhue1991/mnist_torchkeras\" target=\"_blank\">Weights & Biases</a> (<a href=\"https://wandb.me/run\" target=\"_blank\">docs</a>)<br/>Sweep page: <a href=\"https://wandb.ai/lyhue1991/mnist_torchkeras/sweeps/ne3wz8k3\" target=\"_blank\">https://wandb.ai/lyhue1991/mnist_torchkeras/sweeps/ne3wz8k3</a>"
      ],
      "text/plain": [
       "<IPython.core.display.HTML object>"
      ]
     },
     "metadata": {},
     "output_type": "display_data"
    },
    {
     "data": {
      "text/html": [
       " View project at <a href=\"https://wandb.ai/lyhue1991/mnist_torchkeras\" target=\"_blank\">https://wandb.ai/lyhue1991/mnist_torchkeras</a>"
      ],
      "text/plain": [
       "<IPython.core.display.HTML object>"
      ]
     },
     "metadata": {},
     "output_type": "display_data"
    },
    {
     "data": {
      "text/html": [
       " View sweep at <a href=\"https://wandb.ai/lyhue1991/mnist_torchkeras/sweeps/ne3wz8k3\" target=\"_blank\">https://wandb.ai/lyhue1991/mnist_torchkeras/sweeps/ne3wz8k3</a>"
      ],
      "text/plain": [
       "<IPython.core.display.HTML object>"
      ]
     },
     "metadata": {},
     "output_type": "display_data"
    },
    {
     "data": {
      "text/html": [
       " View run at <a href=\"https://wandb.ai/lyhue1991/mnist_torchkeras/runs/f4a284vy\" target=\"_blank\">https://wandb.ai/lyhue1991/mnist_torchkeras/runs/f4a284vy</a>"
      ],
      "text/plain": [
       "<IPython.core.display.HTML object>"
      ]
     },
     "metadata": {},
     "output_type": "display_data"
    },
    {
     "name": "stderr",
     "output_type": "stream",
     "text": [
      "epoch【10】@2023-02-07 14:46:08 --> best_val_acc = 0.9652000069618225\r"
     ]
    },
    {
     "data": {
      "text/html": [
       "Waiting for W&B process to finish... <strong style=\"color:green\">(success).</strong>"
      ],
      "text/plain": [
       "<IPython.core.display.HTML object>"
      ]
     },
     "metadata": {},
     "output_type": "display_data"
    },
    {
     "data": {
      "text/html": [
       "<style>\n",
       "    table.wandb td:nth-child(1) { padding: 0 10px; text-align: left ; width: auto;} td:nth-child(2) {text-align: left ; width: 100%}\n",
       "    .wandb-row { display: flex; flex-direction: row; flex-wrap: wrap; justify-content: flex-start; width: 100% }\n",
       "    .wandb-col { display: flex; flex-direction: column; flex-basis: 100%; flex: 1; padding: 10px; }\n",
       "    </style>\n",
       "<div class=\"wandb-row\"><div class=\"wandb-col\"><h3>Run history:</h3><br/><table class=\"wandb\"><tr><td>best_val_acc</td><td>▁▆▇███████</td></tr><tr><td>epoch</td><td>▁▂▃▃▄▅▆▆▇█</td></tr><tr><td>lr</td><td>▁▁▁▁▁▁▁▁▁▁</td></tr><tr><td>train_acc</td><td>▁▆▇▇██████</td></tr><tr><td>train_loss</td><td>█▃▂▂▁▁▁▁▁▁</td></tr><tr><td>val_acc</td><td>▁▆▇███████</td></tr><tr><td>val_loss</td><td>█▃▂▂▁▁▁▁▁▁</td></tr></table><br/></div><div class=\"wandb-col\"><h3>Run summary:</h3><br/><table class=\"wandb\"><tr><td>best_score</td><td>0.9652</td></tr><tr><td>best_val_acc</td><td>0.9652</td></tr><tr><td>epoch</td><td>10.0</td></tr><tr><td>lr</td><td>0.00104</td></tr><tr><td>train_acc</td><td>0.97483</td></tr><tr><td>train_loss</td><td>0.07928</td></tr><tr><td>val_acc</td><td>0.9652</td></tr><tr><td>val_loss</td><td>0.11169</td></tr></table><br/></div></div>"
      ],
      "text/plain": [
       "<IPython.core.display.HTML object>"
      ]
     },
     "metadata": {},
     "output_type": "display_data"
    },
    {
     "data": {
      "text/html": [
       " View run <strong style=\"color:#cdcd00\">2023-02-07 14:44:24</strong> at: <a href=\"https://wandb.ai/lyhue1991/mnist_torchkeras/runs/f4a284vy\" target=\"_blank\">https://wandb.ai/lyhue1991/mnist_torchkeras/runs/f4a284vy</a><br/>Synced 6 W&B file(s), 2 media file(s), 1 artifact file(s) and 2 other file(s)"
      ],
      "text/plain": [
       "<IPython.core.display.HTML object>"
      ]
     },
     "metadata": {},
     "output_type": "display_data"
    },
    {
     "data": {
      "text/html": [
       "Find logs at: <code>./wandb/run-20230207_144426-f4a284vy/logs</code>"
      ],
      "text/plain": [
       "<IPython.core.display.HTML object>"
      ]
     },
     "metadata": {},
     "output_type": "display_data"
    }
   ],
   "source": [
    "# try 5 times\n",
    "wandb.agent(sweep_id, train, count=5)"
   ]
  },
  {
   "cell_type": "code",
   "execution_count": null,
   "id": "2a413621-859d-4c83-95a2-9146362e5c59",
   "metadata": {},
   "outputs": [],
   "source": []
  },
  {
   "cell_type": "markdown",
   "id": "46479e12-1c56-47f1-b36e-edee38912b72",
   "metadata": {},
   "source": [
    "## 5, load the best checkpoint \n"
   ]
  },
  {
   "cell_type": "code",
   "execution_count": 20,
   "id": "43fd8747-377b-424d-be4f-d547f90f88a4",
   "metadata": {},
   "outputs": [],
   "source": [
    "import pandas as pd \n",
    "import wandb\n",
    "api = wandb.Api()\n",
    "    \n",
    "entity, project = \"lyhue1991\", \"mnist_torchkeras\"  # set to your entity and project \n",
    "\n",
    "def get_best_run_id(entity,project,metric_mode='max'):\n",
    "    runs = api.runs(entity + \"/\" + project) \n",
    "    data = []\n",
    "    for run in runs:\n",
    "        run_info = {'run_id':run.id,'run_name':run.name,'best_score':run.summary['best_score']}\n",
    "        data.append(run_info)\n",
    "    dfruns = pd.DataFrame(data) \n",
    "    dfruns.sort_values(by = 'best_score', \n",
    "                   ascending= False if metric_mode=='max' else True,\n",
    "                   inplace = True)\n",
    "    best_run_id = dfruns['run_id'].iloc[0]\n",
    "    return best_run_id \n",
    "\n",
    "def get_model_versions(entity,project):\n",
    "    model_versions = api.artifact_versions('model',\n",
    "        name = entity + \"/\" + project+'/' + 'checkpoint')\n",
    "    return [x.version for x in model_versions]\n"
   ]
  },
  {
   "cell_type": "code",
   "execution_count": 21,
   "id": "171dd497-eec3-4477-b90a-008c1fa9e024",
   "metadata": {},
   "outputs": [
    {
     "name": "stdout",
     "output_type": "stream",
     "text": [
      "2a61qmcd\n"
     ]
    }
   ],
   "source": [
    "best_run_id = get_best_run_id(entity,project)\n",
    "print(best_run_id)"
   ]
  },
  {
   "cell_type": "code",
   "execution_count": 22,
   "id": "254c492f-9384-4959-8556-499d3430a1df",
   "metadata": {},
   "outputs": [
    {
     "name": "stdout",
     "output_type": "stream",
     "text": [
      "['v32', 'v31', 'v30', 'v29', 'v28', 'v27', 'v26', 'v20', 'v14', 'v13', 'v9', 'v3', 'v2', 'v1', 'v0']\n"
     ]
    }
   ],
   "source": [
    "model_versions = get_model_versions(entity,project)\n",
    "print(model_versions)"
   ]
  },
  {
   "cell_type": "code",
   "execution_count": 23,
   "id": "57c4f304-1aa3-4744-88be-83c374da8ff4",
   "metadata": {},
   "outputs": [],
   "source": [
    "best_run = api.run(path= entity + \"/\" + project+'/'+ best_run_id)"
   ]
  },
  {
   "cell_type": "code",
   "execution_count": 24,
   "id": "e9ad3402-3596-46b4-82c6-615f9e347c4c",
   "metadata": {},
   "outputs": [
    {
     "name": "stdout",
     "output_type": "stream",
     "text": [
      "v2\n"
     ]
    },
    {
     "name": "stderr",
     "output_type": "stream",
     "text": [
      "\u001b[34m\u001b[1mwandb\u001b[0m:   1 of 1 files downloaded.  \n"
     ]
    },
    {
     "data": {
      "text/plain": [
       "'best_ckpt'"
      ]
     },
     "execution_count": 24,
     "metadata": {},
     "output_type": "execute_result"
    }
   ],
   "source": [
    "best_model_arti = None\n",
    "for arti in best_run.logged_artifacts():\n",
    "    if arti.type=='model':\n",
    "        best_model_arti = arti\n",
    "\n",
    "print(best_model_arti.version) \n",
    "\n",
    "best_model_arti.download(root='best_ckpt')"
   ]
  },
  {
   "cell_type": "code",
   "execution_count": null,
   "id": "4229ccce",
   "metadata": {},
   "outputs": [],
   "source": []
  }
 ],
 "metadata": {
  "jupytext": {
   "cell_metadata_filter": "-all",
   "main_language": "python",
   "notebook_metadata_filter": "-all"
  },
  "kernelspec": {
   "display_name": "Python 3 (ipykernel)",
   "language": "python",
   "name": "python3"
  },
  "language_info": {
   "codemirror_mode": {
    "name": "ipython",
    "version": 3
   },
   "file_extension": ".py",
   "mimetype": "text/x-python",
   "name": "python",
   "nbconvert_exporter": "python",
   "pygments_lexer": "ipython3",
   "version": "3.9.0"
  }
 },
 "nbformat": 4,
 "nbformat_minor": 5
}
