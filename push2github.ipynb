{
 "cells": [
  {
   "cell_type": "markdown",
   "id": "5d828e3d",
   "metadata": {},
   "source": [
    "### Upload to  Pypi"
   ]
  },
  {
   "cell_type": "code",
   "execution_count": null,
   "id": "60b279bc",
   "metadata": {},
   "outputs": [],
   "source": [
    "%run setup.py sdist bdist_wheel\n"
   ]
  },
  {
   "cell_type": "code",
   "execution_count": null,
   "id": "30676d3d",
   "metadata": {},
   "outputs": [],
   "source": [
    "#!pip install --user --upgrade twine"
   ]
  },
  {
   "cell_type": "code",
   "execution_count": null,
   "id": "8becab65",
   "metadata": {},
   "outputs": [],
   "source": [
    "# upload the repository to pypi (test)\n",
    "#!python3 -m twine upload --repository-url https://test.pypi.org/legacy/ dist/*"
   ]
  },
  {
   "cell_type": "code",
   "execution_count": null,
   "id": "e918e7d1",
   "metadata": {},
   "outputs": [],
   "source": [
    "# install the repository from pypi (test)\n",
    "#!python3 -m pip install --index-url https://test.pypi.org/simple/ --no-deps torchkeras"
   ]
  },
  {
   "cell_type": "code",
   "execution_count": null,
   "id": "460b5d4b",
   "metadata": {},
   "outputs": [],
   "source": []
  },
  {
   "cell_type": "markdown",
   "id": "639a6307",
   "metadata": {},
   "source": [
    "### Upload to github"
   ]
  },
  {
   "cell_type": "code",
   "execution_count": 1,
   "id": "7a76c373",
   "metadata": {},
   "outputs": [],
   "source": [
    "!git config --global user.name \"lyhue1991\"\n",
    "!git config --global user.email \"lyhue1991@163.com\""
   ]
  },
  {
   "cell_type": "code",
   "execution_count": null,
   "id": "2d1e9cae",
   "metadata": {},
   "outputs": [],
   "source": [
    "#!git reset  b37a9b8"
   ]
  },
  {
   "cell_type": "code",
   "execution_count": 1,
   "id": "7a23b162",
   "metadata": {},
   "outputs": [],
   "source": [
    "!git add -A"
   ]
  },
  {
   "cell_type": "code",
   "execution_count": 2,
   "id": "cdb41033",
   "metadata": {},
   "outputs": [
    {
     "name": "stdout",
     "output_type": "stream",
     "text": [
      "[master 96f5ff9] update 3.8.0\n",
      " 3 files changed, 79 insertions(+), 3275 deletions(-)\n"
     ]
    }
   ],
   "source": [
    "!git commit -m\"update 3.8.0\""
   ]
  },
  {
   "cell_type": "code",
   "execution_count": null,
   "id": "d2667640",
   "metadata": {},
   "outputs": [],
   "source": [
    "#!git config pull.rebase true"
   ]
  },
  {
   "cell_type": "code",
   "execution_count": null,
   "id": "bcaaf06d",
   "metadata": {},
   "outputs": [],
   "source": [
    "!git pull origin master "
   ]
  },
  {
   "cell_type": "code",
   "execution_count": null,
   "id": "a543fbf2",
   "metadata": {},
   "outputs": [],
   "source": [
    "!git remote remove origin "
   ]
  },
  {
   "cell_type": "code",
   "execution_count": null,
   "id": "f5d0f1de",
   "metadata": {},
   "outputs": [],
   "source": [
    "!git remote add origin git@github.com:lyhue1991/torchkeras.git"
   ]
  },
  {
   "cell_type": "code",
   "execution_count": 3,
   "id": "12e49933",
   "metadata": {},
   "outputs": [
    {
     "name": "stdout",
     "output_type": "stream",
     "text": [
      "Enumerating objects: 13, done.\n",
      "Counting objects: 100% (13/13), done.\n",
      "Delta compression using up to 8 threads\n",
      "Compressing objects: 100% (7/7), done.\n",
      "Writing objects: 100% (7/7), 3.71 KiB | 3.71 MiB/s, done.\n",
      "Total 7 (delta 5), reused 0 (delta 0), pack-reused 0\n",
      "remote: Resolving deltas: 100% (5/5), completed with 5 local objects.\u001b[K\n",
      "To github.com:lyhue1991/torchkeras.git\n",
      "   a78f240..96f5ff9  master -> master\n"
     ]
    }
   ],
   "source": [
    "!git push  origin master "
   ]
  },
  {
   "cell_type": "code",
   "execution_count": null,
   "id": "de4d9b10",
   "metadata": {},
   "outputs": [],
   "source": [
    "!git reflog "
   ]
  },
  {
   "cell_type": "code",
   "execution_count": null,
   "id": "f0c3cc86",
   "metadata": {},
   "outputs": [],
   "source": []
  },
  {
   "cell_type": "markdown",
   "id": "c6115644",
   "metadata": {},
   "source": [
    "## gitignore"
   ]
  },
  {
   "cell_type": "code",
   "execution_count": null,
   "id": "644f0c51",
   "metadata": {},
   "outputs": [],
   "source": [
    "# %load .gitignore\n",
    ".DS_store\n",
    ".ipynb_checkpoints\n",
    ".ipynb_checkpoints/* \n",
    "torchkeras.egg-info/*\n",
    "dist/*\n",
    "build/*\n",
    "torchkeras/__pycache__/\n",
    ".idea\n"
   ]
  }
 ],
 "metadata": {
  "jupytext": {
   "cell_metadata_filter": "-all",
   "main_language": "python",
   "notebook_metadata_filter": "-all"
  },
  "kernelspec": {
   "display_name": "Python 3 (ipykernel)",
   "language": "python",
   "name": "python3"
  },
  "language_info": {
   "codemirror_mode": {
    "name": "ipython",
    "version": 3
   },
   "file_extension": ".py",
   "mimetype": "text/x-python",
   "name": "python",
   "nbconvert_exporter": "python",
   "pygments_lexer": "ipython3",
   "version": "3.9.0"
  }
 },
 "nbformat": 4,
 "nbformat_minor": 5
}
