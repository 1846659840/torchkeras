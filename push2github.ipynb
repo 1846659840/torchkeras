{
 "cells": [
  {
   "cell_type": "markdown",
   "id": "5d828e3d",
   "metadata": {},
   "source": [
    "### Upload to  Pypi"
   ]
  },
  {
   "cell_type": "code",
   "execution_count": null,
   "id": "60b279bc",
   "metadata": {},
   "outputs": [],
   "source": [
    "%run setup.py sdist bdist_wheel\n"
   ]
  },
  {
   "cell_type": "code",
   "execution_count": null,
   "id": "30676d3d",
   "metadata": {},
   "outputs": [],
   "source": [
    "#!pip install --user --upgrade twine"
   ]
  },
  {
   "cell_type": "code",
   "execution_count": null,
   "id": "8becab65",
   "metadata": {},
   "outputs": [],
   "source": [
    "# upload the repository to pypi (test)\n",
    "#!python3 -m twine upload --repository-url https://test.pypi.org/legacy/ dist/*"
   ]
  },
  {
   "cell_type": "code",
   "execution_count": null,
   "id": "e918e7d1",
   "metadata": {},
   "outputs": [],
   "source": [
    "# install the repository from pypi (test)\n",
    "#!python3 -m pip install --index-url https://test.pypi.org/simple/ --no-deps torchkeras"
   ]
  },
  {
   "cell_type": "code",
   "execution_count": null,
   "id": "0fb82588-fead-4219-a418-b537a530220f",
   "metadata": {},
   "outputs": [],
   "source": []
  },
  {
   "cell_type": "markdown",
   "id": "639a6307",
   "metadata": {},
   "source": [
    "### Upload to github"
   ]
  },
  {
   "cell_type": "code",
   "execution_count": 2,
   "id": "7a76c373",
   "metadata": {},
   "outputs": [],
   "source": [
    "!git config --global user.name \"lyhue1991\"\n",
    "!git config --global user.email \"lyhue1991@163.com\""
   ]
  },
  {
   "cell_type": "code",
   "execution_count": null,
   "id": "2d1e9cae",
   "metadata": {},
   "outputs": [],
   "source": [
    "#!git reset  b37a9b8"
   ]
  },
  {
   "cell_type": "code",
   "execution_count": 3,
   "id": "7a23b162",
   "metadata": {},
   "outputs": [],
   "source": [
    "!git add -A"
   ]
  },
  {
   "cell_type": "code",
   "execution_count": 4,
   "id": "cdb41033",
   "metadata": {},
   "outputs": [
    {
     "name": "stdout",
     "output_type": "stream",
     "text": [
      "[master c06fecb] update 3.8.4\n",
      " 44 files changed, 8947 insertions(+), 275 deletions(-)\n",
      " rename \"1\\357\\274\\214kerasmodel_example.ipynb\" => \"01\\357\\274\\214kerasmodel_example.ipynb\" (100%)\n",
      " rename \"2\\357\\274\\214kerasmodel_wandb_demo.ipynb\" => \"02\\357\\274\\214kerasmodel_wandb_demo.ipynb\" (100%)\n",
      " rename \"3\\357\\274\\214kerasmodel_tuning_demo.ipynb\" => \"03\\357\\274\\214kerasmodel_tuning_demo.ipynb\" (100%)\n",
      " rename \"4\\357\\274\\214kerasmodel_tensorboard_demo.ipynb\" => \"04\\357\\274\\214kerasmodel_tensorboard_demo.ipynb\" (100%)\n",
      " rename \"5\\357\\274\\214kerasmodel_ddp_tpu_examples.ipynb\" => \"05\\357\\274\\214kerasmodel_ddp_tpu_examples.ipynb\" (100%)\n",
      " rename \"6\\357\\274\\214lightmodel_example.ipynb\" => \"06\\357\\274\\214lightmodel_example.ipynb\" (100%)\n",
      " rename \"7\\357\\274\\214lightmodel_tensorboard_demo.ipynb\" => \"07\\357\\274\\214lightmodel_tensorboard_demo.ipynb\" (100%)\n",
      " rename \"8\\357\\274\\214fastai_example.ipynb\" => \"08\\357\\274\\214fastai_example.ipynb\" (100%)\n",
      " rename \"9\\357\\274\\214utils_example.ipynb\" => \"09\\357\\274\\214utils_example.ipynb\" (100%)\n",
      " create mode 100644 \"10\\357\\274\\214ocr_example.ipynb\"\n",
      " create mode 100644 data/plate_sample.png\n",
      " create mode 100644 torchkeras/assets/ch_ocr_keys.txt\n",
      " create mode 100644 torchkeras/assets/ocr_cls.onnx\n",
      " create mode 100644 torchkeras/assets/ocr_det.onnx\n",
      " create mode 100644 torchkeras/assets/ocr_rec.onnx\n",
      " create mode 100644 torchkeras/ocr/__init__.py\n",
      " create mode 100644 torchkeras/ocr/__pycache__/__init__.cpython-39.pyc\n",
      " create mode 100644 torchkeras/ocr/__pycache__/logger.cpython-39.pyc\n",
      " create mode 100644 torchkeras/ocr/__pycache__/operators.cpython-39.pyc\n",
      " create mode 100644 torchkeras/ocr/__pycache__/plots.cpython-39.pyc\n",
      " create mode 100644 torchkeras/ocr/__pycache__/postprocess.cpython-39.pyc\n",
      " create mode 100644 torchkeras/ocr/__pycache__/predict_cls.cpython-39.pyc\n",
      " create mode 100644 torchkeras/ocr/__pycache__/predict_det.cpython-39.pyc\n",
      " create mode 100644 torchkeras/ocr/__pycache__/predict_rec.cpython-39.pyc\n",
      " create mode 100644 torchkeras/ocr/__pycache__/predictor.cpython-39.pyc\n",
      " create mode 100644 torchkeras/ocr/__pycache__/textsystem.cpython-39.pyc\n",
      " create mode 100644 torchkeras/ocr/__pycache__/utility.cpython-39.pyc\n",
      " create mode 100644 torchkeras/ocr/logger.py\n",
      " create mode 100644 torchkeras/ocr/operators.py\n",
      " create mode 100644 torchkeras/ocr/plots.py\n",
      " create mode 100644 torchkeras/ocr/postprocess.py\n",
      " create mode 100644 torchkeras/ocr/predict_cls.py\n",
      " create mode 100644 torchkeras/ocr/predict_det.py\n",
      " create mode 100644 torchkeras/ocr/predict_rec.py\n",
      " create mode 100644 torchkeras/ocr/predictor.py\n",
      " create mode 100644 torchkeras/ocr/textsystem.py\n",
      " create mode 100644 torchkeras/ocr/utility.py\n",
      " create mode 100644 torchkeras/soup.py\n"
     ]
    }
   ],
   "source": [
    "!git commit -m\"update 3.8.4\""
   ]
  },
  {
   "cell_type": "code",
   "execution_count": null,
   "id": "aa2323af-1d09-4896-91fd-b30bc486111c",
   "metadata": {},
   "outputs": [],
   "source": [
    "!rm -rf "
   ]
  },
  {
   "cell_type": "code",
   "execution_count": null,
   "id": "d2667640",
   "metadata": {},
   "outputs": [],
   "source": [
    "#!git config pull.rebase true"
   ]
  },
  {
   "cell_type": "code",
   "execution_count": null,
   "id": "bcaaf06d",
   "metadata": {},
   "outputs": [],
   "source": [
    "!git pull origin master "
   ]
  },
  {
   "cell_type": "code",
   "execution_count": null,
   "id": "a543fbf2",
   "metadata": {},
   "outputs": [],
   "source": [
    "!git remote remove origin "
   ]
  },
  {
   "cell_type": "code",
   "execution_count": null,
   "id": "f5d0f1de",
   "metadata": {},
   "outputs": [],
   "source": [
    "!git remote add origin git@github.com:lyhue1991/torchkeras.git"
   ]
  },
  {
   "cell_type": "code",
   "execution_count": null,
   "id": "12e49933",
   "metadata": {},
   "outputs": [],
   "source": [
    "!git push   origin master "
   ]
  },
  {
   "cell_type": "code",
   "execution_count": null,
   "id": "de4d9b10",
   "metadata": {},
   "outputs": [],
   "source": [
    "!git remote add gitee https://gitee.com/Python_Ai_Road/torchkeras"
   ]
  },
  {
   "cell_type": "code",
   "execution_count": null,
   "id": "f0c3cc86",
   "metadata": {},
   "outputs": [],
   "source": [
    "!git push   gitee master "
   ]
  },
  {
   "cell_type": "code",
   "execution_count": null,
   "id": "32acb452-68b3-4182-b74d-89c0aebfca8e",
   "metadata": {},
   "outputs": [],
   "source": []
  },
  {
   "cell_type": "markdown",
   "id": "c6115644",
   "metadata": {},
   "source": [
    "## gitignore"
   ]
  },
  {
   "cell_type": "code",
   "execution_count": null,
   "id": "644f0c51",
   "metadata": {},
   "outputs": [],
   "source": [
    "%%writefile .gitignore\n",
    ".DS_store\n",
    ".ipynb_checkpoints\n",
    ".ipynb_checkpoints/* \n",
    "torchkeras.egg-info/*\n",
    "dist/*\n",
    "build/*\n",
    "torchkeras/__pycache__/\n",
    "torchkeras/models/__pycache__/\n",
    "examples/.ipynb_checkpoints\n",
    "examples/__pycache__/\n",
    ".idea\n"
   ]
  }
 ],
 "metadata": {
  "jupytext": {
   "cell_metadata_filter": "-all",
   "main_language": "python",
   "notebook_metadata_filter": "-all"
  },
  "kernelspec": {
   "display_name": "Python 3 (ipykernel)",
   "language": "python",
   "name": "python3"
  },
  "language_info": {
   "codemirror_mode": {
    "name": "ipython",
    "version": 3
   },
   "file_extension": ".py",
   "mimetype": "text/x-python",
   "name": "python",
   "nbconvert_exporter": "python",
   "pygments_lexer": "ipython3",
   "version": "3.9.0"
  }
 },
 "nbformat": 4,
 "nbformat_minor": 5
}
