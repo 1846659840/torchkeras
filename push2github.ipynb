{
 "cells": [
  {
   "cell_type": "markdown",
   "id": "5d828e3d",
   "metadata": {},
   "source": [
    "### Upload to  Pypi"
   ]
  },
  {
   "cell_type": "code",
   "execution_count": 11,
   "id": "60b279bc",
   "metadata": {},
   "outputs": [
    {
     "name": "stdout",
     "output_type": "stream",
     "text": [
      "running sdist\n",
      "running egg_info\n",
      "writing torchkeras.egg-info/PKG-INFO\n",
      "writing dependency_links to torchkeras.egg-info/dependency_links.txt\n",
      "writing top-level names to torchkeras.egg-info/top_level.txt\n",
      "reading manifest file 'torchkeras.egg-info/SOURCES.txt'\n",
      "reading manifest template 'MANIFEST.in'\n"
     ]
    },
    {
     "name": "stderr",
     "output_type": "stream",
     "text": [
      "warning: no files found matching 'torchkeras/*.ttf'\n",
      "no previously-included directories found matching 'torchkeras/assets/*checkpoint*'\n",
      "warning: no files found matching '*.png' under directory 'torchkeras/assets'\n",
      "warning: no files found matching '*.jpeg' under directory 'torchkeras/assets'\n",
      "warning: no previously-included files matching '*' found under directory 'torchkeras/__pycache__'\n",
      "warning: no previously-included files matching '*' found under directory 'torchkeras/.ipynb_checkpoints'\n"
     ]
    },
    {
     "name": "stdout",
     "output_type": "stream",
     "text": [
      "adding license file 'LICENSE'\n",
      "writing manifest file 'torchkeras.egg-info/SOURCES.txt'\n",
      "running check\n",
      "creating torchkeras-3.8.6\n",
      "creating torchkeras-3.8.6/torchkeras\n",
      "creating torchkeras-3.8.6/torchkeras.egg-info\n",
      "creating torchkeras-3.8.6/torchkeras/assets\n",
      "creating torchkeras-3.8.6/torchkeras/chatgpt\n",
      "creating torchkeras-3.8.6/torchkeras/models\n",
      "creating torchkeras-3.8.6/torchkeras/ocr\n",
      "copying files to torchkeras-3.8.6...\n",
      "copying LICENSE -> torchkeras-3.8.6\n",
      "copying MANIFEST.in -> torchkeras-3.8.6\n",
      "copying README.md -> torchkeras-3.8.6\n",
      "copying setup.py -> torchkeras-3.8.6\n",
      "copying torchkeras/__init__.py -> torchkeras-3.8.6/torchkeras\n",
      "copying torchkeras/data.py -> torchkeras-3.8.6/torchkeras\n",
      "copying torchkeras/eda.py -> torchkeras-3.8.6/torchkeras\n",
      "copying torchkeras/email.py -> torchkeras-3.8.6/torchkeras\n",
      "copying torchkeras/fastprogress.py -> torchkeras-3.8.6/torchkeras\n",
      "copying torchkeras/hfmodel.py -> torchkeras-3.8.6/torchkeras\n",
      "copying torchkeras/kerascallbacks.py -> torchkeras-3.8.6/torchkeras\n",
      "copying torchkeras/kerasmodel.py -> torchkeras-3.8.6/torchkeras\n",
      "copying torchkeras/lightcallbacks.py -> torchkeras-3.8.6/torchkeras\n",
      "copying torchkeras/lightmodel.py -> torchkeras-3.8.6/torchkeras\n",
      "copying torchkeras/metrics.py -> torchkeras-3.8.6/torchkeras\n",
      "copying torchkeras/plots.py -> torchkeras-3.8.6/torchkeras\n",
      "copying torchkeras/soup.py -> torchkeras-3.8.6/torchkeras\n",
      "copying torchkeras/summary.py -> torchkeras-3.8.6/torchkeras\n",
      "copying torchkeras/utils.py -> torchkeras-3.8.6/torchkeras\n",
      "copying torchkeras.egg-info/PKG-INFO -> torchkeras-3.8.6/torchkeras.egg-info\n",
      "copying torchkeras.egg-info/SOURCES.txt -> torchkeras-3.8.6/torchkeras.egg-info\n",
      "copying torchkeras.egg-info/dependency_links.txt -> torchkeras-3.8.6/torchkeras.egg-info\n",
      "copying torchkeras.egg-info/top_level.txt -> torchkeras-3.8.6/torchkeras.egg-info\n",
      "copying torchkeras/assets/Arial.ttf -> torchkeras-3.8.6/torchkeras/assets\n",
      "copying torchkeras/assets/SimHei.ttf -> torchkeras-3.8.6/torchkeras/assets\n",
      "copying torchkeras/assets/bus.jpg -> torchkeras-3.8.6/torchkeras/assets\n",
      "copying torchkeras/assets/ch_ocr_keys.txt -> torchkeras-3.8.6/torchkeras/assets\n",
      "copying torchkeras/assets/ocr_cls.onnx -> torchkeras-3.8.6/torchkeras/assets\n",
      "copying torchkeras/assets/ocr_det.onnx -> torchkeras-3.8.6/torchkeras/assets\n",
      "copying torchkeras/assets/ocr_rec.onnx -> torchkeras-3.8.6/torchkeras/assets\n",
      "copying torchkeras/assets/park.jpg -> torchkeras-3.8.6/torchkeras/assets\n",
      "copying torchkeras/assets/zidane.jpg -> torchkeras-3.8.6/torchkeras/assets\n",
      "copying torchkeras/chatgpt/__init__.py -> torchkeras-3.8.6/torchkeras/chatgpt\n",
      "copying torchkeras/models/__init__.py -> torchkeras-3.8.6/torchkeras/models\n",
      "copying torchkeras/models/resnet.py -> torchkeras-3.8.6/torchkeras/models\n",
      "copying torchkeras/models/ssd.py -> torchkeras-3.8.6/torchkeras/models\n",
      "copying torchkeras/models/unet.py -> torchkeras-3.8.6/torchkeras/models\n",
      "copying torchkeras/ocr/__init__.py -> torchkeras-3.8.6/torchkeras/ocr\n",
      "copying torchkeras/ocr/logger.py -> torchkeras-3.8.6/torchkeras/ocr\n",
      "copying torchkeras/ocr/operators.py -> torchkeras-3.8.6/torchkeras/ocr\n",
      "copying torchkeras/ocr/plots.py -> torchkeras-3.8.6/torchkeras/ocr\n",
      "copying torchkeras/ocr/postprocess.py -> torchkeras-3.8.6/torchkeras/ocr\n",
      "copying torchkeras/ocr/predict_cls.py -> torchkeras-3.8.6/torchkeras/ocr\n",
      "copying torchkeras/ocr/predict_det.py -> torchkeras-3.8.6/torchkeras/ocr\n",
      "copying torchkeras/ocr/predict_rec.py -> torchkeras-3.8.6/torchkeras/ocr\n",
      "copying torchkeras/ocr/predictor.py -> torchkeras-3.8.6/torchkeras/ocr\n",
      "copying torchkeras/ocr/textsystem.py -> torchkeras-3.8.6/torchkeras/ocr\n",
      "copying torchkeras/ocr/utility.py -> torchkeras-3.8.6/torchkeras/ocr\n",
      "Writing torchkeras-3.8.6/setup.cfg\n",
      "Creating tar archive\n",
      "removing 'torchkeras-3.8.6' (and everything under it)\n",
      "running bdist_wheel\n",
      "running build\n",
      "running build_py\n",
      "copying torchkeras/models/ssd.py -> build/lib/torchkeras/models\n",
      "creating build/lib/build\n",
      "creating build/lib/build/lib\n",
      "creating build/lib/build/lib/torchkeras\n",
      "copying build/lib/torchkeras/lightmodel.py -> build/lib/build/lib/torchkeras\n",
      "copying build/lib/torchkeras/metrics.py -> build/lib/build/lib/torchkeras\n",
      "copying build/lib/torchkeras/fastprogress.py -> build/lib/build/lib/torchkeras\n",
      "copying build/lib/torchkeras/__init__.py -> build/lib/build/lib/torchkeras\n",
      "copying build/lib/torchkeras/soup.py -> build/lib/build/lib/torchkeras\n",
      "copying build/lib/torchkeras/kerasmodel.py -> build/lib/build/lib/torchkeras\n",
      "copying build/lib/torchkeras/summary.py -> build/lib/build/lib/torchkeras\n",
      "copying build/lib/torchkeras/eda.py -> build/lib/build/lib/torchkeras\n",
      "copying build/lib/torchkeras/plots.py -> build/lib/build/lib/torchkeras\n",
      "copying build/lib/torchkeras/utils.py -> build/lib/build/lib/torchkeras\n",
      "copying build/lib/torchkeras/email.py -> build/lib/build/lib/torchkeras\n",
      "copying build/lib/torchkeras/lightcallbacks.py -> build/lib/build/lib/torchkeras\n",
      "copying build/lib/torchkeras/hfmodel.py -> build/lib/build/lib/torchkeras\n",
      "copying build/lib/torchkeras/data.py -> build/lib/build/lib/torchkeras\n",
      "copying build/lib/torchkeras/kerascallbacks.py -> build/lib/build/lib/torchkeras\n",
      "creating build/lib/build/lib/torchkeras/ocr\n",
      "copying build/lib/torchkeras/ocr/predictor.py -> build/lib/build/lib/torchkeras/ocr\n",
      "copying build/lib/torchkeras/ocr/utility.py -> build/lib/build/lib/torchkeras/ocr\n",
      "copying build/lib/torchkeras/ocr/postprocess.py -> build/lib/build/lib/torchkeras/ocr\n",
      "copying build/lib/torchkeras/ocr/predict_rec.py -> build/lib/build/lib/torchkeras/ocr\n",
      "copying build/lib/torchkeras/ocr/__init__.py -> build/lib/build/lib/torchkeras/ocr\n",
      "copying build/lib/torchkeras/ocr/logger.py -> build/lib/build/lib/torchkeras/ocr\n",
      "copying build/lib/torchkeras/ocr/plots.py -> build/lib/build/lib/torchkeras/ocr\n",
      "copying build/lib/torchkeras/ocr/predict_cls.py -> build/lib/build/lib/torchkeras/ocr\n",
      "copying build/lib/torchkeras/ocr/textsystem.py -> build/lib/build/lib/torchkeras/ocr\n",
      "copying build/lib/torchkeras/ocr/operators.py -> build/lib/build/lib/torchkeras/ocr\n",
      "copying build/lib/torchkeras/ocr/predict_det.py -> build/lib/build/lib/torchkeras/ocr\n",
      "creating build/lib/build/lib/torchkeras/models\n",
      "copying build/lib/torchkeras/models/ssd.py -> build/lib/build/lib/torchkeras/models\n",
      "copying build/lib/torchkeras/models/unet.py -> build/lib/build/lib/torchkeras/models\n",
      "copying build/lib/torchkeras/models/__init__.py -> build/lib/build/lib/torchkeras/models\n",
      "copying build/lib/torchkeras/models/resnet.py -> build/lib/build/lib/torchkeras/models\n",
      "creating build/lib/build/lib/torchkeras/chatgpt\n",
      "copying build/lib/torchkeras/chatgpt/__init__.py -> build/lib/build/lib/torchkeras/chatgpt\n",
      "installing to build/bdist.macosx-11.0-arm64/wheel\n",
      "running install\n",
      "running install_lib\n",
      "copying build/lib/torchkeras/lightmodel.py -> build/bdist.macosx-11.0-arm64/wheel/torchkeras\n"
     ]
    },
    {
     "name": "stderr",
     "output_type": "stream",
     "text": [
      "/Users/liangyun2/miniforge3/envs/tf26/lib/python3.9/site-packages/setuptools/command/build_py.py:202: SetuptoolsDeprecationWarning:     Installing 'torchkeras.assets' as data is deprecated, please list it in `packages`.\n",
      "    !!\n",
      "\n",
      "\n",
      "    ############################\n",
      "    # Package would be ignored #\n",
      "    ############################\n",
      "    Python recognizes 'torchkeras.assets' as an importable package,\n",
      "    but it is not listed in the `packages` configuration of setuptools.\n",
      "\n",
      "    'torchkeras.assets' has been automatically added to the distribution only\n",
      "    because it may contain data files, but this behavior is likely to change\n",
      "    in future versions of setuptools (and therefore is considered deprecated).\n",
      "\n",
      "    Please make sure that 'torchkeras.assets' is included as a package by using\n",
      "    the `packages` configuration field or the proper discovery methods\n",
      "    (for example by using `find_namespace_packages(...)`/`find_namespace:`\n",
      "    instead of `find_packages(...)`/`find:`).\n",
      "\n",
      "    You can read more about \"package discovery\" and \"data files\" on setuptools\n",
      "    documentation page.\n",
      "\n",
      "\n",
      "!!\n",
      "\n",
      "  check.warn(importable)\n",
      "/Users/liangyun2/miniforge3/envs/tf26/lib/python3.9/site-packages/setuptools/command/install.py:34: SetuptoolsDeprecationWarning: setup.py install is deprecated. Use build and pip and other standards-based tools.\n",
      "  warnings.warn(\n"
     ]
    },
    {
     "ename": "AssertionError",
     "evalue": "",
     "output_type": "error",
     "traceback": [
      "\u001b[0;31m---------------------------------------------------------------------------\u001b[0m",
      "\u001b[0;31mFileNotFoundError\u001b[0m                         Traceback (most recent call last)",
      "File \u001b[0;32m~/miniforge3/envs/tf26/lib/python3.9/site-packages/setuptools/_distutils/file_util.py:40\u001b[0m, in \u001b[0;36m_copy_file_contents\u001b[0;34m(src, dst, buffer_size)\u001b[0m\n\u001b[1;32m     39\u001b[0m \u001b[38;5;28;01mtry\u001b[39;00m:\n\u001b[0;32m---> 40\u001b[0m     fdst \u001b[38;5;241m=\u001b[39m \u001b[38;5;28;43mopen\u001b[39;49m\u001b[43m(\u001b[49m\u001b[43mdst\u001b[49m\u001b[43m,\u001b[49m\u001b[43m \u001b[49m\u001b[38;5;124;43m'\u001b[39;49m\u001b[38;5;124;43mwb\u001b[39;49m\u001b[38;5;124;43m'\u001b[39;49m\u001b[43m)\u001b[49m\n\u001b[1;32m     41\u001b[0m \u001b[38;5;28;01mexcept\u001b[39;00m \u001b[38;5;167;01mOSError\u001b[39;00m \u001b[38;5;28;01mas\u001b[39;00m e:\n",
      "\u001b[0;31mFileNotFoundError\u001b[0m: [Errno 2] No such file or directory: 'build/bdist.macosx-11.0-arm64/wheel/torchkeras/lightmodel.py'",
      "\nDuring handling of the above exception, another exception occurred:\n",
      "\u001b[0;31mDistutilsFileError\u001b[0m                        Traceback (most recent call last)",
      "File \u001b[0;32m~/miniforge3/envs/tf26/lib/python3.9/site-packages/setuptools/_distutils/core.py:201\u001b[0m, in \u001b[0;36mrun_commands\u001b[0;34m(dist)\u001b[0m\n\u001b[1;32m    200\u001b[0m \u001b[38;5;28;01mtry\u001b[39;00m:\n\u001b[0;32m--> 201\u001b[0m     \u001b[43mdist\u001b[49m\u001b[38;5;241;43m.\u001b[39;49m\u001b[43mrun_commands\u001b[49m\u001b[43m(\u001b[49m\u001b[43m)\u001b[49m\n\u001b[1;32m    202\u001b[0m \u001b[38;5;28;01mexcept\u001b[39;00m \u001b[38;5;167;01mKeyboardInterrupt\u001b[39;00m:\n",
      "File \u001b[0;32m~/miniforge3/envs/tf26/lib/python3.9/site-packages/setuptools/_distutils/dist.py:968\u001b[0m, in \u001b[0;36mDistribution.run_commands\u001b[0;34m(self)\u001b[0m\n\u001b[1;32m    967\u001b[0m \u001b[38;5;28;01mfor\u001b[39;00m cmd \u001b[38;5;129;01min\u001b[39;00m \u001b[38;5;28mself\u001b[39m\u001b[38;5;241m.\u001b[39mcommands:\n\u001b[0;32m--> 968\u001b[0m     \u001b[38;5;28;43mself\u001b[39;49m\u001b[38;5;241;43m.\u001b[39;49m\u001b[43mrun_command\u001b[49m\u001b[43m(\u001b[49m\u001b[43mcmd\u001b[49m\u001b[43m)\u001b[49m\n",
      "File \u001b[0;32m~/miniforge3/envs/tf26/lib/python3.9/site-packages/setuptools/dist.py:1217\u001b[0m, in \u001b[0;36mDistribution.run_command\u001b[0;34m(self, command)\u001b[0m\n\u001b[1;32m   1214\u001b[0m \u001b[38;5;66;03m# Postpone defaults until all explicit configuration is considered\u001b[39;00m\n\u001b[1;32m   1215\u001b[0m \u001b[38;5;66;03m# (setup() args, config files, command line and plugins)\u001b[39;00m\n\u001b[0;32m-> 1217\u001b[0m \u001b[38;5;28;43msuper\u001b[39;49m\u001b[43m(\u001b[49m\u001b[43m)\u001b[49m\u001b[38;5;241;43m.\u001b[39;49m\u001b[43mrun_command\u001b[49m\u001b[43m(\u001b[49m\u001b[43mcommand\u001b[49m\u001b[43m)\u001b[49m\n",
      "File \u001b[0;32m~/miniforge3/envs/tf26/lib/python3.9/site-packages/setuptools/_distutils/dist.py:987\u001b[0m, in \u001b[0;36mDistribution.run_command\u001b[0;34m(self, command)\u001b[0m\n\u001b[1;32m    986\u001b[0m cmd_obj\u001b[38;5;241m.\u001b[39mensure_finalized()\n\u001b[0;32m--> 987\u001b[0m \u001b[43mcmd_obj\u001b[49m\u001b[38;5;241;43m.\u001b[39;49m\u001b[43mrun\u001b[49m\u001b[43m(\u001b[49m\u001b[43m)\u001b[49m\n\u001b[1;32m    988\u001b[0m \u001b[38;5;28mself\u001b[39m\u001b[38;5;241m.\u001b[39mhave_run[command] \u001b[38;5;241m=\u001b[39m \u001b[38;5;241m1\u001b[39m\n",
      "File \u001b[0;32m~/miniforge3/envs/tf26/lib/python3.9/site-packages/wheel/bdist_wheel.py:360\u001b[0m, in \u001b[0;36mbdist_wheel.run\u001b[0;34m(self)\u001b[0m\n\u001b[1;32m    358\u001b[0m log\u001b[38;5;241m.\u001b[39minfo(\u001b[38;5;124mf\u001b[39m\u001b[38;5;124m\"\u001b[39m\u001b[38;5;124minstalling to \u001b[39m\u001b[38;5;132;01m{\u001b[39;00m\u001b[38;5;28mself\u001b[39m\u001b[38;5;241m.\u001b[39mbdist_dir\u001b[38;5;132;01m}\u001b[39;00m\u001b[38;5;124m\"\u001b[39m)\n\u001b[0;32m--> 360\u001b[0m \u001b[38;5;28;43mself\u001b[39;49m\u001b[38;5;241;43m.\u001b[39;49m\u001b[43mrun_command\u001b[49m\u001b[43m(\u001b[49m\u001b[38;5;124;43m\"\u001b[39;49m\u001b[38;5;124;43minstall\u001b[39;49m\u001b[38;5;124;43m\"\u001b[39;49m\u001b[43m)\u001b[49m\n\u001b[1;32m    362\u001b[0m impl_tag, abi_tag, plat_tag \u001b[38;5;241m=\u001b[39m \u001b[38;5;28mself\u001b[39m\u001b[38;5;241m.\u001b[39mget_tag()\n",
      "File \u001b[0;32m~/miniforge3/envs/tf26/lib/python3.9/site-packages/setuptools/_distutils/cmd.py:319\u001b[0m, in \u001b[0;36mCommand.run_command\u001b[0;34m(self, command)\u001b[0m\n\u001b[1;32m    315\u001b[0m \u001b[38;5;124;03m\"\"\"Run some other command: uses the 'run_command()' method of\u001b[39;00m\n\u001b[1;32m    316\u001b[0m \u001b[38;5;124;03mDistribution, which creates and finalizes the command object if\u001b[39;00m\n\u001b[1;32m    317\u001b[0m \u001b[38;5;124;03mnecessary and then invokes its 'run()' method.\u001b[39;00m\n\u001b[1;32m    318\u001b[0m \u001b[38;5;124;03m\"\"\"\u001b[39;00m\n\u001b[0;32m--> 319\u001b[0m \u001b[38;5;28;43mself\u001b[39;49m\u001b[38;5;241;43m.\u001b[39;49m\u001b[43mdistribution\u001b[49m\u001b[38;5;241;43m.\u001b[39;49m\u001b[43mrun_command\u001b[49m\u001b[43m(\u001b[49m\u001b[43mcommand\u001b[49m\u001b[43m)\u001b[49m\n",
      "File \u001b[0;32m~/miniforge3/envs/tf26/lib/python3.9/site-packages/setuptools/dist.py:1217\u001b[0m, in \u001b[0;36mDistribution.run_command\u001b[0;34m(self, command)\u001b[0m\n\u001b[1;32m   1214\u001b[0m \u001b[38;5;66;03m# Postpone defaults until all explicit configuration is considered\u001b[39;00m\n\u001b[1;32m   1215\u001b[0m \u001b[38;5;66;03m# (setup() args, config files, command line and plugins)\u001b[39;00m\n\u001b[0;32m-> 1217\u001b[0m \u001b[38;5;28;43msuper\u001b[39;49m\u001b[43m(\u001b[49m\u001b[43m)\u001b[49m\u001b[38;5;241;43m.\u001b[39;49m\u001b[43mrun_command\u001b[49m\u001b[43m(\u001b[49m\u001b[43mcommand\u001b[49m\u001b[43m)\u001b[49m\n",
      "File \u001b[0;32m~/miniforge3/envs/tf26/lib/python3.9/site-packages/setuptools/_distutils/dist.py:987\u001b[0m, in \u001b[0;36mDistribution.run_command\u001b[0;34m(self, command)\u001b[0m\n\u001b[1;32m    986\u001b[0m cmd_obj\u001b[38;5;241m.\u001b[39mensure_finalized()\n\u001b[0;32m--> 987\u001b[0m \u001b[43mcmd_obj\u001b[49m\u001b[38;5;241;43m.\u001b[39;49m\u001b[43mrun\u001b[49m\u001b[43m(\u001b[49m\u001b[43m)\u001b[49m\n\u001b[1;32m    988\u001b[0m \u001b[38;5;28mself\u001b[39m\u001b[38;5;241m.\u001b[39mhave_run[command] \u001b[38;5;241m=\u001b[39m \u001b[38;5;241m1\u001b[39m\n",
      "File \u001b[0;32m~/miniforge3/envs/tf26/lib/python3.9/site-packages/setuptools/command/install.py:68\u001b[0m, in \u001b[0;36minstall.run\u001b[0;34m(self)\u001b[0m\n\u001b[1;32m     67\u001b[0m \u001b[38;5;28;01mif\u001b[39;00m \u001b[38;5;28mself\u001b[39m\u001b[38;5;241m.\u001b[39mold_and_unmanageable \u001b[38;5;129;01mor\u001b[39;00m \u001b[38;5;28mself\u001b[39m\u001b[38;5;241m.\u001b[39msingle_version_externally_managed:\n\u001b[0;32m---> 68\u001b[0m     \u001b[38;5;28;01mreturn\u001b[39;00m \u001b[43morig\u001b[49m\u001b[38;5;241;43m.\u001b[39;49m\u001b[43minstall\u001b[49m\u001b[38;5;241;43m.\u001b[39;49m\u001b[43mrun\u001b[49m\u001b[43m(\u001b[49m\u001b[38;5;28;43mself\u001b[39;49m\u001b[43m)\u001b[49m\n\u001b[1;32m     70\u001b[0m \u001b[38;5;28;01mif\u001b[39;00m \u001b[38;5;129;01mnot\u001b[39;00m \u001b[38;5;28mself\u001b[39m\u001b[38;5;241m.\u001b[39m_called_from_setup(inspect\u001b[38;5;241m.\u001b[39mcurrentframe()):\n\u001b[1;32m     71\u001b[0m     \u001b[38;5;66;03m# Run in backward-compatibility mode to support bdist_* commands.\u001b[39;00m\n",
      "File \u001b[0;32m~/miniforge3/envs/tf26/lib/python3.9/site-packages/setuptools/_distutils/command/install.py:709\u001b[0m, in \u001b[0;36minstall.run\u001b[0;34m(self)\u001b[0m\n\u001b[1;32m    708\u001b[0m \u001b[38;5;28;01mfor\u001b[39;00m cmd_name \u001b[38;5;129;01min\u001b[39;00m \u001b[38;5;28mself\u001b[39m\u001b[38;5;241m.\u001b[39mget_sub_commands():\n\u001b[0;32m--> 709\u001b[0m     \u001b[38;5;28;43mself\u001b[39;49m\u001b[38;5;241;43m.\u001b[39;49m\u001b[43mrun_command\u001b[49m\u001b[43m(\u001b[49m\u001b[43mcmd_name\u001b[49m\u001b[43m)\u001b[49m\n\u001b[1;32m    711\u001b[0m \u001b[38;5;28;01mif\u001b[39;00m \u001b[38;5;28mself\u001b[39m\u001b[38;5;241m.\u001b[39mpath_file:\n",
      "File \u001b[0;32m~/miniforge3/envs/tf26/lib/python3.9/site-packages/setuptools/_distutils/cmd.py:319\u001b[0m, in \u001b[0;36mCommand.run_command\u001b[0;34m(self, command)\u001b[0m\n\u001b[1;32m    315\u001b[0m \u001b[38;5;124;03m\"\"\"Run some other command: uses the 'run_command()' method of\u001b[39;00m\n\u001b[1;32m    316\u001b[0m \u001b[38;5;124;03mDistribution, which creates and finalizes the command object if\u001b[39;00m\n\u001b[1;32m    317\u001b[0m \u001b[38;5;124;03mnecessary and then invokes its 'run()' method.\u001b[39;00m\n\u001b[1;32m    318\u001b[0m \u001b[38;5;124;03m\"\"\"\u001b[39;00m\n\u001b[0;32m--> 319\u001b[0m \u001b[38;5;28;43mself\u001b[39;49m\u001b[38;5;241;43m.\u001b[39;49m\u001b[43mdistribution\u001b[49m\u001b[38;5;241;43m.\u001b[39;49m\u001b[43mrun_command\u001b[49m\u001b[43m(\u001b[49m\u001b[43mcommand\u001b[49m\u001b[43m)\u001b[49m\n",
      "File \u001b[0;32m~/miniforge3/envs/tf26/lib/python3.9/site-packages/setuptools/dist.py:1217\u001b[0m, in \u001b[0;36mDistribution.run_command\u001b[0;34m(self, command)\u001b[0m\n\u001b[1;32m   1214\u001b[0m \u001b[38;5;66;03m# Postpone defaults until all explicit configuration is considered\u001b[39;00m\n\u001b[1;32m   1215\u001b[0m \u001b[38;5;66;03m# (setup() args, config files, command line and plugins)\u001b[39;00m\n\u001b[0;32m-> 1217\u001b[0m \u001b[38;5;28;43msuper\u001b[39;49m\u001b[43m(\u001b[49m\u001b[43m)\u001b[49m\u001b[38;5;241;43m.\u001b[39;49m\u001b[43mrun_command\u001b[49m\u001b[43m(\u001b[49m\u001b[43mcommand\u001b[49m\u001b[43m)\u001b[49m\n",
      "File \u001b[0;32m~/miniforge3/envs/tf26/lib/python3.9/site-packages/setuptools/_distutils/dist.py:987\u001b[0m, in \u001b[0;36mDistribution.run_command\u001b[0;34m(self, command)\u001b[0m\n\u001b[1;32m    986\u001b[0m cmd_obj\u001b[38;5;241m.\u001b[39mensure_finalized()\n\u001b[0;32m--> 987\u001b[0m \u001b[43mcmd_obj\u001b[49m\u001b[38;5;241;43m.\u001b[39;49m\u001b[43mrun\u001b[49m\u001b[43m(\u001b[49m\u001b[43m)\u001b[49m\n\u001b[1;32m    988\u001b[0m \u001b[38;5;28mself\u001b[39m\u001b[38;5;241m.\u001b[39mhave_run[command] \u001b[38;5;241m=\u001b[39m \u001b[38;5;241m1\u001b[39m\n",
      "File \u001b[0;32m~/miniforge3/envs/tf26/lib/python3.9/site-packages/setuptools/command/install_lib.py:12\u001b[0m, in \u001b[0;36minstall_lib.run\u001b[0;34m(self)\u001b[0m\n\u001b[1;32m     11\u001b[0m \u001b[38;5;28mself\u001b[39m\u001b[38;5;241m.\u001b[39mbuild()\n\u001b[0;32m---> 12\u001b[0m outfiles \u001b[38;5;241m=\u001b[39m \u001b[38;5;28;43mself\u001b[39;49m\u001b[38;5;241;43m.\u001b[39;49m\u001b[43minstall\u001b[49m\u001b[43m(\u001b[49m\u001b[43m)\u001b[49m\n\u001b[1;32m     13\u001b[0m \u001b[38;5;28;01mif\u001b[39;00m outfiles \u001b[38;5;129;01mis\u001b[39;00m \u001b[38;5;129;01mnot\u001b[39;00m \u001b[38;5;28;01mNone\u001b[39;00m:\n\u001b[1;32m     14\u001b[0m     \u001b[38;5;66;03m# always compile, in case we have any extension stubs to deal with\u001b[39;00m\n",
      "File \u001b[0;32m~/miniforge3/envs/tf26/lib/python3.9/site-packages/setuptools/_distutils/command/install_lib.py:116\u001b[0m, in \u001b[0;36minstall_lib.install\u001b[0;34m(self)\u001b[0m\n\u001b[1;32m    115\u001b[0m \u001b[38;5;28;01mif\u001b[39;00m os\u001b[38;5;241m.\u001b[39mpath\u001b[38;5;241m.\u001b[39misdir(\u001b[38;5;28mself\u001b[39m\u001b[38;5;241m.\u001b[39mbuild_dir):\n\u001b[0;32m--> 116\u001b[0m     outfiles \u001b[38;5;241m=\u001b[39m \u001b[38;5;28;43mself\u001b[39;49m\u001b[38;5;241;43m.\u001b[39;49m\u001b[43mcopy_tree\u001b[49m\u001b[43m(\u001b[49m\u001b[38;5;28;43mself\u001b[39;49m\u001b[38;5;241;43m.\u001b[39;49m\u001b[43mbuild_dir\u001b[49m\u001b[43m,\u001b[49m\u001b[43m \u001b[49m\u001b[38;5;28;43mself\u001b[39;49m\u001b[38;5;241;43m.\u001b[39;49m\u001b[43minstall_dir\u001b[49m\u001b[43m)\u001b[49m\n\u001b[1;32m    117\u001b[0m \u001b[38;5;28;01melse\u001b[39;00m:\n",
      "File \u001b[0;32m~/miniforge3/envs/tf26/lib/python3.9/site-packages/setuptools/command/install_lib.py:95\u001b[0m, in \u001b[0;36minstall_lib.copy_tree\u001b[0;34m(self, infile, outfile, preserve_mode, preserve_times, preserve_symlinks, level)\u001b[0m\n\u001b[1;32m     94\u001b[0m \u001b[38;5;28;01mif\u001b[39;00m \u001b[38;5;129;01mnot\u001b[39;00m exclude:\n\u001b[0;32m---> 95\u001b[0m     \u001b[38;5;28;01mreturn\u001b[39;00m \u001b[43morig\u001b[49m\u001b[38;5;241;43m.\u001b[39;49m\u001b[43minstall_lib\u001b[49m\u001b[38;5;241;43m.\u001b[39;49m\u001b[43mcopy_tree\u001b[49m\u001b[43m(\u001b[49m\u001b[38;5;28;43mself\u001b[39;49m\u001b[43m,\u001b[49m\u001b[43m \u001b[49m\u001b[43minfile\u001b[49m\u001b[43m,\u001b[49m\u001b[43m \u001b[49m\u001b[43moutfile\u001b[49m\u001b[43m)\u001b[49m\n\u001b[1;32m     97\u001b[0m \u001b[38;5;66;03m# Exclude namespace package __init__.py* files from the output\u001b[39;00m\n",
      "File \u001b[0;32m~/miniforge3/envs/tf26/lib/python3.9/site-packages/setuptools/_distutils/cmd.py:373\u001b[0m, in \u001b[0;36mCommand.copy_tree\u001b[0;34m(self, infile, outfile, preserve_mode, preserve_times, preserve_symlinks, level)\u001b[0m\n\u001b[1;32m    370\u001b[0m \u001b[38;5;124;03m\"\"\"Copy an entire directory tree respecting verbose, dry-run,\u001b[39;00m\n\u001b[1;32m    371\u001b[0m \u001b[38;5;124;03mand force flags.\u001b[39;00m\n\u001b[1;32m    372\u001b[0m \u001b[38;5;124;03m\"\"\"\u001b[39;00m\n\u001b[0;32m--> 373\u001b[0m \u001b[38;5;28;01mreturn\u001b[39;00m \u001b[43mdir_util\u001b[49m\u001b[38;5;241;43m.\u001b[39;49m\u001b[43mcopy_tree\u001b[49m\u001b[43m(\u001b[49m\n\u001b[1;32m    374\u001b[0m \u001b[43m    \u001b[49m\u001b[43minfile\u001b[49m\u001b[43m,\u001b[49m\n\u001b[1;32m    375\u001b[0m \u001b[43m    \u001b[49m\u001b[43moutfile\u001b[49m\u001b[43m,\u001b[49m\n\u001b[1;32m    376\u001b[0m \u001b[43m    \u001b[49m\u001b[43mpreserve_mode\u001b[49m\u001b[43m,\u001b[49m\n\u001b[1;32m    377\u001b[0m \u001b[43m    \u001b[49m\u001b[43mpreserve_times\u001b[49m\u001b[43m,\u001b[49m\n\u001b[1;32m    378\u001b[0m \u001b[43m    \u001b[49m\u001b[43mpreserve_symlinks\u001b[49m\u001b[43m,\u001b[49m\n\u001b[1;32m    379\u001b[0m \u001b[43m    \u001b[49m\u001b[38;5;129;43;01mnot\u001b[39;49;00m\u001b[43m \u001b[49m\u001b[38;5;28;43mself\u001b[39;49m\u001b[38;5;241;43m.\u001b[39;49m\u001b[43mforce\u001b[49m\u001b[43m,\u001b[49m\n\u001b[1;32m    380\u001b[0m \u001b[43m    \u001b[49m\u001b[43mdry_run\u001b[49m\u001b[38;5;241;43m=\u001b[39;49m\u001b[38;5;28;43mself\u001b[39;49m\u001b[38;5;241;43m.\u001b[39;49m\u001b[43mdry_run\u001b[49m\u001b[43m,\u001b[49m\n\u001b[1;32m    381\u001b[0m \u001b[43m\u001b[49m\u001b[43m)\u001b[49m\n",
      "File \u001b[0;32m~/miniforge3/envs/tf26/lib/python3.9/site-packages/setuptools/_distutils/dir_util.py:173\u001b[0m, in \u001b[0;36mcopy_tree\u001b[0;34m(src, dst, preserve_mode, preserve_times, preserve_symlinks, update, verbose, dry_run)\u001b[0m\n\u001b[1;32m    171\u001b[0m \u001b[38;5;28;01melif\u001b[39;00m os\u001b[38;5;241m.\u001b[39mpath\u001b[38;5;241m.\u001b[39misdir(src_name):\n\u001b[1;32m    172\u001b[0m     outputs\u001b[38;5;241m.\u001b[39mextend(\n\u001b[0;32m--> 173\u001b[0m         \u001b[43mcopy_tree\u001b[49m\u001b[43m(\u001b[49m\n\u001b[1;32m    174\u001b[0m \u001b[43m            \u001b[49m\u001b[43msrc_name\u001b[49m\u001b[43m,\u001b[49m\n\u001b[1;32m    175\u001b[0m \u001b[43m            \u001b[49m\u001b[43mdst_name\u001b[49m\u001b[43m,\u001b[49m\n\u001b[1;32m    176\u001b[0m \u001b[43m            \u001b[49m\u001b[43mpreserve_mode\u001b[49m\u001b[43m,\u001b[49m\n\u001b[1;32m    177\u001b[0m \u001b[43m            \u001b[49m\u001b[43mpreserve_times\u001b[49m\u001b[43m,\u001b[49m\n\u001b[1;32m    178\u001b[0m \u001b[43m            \u001b[49m\u001b[43mpreserve_symlinks\u001b[49m\u001b[43m,\u001b[49m\n\u001b[1;32m    179\u001b[0m \u001b[43m            \u001b[49m\u001b[43mupdate\u001b[49m\u001b[43m,\u001b[49m\n\u001b[1;32m    180\u001b[0m \u001b[43m            \u001b[49m\u001b[43mverbose\u001b[49m\u001b[38;5;241;43m=\u001b[39;49m\u001b[43mverbose\u001b[49m\u001b[43m,\u001b[49m\n\u001b[1;32m    181\u001b[0m \u001b[43m            \u001b[49m\u001b[43mdry_run\u001b[49m\u001b[38;5;241;43m=\u001b[39;49m\u001b[43mdry_run\u001b[49m\u001b[43m,\u001b[49m\n\u001b[1;32m    182\u001b[0m \u001b[43m        \u001b[49m\u001b[43m)\u001b[49m\n\u001b[1;32m    183\u001b[0m     )\n\u001b[1;32m    184\u001b[0m \u001b[38;5;28;01melse\u001b[39;00m:\n",
      "File \u001b[0;32m~/miniforge3/envs/tf26/lib/python3.9/site-packages/setuptools/_distutils/dir_util.py:185\u001b[0m, in \u001b[0;36mcopy_tree\u001b[0;34m(src, dst, preserve_mode, preserve_times, preserve_symlinks, update, verbose, dry_run)\u001b[0m\n\u001b[1;32m    184\u001b[0m \u001b[38;5;28;01melse\u001b[39;00m:\n\u001b[0;32m--> 185\u001b[0m     \u001b[43mcopy_file\u001b[49m\u001b[43m(\u001b[49m\n\u001b[1;32m    186\u001b[0m \u001b[43m        \u001b[49m\u001b[43msrc_name\u001b[49m\u001b[43m,\u001b[49m\n\u001b[1;32m    187\u001b[0m \u001b[43m        \u001b[49m\u001b[43mdst_name\u001b[49m\u001b[43m,\u001b[49m\n\u001b[1;32m    188\u001b[0m \u001b[43m        \u001b[49m\u001b[43mpreserve_mode\u001b[49m\u001b[43m,\u001b[49m\n\u001b[1;32m    189\u001b[0m \u001b[43m        \u001b[49m\u001b[43mpreserve_times\u001b[49m\u001b[43m,\u001b[49m\n\u001b[1;32m    190\u001b[0m \u001b[43m        \u001b[49m\u001b[43mupdate\u001b[49m\u001b[43m,\u001b[49m\n\u001b[1;32m    191\u001b[0m \u001b[43m        \u001b[49m\u001b[43mverbose\u001b[49m\u001b[38;5;241;43m=\u001b[39;49m\u001b[43mverbose\u001b[49m\u001b[43m,\u001b[49m\n\u001b[1;32m    192\u001b[0m \u001b[43m        \u001b[49m\u001b[43mdry_run\u001b[49m\u001b[38;5;241;43m=\u001b[39;49m\u001b[43mdry_run\u001b[49m\u001b[43m,\u001b[49m\n\u001b[1;32m    193\u001b[0m \u001b[43m    \u001b[49m\u001b[43m)\u001b[49m\n\u001b[1;32m    194\u001b[0m     outputs\u001b[38;5;241m.\u001b[39mappend(dst_name)\n",
      "File \u001b[0;32m~/miniforge3/envs/tf26/lib/python3.9/site-packages/setuptools/_distutils/file_util.py:163\u001b[0m, in \u001b[0;36mcopy_file\u001b[0;34m(src, dst, preserve_mode, preserve_times, update, link, verbose, dry_run)\u001b[0m\n\u001b[1;32m    161\u001b[0m \u001b[38;5;66;03m# Otherwise (non-Mac, not linking), copy the file contents and\u001b[39;00m\n\u001b[1;32m    162\u001b[0m \u001b[38;5;66;03m# (optionally) copy the times and mode.\u001b[39;00m\n\u001b[0;32m--> 163\u001b[0m \u001b[43m_copy_file_contents\u001b[49m\u001b[43m(\u001b[49m\u001b[43msrc\u001b[49m\u001b[43m,\u001b[49m\u001b[43m \u001b[49m\u001b[43mdst\u001b[49m\u001b[43m)\u001b[49m\n\u001b[1;32m    164\u001b[0m \u001b[38;5;28;01mif\u001b[39;00m preserve_mode \u001b[38;5;129;01mor\u001b[39;00m preserve_times:\n",
      "File \u001b[0;32m~/miniforge3/envs/tf26/lib/python3.9/site-packages/setuptools/_distutils/file_util.py:42\u001b[0m, in \u001b[0;36m_copy_file_contents\u001b[0;34m(src, dst, buffer_size)\u001b[0m\n\u001b[1;32m     41\u001b[0m \u001b[38;5;28;01mexcept\u001b[39;00m \u001b[38;5;167;01mOSError\u001b[39;00m \u001b[38;5;28;01mas\u001b[39;00m e:\n\u001b[0;32m---> 42\u001b[0m     \u001b[38;5;28;01mraise\u001b[39;00m DistutilsFileError(\n\u001b[1;32m     43\u001b[0m         \u001b[38;5;124m\"\u001b[39m\u001b[38;5;124mcould not create \u001b[39m\u001b[38;5;124m'\u001b[39m\u001b[38;5;132;01m{}\u001b[39;00m\u001b[38;5;124m'\u001b[39m\u001b[38;5;124m: \u001b[39m\u001b[38;5;132;01m{}\u001b[39;00m\u001b[38;5;124m\"\u001b[39m\u001b[38;5;241m.\u001b[39mformat(dst, e\u001b[38;5;241m.\u001b[39mstrerror)\n\u001b[1;32m     44\u001b[0m     )\n\u001b[1;32m     46\u001b[0m \u001b[38;5;28;01mwhile\u001b[39;00m \u001b[38;5;28;01mTrue\u001b[39;00m:\n",
      "\u001b[0;31mDistutilsFileError\u001b[0m: could not create 'build/bdist.macosx-11.0-arm64/wheel/torchkeras/lightmodel.py': No such file or directory",
      "\nDuring handling of the above exception, another exception occurred:\n",
      "\u001b[0;31mSystemExit\u001b[0m                                Traceback (most recent call last)",
      "File \u001b[0;32m~/miniforge3/envs/tf26/lib/python3.9/site-packages/IPython/core/interactiveshell.py:2797\u001b[0m, in \u001b[0;36mInteractiveShell.safe_execfile\u001b[0;34m(self, fname, exit_ignore, raise_exceptions, shell_futures, *where)\u001b[0m\n\u001b[1;32m   2796\u001b[0m     glob, loc \u001b[38;5;241m=\u001b[39m (where \u001b[38;5;241m+\u001b[39m (\u001b[38;5;28;01mNone\u001b[39;00m, ))[:\u001b[38;5;241m2\u001b[39m]\n\u001b[0;32m-> 2797\u001b[0m     \u001b[43mpy3compat\u001b[49m\u001b[38;5;241;43m.\u001b[39;49m\u001b[43mexecfile\u001b[49m\u001b[43m(\u001b[49m\n\u001b[1;32m   2798\u001b[0m \u001b[43m        \u001b[49m\u001b[43mfname\u001b[49m\u001b[43m,\u001b[49m\u001b[43m \u001b[49m\u001b[43mglob\u001b[49m\u001b[43m,\u001b[49m\u001b[43m \u001b[49m\u001b[43mloc\u001b[49m\u001b[43m,\u001b[49m\n\u001b[1;32m   2799\u001b[0m \u001b[43m        \u001b[49m\u001b[38;5;28;43mself\u001b[39;49m\u001b[38;5;241;43m.\u001b[39;49m\u001b[43mcompile\u001b[49m\u001b[43m \u001b[49m\u001b[38;5;28;43;01mif\u001b[39;49;00m\u001b[43m \u001b[49m\u001b[43mshell_futures\u001b[49m\u001b[43m \u001b[49m\u001b[38;5;28;43;01melse\u001b[39;49;00m\u001b[43m \u001b[49m\u001b[38;5;28;43;01mNone\u001b[39;49;00m\u001b[43m)\u001b[49m\n\u001b[1;32m   2800\u001b[0m \u001b[38;5;28;01mexcept\u001b[39;00m \u001b[38;5;167;01mSystemExit\u001b[39;00m \u001b[38;5;28;01mas\u001b[39;00m status:\n\u001b[1;32m   2801\u001b[0m     \u001b[38;5;66;03m# If the call was made with 0 or None exit status (sys.exit(0)\u001b[39;00m\n\u001b[1;32m   2802\u001b[0m     \u001b[38;5;66;03m# or sys.exit() ), don't bother showing a traceback, as both of\u001b[39;00m\n\u001b[0;32m   (...)\u001b[0m\n\u001b[1;32m   2808\u001b[0m     \u001b[38;5;66;03m# For other exit status, we show the exception unless\u001b[39;00m\n\u001b[1;32m   2809\u001b[0m     \u001b[38;5;66;03m# explicitly silenced, but only in short form.\u001b[39;00m\n",
      "File \u001b[0;32m~/miniforge3/envs/tf26/lib/python3.9/site-packages/IPython/utils/py3compat.py:55\u001b[0m, in \u001b[0;36mexecfile\u001b[0;34m(fname, glob, loc, compiler)\u001b[0m\n\u001b[1;32m     54\u001b[0m compiler \u001b[38;5;241m=\u001b[39m compiler \u001b[38;5;129;01mor\u001b[39;00m \u001b[38;5;28mcompile\u001b[39m\n\u001b[0;32m---> 55\u001b[0m \u001b[43mexec\u001b[49m\u001b[43m(\u001b[49m\u001b[43mcompiler\u001b[49m\u001b[43m(\u001b[49m\u001b[43mf\u001b[49m\u001b[38;5;241;43m.\u001b[39;49m\u001b[43mread\u001b[49m\u001b[43m(\u001b[49m\u001b[43m)\u001b[49m\u001b[43m,\u001b[49m\u001b[43m \u001b[49m\u001b[43mfname\u001b[49m\u001b[43m,\u001b[49m\u001b[43m \u001b[49m\u001b[38;5;124;43m\"\u001b[39;49m\u001b[38;5;124;43mexec\u001b[39;49m\u001b[38;5;124;43m\"\u001b[39;49m\u001b[43m)\u001b[49m\u001b[43m,\u001b[49m\u001b[43m \u001b[49m\u001b[43mglob\u001b[49m\u001b[43m,\u001b[49m\u001b[43m \u001b[49m\u001b[43mloc\u001b[49m\u001b[43m)\u001b[49m\n",
      "File \u001b[0;32m~/CodeFiles/torchkeras/setup.py:16\u001b[0m\n\u001b[1;32m     13\u001b[0m     \u001b[38;5;28;01mreturn\u001b[39;00m re\u001b[38;5;241m.\u001b[39msearch(\u001b[38;5;124mr\u001b[39m\u001b[38;5;124m'\u001b[39m\u001b[38;5;124m__version__=\u001b[39m\u001b[38;5;124m\"\u001b[39m\u001b[38;5;124m(.*)\u001b[39m\u001b[38;5;124m\"\u001b[39m\u001b[38;5;124m'\u001b[39m, file\u001b[38;5;241m.\u001b[39mread_text(encoding\u001b[38;5;241m=\u001b[39m\u001b[38;5;124m\"\u001b[39m\u001b[38;5;124mutf-8\u001b[39m\u001b[38;5;124m\"\u001b[39m),re\u001b[38;5;241m.\u001b[39mM)[\u001b[38;5;241m1\u001b[39m]\n\u001b[0;32m---> 16\u001b[0m \u001b[43msetup\u001b[49m\u001b[43m(\u001b[49m\n\u001b[1;32m     17\u001b[0m \u001b[43m    \u001b[49m\u001b[43mname\u001b[49m\u001b[38;5;241;43m=\u001b[39;49m\u001b[38;5;124;43m\"\u001b[39;49m\u001b[38;5;124;43mtorchkeras\u001b[39;49m\u001b[38;5;124;43m\"\u001b[39;49m\u001b[43m,\u001b[49m\n\u001b[1;32m     18\u001b[0m \u001b[43m    \u001b[49m\u001b[43mversion\u001b[49m\u001b[38;5;241;43m=\u001b[39;49m\u001b[43mget_version\u001b[49m\u001b[43m(\u001b[49m\u001b[43m)\u001b[49m\u001b[43m,\u001b[49m\n\u001b[1;32m     19\u001b[0m \u001b[43m    \u001b[49m\u001b[43mauthor\u001b[49m\u001b[38;5;241;43m=\u001b[39;49m\u001b[38;5;124;43m\"\u001b[39;49m\u001b[38;5;124;43mPythonAiRoad, Laugh\u001b[39;49m\u001b[38;5;124;43m\"\u001b[39;49m\u001b[43m,\u001b[49m\n\u001b[1;32m     20\u001b[0m \u001b[43m    \u001b[49m\u001b[43mauthor_email\u001b[49m\u001b[38;5;241;43m=\u001b[39;49m\u001b[38;5;124;43m\"\u001b[39;49m\u001b[38;5;124;43mlyhue1991@163.com\u001b[39;49m\u001b[38;5;124;43m\"\u001b[39;49m\u001b[43m,\u001b[49m\n\u001b[1;32m     21\u001b[0m \u001b[43m    \u001b[49m\u001b[43mdescription\u001b[49m\u001b[38;5;241;43m=\u001b[39;49m\u001b[38;5;124;43m\"\u001b[39;49m\u001b[38;5;124;43mpytorch❤️keras\u001b[39;49m\u001b[38;5;124;43m\"\u001b[39;49m\u001b[43m,\u001b[49m\n\u001b[1;32m     22\u001b[0m \u001b[43m    \u001b[49m\u001b[43mlong_description\u001b[49m\u001b[38;5;241;43m=\u001b[39;49m\u001b[43mREADME\u001b[49m\u001b[43m,\u001b[49m\n\u001b[1;32m     23\u001b[0m \u001b[43m    \u001b[49m\u001b[43minstall_requires\u001b[49m\u001b[38;5;241;43m=\u001b[39;49m\u001b[43m[\u001b[49m\u001b[43m           \u001b[49m\n\u001b[1;32m     24\u001b[0m \u001b[43m         \u001b[49m\u001b[38;5;66;43;03m#'pandas',\u001b[39;49;00m\n\u001b[1;32m     25\u001b[0m \u001b[43m         \u001b[49m\u001b[38;5;66;43;03m#'accelerate',\u001b[39;49;00m\n\u001b[1;32m     26\u001b[0m \u001b[43m         \u001b[49m\u001b[38;5;66;43;03m#'torch',\u001b[39;49;00m\n\u001b[1;32m     27\u001b[0m \u001b[43m         \u001b[49m\u001b[38;5;66;43;03m#'torchmetrics',\u001b[39;49;00m\n\u001b[1;32m     28\u001b[0m \u001b[43m         \u001b[49m\u001b[38;5;66;43;03m#'tqdm',\u001b[39;49;00m\n\u001b[1;32m     29\u001b[0m \u001b[43m         \u001b[49m\u001b[38;5;66;43;03m#'pytorch_lightning',\u001b[39;49;00m\n\u001b[1;32m     30\u001b[0m \u001b[43m         \u001b[49m\u001b[38;5;66;43;03m#'plotly',\u001b[39;49;00m\n\u001b[1;32m     31\u001b[0m \u001b[43m         \u001b[49m\u001b[38;5;66;43;03m#'wandb'\u001b[39;49;00m\n\u001b[1;32m     32\u001b[0m \u001b[43m       \u001b[49m\u001b[43m]\u001b[49m\u001b[43m,\u001b[49m\n\u001b[1;32m     33\u001b[0m \u001b[43m    \u001b[49m\u001b[43mlong_description_content_type\u001b[49m\u001b[38;5;241;43m=\u001b[39;49m\u001b[38;5;124;43m\"\u001b[39;49m\u001b[38;5;124;43mtext/markdown\u001b[39;49m\u001b[38;5;124;43m\"\u001b[39;49m\u001b[43m,\u001b[49m\n\u001b[1;32m     34\u001b[0m \u001b[43m    \u001b[49m\u001b[43murl\u001b[49m\u001b[38;5;241;43m=\u001b[39;49m\u001b[38;5;124;43m\"\u001b[39;49m\u001b[38;5;124;43mhttps://github.com/lyhue1991/torchkeras\u001b[39;49m\u001b[38;5;124;43m\"\u001b[39;49m\u001b[43m,\u001b[49m\n\u001b[1;32m     35\u001b[0m \u001b[43m    \u001b[49m\u001b[43mpackages\u001b[49m\u001b[38;5;241;43m=\u001b[39;49m\u001b[43mfind_namespace_packages\u001b[49m\u001b[43m(\u001b[49m\u001b[43mexclude\u001b[49m\u001b[38;5;241;43m=\u001b[39;49m\u001b[43m[\u001b[49m\u001b[38;5;124;43m'\u001b[39;49m\u001b[38;5;124;43mtorchkeras.assets\u001b[39;49m\u001b[38;5;124;43m'\u001b[39;49m\u001b[43m,\u001b[49m\u001b[38;5;124;43m'\u001b[39;49m\u001b[38;5;124;43mdata\u001b[39;49m\u001b[38;5;124;43m'\u001b[39;49m\u001b[43m]\u001b[49m\u001b[43m)\u001b[49m\u001b[43m,\u001b[49m\n\u001b[1;32m     36\u001b[0m \u001b[43m    \u001b[49m\u001b[43minclude_package_data\u001b[49m\u001b[38;5;241;43m=\u001b[39;49m\u001b[38;5;28;43;01mTrue\u001b[39;49;00m\u001b[43m,\u001b[49m\n\u001b[1;32m     37\u001b[0m \u001b[43m    \u001b[49m\u001b[43mclassifiers\u001b[49m\u001b[38;5;241;43m=\u001b[39;49m\u001b[43m[\u001b[49m\n\u001b[1;32m     38\u001b[0m \u001b[43m        \u001b[49m\u001b[38;5;124;43m\"\u001b[39;49m\u001b[38;5;124;43mProgramming Language :: Python :: 3\u001b[39;49m\u001b[38;5;124;43m\"\u001b[39;49m\u001b[43m,\u001b[49m\n\u001b[1;32m     39\u001b[0m \u001b[43m        \u001b[49m\u001b[38;5;124;43m\"\u001b[39;49m\u001b[38;5;124;43mLicense :: OSI Approved :: MIT License\u001b[39;49m\u001b[38;5;124;43m\"\u001b[39;49m\u001b[43m,\u001b[49m\n\u001b[1;32m     40\u001b[0m \u001b[43m        \u001b[49m\u001b[38;5;124;43m\"\u001b[39;49m\u001b[38;5;124;43mOperating System :: OS Independent\u001b[39;49m\u001b[38;5;124;43m\"\u001b[39;49m\u001b[43m,\u001b[49m\n\u001b[1;32m     41\u001b[0m \u001b[43m    \u001b[49m\u001b[43m]\u001b[49m\u001b[43m,\u001b[49m\n\u001b[1;32m     42\u001b[0m \u001b[43m    \u001b[49m\u001b[43mkeywords\u001b[49m\u001b[38;5;241;43m=\u001b[39;49m\u001b[38;5;124;43m\"\u001b[39;49m\u001b[38;5;124;43mmachine-learning, deep-learning, ML, DL, pytorch, torch, keras\u001b[39;49m\u001b[38;5;124;43m\"\u001b[39;49m\u001b[43m,\u001b[49m\n\u001b[1;32m     43\u001b[0m \u001b[43m    \u001b[49m\u001b[43mpython_requires\u001b[49m\u001b[38;5;241;43m=\u001b[39;49m\u001b[38;5;124;43m'\u001b[39;49m\u001b[38;5;124;43m>=3.5\u001b[39;49m\u001b[38;5;124;43m'\u001b[39;49m\n\u001b[1;32m     44\u001b[0m \u001b[43m)\u001b[49m\n",
      "File \u001b[0;32m~/miniforge3/envs/tf26/lib/python3.9/site-packages/setuptools/__init__.py:87\u001b[0m, in \u001b[0;36msetup\u001b[0;34m(**attrs)\u001b[0m\n\u001b[1;32m     86\u001b[0m _install_setup_requires(attrs)\n\u001b[0;32m---> 87\u001b[0m \u001b[38;5;28;01mreturn\u001b[39;00m \u001b[43mdistutils\u001b[49m\u001b[38;5;241;43m.\u001b[39;49m\u001b[43mcore\u001b[49m\u001b[38;5;241;43m.\u001b[39;49m\u001b[43msetup\u001b[49m\u001b[43m(\u001b[49m\u001b[38;5;241;43m*\u001b[39;49m\u001b[38;5;241;43m*\u001b[39;49m\u001b[43mattrs\u001b[49m\u001b[43m)\u001b[49m\n",
      "File \u001b[0;32m~/miniforge3/envs/tf26/lib/python3.9/site-packages/setuptools/_distutils/core.py:185\u001b[0m, in \u001b[0;36msetup\u001b[0;34m(**attrs)\u001b[0m\n\u001b[1;32m    184\u001b[0m \u001b[38;5;28;01mif\u001b[39;00m ok:\n\u001b[0;32m--> 185\u001b[0m     \u001b[38;5;28;01mreturn\u001b[39;00m \u001b[43mrun_commands\u001b[49m\u001b[43m(\u001b[49m\u001b[43mdist\u001b[49m\u001b[43m)\u001b[49m\n\u001b[1;32m    187\u001b[0m \u001b[38;5;28;01mreturn\u001b[39;00m dist\n",
      "File \u001b[0;32m~/miniforge3/envs/tf26/lib/python3.9/site-packages/setuptools/_distutils/core.py:215\u001b[0m, in \u001b[0;36mrun_commands\u001b[0;34m(dist)\u001b[0m\n\u001b[1;32m    214\u001b[0m     \u001b[38;5;28;01melse\u001b[39;00m:\n\u001b[0;32m--> 215\u001b[0m         \u001b[38;5;28;01mraise\u001b[39;00m \u001b[38;5;167;01mSystemExit\u001b[39;00m(\u001b[38;5;124m\"\u001b[39m\u001b[38;5;124merror: \u001b[39m\u001b[38;5;124m\"\u001b[39m \u001b[38;5;241m+\u001b[39m \u001b[38;5;28mstr\u001b[39m(msg))\n\u001b[1;32m    217\u001b[0m \u001b[38;5;28;01mreturn\u001b[39;00m dist\n",
      "\u001b[0;31mSystemExit\u001b[0m: error: could not create 'build/bdist.macosx-11.0-arm64/wheel/torchkeras/lightmodel.py': No such file or directory",
      "\nDuring handling of the above exception, another exception occurred:\n",
      "\u001b[0;31mAssertionError\u001b[0m                            Traceback (most recent call last)",
      "Cell \u001b[0;32mIn [11], line 1\u001b[0m\n\u001b[0;32m----> 1\u001b[0m \u001b[43mget_ipython\u001b[49m\u001b[43m(\u001b[49m\u001b[43m)\u001b[49m\u001b[38;5;241;43m.\u001b[39;49m\u001b[43mrun_line_magic\u001b[49m\u001b[43m(\u001b[49m\u001b[38;5;124;43m'\u001b[39;49m\u001b[38;5;124;43mrun\u001b[39;49m\u001b[38;5;124;43m'\u001b[39;49m\u001b[43m,\u001b[49m\u001b[43m \u001b[49m\u001b[38;5;124;43m'\u001b[39;49m\u001b[38;5;124;43msetup.py sdist bdist_wheel\u001b[39;49m\u001b[38;5;124;43m'\u001b[39;49m\u001b[43m)\u001b[49m\n",
      "File \u001b[0;32m~/miniforge3/envs/tf26/lib/python3.9/site-packages/IPython/core/interactiveshell.py:2364\u001b[0m, in \u001b[0;36mInteractiveShell.run_line_magic\u001b[0;34m(self, magic_name, line, _stack_depth)\u001b[0m\n\u001b[1;32m   2362\u001b[0m     kwargs[\u001b[38;5;124m'\u001b[39m\u001b[38;5;124mlocal_ns\u001b[39m\u001b[38;5;124m'\u001b[39m] \u001b[38;5;241m=\u001b[39m \u001b[38;5;28mself\u001b[39m\u001b[38;5;241m.\u001b[39mget_local_scope(stack_depth)\n\u001b[1;32m   2363\u001b[0m \u001b[38;5;28;01mwith\u001b[39;00m \u001b[38;5;28mself\u001b[39m\u001b[38;5;241m.\u001b[39mbuiltin_trap:\n\u001b[0;32m-> 2364\u001b[0m     result \u001b[38;5;241m=\u001b[39m \u001b[43mfn\u001b[49m\u001b[43m(\u001b[49m\u001b[38;5;241;43m*\u001b[39;49m\u001b[43margs\u001b[49m\u001b[43m,\u001b[49m\u001b[43m \u001b[49m\u001b[38;5;241;43m*\u001b[39;49m\u001b[38;5;241;43m*\u001b[39;49m\u001b[43mkwargs\u001b[49m\u001b[43m)\u001b[49m\n\u001b[1;32m   2365\u001b[0m \u001b[38;5;28;01mreturn\u001b[39;00m result\n",
      "File \u001b[0;32m~/miniforge3/envs/tf26/lib/python3.9/site-packages/IPython/core/magics/execution.py:829\u001b[0m, in \u001b[0;36mExecutionMagics.run\u001b[0;34m(self, parameter_s, runner, file_finder)\u001b[0m\n\u001b[1;32m    826\u001b[0m             \u001b[38;5;28mself\u001b[39m\u001b[38;5;241m.\u001b[39m_run_with_timing(run, nruns)\n\u001b[1;32m    827\u001b[0m         \u001b[38;5;28;01melse\u001b[39;00m:\n\u001b[1;32m    828\u001b[0m             \u001b[38;5;66;03m# regular execution\u001b[39;00m\n\u001b[0;32m--> 829\u001b[0m             \u001b[43mrun\u001b[49m\u001b[43m(\u001b[49m\u001b[43m)\u001b[49m\n\u001b[1;32m    831\u001b[0m \u001b[38;5;28;01mif\u001b[39;00m \u001b[38;5;124m'\u001b[39m\u001b[38;5;124mi\u001b[39m\u001b[38;5;124m'\u001b[39m \u001b[38;5;129;01min\u001b[39;00m opts:\n\u001b[1;32m    832\u001b[0m     \u001b[38;5;28mself\u001b[39m\u001b[38;5;241m.\u001b[39mshell\u001b[38;5;241m.\u001b[39muser_ns[\u001b[38;5;124m'\u001b[39m\u001b[38;5;124m__name__\u001b[39m\u001b[38;5;124m'\u001b[39m] \u001b[38;5;241m=\u001b[39m __name__save\n",
      "File \u001b[0;32m~/miniforge3/envs/tf26/lib/python3.9/site-packages/IPython/core/magics/execution.py:814\u001b[0m, in \u001b[0;36mExecutionMagics.run.<locals>.run\u001b[0;34m()\u001b[0m\n\u001b[1;32m    813\u001b[0m \u001b[38;5;28;01mdef\u001b[39;00m \u001b[38;5;21mrun\u001b[39m():\n\u001b[0;32m--> 814\u001b[0m     \u001b[43mrunner\u001b[49m\u001b[43m(\u001b[49m\u001b[43mfilename\u001b[49m\u001b[43m,\u001b[49m\u001b[43m \u001b[49m\u001b[43mprog_ns\u001b[49m\u001b[43m,\u001b[49m\u001b[43m \u001b[49m\u001b[43mprog_ns\u001b[49m\u001b[43m,\u001b[49m\n\u001b[1;32m    815\u001b[0m \u001b[43m            \u001b[49m\u001b[43mexit_ignore\u001b[49m\u001b[38;5;241;43m=\u001b[39;49m\u001b[43mexit_ignore\u001b[49m\u001b[43m)\u001b[49m\n",
      "File \u001b[0;32m~/miniforge3/envs/tf26/lib/python3.9/site-packages/IPython/core/pylabtools.py:213\u001b[0m, in \u001b[0;36mmpl_runner.<locals>.mpl_execfile\u001b[0;34m(fname, *where, **kw)\u001b[0m\n\u001b[1;32m    211\u001b[0m is_interactive \u001b[38;5;241m=\u001b[39m matplotlib\u001b[38;5;241m.\u001b[39mrcParams[\u001b[38;5;124m'\u001b[39m\u001b[38;5;124minteractive\u001b[39m\u001b[38;5;124m'\u001b[39m]\n\u001b[1;32m    212\u001b[0m matplotlib\u001b[38;5;241m.\u001b[39minteractive(\u001b[38;5;28;01mFalse\u001b[39;00m)\n\u001b[0;32m--> 213\u001b[0m \u001b[43msafe_execfile\u001b[49m\u001b[43m(\u001b[49m\u001b[43mfname\u001b[49m\u001b[43m,\u001b[49m\u001b[38;5;241;43m*\u001b[39;49m\u001b[43mwhere\u001b[49m\u001b[43m,\u001b[49m\u001b[38;5;241;43m*\u001b[39;49m\u001b[38;5;241;43m*\u001b[39;49m\u001b[43mkw\u001b[49m\u001b[43m)\u001b[49m\n\u001b[1;32m    214\u001b[0m matplotlib\u001b[38;5;241m.\u001b[39minteractive(is_interactive)\n\u001b[1;32m    215\u001b[0m \u001b[38;5;66;03m# make rendering call now, if the user tried to do it\u001b[39;00m\n",
      "File \u001b[0;32m~/miniforge3/envs/tf26/lib/python3.9/site-packages/IPython/core/interactiveshell.py:2814\u001b[0m, in \u001b[0;36mInteractiveShell.safe_execfile\u001b[0;34m(self, fname, exit_ignore, raise_exceptions, shell_futures, *where)\u001b[0m\n\u001b[1;32m   2812\u001b[0m             \u001b[38;5;28;01mraise\u001b[39;00m\n\u001b[1;32m   2813\u001b[0m         \u001b[38;5;28;01mif\u001b[39;00m \u001b[38;5;129;01mnot\u001b[39;00m exit_ignore:\n\u001b[0;32m-> 2814\u001b[0m             \u001b[38;5;28;43mself\u001b[39;49m\u001b[38;5;241;43m.\u001b[39;49m\u001b[43mshowtraceback\u001b[49m\u001b[43m(\u001b[49m\u001b[43mexception_only\u001b[49m\u001b[38;5;241;43m=\u001b[39;49m\u001b[38;5;28;43;01mTrue\u001b[39;49;00m\u001b[43m)\u001b[49m\n\u001b[1;32m   2815\u001b[0m \u001b[38;5;28;01mexcept\u001b[39;00m:\n\u001b[1;32m   2816\u001b[0m     \u001b[38;5;28;01mif\u001b[39;00m raise_exceptions:\n",
      "File \u001b[0;32m~/miniforge3/envs/tf26/lib/python3.9/site-packages/IPython/core/interactiveshell.py:2042\u001b[0m, in \u001b[0;36mInteractiveShell.showtraceback\u001b[0;34m(self, exc_tuple, filename, tb_offset, exception_only, running_compiled_code)\u001b[0m\n\u001b[1;32m   2039\u001b[0m \u001b[38;5;28;01mif\u001b[39;00m exception_only:\n\u001b[1;32m   2040\u001b[0m     stb \u001b[38;5;241m=\u001b[39m [\u001b[38;5;124m'\u001b[39m\u001b[38;5;124mAn exception has occurred, use \u001b[39m\u001b[38;5;124m%\u001b[39m\u001b[38;5;124mtb to see \u001b[39m\u001b[38;5;124m'\u001b[39m\n\u001b[1;32m   2041\u001b[0m            \u001b[38;5;124m'\u001b[39m\u001b[38;5;124mthe full traceback.\u001b[39m\u001b[38;5;130;01m\\n\u001b[39;00m\u001b[38;5;124m'\u001b[39m]\n\u001b[0;32m-> 2042\u001b[0m     stb\u001b[38;5;241m.\u001b[39mextend(\u001b[38;5;28;43mself\u001b[39;49m\u001b[38;5;241;43m.\u001b[39;49m\u001b[43mInteractiveTB\u001b[49m\u001b[38;5;241;43m.\u001b[39;49m\u001b[43mget_exception_only\u001b[49m\u001b[43m(\u001b[49m\u001b[43metype\u001b[49m\u001b[43m,\u001b[49m\n\u001b[1;32m   2043\u001b[0m \u001b[43m                                                     \u001b[49m\u001b[43mvalue\u001b[49m\u001b[43m)\u001b[49m)\n\u001b[1;32m   2044\u001b[0m \u001b[38;5;28;01melse\u001b[39;00m:\n\u001b[1;32m   2045\u001b[0m     \u001b[38;5;28;01mtry\u001b[39;00m:\n\u001b[1;32m   2046\u001b[0m         \u001b[38;5;66;03m# Exception classes can customise their traceback - we\u001b[39;00m\n\u001b[1;32m   2047\u001b[0m         \u001b[38;5;66;03m# use this in IPython.parallel for exceptions occurring\u001b[39;00m\n\u001b[1;32m   2048\u001b[0m         \u001b[38;5;66;03m# in the engines. This should return a list of strings.\u001b[39;00m\n",
      "File \u001b[0;32m~/miniforge3/envs/tf26/lib/python3.9/site-packages/IPython/core/ultratb.py:579\u001b[0m, in \u001b[0;36mListTB.get_exception_only\u001b[0;34m(self, etype, value)\u001b[0m\n\u001b[1;32m    571\u001b[0m \u001b[38;5;28;01mdef\u001b[39;00m \u001b[38;5;21mget_exception_only\u001b[39m(\u001b[38;5;28mself\u001b[39m, etype, value):\n\u001b[1;32m    572\u001b[0m     \u001b[38;5;124;03m\"\"\"Only print the exception type and message, without a traceback.\u001b[39;00m\n\u001b[1;32m    573\u001b[0m \n\u001b[1;32m    574\u001b[0m \u001b[38;5;124;03m    Parameters\u001b[39;00m\n\u001b[0;32m   (...)\u001b[0m\n\u001b[1;32m    577\u001b[0m \u001b[38;5;124;03m    value : exception value\u001b[39;00m\n\u001b[1;32m    578\u001b[0m \u001b[38;5;124;03m    \"\"\"\u001b[39;00m\n\u001b[0;32m--> 579\u001b[0m     \u001b[38;5;28;01mreturn\u001b[39;00m \u001b[43mListTB\u001b[49m\u001b[38;5;241;43m.\u001b[39;49m\u001b[43mstructured_traceback\u001b[49m\u001b[43m(\u001b[49m\u001b[38;5;28;43mself\u001b[39;49m\u001b[43m,\u001b[49m\u001b[43m \u001b[49m\u001b[43metype\u001b[49m\u001b[43m,\u001b[49m\u001b[43m \u001b[49m\u001b[43mvalue\u001b[49m\u001b[43m)\u001b[49m\n",
      "File \u001b[0;32m~/miniforge3/envs/tf26/lib/python3.9/site-packages/IPython/core/ultratb.py:446\u001b[0m, in \u001b[0;36mListTB.structured_traceback\u001b[0;34m(self, etype, evalue, etb, tb_offset, context)\u001b[0m\n\u001b[1;32m    443\u001b[0m     chained_exc_ids\u001b[38;5;241m.\u001b[39madd(\u001b[38;5;28mid\u001b[39m(exception[\u001b[38;5;241m1\u001b[39m]))\n\u001b[1;32m    444\u001b[0m     chained_exceptions_tb_offset \u001b[38;5;241m=\u001b[39m \u001b[38;5;241m0\u001b[39m\n\u001b[1;32m    445\u001b[0m     out_list \u001b[38;5;241m=\u001b[39m (\n\u001b[0;32m--> 446\u001b[0m         \u001b[38;5;28;43mself\u001b[39;49m\u001b[38;5;241;43m.\u001b[39;49m\u001b[43mstructured_traceback\u001b[49m\u001b[43m(\u001b[49m\n\u001b[1;32m    447\u001b[0m \u001b[43m            \u001b[49m\u001b[43metype\u001b[49m\u001b[43m,\u001b[49m\u001b[43m \u001b[49m\u001b[43mevalue\u001b[49m\u001b[43m,\u001b[49m\u001b[43m \u001b[49m\u001b[43m(\u001b[49m\u001b[43metb\u001b[49m\u001b[43m,\u001b[49m\u001b[43m \u001b[49m\u001b[43mchained_exc_ids\u001b[49m\u001b[43m)\u001b[49m\u001b[43m,\u001b[49m\n\u001b[1;32m    448\u001b[0m \u001b[43m            \u001b[49m\u001b[43mchained_exceptions_tb_offset\u001b[49m\u001b[43m,\u001b[49m\u001b[43m \u001b[49m\u001b[43mcontext\u001b[49m\u001b[43m)\u001b[49m\n\u001b[1;32m    449\u001b[0m         \u001b[38;5;241m+\u001b[39m chained_exception_message\n\u001b[1;32m    450\u001b[0m         \u001b[38;5;241m+\u001b[39m out_list)\n\u001b[1;32m    452\u001b[0m \u001b[38;5;28;01mreturn\u001b[39;00m out_list\n",
      "File \u001b[0;32m~/miniforge3/envs/tf26/lib/python3.9/site-packages/IPython/core/ultratb.py:1112\u001b[0m, in \u001b[0;36mAutoFormattedTB.structured_traceback\u001b[0;34m(self, etype, value, tb, tb_offset, number_of_lines_of_context)\u001b[0m\n\u001b[1;32m   1110\u001b[0m \u001b[38;5;28;01melse\u001b[39;00m:\n\u001b[1;32m   1111\u001b[0m     \u001b[38;5;28mself\u001b[39m\u001b[38;5;241m.\u001b[39mtb \u001b[38;5;241m=\u001b[39m tb\n\u001b[0;32m-> 1112\u001b[0m \u001b[38;5;28;01mreturn\u001b[39;00m \u001b[43mFormattedTB\u001b[49m\u001b[38;5;241;43m.\u001b[39;49m\u001b[43mstructured_traceback\u001b[49m\u001b[43m(\u001b[49m\n\u001b[1;32m   1113\u001b[0m \u001b[43m    \u001b[49m\u001b[38;5;28;43mself\u001b[39;49m\u001b[43m,\u001b[49m\u001b[43m \u001b[49m\u001b[43metype\u001b[49m\u001b[43m,\u001b[49m\u001b[43m \u001b[49m\u001b[43mvalue\u001b[49m\u001b[43m,\u001b[49m\u001b[43m \u001b[49m\u001b[43mtb\u001b[49m\u001b[43m,\u001b[49m\u001b[43m \u001b[49m\u001b[43mtb_offset\u001b[49m\u001b[43m,\u001b[49m\u001b[43m \u001b[49m\u001b[43mnumber_of_lines_of_context\u001b[49m\u001b[43m)\u001b[49m\n",
      "File \u001b[0;32m~/miniforge3/envs/tf26/lib/python3.9/site-packages/IPython/core/ultratb.py:1006\u001b[0m, in \u001b[0;36mFormattedTB.structured_traceback\u001b[0;34m(self, etype, value, tb, tb_offset, number_of_lines_of_context)\u001b[0m\n\u001b[1;32m   1003\u001b[0m mode \u001b[38;5;241m=\u001b[39m \u001b[38;5;28mself\u001b[39m\u001b[38;5;241m.\u001b[39mmode\n\u001b[1;32m   1004\u001b[0m \u001b[38;5;28;01mif\u001b[39;00m mode \u001b[38;5;129;01min\u001b[39;00m \u001b[38;5;28mself\u001b[39m\u001b[38;5;241m.\u001b[39mverbose_modes:\n\u001b[1;32m   1005\u001b[0m     \u001b[38;5;66;03m# Verbose modes need a full traceback\u001b[39;00m\n\u001b[0;32m-> 1006\u001b[0m     \u001b[38;5;28;01mreturn\u001b[39;00m \u001b[43mVerboseTB\u001b[49m\u001b[38;5;241;43m.\u001b[39;49m\u001b[43mstructured_traceback\u001b[49m\u001b[43m(\u001b[49m\n\u001b[1;32m   1007\u001b[0m \u001b[43m        \u001b[49m\u001b[38;5;28;43mself\u001b[39;49m\u001b[43m,\u001b[49m\u001b[43m \u001b[49m\u001b[43metype\u001b[49m\u001b[43m,\u001b[49m\u001b[43m \u001b[49m\u001b[43mvalue\u001b[49m\u001b[43m,\u001b[49m\u001b[43m \u001b[49m\u001b[43mtb\u001b[49m\u001b[43m,\u001b[49m\u001b[43m \u001b[49m\u001b[43mtb_offset\u001b[49m\u001b[43m,\u001b[49m\u001b[43m \u001b[49m\u001b[43mnumber_of_lines_of_context\u001b[49m\n\u001b[1;32m   1008\u001b[0m \u001b[43m    \u001b[49m\u001b[43m)\u001b[49m\n\u001b[1;32m   1009\u001b[0m \u001b[38;5;28;01melif\u001b[39;00m mode \u001b[38;5;241m==\u001b[39m \u001b[38;5;124m'\u001b[39m\u001b[38;5;124mMinimal\u001b[39m\u001b[38;5;124m'\u001b[39m:\n\u001b[1;32m   1010\u001b[0m     \u001b[38;5;28;01mreturn\u001b[39;00m ListTB\u001b[38;5;241m.\u001b[39mget_exception_only(\u001b[38;5;28mself\u001b[39m, etype, value)\n",
      "File \u001b[0;32m~/miniforge3/envs/tf26/lib/python3.9/site-packages/IPython/core/ultratb.py:859\u001b[0m, in \u001b[0;36mVerboseTB.structured_traceback\u001b[0;34m(self, etype, evalue, etb, tb_offset, number_of_lines_of_context)\u001b[0m\n\u001b[1;32m    850\u001b[0m \u001b[38;5;28;01mdef\u001b[39;00m \u001b[38;5;21mstructured_traceback\u001b[39m(\n\u001b[1;32m    851\u001b[0m     \u001b[38;5;28mself\u001b[39m,\n\u001b[1;32m    852\u001b[0m     etype: \u001b[38;5;28mtype\u001b[39m,\n\u001b[0;32m   (...)\u001b[0m\n\u001b[1;32m    856\u001b[0m     number_of_lines_of_context: \u001b[38;5;28mint\u001b[39m \u001b[38;5;241m=\u001b[39m \u001b[38;5;241m5\u001b[39m,\n\u001b[1;32m    857\u001b[0m ):\n\u001b[1;32m    858\u001b[0m     \u001b[38;5;124;03m\"\"\"Return a nice text document describing the traceback.\"\"\"\u001b[39;00m\n\u001b[0;32m--> 859\u001b[0m     formatted_exception \u001b[38;5;241m=\u001b[39m \u001b[38;5;28;43mself\u001b[39;49m\u001b[38;5;241;43m.\u001b[39;49m\u001b[43mformat_exception_as_a_whole\u001b[49m\u001b[43m(\u001b[49m\u001b[43metype\u001b[49m\u001b[43m,\u001b[49m\u001b[43m \u001b[49m\u001b[43mevalue\u001b[49m\u001b[43m,\u001b[49m\u001b[43m \u001b[49m\u001b[43metb\u001b[49m\u001b[43m,\u001b[49m\u001b[43m \u001b[49m\u001b[43mnumber_of_lines_of_context\u001b[49m\u001b[43m,\u001b[49m\n\u001b[1;32m    860\u001b[0m \u001b[43m                                                           \u001b[49m\u001b[43mtb_offset\u001b[49m\u001b[43m)\u001b[49m\n\u001b[1;32m    862\u001b[0m     colors \u001b[38;5;241m=\u001b[39m \u001b[38;5;28mself\u001b[39m\u001b[38;5;241m.\u001b[39mColors  \u001b[38;5;66;03m# just a shorthand + quicker name lookup\u001b[39;00m\n\u001b[1;32m    863\u001b[0m     colorsnormal \u001b[38;5;241m=\u001b[39m colors\u001b[38;5;241m.\u001b[39mNormal  \u001b[38;5;66;03m# used a lot\u001b[39;00m\n",
      "File \u001b[0;32m~/miniforge3/envs/tf26/lib/python3.9/site-packages/IPython/core/ultratb.py:793\u001b[0m, in \u001b[0;36mVerboseTB.format_exception_as_a_whole\u001b[0;34m(self, etype, evalue, etb, number_of_lines_of_context, tb_offset)\u001b[0m\n\u001b[1;32m    790\u001b[0m \u001b[38;5;28;01massert\u001b[39;00m \u001b[38;5;28misinstance\u001b[39m(tb_offset, \u001b[38;5;28mint\u001b[39m)\n\u001b[1;32m    791\u001b[0m head \u001b[38;5;241m=\u001b[39m \u001b[38;5;28mself\u001b[39m\u001b[38;5;241m.\u001b[39mprepare_header(etype, \u001b[38;5;28mself\u001b[39m\u001b[38;5;241m.\u001b[39mlong_header)\n\u001b[1;32m    792\u001b[0m records \u001b[38;5;241m=\u001b[39m (\n\u001b[0;32m--> 793\u001b[0m     \u001b[38;5;28;43mself\u001b[39;49m\u001b[38;5;241;43m.\u001b[39;49m\u001b[43mget_records\u001b[49m\u001b[43m(\u001b[49m\u001b[43metb\u001b[49m\u001b[43m,\u001b[49m\u001b[43m \u001b[49m\u001b[43mnumber_of_lines_of_context\u001b[49m\u001b[43m,\u001b[49m\u001b[43m \u001b[49m\u001b[43mtb_offset\u001b[49m\u001b[43m)\u001b[49m \u001b[38;5;28;01mif\u001b[39;00m etb \u001b[38;5;28;01melse\u001b[39;00m []\n\u001b[1;32m    794\u001b[0m )\n\u001b[1;32m    796\u001b[0m frames \u001b[38;5;241m=\u001b[39m []\n\u001b[1;32m    797\u001b[0m skipped \u001b[38;5;241m=\u001b[39m \u001b[38;5;241m0\u001b[39m\n",
      "File \u001b[0;32m~/miniforge3/envs/tf26/lib/python3.9/site-packages/IPython/core/ultratb.py:848\u001b[0m, in \u001b[0;36mVerboseTB.get_records\u001b[0;34m(self, etb, number_of_lines_of_context, tb_offset)\u001b[0m\n\u001b[1;32m    842\u001b[0m     formatter \u001b[38;5;241m=\u001b[39m \u001b[38;5;28;01mNone\u001b[39;00m\n\u001b[1;32m    843\u001b[0m options \u001b[38;5;241m=\u001b[39m stack_data\u001b[38;5;241m.\u001b[39mOptions(\n\u001b[1;32m    844\u001b[0m     before\u001b[38;5;241m=\u001b[39mbefore,\n\u001b[1;32m    845\u001b[0m     after\u001b[38;5;241m=\u001b[39mafter,\n\u001b[1;32m    846\u001b[0m     pygments_formatter\u001b[38;5;241m=\u001b[39mformatter,\n\u001b[1;32m    847\u001b[0m )\n\u001b[0;32m--> 848\u001b[0m \u001b[38;5;28;01mreturn\u001b[39;00m \u001b[38;5;28;43mlist\u001b[39;49m\u001b[43m(\u001b[49m\u001b[43mstack_data\u001b[49m\u001b[38;5;241;43m.\u001b[39;49m\u001b[43mFrameInfo\u001b[49m\u001b[38;5;241;43m.\u001b[39;49m\u001b[43mstack_data\u001b[49m\u001b[43m(\u001b[49m\u001b[43metb\u001b[49m\u001b[43m,\u001b[49m\u001b[43m \u001b[49m\u001b[43moptions\u001b[49m\u001b[38;5;241;43m=\u001b[39;49m\u001b[43moptions\u001b[49m\u001b[43m)\u001b[49m\u001b[43m)\u001b[49m[tb_offset:]\n",
      "File \u001b[0;32m~/miniforge3/envs/tf26/lib/python3.9/site-packages/stack_data/core.py:564\u001b[0m, in \u001b[0;36mFrameInfo.stack_data\u001b[0;34m(cls, frame_or_tb, options, collapse_repeated_frames)\u001b[0m\n\u001b[1;32m    548\u001b[0m \u001b[38;5;129m@classmethod\u001b[39m\n\u001b[1;32m    549\u001b[0m \u001b[38;5;28;01mdef\u001b[39;00m \u001b[38;5;21mstack_data\u001b[39m(\n\u001b[1;32m    550\u001b[0m         \u001b[38;5;28mcls\u001b[39m,\n\u001b[0;32m   (...)\u001b[0m\n\u001b[1;32m    554\u001b[0m         collapse_repeated_frames: \u001b[38;5;28mbool\u001b[39m \u001b[38;5;241m=\u001b[39m \u001b[38;5;28;01mTrue\u001b[39;00m\n\u001b[1;32m    555\u001b[0m ) \u001b[38;5;241m-\u001b[39m\u001b[38;5;241m>\u001b[39m Iterator[Union[\u001b[38;5;124m'\u001b[39m\u001b[38;5;124mFrameInfo\u001b[39m\u001b[38;5;124m'\u001b[39m, RepeatedFrames]]:\n\u001b[1;32m    556\u001b[0m     \u001b[38;5;124;03m\"\"\"\u001b[39;00m\n\u001b[1;32m    557\u001b[0m \u001b[38;5;124;03m    An iterator of FrameInfo and RepeatedFrames objects representing\u001b[39;00m\n\u001b[1;32m    558\u001b[0m \u001b[38;5;124;03m    a full traceback or stack. Similar consecutive frames are collapsed into RepeatedFrames\u001b[39;00m\n\u001b[0;32m   (...)\u001b[0m\n\u001b[1;32m    562\u001b[0m \u001b[38;5;124;03m    and optionally an Options object to configure.\u001b[39;00m\n\u001b[1;32m    563\u001b[0m \u001b[38;5;124;03m    \"\"\"\u001b[39;00m\n\u001b[0;32m--> 564\u001b[0m     stack \u001b[38;5;241m=\u001b[39m \u001b[38;5;28;43mlist\u001b[39;49m\u001b[43m(\u001b[49m\u001b[43miter_stack\u001b[49m\u001b[43m(\u001b[49m\u001b[43mframe_or_tb\u001b[49m\u001b[43m)\u001b[49m\u001b[43m)\u001b[49m\n\u001b[1;32m    566\u001b[0m     \u001b[38;5;66;03m# Reverse the stack from a frame so that it's in the same order\u001b[39;00m\n\u001b[1;32m    567\u001b[0m     \u001b[38;5;66;03m# as the order from a traceback, which is the order of a printed\u001b[39;00m\n\u001b[1;32m    568\u001b[0m     \u001b[38;5;66;03m# traceback when read top to bottom (most recent call last)\u001b[39;00m\n\u001b[1;32m    569\u001b[0m     \u001b[38;5;28;01mif\u001b[39;00m is_frame(frame_or_tb):\n",
      "File \u001b[0;32m~/miniforge3/envs/tf26/lib/python3.9/site-packages/stack_data/utils.py:97\u001b[0m, in \u001b[0;36miter_stack\u001b[0;34m(frame_or_tb)\u001b[0m\n\u001b[1;32m     95\u001b[0m \u001b[38;5;28;01mwhile\u001b[39;00m frame_or_tb:\n\u001b[1;32m     96\u001b[0m     \u001b[38;5;28;01myield\u001b[39;00m frame_or_tb\n\u001b[0;32m---> 97\u001b[0m     \u001b[38;5;28;01mif\u001b[39;00m \u001b[43mis_frame\u001b[49m\u001b[43m(\u001b[49m\u001b[43mframe_or_tb\u001b[49m\u001b[43m)\u001b[49m:\n\u001b[1;32m     98\u001b[0m         frame_or_tb \u001b[38;5;241m=\u001b[39m frame_or_tb\u001b[38;5;241m.\u001b[39mf_back\n\u001b[1;32m     99\u001b[0m     \u001b[38;5;28;01melse\u001b[39;00m:\n",
      "File \u001b[0;32m~/miniforge3/envs/tf26/lib/python3.9/site-packages/stack_data/utils.py:90\u001b[0m, in \u001b[0;36mis_frame\u001b[0;34m(frame_or_tb)\u001b[0m\n\u001b[1;32m     89\u001b[0m \u001b[38;5;28;01mdef\u001b[39;00m \u001b[38;5;21mis_frame\u001b[39m(frame_or_tb: Union[FrameType, TracebackType]) \u001b[38;5;241m-\u001b[39m\u001b[38;5;241m>\u001b[39m \u001b[38;5;28mbool\u001b[39m:\n\u001b[0;32m---> 90\u001b[0m     \u001b[43massert_\u001b[49m\u001b[43m(\u001b[49m\u001b[38;5;28;43misinstance\u001b[39;49m\u001b[43m(\u001b[49m\u001b[43mframe_or_tb\u001b[49m\u001b[43m,\u001b[49m\u001b[43m \u001b[49m\u001b[43m(\u001b[49m\u001b[43mtypes\u001b[49m\u001b[38;5;241;43m.\u001b[39;49m\u001b[43mFrameType\u001b[49m\u001b[43m,\u001b[49m\u001b[43m \u001b[49m\u001b[43mtypes\u001b[49m\u001b[38;5;241;43m.\u001b[39;49m\u001b[43mTracebackType\u001b[49m\u001b[43m)\u001b[49m\u001b[43m)\u001b[49m\u001b[43m)\u001b[49m\n\u001b[1;32m     91\u001b[0m     \u001b[38;5;28;01mreturn\u001b[39;00m \u001b[38;5;28misinstance\u001b[39m(frame_or_tb, (types\u001b[38;5;241m.\u001b[39mFrameType,))\n",
      "File \u001b[0;32m~/miniforge3/envs/tf26/lib/python3.9/site-packages/stack_data/utils.py:176\u001b[0m, in \u001b[0;36massert_\u001b[0;34m(condition, error)\u001b[0m\n\u001b[1;32m    174\u001b[0m \u001b[38;5;28;01mif\u001b[39;00m \u001b[38;5;28misinstance\u001b[39m(error, \u001b[38;5;28mstr\u001b[39m):\n\u001b[1;32m    175\u001b[0m     error \u001b[38;5;241m=\u001b[39m \u001b[38;5;167;01mAssertionError\u001b[39;00m(error)\n\u001b[0;32m--> 176\u001b[0m \u001b[38;5;28;01mraise\u001b[39;00m error\n",
      "\u001b[0;31mAssertionError\u001b[0m: "
     ]
    }
   ],
   "source": [
    "%run setup.py sdist bdist_wheel"
   ]
  },
  {
   "cell_type": "code",
   "execution_count": 1,
   "id": "e30d81ab-80c2-4851-8ffb-424a72c5526d",
   "metadata": {},
   "outputs": [
    {
     "name": "stdout",
     "output_type": "stream",
     "text": [
      "Requirement already satisfied: torchkeras in /Users/liangyun2/miniforge3/envs/tf26/lib/python3.9/site-packages (3.8.4)\n"
     ]
    }
   ],
   "source": [
    "!pip install torchkeras "
   ]
  },
  {
   "cell_type": "code",
   "execution_count": null,
   "id": "30676d3d",
   "metadata": {},
   "outputs": [],
   "source": [
    "#!pip install --user --upgrade twine\n"
   ]
  },
  {
   "cell_type": "code",
   "execution_count": null,
   "id": "8becab65",
   "metadata": {},
   "outputs": [],
   "source": [
    "# upload the repository to pypi (test)\n",
    "#!python3 -m twine upload --repository-url https://test.pypi.org/legacy/ dist/*\n",
    "\n"
   ]
  },
  {
   "cell_type": "code",
   "execution_count": null,
   "id": "e918e7d1",
   "metadata": {},
   "outputs": [],
   "source": [
    "# install the repository from pypi (test)\n",
    "#!python3 -m pip install --index-url https://test.pypi.org/simple/ --no-deps torchkeras"
   ]
  },
  {
   "cell_type": "code",
   "execution_count": null,
   "id": "0fb82588-fead-4219-a418-b537a530220f",
   "metadata": {},
   "outputs": [],
   "source": []
  },
  {
   "cell_type": "markdown",
   "id": "639a6307",
   "metadata": {},
   "source": [
    "### Upload to github"
   ]
  },
  {
   "cell_type": "code",
   "execution_count": 6,
   "id": "7a76c373",
   "metadata": {},
   "outputs": [],
   "source": [
    "!git config --global user.name \"lyhue1991\"\n",
    "!git config --global user.email \"lyhue1991@163.com\"\n",
    "\n"
   ]
  },
  {
   "cell_type": "code",
   "execution_count": 7,
   "id": "2d1e9cae",
   "metadata": {},
   "outputs": [
    {
     "name": "stdout",
     "output_type": "stream",
     "text": [
      "Unstaged changes after reset:\n",
      "M\t.gitignore\n",
      "M\t01，kerasmodel_example.ipynb\n",
      "M\t02，kerasmodel_wandb_demo.ipynb\n",
      "M\t09，utils_example.ipynb\n",
      "M\t10，ocr_example.ipynb\n",
      "M\tREADME.md\n",
      "M\tpush2github.ipynb\n",
      "M\ttorchkeras/__init__.py\n",
      "M\ttorchkeras/kerasmodel.py\n",
      "M\ttorchkeras/ocr/__init__.py\n",
      "M\ttorchkeras/ocr/logger.py\n",
      "M\ttorchkeras/ocr/textsystem.py\n",
      "M\ttorchkeras/ocr/utility.py\n"
     ]
    }
   ],
   "source": [
    "!git reset  2469b7c24 "
   ]
  },
  {
   "cell_type": "code",
   "execution_count": 4,
   "id": "7a23b162",
   "metadata": {},
   "outputs": [],
   "source": [
    "!git add -A"
   ]
  },
  {
   "cell_type": "code",
   "execution_count": 5,
   "id": "cdb41033",
   "metadata": {},
   "outputs": [
    {
     "name": "stdout",
     "output_type": "stream",
     "text": [
      "[master a4e042d] update 3.8.6\n",
      " 5 files changed, 5960 insertions(+), 37 deletions(-)\n",
      " create mode 100644 \"11\\357\\274\\214hfmodel_example.ipynb\"\n",
      " create mode 100644 torchkeras/hfmodel.py\n"
     ]
    }
   ],
   "source": [
    "!git commit -m\"update 3.8.6\""
   ]
  },
  {
   "cell_type": "code",
   "execution_count": null,
   "id": "d2667640",
   "metadata": {},
   "outputs": [],
   "source": [
    "#!git config pull.rebase true"
   ]
  },
  {
   "cell_type": "code",
   "execution_count": null,
   "id": "bcaaf06d",
   "metadata": {},
   "outputs": [],
   "source": [
    "!git pull origin master "
   ]
  },
  {
   "cell_type": "code",
   "execution_count": null,
   "id": "a543fbf2",
   "metadata": {},
   "outputs": [],
   "source": [
    "!git remote remove origin "
   ]
  },
  {
   "cell_type": "code",
   "execution_count": null,
   "id": "f5d0f1de",
   "metadata": {},
   "outputs": [],
   "source": [
    "!git remote add origin git@github.com:lyhue1991/torchkeras.git"
   ]
  },
  {
   "cell_type": "code",
   "execution_count": 10,
   "id": "12e49933",
   "metadata": {},
   "outputs": [
    {
     "name": "stdout",
     "output_type": "stream",
     "text": [
      "Enumerating objects: 13, done.\n",
      "Counting objects: 100% (13/13), done.\n",
      "Delta compression using up to 8 threads\n",
      "Compressing objects: 100% (8/8), done.\n",
      "Writing objects: 100% (8/8), 45.45 KiB | 3.79 MiB/s, done.\n",
      "Total 8 (delta 5), reused 0 (delta 0), pack-reused 0\n",
      "remote: Resolving deltas: 100% (5/5), completed with 5 local objects.\u001b[K\n",
      "To github.com:lyhue1991/torchkeras.git\n",
      "   acbe587..a4e042d  master -> master\n"
     ]
    }
   ],
   "source": [
    "!git push   origin master \n"
   ]
  },
  {
   "cell_type": "code",
   "execution_count": null,
   "id": "de4d9b10",
   "metadata": {},
   "outputs": [],
   "source": [
    "!git remote add gitee https://gitee.com/Python_Ai_Road/torchkeras\n",
    "\n"
   ]
  },
  {
   "cell_type": "code",
   "execution_count": 9,
   "id": "f0c3cc86",
   "metadata": {},
   "outputs": [
    {
     "name": "stdout",
     "output_type": "stream",
     "text": [
      "Enumerating objects: 13, done.\n",
      "Counting objects: 100% (13/13), done.\n",
      "Delta compression using up to 8 threads\n",
      "Compressing objects: 100% (8/8), done.\n",
      "Writing objects: 100% (8/8), 45.45 KiB | 9.09 MiB/s, done.\n",
      "Total 8 (delta 5), reused 0 (delta 0), pack-reused 0\n",
      "remote: Powered by \u001b[01;33mGITEE.COM \u001b[0m[\u001b[01;35mGNK-6.4\u001b[0m]\u001b[0m\u001b[K\n",
      "To https://gitee.com/Python_Ai_Road/torchkeras\n",
      "   acbe587..a4e042d  master -> master\n"
     ]
    }
   ],
   "source": [
    "!git push   gitee master "
   ]
  },
  {
   "cell_type": "code",
   "execution_count": null,
   "id": "32acb452-68b3-4182-b74d-89c0aebfca8e",
   "metadata": {},
   "outputs": [],
   "source": []
  },
  {
   "cell_type": "markdown",
   "id": "c6115644",
   "metadata": {},
   "source": [
    "## gitignore"
   ]
  },
  {
   "cell_type": "code",
   "execution_count": 4,
   "id": "644f0c51",
   "metadata": {},
   "outputs": [
    {
     "name": "stdout",
     "output_type": "stream",
     "text": [
      "Overwriting .gitignore\n"
     ]
    }
   ],
   "source": [
    "%%writefile .gitignore\n",
    ".DS_store\n",
    ".ipynb_checkpoints\n",
    ".ipynb_checkpoints/* \n",
    "torchkeras.egg-info/*\n",
    "dist/*\n",
    "build/*\n",
    "torchkeras/__pycache__/\n",
    "torchkeras/models/__pycache__/\n",
    "torchkeras/ocr/__pycache__/\n",
    "examples/.ipynb_checkpoints\n",
    "examples/__pycache__/\n",
    "torchkeras/chatgpt/__pycache__/\n",
    ".idea\n"
   ]
  }
 ],
 "metadata": {
  "jupytext": {
   "cell_metadata_filter": "-all",
   "main_language": "python",
   "notebook_metadata_filter": "-all"
  },
  "kernelspec": {
   "display_name": "Python 3 (ipykernel)",
   "language": "python",
   "name": "python3"
  },
  "language_info": {
   "codemirror_mode": {
    "name": "ipython",
    "version": 3
   },
   "file_extension": ".py",
   "mimetype": "text/x-python",
   "name": "python",
   "nbconvert_exporter": "python",
   "pygments_lexer": "ipython3",
   "version": "3.9.0"
  }
 },
 "nbformat": 4,
 "nbformat_minor": 5
}
