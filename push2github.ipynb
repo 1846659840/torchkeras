{
 "cells": [
  {
   "cell_type": "markdown",
   "id": "5d828e3d",
   "metadata": {},
   "source": [
    "### Upload to  Pypi"
   ]
  },
  {
   "cell_type": "code",
   "execution_count": null,
   "id": "60b279bc",
   "metadata": {},
   "outputs": [],
   "source": [
    "%run setup.py sdist bdist_wheel\n"
   ]
  },
  {
   "cell_type": "code",
   "execution_count": null,
   "id": "30676d3d",
   "metadata": {},
   "outputs": [],
   "source": [
    "#!pip install --user --upgrade twine"
   ]
  },
  {
   "cell_type": "code",
   "execution_count": null,
   "id": "8becab65",
   "metadata": {},
   "outputs": [],
   "source": [
    "# upload the repository to pypi (test)\n",
    "#!python3 -m twine upload --repository-url https://test.pypi.org/legacy/ dist/*"
   ]
  },
  {
   "cell_type": "code",
   "execution_count": null,
   "id": "e918e7d1",
   "metadata": {},
   "outputs": [],
   "source": [
    "# install the repository from pypi (test)\n",
    "#!python3 -m pip install --index-url https://test.pypi.org/simple/ --no-deps torchkeras"
   ]
  },
  {
   "cell_type": "code",
   "execution_count": null,
   "id": "460b5d4b",
   "metadata": {},
   "outputs": [],
   "source": []
  },
  {
   "cell_type": "markdown",
   "id": "639a6307",
   "metadata": {},
   "source": [
    "### Upload to github"
   ]
  },
  {
   "cell_type": "code",
   "execution_count": 1,
   "id": "7a76c373",
   "metadata": {},
   "outputs": [],
   "source": [
    "!git config --global user.name \"lyhue1991\"\n",
    "!git config --global user.email \"lyhue1991@163.com\""
   ]
  },
  {
   "cell_type": "code",
   "execution_count": null,
   "id": "2d1e9cae",
   "metadata": {},
   "outputs": [],
   "source": [
    "#!git reset  b37a9b8"
   ]
  },
  {
   "cell_type": "code",
   "execution_count": 3,
   "id": "7a23b162",
   "metadata": {},
   "outputs": [],
   "source": [
    "!git add -A"
   ]
  },
  {
   "cell_type": "code",
   "execution_count": 4,
   "id": "cdb41033",
   "metadata": {},
   "outputs": [
    {
     "name": "stdout",
     "output_type": "stream",
     "text": [
      "[master a78f240] 3.8.0\n",
      " 24 files changed, 20004 insertions(+), 180 deletions(-)\n",
      " create mode 100644 \"8\\357\\274\\214fastai_example.ipynb\"\n",
      " create mode 100644 \"examples/\\345\\233\\276\\345\\203\\217\\345\\210\\206\\347\\261\\273\\342\\200\\224\\342\\200\\224ResNet.ipynb\"\n",
      " create mode 100644 \"examples/\\347\\233\\256\\346\\240\\207\\346\\243\\200\\346\\265\\213\\342\\200\\224\\342\\200\\224SSD.ipynb\"\n",
      " create mode 100644 \"examples/\\350\\257\\255\\344\\271\\211\\345\\210\\206\\345\\211\\262\\342\\200\\224\\342\\200\\224Unet.ipynb\"\n",
      " create mode 100644 push2github.ipynb\n",
      " delete mode 100644 push2github.md\n",
      " create mode 100644 torchkeras/fastprogress.py\n",
      " create mode 100644 torchkeras/models.py\n",
      " create mode 100644 torchkeras/models/__init__.py\n",
      " create mode 100644 torchkeras/models/__pycache__/__init__.cpython-39.pyc\n",
      " create mode 100644 torchkeras/models/__pycache__/resnet.cpython-39.pyc\n",
      " create mode 100644 torchkeras/models/__pycache__/unet.cpython-39.pyc\n",
      " create mode 100644 torchkeras/models/resnet.py\n",
      " create mode 100644 torchkeras/models/ssd.py\n",
      " create mode 100644 torchkeras/models/unet.py\n"
     ]
    }
   ],
   "source": [
    "!git commit -m\"3.8.0\""
   ]
  },
  {
   "cell_type": "code",
   "execution_count": null,
   "id": "d2667640",
   "metadata": {},
   "outputs": [],
   "source": [
    "#!git config pull.rebase true"
   ]
  },
  {
   "cell_type": "code",
   "execution_count": null,
   "id": "bcaaf06d",
   "metadata": {},
   "outputs": [],
   "source": [
    "!git pull origin master "
   ]
  },
  {
   "cell_type": "code",
   "execution_count": null,
   "id": "a543fbf2",
   "metadata": {},
   "outputs": [],
   "source": [
    "!git remote remove origin "
   ]
  },
  {
   "cell_type": "code",
   "execution_count": null,
   "id": "f5d0f1de",
   "metadata": {},
   "outputs": [],
   "source": [
    "!git remote add origin git@github.com:lyhue1991/torchkeras.git"
   ]
  },
  {
   "cell_type": "code",
   "execution_count": 5,
   "id": "12e49933",
   "metadata": {},
   "outputs": [
    {
     "name": "stdout",
     "output_type": "stream",
     "text": [
      "Enumerating objects: 40, done.\n",
      "Counting objects: 100% (40/40), done.\n",
      "Delta compression using up to 8 threads\n",
      "Compressing objects: 100% (28/28), done.\n",
      "Writing objects: 100% (29/29), 8.23 MiB | 1.55 MiB/s, done.\n",
      "Total 29 (delta 11), reused 0 (delta 0), pack-reused 0\n",
      "remote: Resolving deltas: 100% (11/11), completed with 9 local objects.\u001b[K\n",
      "To github.com:lyhue1991/torchkeras.git\n",
      "   ffb9d88..a78f240  master -> master\n"
     ]
    }
   ],
   "source": [
    "!git push  origin master "
   ]
  },
  {
   "cell_type": "code",
   "execution_count": null,
   "id": "de4d9b10",
   "metadata": {},
   "outputs": [],
   "source": [
    "!git reflog "
   ]
  },
  {
   "cell_type": "code",
   "execution_count": null,
   "id": "f0c3cc86",
   "metadata": {},
   "outputs": [],
   "source": []
  },
  {
   "cell_type": "markdown",
   "id": "c6115644",
   "metadata": {},
   "source": [
    "## gitignore"
   ]
  },
  {
   "cell_type": "code",
   "execution_count": null,
   "id": "644f0c51",
   "metadata": {},
   "outputs": [],
   "source": [
    "# %load .gitignore\n",
    ".DS_store\n",
    ".ipynb_checkpoints\n",
    ".ipynb_checkpoints/* \n",
    "torchkeras.egg-info/*\n",
    "dist/*\n",
    "build/*\n",
    "torchkeras/__pycache__/\n",
    ".idea\n"
   ]
  }
 ],
 "metadata": {
  "jupytext": {
   "cell_metadata_filter": "-all",
   "main_language": "python",
   "notebook_metadata_filter": "-all"
  },
  "kernelspec": {
   "display_name": "Python 3 (ipykernel)",
   "language": "python",
   "name": "python3"
  },
  "language_info": {
   "codemirror_mode": {
    "name": "ipython",
    "version": 3
   },
   "file_extension": ".py",
   "mimetype": "text/x-python",
   "name": "python",
   "nbconvert_exporter": "python",
   "pygments_lexer": "ipython3",
   "version": "3.9.0"
  }
 },
 "nbformat": 4,
 "nbformat_minor": 5
}
