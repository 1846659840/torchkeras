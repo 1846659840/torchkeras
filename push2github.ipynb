{
 "cells": [
  {
   "cell_type": "markdown",
   "id": "5d828e3d",
   "metadata": {},
   "source": [
    "### Upload to  Pypi"
   ]
  },
  {
   "cell_type": "code",
   "execution_count": 1,
   "id": "60b279bc",
   "metadata": {},
   "outputs": [
    {
     "name": "stdout",
     "output_type": "stream",
     "text": [
      "running sdist\n",
      "running egg_info\n",
      "creating torchkeras.egg-info\n",
      "writing torchkeras.egg-info/PKG-INFO\n",
      "writing dependency_links to torchkeras.egg-info/dependency_links.txt\n",
      "writing top-level names to torchkeras.egg-info/top_level.txt\n",
      "writing manifest file 'torchkeras.egg-info/SOURCES.txt'\n",
      "reading manifest file 'torchkeras.egg-info/SOURCES.txt'\n",
      "reading manifest template 'MANIFEST.in'\n"
     ]
    },
    {
     "name": "stderr",
     "output_type": "stream",
     "text": [
      "warning: no files found matching 'torchkeras/*.ttf'\n",
      "no previously-included directories found matching 'torchkeras/assets/*checkpoint*'\n",
      "warning: no files found matching '*.png' under directory 'torchkeras/assets'\n",
      "warning: no files found matching '*.jpeg' under directory 'torchkeras/assets'\n",
      "warning: no previously-included files matching '*' found under directory 'torchkeras/__pycache__'\n",
      "warning: no previously-included files matching '*' found under directory 'torchkeras/.ipynb_checkpoints'\n"
     ]
    },
    {
     "name": "stdout",
     "output_type": "stream",
     "text": [
      "adding license file 'LICENSE'\n",
      "writing manifest file 'torchkeras.egg-info/SOURCES.txt'\n",
      "running check\n",
      "creating torchkeras-3.8.5\n",
      "creating torchkeras-3.8.5/torchkeras\n",
      "creating torchkeras-3.8.5/torchkeras.egg-info\n",
      "creating torchkeras-3.8.5/torchkeras/assets\n",
      "creating torchkeras-3.8.5/torchkeras/chatgpt\n",
      "creating torchkeras-3.8.5/torchkeras/models\n",
      "creating torchkeras-3.8.5/torchkeras/ocr\n",
      "copying files to torchkeras-3.8.5...\n",
      "copying LICENSE -> torchkeras-3.8.5\n",
      "copying MANIFEST.in -> torchkeras-3.8.5\n",
      "copying README.md -> torchkeras-3.8.5\n",
      "copying setup.py -> torchkeras-3.8.5\n",
      "copying torchkeras/__init__.py -> torchkeras-3.8.5/torchkeras\n",
      "copying torchkeras/data.py -> torchkeras-3.8.5/torchkeras\n",
      "copying torchkeras/eda.py -> torchkeras-3.8.5/torchkeras\n",
      "copying torchkeras/email.py -> torchkeras-3.8.5/torchkeras\n",
      "copying torchkeras/fastprogress.py -> torchkeras-3.8.5/torchkeras\n",
      "copying torchkeras/kerascallbacks.py -> torchkeras-3.8.5/torchkeras\n",
      "copying torchkeras/kerasmodel.py -> torchkeras-3.8.5/torchkeras\n",
      "copying torchkeras/lightcallbacks.py -> torchkeras-3.8.5/torchkeras\n",
      "copying torchkeras/lightmodel.py -> torchkeras-3.8.5/torchkeras\n",
      "copying torchkeras/metrics.py -> torchkeras-3.8.5/torchkeras\n",
      "copying torchkeras/plots.py -> torchkeras-3.8.5/torchkeras\n",
      "copying torchkeras/soup.py -> torchkeras-3.8.5/torchkeras\n",
      "copying torchkeras/summary.py -> torchkeras-3.8.5/torchkeras\n",
      "copying torchkeras/utils.py -> torchkeras-3.8.5/torchkeras\n",
      "copying torchkeras.egg-info/PKG-INFO -> torchkeras-3.8.5/torchkeras.egg-info\n",
      "copying torchkeras.egg-info/SOURCES.txt -> torchkeras-3.8.5/torchkeras.egg-info\n",
      "copying torchkeras.egg-info/dependency_links.txt -> torchkeras-3.8.5/torchkeras.egg-info\n",
      "copying torchkeras.egg-info/top_level.txt -> torchkeras-3.8.5/torchkeras.egg-info\n",
      "copying torchkeras/assets/Arial.ttf -> torchkeras-3.8.5/torchkeras/assets\n",
      "copying torchkeras/assets/SimHei.ttf -> torchkeras-3.8.5/torchkeras/assets\n",
      "copying torchkeras/assets/bus.jpg -> torchkeras-3.8.5/torchkeras/assets\n",
      "copying torchkeras/assets/ch_ocr_keys.txt -> torchkeras-3.8.5/torchkeras/assets\n",
      "copying torchkeras/assets/ocr_cls.onnx -> torchkeras-3.8.5/torchkeras/assets\n",
      "copying torchkeras/assets/ocr_det.onnx -> torchkeras-3.8.5/torchkeras/assets\n",
      "copying torchkeras/assets/ocr_rec.onnx -> torchkeras-3.8.5/torchkeras/assets\n",
      "copying torchkeras/assets/park.jpg -> torchkeras-3.8.5/torchkeras/assets\n",
      "copying torchkeras/assets/zidane.jpg -> torchkeras-3.8.5/torchkeras/assets\n",
      "copying torchkeras/chatgpt/__init__.py -> torchkeras-3.8.5/torchkeras/chatgpt\n",
      "copying torchkeras/models/__init__.py -> torchkeras-3.8.5/torchkeras/models\n",
      "copying torchkeras/models/resnet.py -> torchkeras-3.8.5/torchkeras/models\n",
      "copying torchkeras/models/ssd.py -> torchkeras-3.8.5/torchkeras/models\n",
      "copying torchkeras/models/unet.py -> torchkeras-3.8.5/torchkeras/models\n",
      "copying torchkeras/ocr/__init__.py -> torchkeras-3.8.5/torchkeras/ocr\n",
      "copying torchkeras/ocr/logger.py -> torchkeras-3.8.5/torchkeras/ocr\n",
      "copying torchkeras/ocr/operators.py -> torchkeras-3.8.5/torchkeras/ocr\n",
      "copying torchkeras/ocr/plots.py -> torchkeras-3.8.5/torchkeras/ocr\n",
      "copying torchkeras/ocr/postprocess.py -> torchkeras-3.8.5/torchkeras/ocr\n",
      "copying torchkeras/ocr/predict_cls.py -> torchkeras-3.8.5/torchkeras/ocr\n",
      "copying torchkeras/ocr/predict_det.py -> torchkeras-3.8.5/torchkeras/ocr\n",
      "copying torchkeras/ocr/predict_rec.py -> torchkeras-3.8.5/torchkeras/ocr\n",
      "copying torchkeras/ocr/predictor.py -> torchkeras-3.8.5/torchkeras/ocr\n",
      "copying torchkeras/ocr/textsystem.py -> torchkeras-3.8.5/torchkeras/ocr\n",
      "copying torchkeras/ocr/utility.py -> torchkeras-3.8.5/torchkeras/ocr\n",
      "Writing torchkeras-3.8.5/setup.cfg\n",
      "creating dist\n",
      "Creating tar archive\n",
      "removing 'torchkeras-3.8.5' (and everything under it)\n",
      "running bdist_wheel\n",
      "running build\n",
      "running build_py\n",
      "creating build\n",
      "creating build/lib\n",
      "creating build/lib/torchkeras\n",
      "copying torchkeras/lightmodel.py -> build/lib/torchkeras\n",
      "copying torchkeras/metrics.py -> build/lib/torchkeras\n",
      "copying torchkeras/fastprogress.py -> build/lib/torchkeras\n",
      "copying torchkeras/__init__.py -> build/lib/torchkeras\n",
      "copying torchkeras/soup.py -> build/lib/torchkeras\n",
      "copying torchkeras/kerasmodel.py -> build/lib/torchkeras\n",
      "copying torchkeras/summary.py -> build/lib/torchkeras\n",
      "copying torchkeras/eda.py -> build/lib/torchkeras\n",
      "copying torchkeras/plots.py -> build/lib/torchkeras\n",
      "copying torchkeras/utils.py -> build/lib/torchkeras\n",
      "copying torchkeras/email.py -> build/lib/torchkeras\n",
      "copying torchkeras/lightcallbacks.py -> build/lib/torchkeras\n",
      "copying torchkeras/data.py -> build/lib/torchkeras\n",
      "copying torchkeras/kerascallbacks.py -> build/lib/torchkeras\n",
      "creating build/lib/torchkeras/ocr\n",
      "copying torchkeras/ocr/predictor.py -> build/lib/torchkeras/ocr\n",
      "copying torchkeras/ocr/utility.py -> build/lib/torchkeras/ocr\n",
      "copying torchkeras/ocr/postprocess.py -> build/lib/torchkeras/ocr\n",
      "copying torchkeras/ocr/predict_rec.py -> build/lib/torchkeras/ocr\n",
      "copying torchkeras/ocr/__init__.py -> build/lib/torchkeras/ocr\n",
      "copying torchkeras/ocr/logger.py -> build/lib/torchkeras/ocr\n",
      "copying torchkeras/ocr/plots.py -> build/lib/torchkeras/ocr\n",
      "copying torchkeras/ocr/predict_cls.py -> build/lib/torchkeras/ocr\n",
      "copying torchkeras/ocr/textsystem.py -> build/lib/torchkeras/ocr\n",
      "copying torchkeras/ocr/operators.py -> build/lib/torchkeras/ocr\n",
      "copying torchkeras/ocr/predict_det.py -> build/lib/torchkeras/ocr\n",
      "creating build/lib/torchkeras/models\n",
      "copying torchkeras/models/ssd.py -> build/lib/torchkeras/models\n",
      "copying torchkeras/models/unet.py -> build/lib/torchkeras/models\n",
      "copying torchkeras/models/__init__.py -> build/lib/torchkeras/models\n",
      "copying torchkeras/models/resnet.py -> build/lib/torchkeras/models\n",
      "creating build/lib/torchkeras/chatgpt\n",
      "copying torchkeras/chatgpt/__init__.py -> build/lib/torchkeras/chatgpt\n",
      "creating build/lib/torchkeras/assets\n",
      "copying torchkeras/assets/Arial.ttf -> build/lib/torchkeras/assets\n",
      "copying torchkeras/assets/SimHei.ttf -> build/lib/torchkeras/assets\n",
      "copying torchkeras/assets/bus.jpg -> build/lib/torchkeras/assets\n",
      "copying torchkeras/assets/ch_ocr_keys.txt -> build/lib/torchkeras/assets\n",
      "copying torchkeras/assets/ocr_cls.onnx -> build/lib/torchkeras/assets\n",
      "copying torchkeras/assets/ocr_det.onnx -> build/lib/torchkeras/assets\n",
      "copying torchkeras/assets/ocr_rec.onnx -> build/lib/torchkeras/assets\n",
      "copying torchkeras/assets/park.jpg -> build/lib/torchkeras/assets\n",
      "copying torchkeras/assets/zidane.jpg -> build/lib/torchkeras/assets\n",
      "installing to build/bdist.macosx-11.0-arm64/wheel\n",
      "running install\n",
      "running install_lib\n",
      "creating build/bdist.macosx-11.0-arm64\n",
      "creating build/bdist.macosx-11.0-arm64/wheel\n",
      "creating build/bdist.macosx-11.0-arm64/wheel/torchkeras\n",
      "copying build/lib/torchkeras/lightmodel.py -> build/bdist.macosx-11.0-arm64/wheel/torchkeras\n",
      "copying build/lib/torchkeras/metrics.py -> build/bdist.macosx-11.0-arm64/wheel/torchkeras\n",
      "copying build/lib/torchkeras/fastprogress.py -> build/bdist.macosx-11.0-arm64/wheel/torchkeras\n",
      "creating build/bdist.macosx-11.0-arm64/wheel/torchkeras/ocr\n",
      "copying build/lib/torchkeras/ocr/predictor.py -> build/bdist.macosx-11.0-arm64/wheel/torchkeras/ocr\n",
      "copying build/lib/torchkeras/ocr/utility.py -> build/bdist.macosx-11.0-arm64/wheel/torchkeras/ocr\n",
      "copying build/lib/torchkeras/ocr/postprocess.py -> build/bdist.macosx-11.0-arm64/wheel/torchkeras/ocr\n",
      "copying build/lib/torchkeras/ocr/predict_rec.py -> build/bdist.macosx-11.0-arm64/wheel/torchkeras/ocr\n",
      "copying build/lib/torchkeras/ocr/__init__.py -> build/bdist.macosx-11.0-arm64/wheel/torchkeras/ocr\n",
      "copying build/lib/torchkeras/ocr/logger.py -> build/bdist.macosx-11.0-arm64/wheel/torchkeras/ocr\n",
      "copying build/lib/torchkeras/ocr/plots.py -> build/bdist.macosx-11.0-arm64/wheel/torchkeras/ocr\n",
      "copying build/lib/torchkeras/ocr/predict_cls.py -> build/bdist.macosx-11.0-arm64/wheel/torchkeras/ocr\n",
      "copying build/lib/torchkeras/ocr/textsystem.py -> build/bdist.macosx-11.0-arm64/wheel/torchkeras/ocr\n",
      "copying build/lib/torchkeras/ocr/operators.py -> build/bdist.macosx-11.0-arm64/wheel/torchkeras/ocr\n",
      "copying build/lib/torchkeras/ocr/predict_det.py -> build/bdist.macosx-11.0-arm64/wheel/torchkeras/ocr\n",
      "copying build/lib/torchkeras/__init__.py -> build/bdist.macosx-11.0-arm64/wheel/torchkeras\n",
      "creating build/bdist.macosx-11.0-arm64/wheel/torchkeras/models\n",
      "copying build/lib/torchkeras/models/ssd.py -> build/bdist.macosx-11.0-arm64/wheel/torchkeras/models\n",
      "copying build/lib/torchkeras/models/unet.py -> build/bdist.macosx-11.0-arm64/wheel/torchkeras/models\n",
      "copying build/lib/torchkeras/models/__init__.py -> build/bdist.macosx-11.0-arm64/wheel/torchkeras/models\n",
      "copying build/lib/torchkeras/models/resnet.py -> build/bdist.macosx-11.0-arm64/wheel/torchkeras/models\n",
      "copying build/lib/torchkeras/soup.py -> build/bdist.macosx-11.0-arm64/wheel/torchkeras\n",
      "copying build/lib/torchkeras/kerasmodel.py -> build/bdist.macosx-11.0-arm64/wheel/torchkeras\n",
      "copying build/lib/torchkeras/summary.py -> build/bdist.macosx-11.0-arm64/wheel/torchkeras\n",
      "copying build/lib/torchkeras/eda.py -> build/bdist.macosx-11.0-arm64/wheel/torchkeras\n",
      "copying build/lib/torchkeras/plots.py -> build/bdist.macosx-11.0-arm64/wheel/torchkeras\n",
      "copying build/lib/torchkeras/utils.py -> build/bdist.macosx-11.0-arm64/wheel/torchkeras\n",
      "copying build/lib/torchkeras/email.py -> build/bdist.macosx-11.0-arm64/wheel/torchkeras\n",
      "creating build/bdist.macosx-11.0-arm64/wheel/torchkeras/chatgpt\n",
      "copying build/lib/torchkeras/chatgpt/__init__.py -> build/bdist.macosx-11.0-arm64/wheel/torchkeras/chatgpt\n",
      "copying build/lib/torchkeras/lightcallbacks.py -> build/bdist.macosx-11.0-arm64/wheel/torchkeras\n",
      "creating build/bdist.macosx-11.0-arm64/wheel/torchkeras/assets\n",
      "copying build/lib/torchkeras/assets/park.jpg -> build/bdist.macosx-11.0-arm64/wheel/torchkeras/assets\n",
      "copying build/lib/torchkeras/assets/SimHei.ttf -> build/bdist.macosx-11.0-arm64/wheel/torchkeras/assets\n",
      "copying build/lib/torchkeras/assets/ocr_det.onnx -> build/bdist.macosx-11.0-arm64/wheel/torchkeras/assets\n",
      "copying build/lib/torchkeras/assets/ocr_cls.onnx -> build/bdist.macosx-11.0-arm64/wheel/torchkeras/assets\n",
      "copying build/lib/torchkeras/assets/ch_ocr_keys.txt -> build/bdist.macosx-11.0-arm64/wheel/torchkeras/assets\n",
      "copying build/lib/torchkeras/assets/Arial.ttf -> build/bdist.macosx-11.0-arm64/wheel/torchkeras/assets\n",
      "copying build/lib/torchkeras/assets/ocr_rec.onnx -> build/bdist.macosx-11.0-arm64/wheel/torchkeras/assets\n",
      "copying build/lib/torchkeras/assets/zidane.jpg -> build/bdist.macosx-11.0-arm64/wheel/torchkeras/assets\n",
      "copying build/lib/torchkeras/assets/bus.jpg -> build/bdist.macosx-11.0-arm64/wheel/torchkeras/assets\n",
      "copying build/lib/torchkeras/data.py -> build/bdist.macosx-11.0-arm64/wheel/torchkeras\n",
      "copying build/lib/torchkeras/kerascallbacks.py -> build/bdist.macosx-11.0-arm64/wheel/torchkeras\n",
      "running install_egg_info\n",
      "Copying torchkeras.egg-info to build/bdist.macosx-11.0-arm64/wheel/torchkeras-3.8.5-py3.9.egg-info\n",
      "running install_scripts\n",
      "creating build/bdist.macosx-11.0-arm64/wheel/torchkeras-3.8.5.dist-info/WHEEL\n",
      "creating 'dist/torchkeras-3.8.5-py3-none-any.whl' and adding 'build/bdist.macosx-11.0-arm64/wheel' to it\n",
      "adding 'torchkeras/__init__.py'\n",
      "adding 'torchkeras/data.py'\n",
      "adding 'torchkeras/eda.py'\n",
      "adding 'torchkeras/email.py'\n",
      "adding 'torchkeras/fastprogress.py'\n",
      "adding 'torchkeras/kerascallbacks.py'\n",
      "adding 'torchkeras/kerasmodel.py'\n",
      "adding 'torchkeras/lightcallbacks.py'\n",
      "adding 'torchkeras/lightmodel.py'\n",
      "adding 'torchkeras/metrics.py'\n",
      "adding 'torchkeras/plots.py'\n",
      "adding 'torchkeras/soup.py'\n",
      "adding 'torchkeras/summary.py'\n",
      "adding 'torchkeras/utils.py'\n",
      "adding 'torchkeras/assets/Arial.ttf'\n"
     ]
    },
    {
     "name": "stderr",
     "output_type": "stream",
     "text": [
      "/Users/liangyun2/miniforge3/envs/tf26/lib/python3.9/site-packages/setuptools/command/build_py.py:202: SetuptoolsDeprecationWarning:     Installing 'torchkeras.assets' as data is deprecated, please list it in `packages`.\n",
      "    !!\n",
      "\n",
      "\n",
      "    ############################\n",
      "    # Package would be ignored #\n",
      "    ############################\n",
      "    Python recognizes 'torchkeras.assets' as an importable package,\n",
      "    but it is not listed in the `packages` configuration of setuptools.\n",
      "\n",
      "    'torchkeras.assets' has been automatically added to the distribution only\n",
      "    because it may contain data files, but this behavior is likely to change\n",
      "    in future versions of setuptools (and therefore is considered deprecated).\n",
      "\n",
      "    Please make sure that 'torchkeras.assets' is included as a package by using\n",
      "    the `packages` configuration field or the proper discovery methods\n",
      "    (for example by using `find_namespace_packages(...)`/`find_namespace:`\n",
      "    instead of `find_packages(...)`/`find:`).\n",
      "\n",
      "    You can read more about \"package discovery\" and \"data files\" on setuptools\n",
      "    documentation page.\n",
      "\n",
      "\n",
      "!!\n",
      "\n",
      "  check.warn(importable)\n",
      "/Users/liangyun2/miniforge3/envs/tf26/lib/python3.9/site-packages/setuptools/command/install.py:34: SetuptoolsDeprecationWarning: setup.py install is deprecated. Use build and pip and other standards-based tools.\n",
      "  warnings.warn(\n"
     ]
    },
    {
     "name": "stdout",
     "output_type": "stream",
     "text": [
      "adding 'torchkeras/assets/SimHei.ttf'\n",
      "adding 'torchkeras/assets/bus.jpg'\n",
      "adding 'torchkeras/assets/ch_ocr_keys.txt'\n",
      "adding 'torchkeras/assets/ocr_cls.onnx'\n",
      "adding 'torchkeras/assets/ocr_det.onnx'\n",
      "adding 'torchkeras/assets/ocr_rec.onnx'\n",
      "adding 'torchkeras/assets/park.jpg'\n",
      "adding 'torchkeras/assets/zidane.jpg'\n",
      "adding 'torchkeras/chatgpt/__init__.py'\n",
      "adding 'torchkeras/models/__init__.py'\n",
      "adding 'torchkeras/models/resnet.py'\n",
      "adding 'torchkeras/models/ssd.py'\n",
      "adding 'torchkeras/models/unet.py'\n",
      "adding 'torchkeras/ocr/__init__.py'\n",
      "adding 'torchkeras/ocr/logger.py'\n",
      "adding 'torchkeras/ocr/operators.py'\n",
      "adding 'torchkeras/ocr/plots.py'\n",
      "adding 'torchkeras/ocr/postprocess.py'\n",
      "adding 'torchkeras/ocr/predict_cls.py'\n",
      "adding 'torchkeras/ocr/predict_det.py'\n",
      "adding 'torchkeras/ocr/predict_rec.py'\n",
      "adding 'torchkeras/ocr/predictor.py'\n",
      "adding 'torchkeras/ocr/textsystem.py'\n",
      "adding 'torchkeras/ocr/utility.py'\n",
      "adding 'torchkeras-3.8.5.dist-info/LICENSE'\n",
      "adding 'torchkeras-3.8.5.dist-info/METADATA'\n",
      "adding 'torchkeras-3.8.5.dist-info/WHEEL'\n",
      "adding 'torchkeras-3.8.5.dist-info/top_level.txt'\n",
      "adding 'torchkeras-3.8.5.dist-info/RECORD'\n",
      "removing build/bdist.macosx-11.0-arm64/wheel\n"
     ]
    }
   ],
   "source": [
    "%run setup.py sdist bdist_wheel\n"
   ]
  },
  {
   "cell_type": "code",
   "execution_count": 1,
   "id": "e30d81ab-80c2-4851-8ffb-424a72c5526d",
   "metadata": {},
   "outputs": [
    {
     "name": "stdout",
     "output_type": "stream",
     "text": [
      "Requirement already satisfied: torchkeras in /Users/liangyun2/miniforge3/envs/tf26/lib/python3.9/site-packages (3.8.4)\n"
     ]
    }
   ],
   "source": [
    "!pip install torchkeras "
   ]
  },
  {
   "cell_type": "code",
   "execution_count": null,
   "id": "30676d3d",
   "metadata": {},
   "outputs": [],
   "source": [
    "#!pip install --user --upgrade twine\n"
   ]
  },
  {
   "cell_type": "code",
   "execution_count": null,
   "id": "8becab65",
   "metadata": {},
   "outputs": [],
   "source": [
    "# upload the repository to pypi (test)\n",
    "#!python3 -m twine upload --repository-url https://test.pypi.org/legacy/ dist/*\n",
    "\n"
   ]
  },
  {
   "cell_type": "code",
   "execution_count": null,
   "id": "e918e7d1",
   "metadata": {},
   "outputs": [],
   "source": [
    "# install the repository from pypi (test)\n",
    "#!python3 -m pip install --index-url https://test.pypi.org/simple/ --no-deps torchkeras"
   ]
  },
  {
   "cell_type": "code",
   "execution_count": null,
   "id": "0fb82588-fead-4219-a418-b537a530220f",
   "metadata": {},
   "outputs": [],
   "source": []
  },
  {
   "cell_type": "markdown",
   "id": "639a6307",
   "metadata": {},
   "source": [
    "### Upload to github"
   ]
  },
  {
   "cell_type": "code",
   "execution_count": 11,
   "id": "7a76c373",
   "metadata": {},
   "outputs": [],
   "source": [
    "!git config --global user.name \"lyhue1991\"\n",
    "!git config --global user.email \"lyhue1991@163.com\"\n",
    "\n"
   ]
  },
  {
   "cell_type": "code",
   "execution_count": 7,
   "id": "2d1e9cae",
   "metadata": {},
   "outputs": [
    {
     "name": "stdout",
     "output_type": "stream",
     "text": [
      "Unstaged changes after reset:\n",
      "M\t.gitignore\n",
      "M\t01，kerasmodel_example.ipynb\n",
      "M\t02，kerasmodel_wandb_demo.ipynb\n",
      "M\t09，utils_example.ipynb\n",
      "M\t10，ocr_example.ipynb\n",
      "M\tREADME.md\n",
      "M\tpush2github.ipynb\n",
      "M\ttorchkeras/__init__.py\n",
      "M\ttorchkeras/kerasmodel.py\n",
      "M\ttorchkeras/ocr/__init__.py\n",
      "M\ttorchkeras/ocr/logger.py\n",
      "M\ttorchkeras/ocr/textsystem.py\n",
      "M\ttorchkeras/ocr/utility.py\n"
     ]
    }
   ],
   "source": [
    "!git reset  2469b7c24 "
   ]
  },
  {
   "cell_type": "code",
   "execution_count": 8,
   "id": "7a23b162",
   "metadata": {},
   "outputs": [],
   "source": [
    "!git add -A"
   ]
  },
  {
   "cell_type": "code",
   "execution_count": 9,
   "id": "cdb41033",
   "metadata": {},
   "outputs": [
    {
     "name": "stdout",
     "output_type": "stream",
     "text": [
      "[master acbe587] update 3.8.5\n",
      " 13 files changed, 2628 insertions(+), 874 deletions(-)\n"
     ]
    }
   ],
   "source": [
    "!git commit -m\"update 3.8.5\""
   ]
  },
  {
   "cell_type": "code",
   "execution_count": null,
   "id": "d2667640",
   "metadata": {},
   "outputs": [],
   "source": [
    "#!git config pull.rebase true"
   ]
  },
  {
   "cell_type": "code",
   "execution_count": null,
   "id": "bcaaf06d",
   "metadata": {},
   "outputs": [],
   "source": [
    "!git pull origin master "
   ]
  },
  {
   "cell_type": "code",
   "execution_count": null,
   "id": "a543fbf2",
   "metadata": {},
   "outputs": [],
   "source": [
    "!git remote remove origin "
   ]
  },
  {
   "cell_type": "code",
   "execution_count": null,
   "id": "f5d0f1de",
   "metadata": {},
   "outputs": [],
   "source": [
    "!git remote add origin git@github.com:lyhue1991/torchkeras.git"
   ]
  },
  {
   "cell_type": "code",
   "execution_count": 14,
   "id": "12e49933",
   "metadata": {},
   "outputs": [
    {
     "name": "stdout",
     "output_type": "stream",
     "text": [
      "Enumerating objects: 32, done.\n",
      "Counting objects: 100% (32/32), done.\n",
      "Delta compression using up to 8 threads\n",
      "Compressing objects: 100% (17/17), done.\n",
      "Writing objects: 100% (17/17), 450.41 KiB | 1.44 MiB/s, done.\n",
      "Total 17 (delta 15), reused 0 (delta 0), pack-reused 0\n",
      "remote: Resolving deltas: 100% (15/15), completed with 14 local objects.\u001b[K\n",
      "To github.com:lyhue1991/torchkeras.git\n",
      "   2469b7c..acbe587  master -> master\n"
     ]
    }
   ],
   "source": [
    "!git push   origin master \n"
   ]
  },
  {
   "cell_type": "code",
   "execution_count": null,
   "id": "de4d9b10",
   "metadata": {},
   "outputs": [],
   "source": [
    "!git remote add gitee https://gitee.com/Python_Ai_Road/torchkeras\n",
    "\n"
   ]
  },
  {
   "cell_type": "code",
   "execution_count": 13,
   "id": "f0c3cc86",
   "metadata": {},
   "outputs": [
    {
     "name": "stdout",
     "output_type": "stream",
     "text": [
      "Enumerating objects: 32, done.\n",
      "Counting objects: 100% (32/32), done.\n",
      "Delta compression using up to 8 threads\n",
      "Compressing objects: 100% (17/17), done.\n",
      "Writing objects: 100% (17/17), 450.41 KiB | 15.01 MiB/s, done.\n",
      "Total 17 (delta 15), reused 0 (delta 0), pack-reused 0\n",
      "remote: Powered by \u001b[01;33mGITEE.COM \u001b[0m[\u001b[01;35mGNK-6.4\u001b[0m]\u001b[0m\u001b[K\n",
      "To https://gitee.com/Python_Ai_Road/torchkeras\n",
      "   2469b7c..acbe587  master -> master\n"
     ]
    }
   ],
   "source": [
    "!git push   gitee master "
   ]
  },
  {
   "cell_type": "code",
   "execution_count": null,
   "id": "32acb452-68b3-4182-b74d-89c0aebfca8e",
   "metadata": {},
   "outputs": [],
   "source": []
  },
  {
   "cell_type": "markdown",
   "id": "c6115644",
   "metadata": {},
   "source": [
    "## gitignore"
   ]
  },
  {
   "cell_type": "code",
   "execution_count": 4,
   "id": "644f0c51",
   "metadata": {},
   "outputs": [
    {
     "name": "stdout",
     "output_type": "stream",
     "text": [
      "Overwriting .gitignore\n"
     ]
    }
   ],
   "source": [
    "%%writefile .gitignore\n",
    ".DS_store\n",
    ".ipynb_checkpoints\n",
    ".ipynb_checkpoints/* \n",
    "torchkeras.egg-info/*\n",
    "dist/*\n",
    "build/*\n",
    "torchkeras/__pycache__/\n",
    "torchkeras/models/__pycache__/\n",
    "torchkeras/ocr/__pycache__/\n",
    "examples/.ipynb_checkpoints\n",
    "examples/__pycache__/\n",
    "torchkeras/chatgpt/__pycache__/\n",
    ".idea\n"
   ]
  }
 ],
 "metadata": {
  "jupytext": {
   "cell_metadata_filter": "-all",
   "main_language": "python",
   "notebook_metadata_filter": "-all"
  },
  "kernelspec": {
   "display_name": "Python 3 (ipykernel)",
   "language": "python",
   "name": "python3"
  },
  "language_info": {
   "codemirror_mode": {
    "name": "ipython",
    "version": 3
   },
   "file_extension": ".py",
   "mimetype": "text/x-python",
   "name": "python",
   "nbconvert_exporter": "python",
   "pygments_lexer": "ipython3",
   "version": "3.9.0"
  }
 },
 "nbformat": 4,
 "nbformat_minor": 5
}
